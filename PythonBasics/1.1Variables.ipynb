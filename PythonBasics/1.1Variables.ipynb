{
 "cells": [
  {
   "cell_type": "code",
   "id": "initial_id",
   "metadata": {
    "collapsed": true,
    "ExecuteTime": {
     "end_time": "2025-07-13T20:17:06.576693Z",
     "start_time": "2025-07-13T20:17:06.571382Z"
    }
   },
   "source": "a=2100",
   "outputs": [],
   "execution_count": 1
  },
  {
   "metadata": {
    "ExecuteTime": {
     "end_time": "2025-07-13T20:19:48.007494Z",
     "start_time": "2025-07-13T20:19:48.000071Z"
    }
   },
   "cell_type": "code",
   "source": [
    "##Declaration and assigning variables\n",
    "age=32\n",
    "height = 6.1\n",
    "name = 'Anas'\n",
    "is_student = True\n",
    "\n",
    "\n",
    "##Printing the variables\n",
    "print(\"age: \", age)\n",
    "print(\"height: \",height)\n",
    "print(\"name: \",name)\n",
    "print(\"is Student? \",is_student)"
   ],
   "id": "7b2abc91905b6f89",
   "outputs": [
    {
     "name": "stdout",
     "output_type": "stream",
     "text": [
      "age:  32\n",
      "height:  6.1\n",
      "name:  Anas\n",
      "is Student?  True\n"
     ]
    }
   ],
   "execution_count": 2
  },
  {
   "metadata": {
    "ExecuteTime": {
     "end_time": "2025-07-14T20:03:30.314747Z",
     "start_time": "2025-07-14T20:03:30.197986Z"
    }
   },
   "cell_type": "code",
   "source": [
    "#Dynamic Typing\n",
    "#Python allows the type of variable to change as the program executes\n",
    "var = 10\n",
    "print(var, type(var))\n",
    "\n",
    "var = 'hello'\n",
    "print(var, type(var))\n",
    "\n",
    "var = 3.14\n",
    "print(var, type(var))"
   ],
   "id": "a59acbe1334bf87f",
   "outputs": [
    {
     "name": "stdout",
     "output_type": "stream",
     "text": [
      "10 <class 'int'>\n",
      "hello <class 'str'>\n",
      "3.14 <class 'float'>\n"
     ]
    }
   ],
   "execution_count": 3
  },
  {
   "metadata": {
    "ExecuteTime": {
     "end_time": "2025-07-14T20:29:48.954624Z",
     "start_time": "2025-07-14T20:29:44.992676Z"
    }
   },
   "cell_type": "code",
   "source": [
    "#input\n",
    "age = int(input('What is your age?'))\n",
    "print(age, type(age))"
   ],
   "id": "99a95d57ef8c6b5b",
   "outputs": [
    {
     "name": "stdout",
     "output_type": "stream",
     "text": [
      "23 <class 'str'>\n"
     ]
    }
   ],
   "execution_count": 5
  },
  {
   "metadata": {
    "ExecuteTime": {
     "end_time": "2025-07-15T19:58:53.512315Z",
     "start_time": "2025-07-15T19:58:47.507171Z"
    }
   },
   "cell_type": "code",
   "source": [
    "#Simple calculator\n",
    "num1 = int(input(\"Enter first number:\"))\n",
    "num2 = int(input('Enter second number: '))\n",
    "\n",
    "addition = num1 + num2\n",
    "subtract = abs(num1 - num2)\n",
    "multiply = num1 * num2\n",
    "divide = num1 / num2\n",
    "\n",
    "print(\"Sum:\",addition)\n",
    "print(\"Subtraction:\",subtract)\n",
    "print(\"multiplication:\", multiply)\n",
    "print(\"division:\", divide)\n"
   ],
   "id": "5f2e49baa40b3431",
   "outputs": [
    {
     "name": "stdout",
     "output_type": "stream",
     "text": [
      "Sum: 30\n",
      "Subtraction: 10\n",
      "multiplication: 200\n",
      "division: 0.5\n"
     ]
    }
   ],
   "execution_count": 7
  }
 ],
 "metadata": {
  "kernelspec": {
   "display_name": "Python 3",
   "language": "python",
   "name": "python3"
  },
  "language_info": {
   "codemirror_mode": {
    "name": "ipython",
    "version": 2
   },
   "file_extension": ".py",
   "mimetype": "text/x-python",
   "name": "python",
   "nbconvert_exporter": "python",
   "pygments_lexer": "ipython2",
   "version": "2.7.6"
  }
 },
 "nbformat": 4,
 "nbformat_minor": 5
}
