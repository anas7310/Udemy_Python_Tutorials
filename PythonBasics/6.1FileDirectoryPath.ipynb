{
 "cells": [
  {
   "metadata": {},
   "cell_type": "markdown",
   "source": "### Working with filepaths in Python",
   "id": "4122c0ac03b51818"
  },
  {
   "cell_type": "code",
   "id": "initial_id",
   "metadata": {
    "collapsed": true,
    "ExecuteTime": {
     "end_time": "2025-07-29T23:35:38.384905Z",
     "start_time": "2025-07-29T23:35:38.378977Z"
    }
   },
   "source": [
    "import os\n",
    "cwd = os.getcwd()\n",
    "print(f'Current working directory is {cwd}')"
   ],
   "outputs": [
    {
     "name": "stdout",
     "output_type": "stream",
     "text": [
      "Current working directory is E:\\udemy\\PythonBootcamp\n"
     ]
    }
   ],
   "execution_count": 1
  },
  {
   "metadata": {
    "ExecuteTime": {
     "end_time": "2025-07-29T23:36:44.766211Z",
     "start_time": "2025-07-29T23:36:44.757998Z"
    }
   },
   "cell_type": "code",
   "source": [
    "#Create a new directory\n",
    "new_directory = 'new_directory'\n",
    "os.mkdir(new_directory)\n",
    "\n",
    "print(f'New directory {new_directory} created')"
   ],
   "id": "ae51528eb27a3dfc",
   "outputs": [
    {
     "name": "stdout",
     "output_type": "stream",
     "text": [
      "New directory new_directory created\n"
     ]
    }
   ],
   "execution_count": 2
  },
  {
   "metadata": {
    "ExecuteTime": {
     "end_time": "2025-07-29T23:37:41.407815Z",
     "start_time": "2025-07-29T23:37:41.401868Z"
    }
   },
   "cell_type": "code",
   "source": [
    "#Listing files and directories\n",
    "items = os.listdir('.')\n",
    "print(items)"
   ],
   "id": "90336ae88c0174c",
   "outputs": [
    {
     "name": "stdout",
     "output_type": "stream",
     "text": [
      "['.git', '.idea', '.ipynb_checkpoints', '.venv', '1.0Basics.ipynb', '1.1Variables.ipynb', '1.2DataTypes.ipynb', '1.3Operators.ipynb', '2.1Loops.ipynb', '2ConditionalStatements.ipynb', '3.1RealWorldExamples.ipynb', '3CollectionsInPython.ipynb', '4.0CreatingFunctionsInPython.ipynb', '4.1FunctionsExamples.ipynb', '4.2LambdaFunctionsInPython.ipynb', '4.3MapFunction.ipynb', '4.4FilterFunction.ipynb', '5.0ImportingModulesinPython.ipynb', '5.1StandardLibrary.ipynb', '6.0FileOperations.ipynb', '6.1FileDirectoryPath.ipynb', 'advancefunctions.ipynb', 'advancefunctionsolution.ipynb', 'assignment2.ipynb', 'assignment2_solutions.ipynb', 'assignment_1_question.ipynb', 'assignment_1_solution.ipynb', 'destination.txt', 'dictionaries_assignment.ipynb', 'dictionaries_assignment_solution.ipynb', 'example.bin', 'example.csv', 'example.txt', 'linearregression.ipynb', 'list_Assignment.ipynb', 'list_assignment_solution.ipynb', 'mypackage', 'new_directory', 'output.txt', 'package', 'packagesquestion.ipynb', 'packagessolution.ipynb', 'sample.txt', 'sets_assignment.ipynb', 'set_assignments_solution.ipynb', 'source.txt', 'test.py', 'test_dir', 'tuple_assignment.ipynb', 'tuple_assignment_solution.ipynb']\n"
     ]
    }
   ],
   "execution_count": 3
  },
  {
   "metadata": {
    "ExecuteTime": {
     "end_time": "2025-07-29T23:39:08.445475Z",
     "start_time": "2025-07-29T23:39:08.440401Z"
    }
   },
   "cell_type": "code",
   "source": [
    "#Join file paths\n",
    "dir_name='new_directory'\n",
    "file_name='new_file.txt'\n",
    "full_path = os.path.join(os.getcwd(), dir_name, file_name)\n",
    "print(full_path)"
   ],
   "id": "caf403d481668bdc",
   "outputs": [
    {
     "name": "stdout",
     "output_type": "stream",
     "text": [
      "E:\\udemy\\PythonBootcamp\\new_directory\\new_file.txt\n"
     ]
    }
   ],
   "execution_count": 4
  },
  {
   "metadata": {
    "ExecuteTime": {
     "end_time": "2025-07-29T23:39:55.387929Z",
     "start_time": "2025-07-29T23:39:55.382085Z"
    }
   },
   "cell_type": "code",
   "source": [
    "path = 'example.txt'\n",
    "\n",
    "if os.path.exists(path):\n",
    "    print(f'File {path} already exists')"
   ],
   "id": "2602298a8406ce92",
   "outputs": [
    {
     "name": "stdout",
     "output_type": "stream",
     "text": [
      "File example.txt already exists\n"
     ]
    }
   ],
   "execution_count": 5
  }
 ],
 "metadata": {
  "kernelspec": {
   "display_name": "Python 3",
   "language": "python",
   "name": "python3"
  },
  "language_info": {
   "codemirror_mode": {
    "name": "ipython",
    "version": 2
   },
   "file_extension": ".py",
   "mimetype": "text/x-python",
   "name": "python",
   "nbconvert_exporter": "python",
   "pygments_lexer": "ipython2",
   "version": "2.7.6"
  }
 },
 "nbformat": 4,
 "nbformat_minor": 5
}
