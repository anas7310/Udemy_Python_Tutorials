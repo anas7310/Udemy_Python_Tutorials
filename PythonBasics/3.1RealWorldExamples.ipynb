{
 "cells": [
  {
   "metadata": {},
   "cell_type": "markdown",
   "source": [
    "### Example 1\n",
    "- Create a To Do list to keep track of tasks"
   ],
   "id": "eaa7913d9beb9c58"
  },
  {
   "metadata": {
    "ExecuteTime": {
     "end_time": "2025-07-25T22:26:15.466864Z",
     "start_time": "2025-07-25T22:26:15.458008Z"
    }
   },
   "cell_type": "code",
   "source": [
    "to_do_list =['Buy Groceries','Clean the House','Pay Bills']\n",
    "print(to_do_list)\n",
    "#Adding to the list\n",
    "to_do_list.append(\"Schedule Meeting\")\n",
    "to_do_list.append(\"Go for a run\")\n",
    "\n",
    "#REmoving a completed task\n",
    "to_do_list.remove('Clean the House')\n",
    "\n",
    "#check if a task is in the list\n",
    "task = 'Pay Bills'\n",
    "if task in to_do_list:\n",
    "    print(\"Don't forget to pay utility bills\")\n",
    "\n",
    "print(\"To Do list Remaining:\")\n",
    "for task in to_do_list:\n",
    "    print(f' - {task}')\n",
    "print(len(to_do_list))"
   ],
   "id": "b05eb08c755678c",
   "outputs": [
    {
     "name": "stdout",
     "output_type": "stream",
     "text": [
      "['Buy Groceries', 'Clean the House', 'Pay Bills']\n",
      "Don't forget to pay utility bills\n",
      "To Do list Remaining:\n",
      " - Buy Groceries\n",
      " - Pay Bills\n",
      " - Schedule Meeting\n",
      " - Go for a run\n",
      "4\n"
     ]
    }
   ],
   "execution_count": 4
  }
 ],
 "metadata": {
  "kernelspec": {
   "display_name": "Python 3",
   "language": "python",
   "name": "python3"
  },
  "language_info": {
   "codemirror_mode": {
    "name": "ipython",
    "version": 2
   },
   "file_extension": ".py",
   "mimetype": "text/x-python",
   "name": "python",
   "nbconvert_exporter": "python",
   "pygments_lexer": "ipython2",
   "version": "2.7.6"
  }
 },
 "nbformat": 4,
 "nbformat_minor": 5
}
