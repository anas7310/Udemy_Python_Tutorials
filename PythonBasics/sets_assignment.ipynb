{
 "cells": [
  {
   "cell_type": "markdown",
   "metadata": {},
   "source": [
    "# Module 3: Data Structures Assignments\n",
    "## Lesson 3.3: Sets\n",
    "### Assignment 1: Creating and Accessing Sets\n",
    "\n",
    "Create a set with the first 10 positive integers. Print the set.\n",
    "\n",
    "### Assignment 2: Adding and Removing Elements\n",
    "\n",
    "Add the number 11 to the set created in Assignment 1. Then remove the number 1 from the set. Print the modified set.\n",
    "\n",
    "### Assignment 3: Set Operations\n",
    "\n",
    "Create two sets: one with the first 5 positive integers and another with the first 5 even integers. Perform and print the results of union, intersection, difference, and symmetric difference operations on these sets.\n",
    "\n",
    "### Assignment 4: Set Comprehensions\n",
    "\n",
    "Create a new set containing the squares of the first 10 positive integers using a set comprehension. Print the new set.\n",
    "\n",
    "### Assignment 5: Filtering Sets\n",
    "\n",
    "Create a new set containing only the even numbers from the set created in Assignment 1 using a set comprehension. Print the new set.\n",
    "\n",
    "### Assignment 6: Set Methods\n",
    "\n",
    "Create a set with duplicate elements and remove the duplicates using set methods. Print the modified set.\n",
    "\n",
    "### Assignment 7: Subsets and Supersets\n",
    "\n",
    "Create two sets: one with the first 5 positive integers and another with the first 3 positive integers. Check if the second set is a subset of the first set and if the first set is a superset of the second set. Print the results.\n",
    "\n",
    "### Assignment 8: Frozenset\n",
    "\n",
    "Create a frozenset with the first 5 positive integers. Print the frozenset.\n",
    "\n",
    "### Assignment 9: Set and List Conversion\n",
    "\n",
    "Create a set with the first 5 positive integers. Convert it to a list, append the number 6, and convert it back to a set. Print the resulting set.\n",
    "\n",
    "### Assignment 10: Set and Dictionary\n",
    "\n",
    "Create a dictionary with set keys and integer values. Print the dictionary.\n",
    "\n",
    "### Assignment 11: Iterating Over Sets\n",
    "\n",
    "Create a set and iterate over the elements, printing each element.\n",
    "\n",
    "### Assignment 12: Removing Elements from Sets\n",
    "\n",
    "Create a set and remove elements from it until it is empty. Print the set after each removal.\n",
    "\n",
    "### Assignment 13: Set Symmetric Difference Update\n",
    "\n",
    "Create two sets and update the first set with the symmetric difference of the two sets. Print the modified first set.\n",
    "\n",
    "### Assignment 14: Set Membership Testing\n",
    "\n",
    "Create a set and test if certain elements are present in the set. Print the results.\n",
    "\n",
    "### Assignment 15: Set of Tuples\n",
    "\n",
    "Create a set containing tuples, where each tuple contains two elements. Print the set."
   ],
   "id": "4cd80dd1dc782137"
  },
  {
   "metadata": {
    "ExecuteTime": {
     "end_time": "2025-07-22T20:40:04.861506Z",
     "start_time": "2025-07-22T20:40:04.846985Z"
    }
   },
   "cell_type": "code",
   "source": [
    "#Solution 1\n",
    "first_set = set(range(1,11))\n",
    "print(first_set)"
   ],
   "id": "aa29a05f0b1db3dd",
   "outputs": [
    {
     "name": "stdout",
     "output_type": "stream",
     "text": [
      "{1, 2, 3, 4, 5, 6, 7, 8, 9, 10}\n"
     ]
    }
   ],
   "execution_count": 16
  },
  {
   "metadata": {
    "ExecuteTime": {
     "end_time": "2025-07-22T20:40:06.597593Z",
     "start_time": "2025-07-22T20:40:06.589169Z"
    }
   },
   "cell_type": "code",
   "source": [
    "#Solution2\n",
    "first_set.add(13)\n",
    "\n",
    "first_set.discard(12)\n",
    "print(first_set)"
   ],
   "id": "d7dccaf85fae3c55",
   "outputs": [
    {
     "name": "stdout",
     "output_type": "stream",
     "text": [
      "{1, 2, 3, 4, 5, 6, 7, 8, 9, 10, 13}\n"
     ]
    }
   ],
   "execution_count": 17
  },
  {
   "metadata": {
    "ExecuteTime": {
     "end_time": "2025-07-22T17:57:39.027557Z",
     "start_time": "2025-07-22T17:57:39.015423Z"
    }
   },
   "cell_type": "code",
   "source": [
    "#Solution 3\n",
    "set1 = {1,2,3,4,5}\n",
    "set2 = {2,4,6,8,10}\n",
    "#union\n",
    "print(set1.union(set2))\n",
    "#intersection\n",
    "print(set1.intersection(set2))\n",
    "#difference\n",
    "print(set1.difference(set2))\n",
    "#symmetric difference\n",
    "print(set1.symmetric_difference(set2))"
   ],
   "id": "4bb59f85dfb5ca4e",
   "outputs": [
    {
     "name": "stdout",
     "output_type": "stream",
     "text": [
      "{1, 2, 3, 4, 5, 6, 8, 10}\n",
      "{2, 4}\n",
      "{1, 3, 5}\n",
      "{1, 3, 5, 6, 8, 10}\n"
     ]
    }
   ],
   "execution_count": 12
  },
  {
   "metadata": {
    "ExecuteTime": {
     "end_time": "2025-07-22T20:32:26.852473Z",
     "start_time": "2025-07-22T20:32:26.842Z"
    }
   },
   "cell_type": "code",
   "source": [
    "#Solution 4\n",
    "squared_set = {x**2 for x in range(1,11)}\n",
    "print(squared_set)\n",
    "print(type(squared_set))"
   ],
   "id": "36b72eac3440e94",
   "outputs": [
    {
     "name": "stdout",
     "output_type": "stream",
     "text": [
      "{64, 1, 4, 36, 100, 9, 16, 49, 81, 25}\n",
      "<class 'set'>\n"
     ]
    }
   ],
   "execution_count": 14
  },
  {
   "metadata": {
    "ExecuteTime": {
     "end_time": "2025-07-22T20:40:42.853749Z",
     "start_time": "2025-07-22T20:40:42.837268Z"
    }
   },
   "cell_type": "code",
   "source": [
    "#Solution 5\n",
    "new_set = {x for x in first_set if x%2==0}\n",
    "print(new_set)\n",
    "print(type(new_set))"
   ],
   "id": "102a2c363b15f58e",
   "outputs": [
    {
     "name": "stdout",
     "output_type": "stream",
     "text": [
      "{2, 4, 6, 8, 10}\n",
      "<class 'set'>\n"
     ]
    }
   ],
   "execution_count": 20
  },
  {
   "metadata": {
    "ExecuteTime": {
     "end_time": "2025-07-22T20:47:38.255992Z",
     "start_time": "2025-07-22T20:47:38.239783Z"
    }
   },
   "cell_type": "code",
   "source": [
    "#Solution 6\n",
    "duplicate_set = {1,2,3,4,5,6,4,4,3,2,1}\n",
    "non_duplicate_set = set(duplicate_set)\n",
    "print(duplicate_set)\n",
    "print(non_duplicate_set)"
   ],
   "id": "1d63213e40264df9",
   "outputs": [
    {
     "name": "stdout",
     "output_type": "stream",
     "text": [
      "{1, 2, 3, 4, 5, 6}\n",
      "{1, 2, 3, 4, 5, 6}\n"
     ]
    }
   ],
   "execution_count": 22
  },
  {
   "metadata": {
    "ExecuteTime": {
     "end_time": "2025-07-22T20:49:56.848853Z",
     "start_time": "2025-07-22T20:49:56.831788Z"
    }
   },
   "cell_type": "code",
   "source": [
    "#Solution 7\n",
    "set1={1,2,3,4,5}\n",
    "set2 = {1,2,3}\n",
    "\n",
    "print(set2.issubset(set1))\n",
    "print(set1.issuperset(set2))"
   ],
   "id": "2c8ea4bbd26a6dcb",
   "outputs": [
    {
     "name": "stdout",
     "output_type": "stream",
     "text": [
      "True\n",
      "True\n"
     ]
    }
   ],
   "execution_count": 23
  },
  {
   "metadata": {
    "ExecuteTime": {
     "end_time": "2025-07-25T11:53:34.286750Z",
     "start_time": "2025-07-25T11:53:34.274523Z"
    }
   },
   "cell_type": "code",
   "source": [
    "#Solution 8\n",
    "fs = frozenset(range(1,6))\n",
    "print(fs)"
   ],
   "id": "6d1a3d78cc18aa8d",
   "outputs": [
    {
     "name": "stdout",
     "output_type": "stream",
     "text": [
      "frozenset({1, 2, 3, 4, 5})\n"
     ]
    }
   ],
   "execution_count": 1
  },
  {
   "metadata": {
    "ExecuteTime": {
     "end_time": "2025-07-25T11:56:26.058640Z",
     "start_time": "2025-07-25T11:56:26.050967Z"
    }
   },
   "cell_type": "code",
   "source": [
    "#Solution 9\n",
    "set1= set(range(1,6))\n",
    "print(set1)\n",
    "list1=list(set1)\n",
    "list1.append(6)\n",
    "set1 = set(list1)\n",
    "print(set1)"
   ],
   "id": "c324b9794e82f3c0",
   "outputs": [
    {
     "name": "stdout",
     "output_type": "stream",
     "text": [
      "{1, 2, 3, 4, 5}\n",
      "{1, 2, 3, 4, 5, 6}\n"
     ]
    }
   ],
   "execution_count": 3
  },
  {
   "metadata": {
    "ExecuteTime": {
     "end_time": "2025-07-25T12:00:06.846628Z",
     "start_time": "2025-07-25T12:00:06.839887Z"
    }
   },
   "cell_type": "code",
   "source": [
    "#Solution 10\n",
    "d={\n",
    "    frozenset({1,2}):3,\n",
    "    frozenset({4,5}):6,\n",
    "    frozenset({7,8}):9\n",
    "}\n",
    "print(d)"
   ],
   "id": "f8d2f76157e81e41",
   "outputs": [
    {
     "name": "stdout",
     "output_type": "stream",
     "text": [
      "{frozenset({1, 2}): 3, frozenset({4, 5}): 6, frozenset({8, 7}): 9}\n"
     ]
    }
   ],
   "execution_count": 4
  },
  {
   "metadata": {
    "ExecuteTime": {
     "end_time": "2025-07-25T12:03:35.851886Z",
     "start_time": "2025-07-25T12:03:35.845608Z"
    }
   },
   "cell_type": "code",
   "source": [
    "s={1,2,3,4,5,3,2,2,5,1}\n",
    "fs = frozenset({1,2,3,5,7,5,3,2,53,2,1})\n",
    "t=(1,2,3,4,6,4,3,2,4,3,5)\n",
    "s.add(12)\n",
    "print(s)\n",
    "print(t)\n",
    "print(fs)"
   ],
   "id": "f8faef19c9fca9c6",
   "outputs": [
    {
     "name": "stdout",
     "output_type": "stream",
     "text": [
      "{1, 2, 3, 4, 5, 12}\n",
      "(1, 2, 3, 4, 6, 4, 3, 2, 4, 3, 5)\n",
      "frozenset({1, 2, 3, 5, 53, 7})\n"
     ]
    }
   ],
   "execution_count": 9
  },
  {
   "metadata": {
    "ExecuteTime": {
     "end_time": "2025-07-25T12:04:28.402858Z",
     "start_time": "2025-07-25T12:04:28.394775Z"
    }
   },
   "cell_type": "code",
   "source": [
    "#Solution 11\n",
    "s={1,2,3,4,5,3,2,2,5,1}\n",
    "for item in s:\n",
    "    print(item)"
   ],
   "id": "f209920d60ecbd85",
   "outputs": [
    {
     "name": "stdout",
     "output_type": "stream",
     "text": [
      "1\n",
      "2\n",
      "3\n",
      "4\n",
      "5\n"
     ]
    }
   ],
   "execution_count": 10
  },
  {
   "metadata": {
    "ExecuteTime": {
     "end_time": "2025-07-25T12:06:33.432010Z",
     "start_time": "2025-07-25T12:06:33.422019Z"
    }
   },
   "cell_type": "code",
   "source": [
    "#Solution 12\n",
    "s={1,2,3,4,5,3,2,2,5,1}\n",
    "while s:\n",
    "    s.pop()\n",
    "print(s)"
   ],
   "id": "40affd5433fbba8",
   "outputs": [
    {
     "name": "stdout",
     "output_type": "stream",
     "text": [
      "set()\n"
     ]
    }
   ],
   "execution_count": 14
  },
  {
   "metadata": {
    "ExecuteTime": {
     "end_time": "2025-07-25T12:07:34.986828Z",
     "start_time": "2025-07-25T12:07:34.979578Z"
    }
   },
   "cell_type": "code",
   "source": [
    "#Solution 13\n",
    "s1 ={1,2,3,4,5,6,1,2,3,5}\n",
    "s2 ={ 4,5,6,7,8,9,10,8,7,4}\n",
    "\n",
    "s1.symmetric_difference_update(s2)\n",
    "print(s1)"
   ],
   "id": "2b8864d6042b5145",
   "outputs": [
    {
     "name": "stdout",
     "output_type": "stream",
     "text": [
      "{1, 2, 3, 7, 8, 9, 10}\n"
     ]
    }
   ],
   "execution_count": 15
  },
  {
   "metadata": {
    "ExecuteTime": {
     "end_time": "2025-07-25T12:09:21.559920Z",
     "start_time": "2025-07-25T12:09:21.530835Z"
    }
   },
   "cell_type": "code",
   "source": [
    "#Solution 14\n",
    "set1 = set(range(1,11))\n",
    "\n",
    "print(9 in set1)\n",
    "print(11 not in set1)\n",
    "print(11 in set1)"
   ],
   "id": "ec733c1e92d2c69c",
   "outputs": [
    {
     "name": "stdout",
     "output_type": "stream",
     "text": [
      "True\n",
      "True\n",
      "False\n"
     ]
    }
   ],
   "execution_count": 18
  },
  {
   "metadata": {
    "ExecuteTime": {
     "end_time": "2025-07-25T12:10:26.833689Z",
     "start_time": "2025-07-25T12:10:26.826829Z"
    }
   },
   "cell_type": "code",
   "source": [
    "set_of_tuples = {(1,2),(3,4),(5,6)}\n",
    "print(set_of_tuples)"
   ],
   "id": "8bc503c6470964fb",
   "outputs": [
    {
     "name": "stdout",
     "output_type": "stream",
     "text": [
      "{(1, 2), (3, 4), (5, 6)}\n"
     ]
    }
   ],
   "execution_count": 20
  }
 ],
 "metadata": {
  "kernelspec": {
   "display_name": "Python 3",
   "language": "python",
   "name": "python3"
  },
  "language_info": {
   "codemirror_mode": {
    "name": "ipython",
    "version": 3
   },
   "file_extension": ".py",
   "mimetype": "text/x-python",
   "name": "python",
   "nbconvert_exporter": "python",
   "pygments_lexer": "ipython3",
   "version": "3.9.7"
  }
 },
 "nbformat": 4,
 "nbformat_minor": 5
}
