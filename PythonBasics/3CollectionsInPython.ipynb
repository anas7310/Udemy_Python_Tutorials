{
 "cells": [
  {
   "metadata": {},
   "cell_type": "markdown",
   "source": [
    "#### Collections in Python\n",
    "- 1. Lists\n",
    "- 2. Tuples\n",
    "- 3. Sets\n",
    "- 4. Dictionary\n",
    "#### Lists in Python\n",
    "   - Lists are ordered, mutable collections of items.\n",
    "   - They can contain items of different data types."
   ],
   "id": "239e68c312884ede"
  },
  {
   "metadata": {},
   "cell_type": "code",
   "source": [
    "import json\n",
    "\n",
    "lst=[]\n",
    "print(type(lst))"
   ],
   "id": "1ef82c84bd302c86",
   "outputs": [],
   "execution_count": null
  },
  {
   "metadata": {},
   "cell_type": "code",
   "source": [
    "names = ['Anas','Talib','Najid','Alex']\n",
    "print(names)\n"
   ],
   "id": "7e75d112170b2349",
   "outputs": [],
   "execution_count": null
  },
  {
   "metadata": {},
   "cell_type": "code",
   "source": [
    "mixed_list=[1,'Hello',True,12.7]\n",
    "print(mixed_list)"
   ],
   "id": "661b1742b66c569b",
   "outputs": [],
   "execution_count": null
  },
  {
   "metadata": {},
   "cell_type": "code",
   "source": [
    "#Accessing list items\n",
    "fruits = ['apple','banana','cherry','dragonfruit','kiwi','oranges']\n",
    "print(fruits[0])\n",
    "print(fruits[2])\n",
    "print(fruits[-1]) #last element\n",
    "print(fruits[1:4])\n",
    "print(fruits[2:])\n",
    "print(fruits[:2])\n",
    "print(fruits[::-1])\n",
    "print(fruits[-1:])\n",
    "print(len(fruits))"
   ],
   "id": "e6c69403fefde990",
   "outputs": [],
   "execution_count": null
  },
  {
   "metadata": {},
   "cell_type": "code",
   "source": [
    "#modifying the list\n",
    "fruits[1]='watermelon'\n",
    "print(fruits)"
   ],
   "id": "863bec4fa5b31182",
   "outputs": [],
   "execution_count": null
  },
  {
   "metadata": {},
   "cell_type": "code",
   "source": "fruits[1:] = 'watermelon'",
   "id": "e5f6a118fcbf6c91",
   "outputs": [],
   "execution_count": null
  },
  {
   "metadata": {},
   "cell_type": "code",
   "source": "fruits",
   "id": "119c9e8ca30f38f6",
   "outputs": [],
   "execution_count": null
  },
  {
   "metadata": {},
   "cell_type": "code",
   "source": "fruits = ['apple','banana','cherry','dragonfruit','kiwi','oranges']",
   "id": "c1d4794b77c354d2",
   "outputs": [],
   "execution_count": null
  },
  {
   "metadata": {},
   "cell_type": "code",
   "source": [
    "##List methods\n",
    "fruits.append('watermelon') #add an item to the end"
   ],
   "id": "2c04da7e646288b0",
   "outputs": [],
   "execution_count": null
  },
  {
   "metadata": {},
   "cell_type": "code",
   "source": "fruits.insert(3,'Pears')",
   "id": "bebdc50a9bc9ec6c",
   "outputs": [],
   "execution_count": null
  },
  {
   "metadata": {},
   "cell_type": "code",
   "source": "print(fruits)",
   "id": "bb26193a09c8e3db",
   "outputs": [],
   "execution_count": null
  },
  {
   "metadata": {},
   "cell_type": "code",
   "source": [
    "fruits.remove('banana') #Removes the first occurrence of the item\n",
    "print(fruits)"
   ],
   "id": "16daa81c23789db0",
   "outputs": [],
   "execution_count": null
  },
  {
   "metadata": {},
   "cell_type": "code",
   "source": [
    "##Remove and return the last\n",
    "popped_fruit = fruits.pop()\n",
    "print(popped_fruit)\n",
    "print(fruits)"
   ],
   "id": "41c471a547a62031",
   "outputs": [],
   "execution_count": null
  },
  {
   "metadata": {},
   "cell_type": "code",
   "source": [
    "fruits.insert(1,'apple')\n",
    "print(fruits.count('apple'))"
   ],
   "id": "c30548f02a004aef",
   "outputs": [],
   "execution_count": null
  },
  {
   "metadata": {},
   "cell_type": "code",
   "source": [
    "fruits.sort() #Sorts the elements of the list\n",
    "fruits.remove('Pears')\n",
    "print(fruits)"
   ],
   "id": "960204d9053ee02e",
   "outputs": [],
   "execution_count": null
  },
  {
   "metadata": {},
   "cell_type": "code",
   "source": [
    "fruits.reverse() #reverse the list\n",
    "print(fruits)"
   ],
   "id": "5b7ecbd824d49dc8",
   "outputs": [],
   "execution_count": null
  },
  {
   "metadata": {},
   "cell_type": "code",
   "source": [
    "fruits.clear()\n",
    "print(fruits)"
   ],
   "id": "7f10341ae2e9e7d",
   "outputs": [],
   "execution_count": null
  },
  {
   "metadata": {},
   "cell_type": "code",
   "source": [
    "#Slicing Lists\n",
    "numbers = [1,2,3,4,5,6,7,8,9,10]\n",
    "print(numbers[2:5])\n",
    "print(numbers[:5])\n",
    "print(numbers[5:])\n",
    "print(numbers[::2])\n",
    "print(numbers[::-1])\n"
   ],
   "id": "96b2975b63b76f39",
   "outputs": [],
   "execution_count": null
  },
  {
   "metadata": {},
   "cell_type": "code",
   "source": [
    "#Iterate over the list\n",
    "\n",
    "for fruit in fruits:\n",
    "    print(fruit)"
   ],
   "id": "5df93a1c9f7fcd55",
   "outputs": [],
   "execution_count": null
  },
  {
   "metadata": {},
   "cell_type": "code",
   "source": [
    "for number in numbers:\n",
    "    print(number)"
   ],
   "id": "d6182045aad30f52",
   "outputs": [],
   "execution_count": null
  },
  {
   "metadata": {},
   "cell_type": "code",
   "source": [
    " for index,number in enumerate(numbers):\n",
    "    print(index,number)"
   ],
   "id": "cbf8910148657768",
   "outputs": [],
   "execution_count": null
  },
  {
   "metadata": {},
   "cell_type": "code",
   "source": [
    "#List Comprehension\n",
    "lst=[]\n",
    "#normally adding square of numbers\n",
    "for x in range(10):\n",
    "    lst.append(x**2)\n",
    "\n",
    "print(lst)\n",
    "\n",
    "\n"
   ],
   "id": "16289877ace06e29",
   "outputs": [],
   "execution_count": null
  },
  {
   "metadata": {},
   "cell_type": "code",
   "source": [
    "#List comprehension for adding square of numbers in the lst\n",
    "[x**2 for x in range(10)]"
   ],
   "id": "8841c5ff49884a91",
   "outputs": [],
   "execution_count": null
  },
  {
   "metadata": {},
   "cell_type": "markdown",
   "source": [
    "#### List Comprehension\n",
    "Basic Syntax - [expression for item in iterable]\n",
    "\n",
    "With conditional logic  - [expression for item in iterable if condition]\n",
    "\n",
    "Nested List Comprehension - [expression(list,tuple or any iterable type) for item1 in iterable1 for item2 in iterable2]\n"
   ],
   "id": "778e3af4303a887b"
  },
  {
   "metadata": {},
   "cell_type": "code",
   "source": [
    "##Basic list comprehension\n",
    "square = [num**2 for num in range(10)]\n",
    "print(square)"
   ],
   "id": "3d85e04f08be9cc6",
   "outputs": [],
   "execution_count": null
  },
  {
   "metadata": {},
   "cell_type": "code",
   "source": [
    "#List comprehension with Condition\n",
    "even_numbers_square = [num**2 for num in range(10) if num%2==0 and num>0]\n",
    "print(even_numbers_square)"
   ],
   "id": "e9231f11e8f240d5",
   "outputs": [],
   "execution_count": null
  },
  {
   "metadata": {},
   "cell_type": "code",
   "source": [
    "#Nested List Comprehension\n",
    "lst1=[1,2,3,4]\n",
    "lst2=['a','b','c','d']\n",
    "\n",
    "pair = [[x,y] for x in lst1 for y in lst2]\n",
    "print(pair)"
   ],
   "id": "90a5769958b46357",
   "outputs": [],
   "execution_count": null
  },
  {
   "metadata": {},
   "cell_type": "code",
   "source": [
    "#List comprehension with function calls\n",
    "words=['hello','world','python','list','comprehension']\n",
    "lengths = [len(word) for word in words]\n",
    "print(lengths)"
   ],
   "id": "57f4b017e233ab94",
   "outputs": [],
   "execution_count": null
  },
  {
   "metadata": {},
   "cell_type": "markdown",
   "source": [
    "#### Tuple in Python\n",
    "- Tuples are used to store multiple items in a single variable.\n",
    "- A tuple is a collection which is ordered and unchangeable.\n",
    "- Tuple items are ordered, unchangeable, and allow duplicate values.\n",
    "- Tuple items are indexed, the first item has index [0], the second item has index [1] etc.\n",
    "- Tuples are written with round brackets."
   ],
   "id": "f70a2cc39039a341"
  },
  {
   "metadata": {},
   "cell_type": "code",
   "source": [
    "#Creating a tuple\n",
    "empty_tuple = ('a',)\n",
    "print(empty_tuple)\n",
    "print(type(empty_tuple))"
   ],
   "id": "2137c4cfefd72327",
   "outputs": [],
   "execution_count": null
  },
  {
   "metadata": {},
   "cell_type": "code",
   "source": [
    "lst = list()\n",
    "print(type(lst))\n",
    "\n",
    "tpl = tuple()\n",
    "print(type(tpl))"
   ],
   "id": "de8226e3cfda9c01",
   "outputs": [],
   "execution_count": null
  },
  {
   "metadata": {},
   "cell_type": "code",
   "source": [
    "numbers = tuple([1,2,3,4,5,6,7,8,9])\n",
    "numbers"
   ],
   "id": "dcf37320d34df64e",
   "outputs": [],
   "execution_count": null
  },
  {
   "metadata": {},
   "cell_type": "code",
   "source": [
    "mixed_tuple =(1,'a','hello',True,False,18.9)\n",
    "print(mixed_tuple)"
   ],
   "id": "e998453cefcba1b6",
   "outputs": [],
   "execution_count": null
  },
  {
   "metadata": {},
   "cell_type": "code",
   "source": [
    "#Accessing Tuple elements\n",
    "print(numbers[3])\n",
    "print(numbers[-1]) #last element\n",
    "print(numbers[0:4])\n",
    "print(numbers[::2])\n",
    "print(numbers[::-1]) #Reversed tuple"
   ],
   "id": "4f2a17cebf2d824f",
   "outputs": [],
   "execution_count": null
  },
  {
   "metadata": {},
   "cell_type": "code",
   "source": [
    "#Tuple Operations\n",
    "#Concatenation\n",
    "concatenation_tuple = numbers + mixed_tuple\n",
    "print(concatenation_tuple)"
   ],
   "id": "f91ca874dde42fb4",
   "outputs": [],
   "execution_count": null
  },
  {
   "metadata": {},
   "cell_type": "code",
   "source": "numbers * 3",
   "id": "cce55a474a5807c",
   "outputs": [],
   "execution_count": null
  },
  {
   "metadata": {},
   "cell_type": "code",
   "source": [
    "#Immutable nature of tuples\n",
    "#Tuples are immutable, meaning their elements cannot be changed once assigned.\n",
    "\n",
    "lst = [1,2,3,4,5]\n",
    "print(lst)\n",
    "\n",
    "lst[1] = 'Hello'\n",
    "print(lst)\n"
   ],
   "id": "cecfe9807314e305",
   "outputs": [],
   "execution_count": null
  },
  {
   "metadata": {},
   "cell_type": "code",
   "source": [
    "tpl = (1,2,3,4,5)\n",
    "print(tpl)\n",
    "\n",
    "# tpl[1] = 'Hello' TypeError: 'tuple' object does not support item assignment\n"
   ],
   "id": "27be9b90d622262f",
   "outputs": [],
   "execution_count": null
  },
  {
   "metadata": {},
   "cell_type": "code",
   "source": [
    "#Tuple Methods\n",
    "print(numbers.count(1))\n",
    "print(numbers.index(6))"
   ],
   "id": "53cee2a5a75d5521",
   "outputs": [],
   "execution_count": null
  },
  {
   "metadata": {},
   "cell_type": "code",
   "source": [
    "#Packing and unpacking tuples\n",
    "#Packing\n",
    "packed_tuple =1,'Hello',3.14,True\n",
    "print(packed_tuple)"
   ],
   "id": "85609a1fb37fbc20",
   "outputs": [],
   "execution_count": null
  },
  {
   "metadata": {},
   "cell_type": "code",
   "source": [
    "#Unpacking a tuple\n",
    "a,b,c,d = packed_tuple\n",
    "print(a)\n",
    "print(b)\n",
    "print(c)"
   ],
   "id": "5573c79aa2067607",
   "outputs": [],
   "execution_count": null
  },
  {
   "metadata": {},
   "cell_type": "code",
   "source": [
    "#Unpacking with *\n",
    "numbers = (1,2,3,4,5,6)\n",
    "first,*middle,last = numbers\n",
    "print(first)\n",
    "print(middle)\n",
    "print(last)"
   ],
   "id": "8f0019a03f990e39",
   "outputs": [],
   "execution_count": null
  },
  {
   "metadata": {},
   "cell_type": "code",
   "source": [
    "##Nested Tuples\n",
    "nested_tuple = ((1,2,3),('a','b','c'),(True, False))\n",
    "print(nested_tuple[1])\n",
    "print(nested_tuple[0][2])"
   ],
   "id": "aff9034c77222852",
   "outputs": [],
   "execution_count": null
  },
  {
   "metadata": {},
   "cell_type": "code",
   "source": [
    "#Iterating over nested tuples\n",
    "for sub_tuple in nested_tuple:\n",
    "    for item in sub_tuple:\n",
    "        print(item, end=' ')\n",
    "    print()"
   ],
   "id": "ef9a31cec40b7958",
   "outputs": [],
   "execution_count": null
  },
  {
   "metadata": {},
   "cell_type": "markdown",
   "source": [
    "#### Sets in Python\n",
    " - Sets are built-in data type in python used to store collection of unique items.\n",
    " - They are unordered, meaning that the elements do not follow a specific order, and they do not allow duplicate elements.\n",
    " - Sets are useful for membership tests, eliminating duplicate entries, and performing mathematical set operations like union, intersection, difference and symmetric difference"
   ],
   "id": "672f84284347d1bc"
  },
  {
   "metadata": {},
   "cell_type": "code",
   "source": [
    "##Create a set\n",
    "my_set = {1,2,3,4,5}\n",
    "print(my_set)\n",
    "print(type(my_set))"
   ],
   "id": "ad3324c738dacdcd",
   "outputs": [],
   "execution_count": null
  },
  {
   "metadata": {},
   "cell_type": "code",
   "source": [
    "my_set = set([1,2,3,4,5,3,3,2,12,1,1,4,6])\n",
    "print(type(my_set))\n",
    "print(my_set)"
   ],
   "id": "56331b7e37ac1fc1",
   "outputs": [],
   "execution_count": null
  },
  {
   "metadata": {},
   "cell_type": "code",
   "source": [
    "#Basic set operations\n",
    "#Adding and Removing Elements\n",
    "my_set.add(7)\n",
    "print(my_set)\n",
    "my_set.add(7) #Duplicate element\n",
    "print(my_set)"
   ],
   "id": "10dbef2e68e32e67",
   "outputs": [],
   "execution_count": null
  },
  {
   "metadata": {},
   "cell_type": "code",
   "source": [
    "#Remove the element from the set\n",
    "my_set.remove(3)\n",
    "print(my_set)"
   ],
   "id": "ccd7dc20560797e3",
   "outputs": [],
   "execution_count": null
  },
  {
   "metadata": {},
   "cell_type": "code",
   "source": "my_set.remove(10)",
   "id": "2c66e651522a1416",
   "outputs": [],
   "execution_count": null
  },
  {
   "metadata": {},
   "cell_type": "code",
   "source": [
    "my_set.discard(10)\n",
    "print(my_set)"
   ],
   "id": "9b063477e77d4ece",
   "outputs": [],
   "execution_count": null
  },
  {
   "metadata": {},
   "cell_type": "code",
   "source": [
    "#Removing a random element\n",
    "removed_element = my_set.pop()\n",
    "print(removed_element)\n",
    "print(my_set)"
   ],
   "id": "5b2ef4cbc76726f9",
   "outputs": [],
   "execution_count": null
  },
  {
   "metadata": {},
   "cell_type": "code",
   "source": [
    "my_set.clear()\n",
    "print(my_set)"
   ],
   "id": "3f18b70aabb554af",
   "outputs": [],
   "execution_count": null
  },
  {
   "metadata": {},
   "cell_type": "code",
   "source": [
    "# Set Membership test\n",
    "my_set = {1,2,3,4,5,6,7,8,9,10}\n",
    "print(3 in my_set)\n",
    "print(15 in my_set)"
   ],
   "id": "c545514122a1bc0d",
   "outputs": [],
   "execution_count": null
  },
  {
   "metadata": {},
   "cell_type": "code",
   "source": [
    "#Mathematical Operation\n",
    "set1 = {1,2,3,4,5,6}\n",
    "set2 = {4,5,6,7,8,9}\n",
    "\n",
    "#Union\n",
    "union_set = set1.union(set2)\n",
    "print(union_set)\n",
    "\n",
    "#Intersection\n",
    "intersected_set = set1.intersection(set2)\n",
    "print(intersected_set)\n",
    "\n",
    "set1.intersection_update(set2)\n",
    "print(set1)"
   ],
   "id": "c363442a0248aa92",
   "outputs": [],
   "execution_count": null
  },
  {
   "metadata": {},
   "cell_type": "code",
   "source": [
    "set1 = {1,2,3,4,5,6}\n",
    "set2 = {4,5,6,7,8,9}\n",
    "\n",
    "#Difference\n",
    "print(set1.difference(set2))"
   ],
   "id": "3088f3b071ece1ff",
   "outputs": [],
   "execution_count": null
  },
  {
   "metadata": {},
   "cell_type": "code",
   "source": [
    "#Symmetric difference - returns the elements that are unique to each set, excluding common elements\n",
    "symmetric_diff = set1.symmetric_difference(set2)\n",
    "print(symmetric_diff)"
   ],
   "id": "3b49a6de24bfd026",
   "outputs": [],
   "execution_count": null
  },
  {
   "metadata": {},
   "cell_type": "code",
   "source": [
    "#Sets methods -\n",
    "set1 = {1,2,3,4,5}\n",
    "set2 = {3,4,5}\n",
    "\n",
    "#is subset\n",
    "print(set1.issubset(set2))\n",
    "\n",
    "#is superset\n",
    "print(set1.issuperset(set2))\n"
   ],
   "id": "f17c06a0cf5e3b7",
   "outputs": [],
   "execution_count": null
  },
  {
   "metadata": {},
   "cell_type": "code",
   "source": [
    "lst = [1,2,2,3,4,5,6,4,4,7]\n",
    "set(lst)"
   ],
   "id": "38c1cf79e387f92f",
   "outputs": [],
   "execution_count": null
  },
  {
   "metadata": {},
   "cell_type": "code",
   "source": [
    "# Counting unique words in text\n",
    "txt= 'In this tutorial we are discussing about sets'\n",
    "words = txt.split()\n",
    "print(words)\n",
    "\n",
    "unique_words = set(words)\n",
    "print(unique_words)\n",
    "print(len(unique_words))"
   ],
   "id": "5ba57d79734d768c",
   "outputs": [],
   "execution_count": null
  },
  {
   "metadata": {},
   "cell_type": "markdown",
   "source": [
    "#### Dictionary in Python\n",
    "- Dictionaries are used to store data values in key:value pairs.\n",
    "- A dictionary is a collection which is ordered*, changeable and do not allow duplicates.\n",
    "- As of Python version 3.7, dictionaries are ordered. In Python 3.6 and earlier, dictionaries are unordered.\n",
    "- Dictionaries are unordered/ordered collection of items. They store data in key-value pairs. Keys must be unique and immutable (e.g. strings,numbers or tuples), while values can be of any type."
   ],
   "id": "5f6ddd9d0cbef079"
  },
  {
   "metadata": {},
   "cell_type": "code",
   "source": [
    "##Creating Dictionaries\n",
    "empty_dictionary = {}\n",
    "print(type(empty_dictionary))\n",
    "print(empty_dictionary)"
   ],
   "id": "f8768dbabb6d19c4",
   "outputs": [],
   "execution_count": null
  },
  {
   "metadata": {},
   "cell_type": "code",
   "source": [
    "student = {\"name\":\"Anas\", \"age\":23}\n",
    "student['grade'] = 24\n",
    "student[\"subjects\"] = ['English','Maths','Science']\n",
    "print(student)\n",
    "print(type(student))\n",
    "for x,y in student.items():\n",
    "    print(x + ':', y)"
   ],
   "id": "57cc75b02b965234",
   "outputs": [],
   "execution_count": null
  },
  {
   "metadata": {},
   "cell_type": "code",
   "source": [
    "#Single key is always used\n",
    "student={\"name\":\"Anas\", \"age\":23,\"name\":24}\n",
    "print(student)"
   ],
   "id": "5142583514ad5f3",
   "outputs": [],
   "execution_count": null
  },
  {
   "metadata": {},
   "cell_type": "code",
   "source": [
    "#Accessing dictionary items\n",
    "student = {\"name\":'Anas', 'age':23, 'grade':'A'}\n",
    "print(student)\n",
    "\n",
    "##Accessing dictionary elements\n",
    "print(student['grade'])\n",
    "print(student['age'])\n",
    "print(student.get('name'))\n",
    "\n",
    "##Accessing dictionary elements using get method\n",
    "print(student.get('grade'))\n",
    "print(student.get('age'))\n",
    "print(student.get('name'))\n",
    "print(student.get('last_name')) #None\n",
    "print(student.get('last_name','Not Available')) #default value"
   ],
   "id": "fc822998260ac5f2",
   "outputs": [],
   "execution_count": null
  },
  {
   "metadata": {},
   "cell_type": "code",
   "source": [
    "##Modifying dictionary elements\n",
    "## Dictionary are mutable, so you can add, update or delete elements.\n",
    "print(student)\n",
    "student['age'] = 33 #updated value\n",
    "student['address'] = 'India' #adding a new key and value\n",
    "print(student)\n"
   ],
   "id": "4b7c51b8702774a4",
   "outputs": [],
   "execution_count": null
  },
  {
   "metadata": {},
   "cell_type": "code",
   "source": [
    "del student['grade'] #Delete key and value pair\n",
    "print(student)\n",
    "# student.pop('address')\n",
    "# print(student)"
   ],
   "id": "c08e91546ca17a76",
   "outputs": [],
   "execution_count": null
  },
  {
   "metadata": {},
   "cell_type": "code",
   "source": [
    "# Dictionary methods\n",
    "keys = student.keys()\n",
    "print(keys)\n",
    "values = student.values()\n",
    "print(values)\n",
    "\n",
    "items = student.items()\n",
    "print(items)\n"
   ],
   "id": "179c7dcbcc3d1940",
   "outputs": [],
   "execution_count": null
  },
  {
   "metadata": {},
   "cell_type": "code",
   "source": [
    "#shallow copy\n",
    "student_copy = student\n",
    "print(student_copy)\n",
    "print(student)"
   ],
   "id": "594378a3cba86d6a",
   "outputs": [],
   "execution_count": null
  },
  {
   "metadata": {},
   "cell_type": "code",
   "source": [
    "student['name'] = 'Anas Yar Khan'\n",
    "print(student)\n",
    "print(student_copy)"
   ],
   "id": "df15c0bc76161ac4",
   "outputs": [],
   "execution_count": null
  },
  {
   "metadata": {},
   "cell_type": "code",
   "source": [
    "shallow_copy_student = student.copy()\n",
    "print(shallow_copy_student)\n",
    "print(student)\n",
    "shallow_copy_student['grade'] = 'A'\n",
    "print(shallow_copy_student)\n",
    "print(student)"
   ],
   "id": "6b416799d63c5f54",
   "outputs": [],
   "execution_count": null
  },
  {
   "metadata": {},
   "cell_type": "code",
   "source": [
    "#Iterating over dictionary\n",
    "#We can use loops to iterate\n",
    "\n",
    "#iterating over keys\n",
    "print(\"Keys---------------->\")\n",
    "for i in student.keys():\n",
    "    print(i)\n",
    "\n",
    "#Iterating over values\n",
    "print(\"Values---------------->\")\n",
    "for value in student.values():\n",
    "    print(value)\n",
    "\n",
    "#Iterating over dictionary items\n",
    "print(\"Items---------------->\")\n",
    "for x,y in shallow_copy_student.items():\n",
    "    print(x + ' : ',y)\n"
   ],
   "id": "fba23e839189a770",
   "outputs": [],
   "execution_count": null
  },
  {
   "metadata": {
    "ExecuteTime": {
     "end_time": "2025-07-25T20:42:39.121504Z",
     "start_time": "2025-07-25T20:42:39.116008Z"
    }
   },
   "cell_type": "code",
   "source": [
    "#Nested Dictionaries\n",
    "students = {\n",
    "    'student1':{\n",
    "    'name':'Anas',\n",
    "    'age':23,\n",
    "    'grade':'A',\n",
    "    'address':'India'\n",
    "    },\n",
    "    'student2':{\n",
    "    'name':'Talib',\n",
    "    'age':32,\n",
    "    'grade':'B',\n",
    "    'address':'India'\n",
    "    },\n",
    "    'student3':{\n",
    "    'name':'Naajid',\n",
    "    'age':18,\n",
    "    'grade':'C',\n",
    "    'address':'Indonesia'\n",
    "    }\n",
    "}\n",
    "print(students)"
   ],
   "id": "9a4e36c163474b32",
   "outputs": [
    {
     "name": "stdout",
     "output_type": "stream",
     "text": [
      "{'student1': {'name': 'Anas', 'age': 23, 'grade': 'A', 'address': 'India'}, 'student2': {'name': 'Talib', 'age': 32, 'grade': 'B', 'address': 'India'}, 'student3': {'name': 'Naajid', 'age': 18, 'grade': 'C', 'address': 'Indonesia'}}\n"
     ]
    }
   ],
   "execution_count": 52
  },
  {
   "metadata": {
    "ExecuteTime": {
     "end_time": "2025-07-25T20:43:42.669429Z",
     "start_time": "2025-07-25T20:43:42.664299Z"
    }
   },
   "cell_type": "code",
   "source": [
    "#Accessing nested dictionary\n",
    "print(students['student3']['name'],students['student3']['age'])\n"
   ],
   "id": "7e93bae6f2c78876",
   "outputs": [
    {
     "name": "stdout",
     "output_type": "stream",
     "text": [
      "Naajid 18\n"
     ]
    }
   ],
   "execution_count": 58
  },
  {
   "metadata": {
    "ExecuteTime": {
     "end_time": "2025-07-25T20:45:09.578919Z",
     "start_time": "2025-07-25T20:45:09.571914Z"
    }
   },
   "cell_type": "code",
   "source": [
    "#Iterating over nested dictionaries\n",
    "\n",
    "for index,student in students.items():\n",
    "    for key,value in student.items():\n",
    "        print(f'{key}: {value}')"
   ],
   "id": "7bf1c97f23d8486d",
   "outputs": [
    {
     "name": "stdout",
     "output_type": "stream",
     "text": [
      "name: Anas\n",
      "age: 23\n",
      "grade: A\n",
      "address: India\n",
      "name: Talib\n",
      "age: 32\n",
      "grade: B\n",
      "address: India\n",
      "name: Naajid\n",
      "age: 18\n",
      "grade: C\n",
      "address: Indonesia\n"
     ]
    }
   ],
   "execution_count": 59
  },
  {
   "metadata": {
    "ExecuteTime": {
     "end_time": "2025-07-25T20:46:49.889124Z",
     "start_time": "2025-07-25T20:46:49.882349Z"
    }
   },
   "cell_type": "code",
   "source": [
    "#Dictionary Comprehension\n",
    "squares = {x:x**2 for x in range(1,6)}\n",
    "print(squares)"
   ],
   "id": "8300aa865ecfbf23",
   "outputs": [
    {
     "name": "stdout",
     "output_type": "stream",
     "text": [
      "{1: 1, 2: 4, 3: 9, 4: 16, 5: 25}\n"
     ]
    }
   ],
   "execution_count": 62
  },
  {
   "metadata": {
    "ExecuteTime": {
     "end_time": "2025-07-25T20:48:12.353944Z",
     "start_time": "2025-07-25T20:48:12.348136Z"
    }
   },
   "cell_type": "code",
   "source": [
    "#Condition dictionary comprehension\n",
    "events = {x:x**2 for x in range(1,51) if x%2==0}\n",
    "print(events)"
   ],
   "id": "dc070e58fb33bbe1",
   "outputs": [
    {
     "name": "stdout",
     "output_type": "stream",
     "text": [
      "{2: 4, 4: 16, 6: 36, 8: 64, 10: 100, 12: 144, 14: 196, 16: 256, 18: 324, 20: 400, 22: 484, 24: 576, 26: 676, 28: 784, 30: 900, 32: 1024, 34: 1156, 36: 1296, 38: 1444, 40: 1600, 42: 1764, 44: 1936, 46: 2116, 48: 2304, 50: 2500}\n"
     ]
    }
   ],
   "execution_count": 65
  },
  {
   "metadata": {
    "ExecuteTime": {
     "end_time": "2025-07-25T20:51:04.011148Z",
     "start_time": "2025-07-25T20:51:04.003129Z"
    }
   },
   "cell_type": "code",
   "source": [
    "#Practical examples\n",
    "#Use dictionary to count the frequency of elements in the list\n",
    "\n",
    "lst=[1,2,3,4,5,6,3,2,2,2,4,4,3,3,1,5,6,8,10]\n",
    "frequencies ={}\n",
    "for item in lst:\n",
    "    if item in frequencies:\n",
    "        frequencies[item] +=1\n",
    "    else:\n",
    "        frequencies[item] = 1\n",
    "\n",
    "print(frequencies)"
   ],
   "id": "87c7d5ec6c230e9b",
   "outputs": [
    {
     "name": "stdout",
     "output_type": "stream",
     "text": [
      "{1: 2, 2: 4, 3: 4, 4: 3, 5: 2, 6: 2, 8: 1, 10: 1}\n"
     ]
    }
   ],
   "execution_count": 67
  },
  {
   "metadata": {
    "ExecuteTime": {
     "end_time": "2025-07-25T20:53:13.009952Z",
     "start_time": "2025-07-25T20:53:13.000969Z"
    }
   },
   "cell_type": "code",
   "source": [
    "#Merge 2 dictionaries into 1\n",
    "dict1 ={'a':1,'b':2}\n",
    "dict2 ={'c':3,'d':4}\n",
    "\n",
    "merged_dicts = {**dict1, **dict2} #using keywords arguments\n",
    "print(merged_dicts)"
   ],
   "id": "9a9d051606d93105",
   "outputs": [
    {
     "name": "stdout",
     "output_type": "stream",
     "text": [
      "{'a': 1, 'b': 2, 'c': 3, 'd': 4}\n"
     ]
    }
   ],
   "execution_count": 68
  }
 ],
 "metadata": {
  "kernelspec": {
   "display_name": "Python 3",
   "language": "python",
   "name": "python3"
  },
  "language_info": {
   "codemirror_mode": {
    "name": "ipython",
    "version": 2
   },
   "file_extension": ".py",
   "mimetype": "text/x-python",
   "name": "python",
   "nbconvert_exporter": "python",
   "pygments_lexer": "ipython2",
   "version": "2.7.6"
  }
 },
 "nbformat": 4,
 "nbformat_minor": 5
}
