{
 "cells": [
  {
   "cell_type": "markdown",
   "metadata": {},
   "source": [
    "# Lesson 1.2: Python Basics\n",
    "## Topics Covered:\n",
    "- Syntax and Semantics\n",
    "- Variables and Data Types\n",
    "- Basic Operators (Arithmetic, Comparison, Logical)\n"
   ]
  },
  {
   "cell_type": "markdown",
   "metadata": {},
   "source": [
    "## 1. Syntax and Semantics\n",
    "\n",
    "**Question 1:** Write a Python program to print \"Hello, World!\"."
   ]
  },
  {
   "cell_type": "code",
   "metadata": {
    "ExecuteTime": {
     "end_time": "2025-07-11T22:53:47.134882Z",
     "start_time": "2025-07-11T22:53:47.129789Z"
    }
   },
   "source": [
    "from pickletools import string1\n",
    "\n",
    "# Your code here\n",
    "print(\"Hello, World!\")"
   ],
   "outputs": [
    {
     "name": "stdout",
     "output_type": "stream",
     "text": [
      "Hello, World!\n"
     ]
    }
   ],
   "execution_count": 22
  },
  {
   "cell_type": "markdown",
   "metadata": {},
   "source": [
    "**Question 2:** Write a Python program that takes a user input and prints it."
   ]
  },
  {
   "cell_type": "code",
   "metadata": {
    "ExecuteTime": {
     "end_time": "2025-07-11T22:53:52.001884Z",
     "start_time": "2025-07-11T22:53:47.166661Z"
    }
   },
   "source": [
    "# Your code here\n",
    "name = input(\"What is your name?\")\n",
    "print(f\"Hi {name}\")"
   ],
   "outputs": [
    {
     "name": "stdout",
     "output_type": "stream",
     "text": [
      "Hi Anas\n"
     ]
    }
   ],
   "execution_count": 23
  },
  {
   "cell_type": "markdown",
   "metadata": {},
   "source": [
    "**Question 3:** Write a Python program to check if a number is positive, negative, or zero."
   ]
  },
  {
   "cell_type": "code",
   "metadata": {
    "ExecuteTime": {
     "end_time": "2025-07-11T22:53:54.135576Z",
     "start_time": "2025-07-11T22:53:52.059424Z"
    }
   },
   "source": [
    "# Your code here\n",
    "num = int(input(\"Enter a number\"))\n",
    "if num == 0:\n",
    "    print(\"You entered a zero.\")\n",
    "elif num > 0:\n",
    "    print(\"You entered a positive number.\")\n",
    "else:\n",
    "    print(\"You entered a negative number.\")"
   ],
   "outputs": [
    {
     "name": "stdout",
     "output_type": "stream",
     "text": [
      "You entered a positive number.\n"
     ]
    }
   ],
   "execution_count": 24
  },
  {
   "cell_type": "markdown",
   "metadata": {},
   "source": [
    "**Question 4:** Write a Python program to find the largest of three numbers."
   ]
  },
  {
   "cell_type": "code",
   "metadata": {
    "ExecuteTime": {
     "end_time": "2025-07-15T21:01:45.433196Z",
     "start_time": "2025-07-15T21:01:37.763590Z"
    }
   },
   "source": [
    "# Your code here\n",
    "# i=0\n",
    "# numList=[]\n",
    "# while i < 3:\n",
    "#     num = int(input(f\"Enter {i+1} number\"))\n",
    "#     numList.append(num)\n",
    "#     i+=1\n",
    "# maxNum = numList[0]\n",
    "# for i in numList:\n",
    "#     if i > maxNum:\n",
    "#         maxNum = i\n",
    "#\n",
    "# print(maxNum)\n",
    "# print(max(numList))\n",
    "\n",
    "\n",
    "\n",
    "#solution 2\n",
    "num1=float(input('Enter first number'))\n",
    "num2=float(input('Enter second number'))\n",
    "num3=float(input('Enter third number'))\n",
    "\n",
    "if num1 >= num2 and num1 >= num3:\n",
    "    largest = num1\n",
    "elif num2 >= num1 and num2 >= num3:\n",
    "    largest = num2\n",
    "else:\n",
    "    largest = num3\n",
    "\n",
    "print(f'The largest number is: {largest}')\n"
   ],
   "outputs": [
    {
     "name": "stdout",
     "output_type": "stream",
     "text": [
      "The largest number is: 12.0\n"
     ]
    }
   ],
   "execution_count": 43
  },
  {
   "cell_type": "markdown",
   "metadata": {},
   "source": [
    "**Question 5:** Write a Python program to calculate the factorial of a number."
   ]
  },
  {
   "cell_type": "code",
   "metadata": {
    "ExecuteTime": {
     "end_time": "2025-07-11T22:54:13.504960Z",
     "start_time": "2025-07-11T22:54:06.534186Z"
    }
   },
   "source": [
    "# Your code here\n",
    "def fact(n):\n",
    "    if n == 0:\n",
    "        return 1\n",
    "    else:\n",
    "        return n * fact(n-1)\n",
    "\n",
    "numFact = int(input(f\"Enter a number\"))\n",
    "factorial = fact(numFact)\n",
    "print(factorial)"
   ],
   "outputs": [
    {
     "name": "stdout",
     "output_type": "stream",
     "text": [
      "15511210043330985984000000\n"
     ]
    }
   ],
   "execution_count": 26
  },
  {
   "cell_type": "markdown",
   "metadata": {},
   "source": [
    "## 2. Variables and Data Types\n",
    "\n",
    "**Question 6:** Create variables of different data types: integer, float, string, and boolean. Print their values and types."
   ]
  },
  {
   "cell_type": "code",
   "metadata": {
    "ExecuteTime": {
     "end_time": "2025-07-11T22:54:13.561721Z",
     "start_time": "2025-07-11T22:54:13.555868Z"
    }
   },
   "source": [
    "# Your code here\n",
    "intVar = 12\n",
    "strVar = 'Anas'\n",
    "floatVar = 12.5\n",
    "boolVar = True\n",
    "\n",
    "print(intVar)\n",
    "print(strVar)\n",
    "print(floatVar)\n",
    "print(boolVar)\n",
    "\n",
    "print(type(intVar))\n",
    "print(type(strVar))\n",
    "print(type(floatVar))\n",
    "print(type(boolVar))"
   ],
   "outputs": [
    {
     "name": "stdout",
     "output_type": "stream",
     "text": [
      "12\n",
      "Anas\n",
      "12.5\n",
      "True\n",
      "<class 'int'>\n",
      "<class 'str'>\n",
      "<class 'float'>\n",
      "<class 'bool'>\n"
     ]
    }
   ],
   "execution_count": 27
  },
  {
   "cell_type": "markdown",
   "metadata": {},
   "source": [
    "**Question 7:** Write a Python program to swap the values of two variables."
   ]
  },
  {
   "cell_type": "code",
   "metadata": {
    "ExecuteTime": {
     "end_time": "2025-07-11T22:54:13.604334Z",
     "start_time": "2025-07-11T22:54:13.598179Z"
    }
   },
   "source": [
    "# Your code here\n",
    "a=3\n",
    "b=4\n",
    "print(a,b)\n",
    "a,b = b,a\n",
    "print('after swapped',a,b)"
   ],
   "outputs": [
    {
     "name": "stdout",
     "output_type": "stream",
     "text": [
      "3 4\n",
      "after swapped 4 3\n"
     ]
    }
   ],
   "execution_count": 28
  },
  {
   "cell_type": "markdown",
   "metadata": {},
   "source": [
    "**Question 8:** Write a Python program to convert Celsius to Fahrenheit."
   ]
  },
  {
   "cell_type": "code",
   "metadata": {
    "ExecuteTime": {
     "end_time": "2025-07-11T22:54:13.667730Z",
     "start_time": "2025-07-11T22:54:13.659979Z"
    }
   },
   "source": [
    "# Your code here\n",
    "temp_in_celsius=100\n",
    "temp_in_fahrenheit = (temp_in_celsius * 9/5) + 35\n",
    "print(temp_in_fahrenheit)"
   ],
   "outputs": [
    {
     "name": "stdout",
     "output_type": "stream",
     "text": [
      "215.0\n"
     ]
    }
   ],
   "execution_count": 29
  },
  {
   "cell_type": "markdown",
   "metadata": {},
   "source": [
    "**Question 9:** Write a Python program to concatenate two strings."
   ]
  },
  {
   "cell_type": "code",
   "metadata": {
    "ExecuteTime": {
     "end_time": "2025-07-11T22:54:13.730465Z",
     "start_time": "2025-07-11T22:54:13.725305Z"
    }
   },
   "source": [
    "# Your code here\n",
    "first_name = 'Levos'\n",
    "last_name = 'tiwari'\n",
    "fullname = first_name + ' ' + last_name + ' '\n",
    "print(fullname)"
   ],
   "outputs": [
    {
     "name": "stdout",
     "output_type": "stream",
     "text": [
      "Levos tiwari \n"
     ]
    }
   ],
   "execution_count": 30
  },
  {
   "cell_type": "markdown",
   "metadata": {},
   "source": [
    "**Question 10:** Write a Python program to check if a variable is of a specific data type."
   ]
  },
  {
   "cell_type": "code",
   "metadata": {
    "ExecuteTime": {
     "end_time": "2025-07-15T21:03:41.729394Z",
     "start_time": "2025-07-15T21:03:41.722663Z"
    }
   },
   "source": [
    "# Your code here\n",
    "var = 10.5\n",
    "if isinstance(var, float):\n",
    "    print(f\"{var} is a float\")\n",
    "else:\n",
    "    print(f\"{var} is not a float\")\n"
   ],
   "outputs": [
    {
     "name": "stdout",
     "output_type": "stream",
     "text": [
      "10.5 is a float\n"
     ]
    }
   ],
   "execution_count": 44
  },
  {
   "cell_type": "markdown",
   "metadata": {},
   "source": [
    "## 3. Basic Operators (Arithmetic, Comparison, Logical)\n",
    "\n",
    "**Question 11:** Write a Python program to perform arithmetic operations: addition, subtraction, multiplication, and division."
   ]
  },
  {
   "cell_type": "code",
   "metadata": {
    "ExecuteTime": {
     "end_time": "2025-07-11T22:55:52.941955Z",
     "start_time": "2025-07-11T22:55:52.935815Z"
    }
   },
   "source": [
    "# Your code here\n",
    "a=5\n",
    "b=3\n",
    "print(a+b)\n",
    "print(a*b)\n",
    "print(a-b)\n",
    "print(a/b)\n"
   ],
   "outputs": [
    {
     "name": "stdout",
     "output_type": "stream",
     "text": [
      "8\n",
      "15\n",
      "2\n",
      "1.6666666666666667\n"
     ]
    }
   ],
   "execution_count": 42
  },
  {
   "cell_type": "markdown",
   "metadata": {},
   "source": [
    "**Question 12:** Write a Python program to demonstrate comparison operators: equal to, not equal to, greater than, less than."
   ]
  },
  {
   "cell_type": "code",
   "metadata": {
    "ExecuteTime": {
     "end_time": "2025-07-11T22:54:13.872357Z",
     "start_time": "2025-07-11T22:54:13.867200Z"
    }
   },
   "source": [
    "# Your code here\n",
    "a=10\n",
    "b=3\n",
    "\n",
    "print(a>b)\n",
    "print(a<b)\n",
    "print(a==b)\n",
    "print(a!=b)"
   ],
   "outputs": [
    {
     "name": "stdout",
     "output_type": "stream",
     "text": [
      "True\n",
      "False\n",
      "False\n",
      "True\n"
     ]
    }
   ],
   "execution_count": 33
  },
  {
   "cell_type": "markdown",
   "metadata": {},
   "source": [
    "**Question 13:** Write a Python program to demonstrate logical operators: and, or, not."
   ]
  },
  {
   "cell_type": "code",
   "metadata": {
    "ExecuteTime": {
     "end_time": "2025-07-11T22:54:13.918765Z",
     "start_time": "2025-07-11T22:54:13.910607Z"
    }
   },
   "source": [
    "# Your code here\n",
    "a=False\n",
    "b=True\n",
    "if a and b:\n",
    "    print('a and b both are true, both are false')\n",
    "if a or b:\n",
    "    print('a or b both are true or any one of them are true')\n",
    "if not a:\n",
    "    print(a)"
   ],
   "outputs": [
    {
     "name": "stdout",
     "output_type": "stream",
     "text": [
      "a or b both are true or any one of them are true\n",
      "False\n"
     ]
    }
   ],
   "execution_count": 34
  },
  {
   "cell_type": "markdown",
   "metadata": {},
   "source": [
    "**Question 14:** Write a Python program to calculate the square of a number."
   ]
  },
  {
   "cell_type": "code",
   "metadata": {
    "ExecuteTime": {
     "end_time": "2025-07-11T22:54:13.963431Z",
     "start_time": "2025-07-11T22:54:13.958476Z"
    }
   },
   "source": [
    "# Your code here\n",
    "n=10\n",
    "print(n**2)"
   ],
   "outputs": [
    {
     "name": "stdout",
     "output_type": "stream",
     "text": [
      "100\n"
     ]
    }
   ],
   "execution_count": 35
  },
  {
   "cell_type": "markdown",
   "metadata": {},
   "source": [
    "**Question 15:** Write a Python program to check if a number is even or odd."
   ]
  },
  {
   "cell_type": "code",
   "metadata": {
    "ExecuteTime": {
     "end_time": "2025-07-11T22:54:14.025550Z",
     "start_time": "2025-07-11T22:54:14.019432Z"
    }
   },
   "source": [
    "# Your code here\n",
    "n=1\n",
    "print('number is even') if n%2==0 else print('number is odd')"
   ],
   "outputs": [
    {
     "name": "stdout",
     "output_type": "stream",
     "text": [
      "number is odd\n"
     ]
    }
   ],
   "execution_count": 36
  },
  {
   "cell_type": "markdown",
   "metadata": {},
   "source": [
    "**Question 16:** Write a Python program to find the sum of the first n natural numbers."
   ]
  },
  {
   "cell_type": "code",
   "metadata": {
    "ExecuteTime": {
     "end_time": "2025-07-11T22:54:22.950647Z",
     "start_time": "2025-07-11T22:54:14.073134Z"
    }
   },
   "source": [
    "# Your code here\n",
    "n=int(input(\"Enter the range of natural numbers\"))\n",
    "sum = 0\n",
    "for i in range(1,n+1):\n",
    "    sum += i\n",
    "print(sum)"
   ],
   "outputs": [
    {
     "name": "stdout",
     "output_type": "stream",
     "text": [
      "210\n"
     ]
    }
   ],
   "execution_count": 37
  },
  {
   "cell_type": "markdown",
   "metadata": {},
   "source": [
    "**Question 17:** Write a Python program to check if a year is a leap year."
   ]
  },
  {
   "cell_type": "code",
   "metadata": {
    "ExecuteTime": {
     "end_time": "2025-07-15T21:06:13.781767Z",
     "start_time": "2025-07-15T21:06:09.789457Z"
    }
   },
   "source": [
    "# Your code here\n",
    "year = int(input(\"Enter a year: \"))\n",
    "if (year % 4 == 0 and year % 100 != 0) or (year % 400 == 0):\n",
    "    print(f\"{year} is a leap year.\")\n",
    "else:\n",
    "    print(f\"{year} is not a leap year.\")"
   ],
   "outputs": [
    {
     "name": "stdout",
     "output_type": "stream",
     "text": [
      "2024 is a leap year.\n"
     ]
    }
   ],
   "execution_count": 45
  },
  {
   "cell_type": "markdown",
   "metadata": {},
   "source": [
    "**Question 18:** Write a Python program to reverse a string."
   ]
  },
  {
   "cell_type": "code",
   "metadata": {
    "ExecuteTime": {
     "end_time": "2025-07-11T22:54:28.152407Z",
     "start_time": "2025-07-11T22:54:28.144907Z"
    }
   },
   "source": [
    "# Your code here\n",
    "string1 = \"Malayam\"\n",
    "reversed_string = string1[::-1]\n",
    "print(\"reversed_string\", reversed_string)"
   ],
   "outputs": [
    {
     "name": "stdout",
     "output_type": "stream",
     "text": [
      "reversed_string mayalaM\n"
     ]
    }
   ],
   "execution_count": 39
  },
  {
   "cell_type": "markdown",
   "metadata": {},
   "source": [
    "**Question 19:** Write a Python program to check if a string is a palindrome."
   ]
  },
  {
   "cell_type": "code",
   "metadata": {
    "ExecuteTime": {
     "end_time": "2025-07-11T22:54:28.199270Z",
     "start_time": "2025-07-11T22:54:28.190286Z"
    }
   },
   "source": [
    "# Your code here\n",
    "string1 = 'Anas'\n",
    "reversed_string = string1[::-1]\n",
    "\n",
    "if string1.lower() == reversed_string.lower():\n",
    "    print(\"String is palindrome\")\n",
    "else:\n",
    "    print(\"String is not palindrome\")\n",
    "output=\"\"\n",
    "i=len(string1)\n",
    "while i > 0:\n",
    "    output += string1[i-1]\n",
    "    i-=1\n",
    "\n",
    "if string1.lower() == output.lower():\n",
    "    print(\"String is palindrome\")\n",
    "else:\n",
    "    print(\"String is not palindrome\")\n"
   ],
   "outputs": [
    {
     "name": "stdout",
     "output_type": "stream",
     "text": [
      "String is not palindrome\n",
      "String is not palindrome\n"
     ]
    }
   ],
   "execution_count": 40
  },
  {
   "cell_type": "markdown",
   "metadata": {},
   "source": [
    "**Question 20:** Write a Python program to sort a list of numbers in ascending order."
   ]
  },
  {
   "cell_type": "code",
   "metadata": {
    "ExecuteTime": {
     "end_time": "2025-07-11T22:54:28.253545Z",
     "start_time": "2025-07-11T22:54:28.244329Z"
    }
   },
   "source": [
    "# Your code here\n",
    "originalList = [22,45,4,3,1,6,7,2,12,17,92]\n",
    "print(originalList)\n",
    "for i in range(0,len(originalList)-1):\n",
    "    for j in  range(i+1, len(originalList)):\n",
    "        if originalList[i] > originalList[j]:\n",
    "            originalList[j], originalList[i] = originalList[i], originalList[j]\n",
    "\n",
    "\n",
    "print(originalList)\n"
   ],
   "outputs": [
    {
     "name": "stdout",
     "output_type": "stream",
     "text": [
      "[22, 45, 4, 3, 1, 6, 7, 2, 12, 17, 92]\n",
      "[1, 2, 3, 4, 6, 7, 12, 17, 22, 45, 92]\n"
     ]
    }
   ],
   "execution_count": 41
  }
 ],
 "metadata": {
  "kernelspec": {
   "display_name": "Python 3",
   "language": "python",
   "name": "python3"
  },
  "language_info": {
   "codemirror_mode": {
    "name": "ipython",
    "version": 3
   },
   "file_extension": ".py",
   "mimetype": "text/x-python",
   "name": "python",
   "nbconvert_exporter": "python",
   "pygments_lexer": "ipython3",
   "version": "3.8.5"
  }
 },
 "nbformat": 4,
 "nbformat_minor": 4
}
