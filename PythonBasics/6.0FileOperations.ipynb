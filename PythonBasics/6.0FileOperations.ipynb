{
 "cells": [
  {
   "metadata": {},
   "cell_type": "markdown",
   "source": [
    "### File Operation - Read and Write Files\n",
    "#### File handling is a crucial part of any programming language. Python provides built-in functions and methods to read from and write to files, both text and binary. This lesson will cover the basics of file handling, including reading and writing text files and binary files."
   ],
   "id": "2f0636046f8bf45c"
  },
  {
   "cell_type": "code",
   "id": "initial_id",
   "metadata": {
    "collapsed": true,
    "ExecuteTime": {
     "end_time": "2025-07-29T21:33:08.145622Z",
     "start_time": "2025-07-29T21:33:08.138150Z"
    }
   },
   "source": [
    "#### Read a while file\n",
    "\n",
    "with open('source.txt','r') as f:\n",
    "    content = f.read()\n",
    "    print(content)"
   ],
   "outputs": [
    {
     "name": "stdout",
     "output_type": "stream",
     "text": [
      "Hello How are you?\n",
      "I am fine\n",
      "Welcome to the course\n"
     ]
    }
   ],
   "execution_count": 2
  },
  {
   "metadata": {
    "ExecuteTime": {
     "end_time": "2025-07-29T21:39:52.275400Z",
     "start_time": "2025-07-29T21:39:52.269287Z"
    }
   },
   "cell_type": "code",
   "source": [
    "#Read a file line by line\n",
    "with open('source.txt','r') as f:\n",
    "    for line in f:\n",
    "        print(line.strip())"
   ],
   "id": "1e67e2d28ff2322b",
   "outputs": [
    {
     "name": "stdout",
     "output_type": "stream",
     "text": [
      "Hello How are you?\n",
      "I am fine\n",
      "Welcome to the course\n"
     ]
    }
   ],
   "execution_count": 5
  },
  {
   "metadata": {
    "ExecuteTime": {
     "end_time": "2025-07-29T21:41:00.917401Z",
     "start_time": "2025-07-29T21:41:00.912199Z"
    }
   },
   "cell_type": "code",
   "source": [
    "#Writing a file (overwriting)\n",
    "with open('source.txt','w') as f:\n",
    "    f.write('Hello World!\\n')\n",
    "    f.write('This is a new line')"
   ],
   "id": "3f5be6404414587",
   "outputs": [],
   "execution_count": 6
  },
  {
   "metadata": {
    "ExecuteTime": {
     "end_time": "2025-07-29T21:42:03.190143Z",
     "start_time": "2025-07-29T21:42:03.182886Z"
    }
   },
   "cell_type": "code",
   "source": [
    "#Writing a file(without overwriting)\n",
    "with open('source.txt','a') as f:\n",
    "    f.write('\\nAppend operation taking place')"
   ],
   "id": "99296ac3044370e2",
   "outputs": [],
   "execution_count": 7
  },
  {
   "metadata": {
    "ExecuteTime": {
     "end_time": "2025-07-29T21:44:27.326791Z",
     "start_time": "2025-07-29T21:44:27.321148Z"
    }
   },
   "cell_type": "code",
   "source": [
    "#Write a list of lines to a file\n",
    "lines = ['\\nFirstLine\\n','SecondLine\\n','ThirdLine\\n']\n",
    "with open('source.txt','a') as f:\n",
    "    # for line in lines:\n",
    "    #     f.write(line)\n",
    "    f.writelines(lines)"
   ],
   "id": "410fb50ad87d4491",
   "outputs": [],
   "execution_count": 10
  },
  {
   "metadata": {
    "ExecuteTime": {
     "end_time": "2025-07-29T22:07:07.679790Z",
     "start_time": "2025-07-29T22:07:07.643972Z"
    }
   },
   "cell_type": "code",
   "source": [
    "#Binary files\n",
    "\n",
    "#Writing to a binary file\n",
    "data = b'\\x00\\x01\\x02\\x03\\x04'\n",
    "with open('example.bin','wb') as f:\n",
    "    f.write(data)"
   ],
   "id": "e3285194002473a3",
   "outputs": [],
   "execution_count": 13
  },
  {
   "metadata": {
    "ExecuteTime": {
     "end_time": "2025-07-29T22:07:01.731583Z",
     "start_time": "2025-07-29T22:07:01.577082Z"
    }
   },
   "cell_type": "code",
   "source": [
    "#Reading a binary file\n",
    "with open('example.bin') as f:\n",
    "    content = f.read()\n",
    "    print(content)"
   ],
   "id": "65be009b41d99126",
   "outputs": [
    {
     "name": "stdout",
     "output_type": "stream",
     "text": [
      "\u0000\u0001\u0002\u0003\u0004\n"
     ]
    }
   ],
   "execution_count": 12
  },
  {
   "metadata": {
    "ExecuteTime": {
     "end_time": "2025-07-29T23:05:10.185531Z",
     "start_time": "2025-07-29T23:05:10.179614Z"
    }
   },
   "cell_type": "code",
   "source": [
    "#Read the content from source file and write the content to destination file\n",
    "with open('source.txt','r') as f:\n",
    "    content = f.read()\n",
    "\n",
    "with open('destination.txt','w')as f:\n",
    "    f.write(content)"
   ],
   "id": "ff3673f8312de18b",
   "outputs": [],
   "execution_count": 2
  },
  {
   "metadata": {
    "ExecuteTime": {
     "end_time": "2025-07-29T23:09:03.782258Z",
     "start_time": "2025-07-29T23:09:03.773370Z"
    }
   },
   "cell_type": "code",
   "source": [
    "#Read a text file and count the number of lines,words and characters\n",
    "with open('source.txt','r') as f:\n",
    "    content = f.readlines()\n",
    "    lines = len(content)\n",
    "    words_count = sum(len(word.split()) for word in content)\n",
    "    char_count = sum(len(line) for line in content)\n",
    "\n",
    "print(lines,words_count,char_count)\n"
   ],
   "id": "8cadfce8daa2d891",
   "outputs": [
    {
     "name": "stdout",
     "output_type": "stream",
     "text": [
      "6 14 93\n"
     ]
    }
   ],
   "execution_count": 3
  },
  {
   "metadata": {
    "ExecuteTime": {
     "end_time": "2025-07-29T23:12:22.711586Z",
     "start_time": "2025-07-29T23:12:22.701846Z"
    }
   },
   "cell_type": "code",
   "source": [
    "#Writing and then reading the file\n",
    "\n",
    "with open('example.txt','w+') as f:\n",
    "    f.write('Hello World!\\n')\n",
    "    f.write('This is a new line')\n",
    "\n",
    "    #Move the file cursor to the beginning\n",
    "    f.seek(0)\n",
    "\n",
    "    #Read the content of the file\n",
    "    content = f.read()\n",
    "    print(content)"
   ],
   "id": "a916502112767aa5",
   "outputs": [
    {
     "name": "stdout",
     "output_type": "stream",
     "text": [
      "Hello World!\n",
      "This is a new line\n"
     ]
    }
   ],
   "execution_count": 5
  },
  {
   "metadata": {},
   "cell_type": "code",
   "outputs": [],
   "execution_count": null,
   "source": "",
   "id": "87232541cefdec3d"
  }
 ],
 "metadata": {
  "kernelspec": {
   "display_name": "Python 3",
   "language": "python",
   "name": "python3"
  },
  "language_info": {
   "codemirror_mode": {
    "name": "ipython",
    "version": 2
   },
   "file_extension": ".py",
   "mimetype": "text/x-python",
   "name": "python",
   "nbconvert_exporter": "python",
   "pygments_lexer": "ipython2",
   "version": "2.7.6"
  }
 },
 "nbformat": 4,
 "nbformat_minor": 5
}
