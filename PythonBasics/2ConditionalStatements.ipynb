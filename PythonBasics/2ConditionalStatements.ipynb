{
 "cells": [
  {
   "cell_type": "code",
   "id": "initial_id",
   "metadata": {
    "collapsed": true,
    "ExecuteTime": {
     "end_time": "2025-07-15T21:12:24.864325Z",
     "start_time": "2025-07-15T21:12:24.856714Z"
    }
   },
   "source": [
    "#if statement and if-else statement\n",
    "age=20\n",
    "if age>=18:\n",
    "    print('you are eligible for the driving license.')\n",
    "else:\n",
    "    print('you are not eligible for the driving license.')\n"
   ],
   "outputs": [
    {
     "name": "stdout",
     "output_type": "stream",
     "text": [
      "you are eligible for the driving license.\n"
     ]
    }
   ],
   "execution_count": 1
  },
  {
   "metadata": {
    "ExecuteTime": {
     "end_time": "2025-07-15T21:15:55.567872Z",
     "start_time": "2025-07-15T21:15:55.562651Z"
    }
   },
   "cell_type": "code",
   "source": [
    "#if-elif-else statement\n",
    "#The elif  statement allows you to check multiple conditions. It stands for 'else-if'\n",
    "\n",
    "age=17\n",
    "if age<13:\n",
    "    print('you are a child')\n",
    "elif age<18:\n",
    "    print('you are a teenager')\n",
    "else:\n",
    "    print('You are an adult')"
   ],
   "id": "4d54949b0a4f61e2",
   "outputs": [
    {
     "name": "stdout",
     "output_type": "stream",
     "text": [
      "you are a teenager\n"
     ]
    }
   ],
   "execution_count": 3
  },
  {
   "metadata": {
    "ExecuteTime": {
     "end_time": "2025-07-15T21:18:54.780155Z",
     "start_time": "2025-07-15T21:18:49.968214Z"
    }
   },
   "cell_type": "code",
   "source": [
    "#Nested conditional statements\n",
    "#Number - even, odd, negative\n",
    "num = int(input('Enter a number:'))\n",
    "if num>0:\n",
    "    if num%2==0:\n",
    "        print('It is an even number')\n",
    "    else:\n",
    "        print('It is an odd number')\n",
    "elif num == 0:\n",
    "    print('Please enter a number greater than 0')\n",
    "else:\n",
    "    print('It is a negative number')"
   ],
   "id": "e57559d1a5f4b8a0",
   "outputs": [
    {
     "name": "stdout",
     "output_type": "stream",
     "text": [
      "It is an odd number\n"
     ]
    }
   ],
   "execution_count": 8
  },
  {
   "metadata": {
    "ExecuteTime": {
     "end_time": "2025-07-15T21:21:25.792266Z",
     "start_time": "2025-07-15T21:21:21.395453Z"
    }
   },
   "cell_type": "code",
   "source": [
    "#Practical Examples\n",
    "#Determine if a year is a leap year or not using nested loop\n",
    "year = int(input('Enter a year:'))\n",
    "if year%4==0:\n",
    "    if year%100!=0 or year%400==0:\n",
    "        print('It is a leap year')\n",
    "    else:\n",
    "        print('It is not a leap year')\n",
    "else:\n",
    "    print('It is not a leap year')"
   ],
   "id": "df2a01be6c78493",
   "outputs": [
    {
     "name": "stdout",
     "output_type": "stream",
     "text": [
      "It is a leap year\n"
     ]
    }
   ],
   "execution_count": 11
  },
  {
   "metadata": {
    "ExecuteTime": {
     "end_time": "2025-07-15T21:32:02.108660Z",
     "start_time": "2025-07-15T21:31:49.658877Z"
    }
   },
   "cell_type": "code",
   "source": [
    "#Assignment\n",
    "#Simple Calculator\n",
    "num1 = int(input('Enter first number:'))\n",
    "num2 = int(input('Enter second number:'))\n",
    "operator = input('Enter any of the following to perform operation : +, -, *, /')\n",
    "\n",
    "if operator == '+':\n",
    "    result = num1 + num2\n",
    "elif operator == '-':\n",
    "    result = num1 - num2\n",
    "elif operator == '*':\n",
    "    result= num1 * num2\n",
    "elif operator == '/':\n",
    "    if num2 !=0:\n",
    "        result = num1 / num2\n",
    "    else:\n",
    "        print('Error! Cannot divide by zero')\n",
    "else:\n",
    "    print('Error! Operator not recognized')\n",
    "\n",
    "print(result)"
   ],
   "id": "de7f8b3ffccc8523",
   "outputs": [
    {
     "name": "stdout",
     "output_type": "stream",
     "text": [
      "5.0\n"
     ]
    }
   ],
   "execution_count": 12
  }
 ],
 "metadata": {
  "kernelspec": {
   "display_name": "Python 3",
   "language": "python",
   "name": "python3"
  },
  "language_info": {
   "codemirror_mode": {
    "name": "ipython",
    "version": 2
   },
   "file_extension": ".py",
   "mimetype": "text/x-python",
   "name": "python",
   "nbconvert_exporter": "python",
   "pygments_lexer": "ipython2",
   "version": "2.7.6"
  }
 },
 "nbformat": 4,
 "nbformat_minor": 5
}
