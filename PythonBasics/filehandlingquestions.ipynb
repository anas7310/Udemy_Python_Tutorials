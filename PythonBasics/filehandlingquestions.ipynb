{
 "cells": [
  {
   "cell_type": "markdown",
   "metadata": {},
   "source": [
    "# Module: File Handling Assignments\n",
    "## Lesson: File Handling and Operations\n",
    "### Assignment 1: Reading a File\n",
    "\n",
    "Write a function that reads the contents of a file named `sample.txt` and prints each line.\n",
    "\n",
    "### Assignment 2: Writing to a File\n",
    "\n",
    "Write a function that writes a list of strings to a file named `output.txt`, with each string on a new line.\n",
    "\n",
    "### Assignment 3: Copying a File\n",
    "\n",
    "Write a function that copies the contents of a file named `source.txt` to a new file named `destination.txt`.\n",
    "\n",
    "### Assignment 4: Appending to a File\n",
    "\n",
    "Write a function that appends a given string to the end of a file named `log.txt`.\n",
    "\n",
    "### Assignment 5: Counting Words in a File\n",
    "\n",
    "Write a function that reads the contents of a file named `document.txt` and returns the number of words in the file.\n",
    "\n",
    "### Assignment 6: Finding and Replacing Text\n",
    "\n",
    "Write a function that finds and replaces all occurrences of a given word in a file named `data.txt` with another word.\n",
    "\n",
    "### Assignment 7: Reading a File in Reverse\n",
    "\n",
    "Write a function that reads the contents of a file named `reverse.txt` and prints each line in reverse order.\n",
    "\n",
    "### Assignment 8: Counting Lines, Words, and Characters\n",
    "\n",
    "Write a function that reads the contents of a file named `stats.txt` and returns the number of lines, words, and characters in the file.\n",
    "\n",
    "### Assignment 9: Merging Multiple Files\n",
    "\n",
    "Write a function that merges the contents of multiple files into a single file named `merged.txt`.\n",
    "\n",
    "### Assignment 10: Splitting a Large File\n",
    "\n",
    "Write a function that splits a large file named `large.txt` into smaller files of 100 lines each.\n",
    "\n",
    "### Assignment 11: Creating a Log File\n",
    "\n",
    "Write a function that creates a log file named `activity.log` and writes log messages with timestamps.\n",
    "\n",
    "### Assignment 12: Binary File Operations\n",
    "\n",
    "Write a function that reads a binary file named `image.bin` and writes its contents to another binary file named `copy_image.bin`.\n",
    "\n",
    "### Assignment 13: CSV File Operations\n",
    "\n",
    "Write a function that reads a CSV file named `data.csv` and prints its contents as a list of dictionaries.\n",
    "\n",
    "### Assignment 14: JSON File Operations\n",
    "\n",
    "Write a function that reads a JSON file named `data.json` and prints its contents as a Python dictionary.\n",
    "\n",
    "### Assignment 15: File Permission Handling\n",
    "\n",
    "Write a function that attempts to read a file named `protected.txt` and handles any permission errors gracefully by printing an error message."
   ],
   "id": "a4b2e303ac9ce22f"
  },
  {
   "metadata": {
    "ExecuteTime": {
     "end_time": "2025-07-30T00:15:10.842154Z",
     "start_time": "2025-07-30T00:15:10.735801Z"
    }
   },
   "cell_type": "code",
   "source": [
    "#Solution 1\n",
    "with open('example.txt','r') as file:\n",
    "    for line in file:\n",
    "        print(line.strip())"
   ],
   "id": "6e32c6a79622afc2",
   "outputs": [
    {
     "name": "stdout",
     "output_type": "stream",
     "text": [
      "Hello World!\n",
      "This is a new line\n"
     ]
    }
   ],
   "execution_count": 4
  },
  {
   "metadata": {
    "ExecuteTime": {
     "end_time": "2025-07-30T00:17:22.126414Z",
     "start_time": "2025-07-30T00:17:21.743699Z"
    }
   },
   "cell_type": "code",
   "source": [
    "#Solution 2\n",
    "def write_file(list_of_words):\n",
    "    with open('sample.txt','w') as f:\n",
    "        for lines in list_of_words:\n",
    "            f.write(lines +'\\n')\n",
    "\n",
    "lst=['Hello','World!','This is a sample log','How are you?']\n",
    "write_file(lst)"
   ],
   "id": "9a5da070f60db3c8",
   "outputs": [],
   "execution_count": 5
  },
  {
   "metadata": {
    "ExecuteTime": {
     "end_time": "2025-07-30T00:19:32.482566Z",
     "start_time": "2025-07-30T00:19:32.475566Z"
    }
   },
   "cell_type": "code",
   "source": [
    "#Solution 3\n",
    "try:\n",
    "    with open('source.txt','r') as src:\n",
    "        with open('destination.txt','w') as dst:\n",
    "            dst.write(src.read())\n",
    "except FileNotFoundError:\n",
    "    print(\"File does not exists\")"
   ],
   "id": "47fd6857bfc101b3",
   "outputs": [],
   "execution_count": 7
  },
  {
   "metadata": {
    "ExecuteTime": {
     "end_time": "2025-07-30T00:20:57.915423Z",
     "start_time": "2025-07-30T00:20:57.902661Z"
    }
   },
   "cell_type": "code",
   "source": [
    "#Solution 4\n",
    "def append_to_file(text, filename):\n",
    "    with open(filename, 'a') as f:\n",
    "        f.write(text)\n",
    "\n",
    "append_to_file(\"New log\",'sample.txt')\n"
   ],
   "id": "210c6314c29ad60",
   "outputs": [],
   "execution_count": 8
  },
  {
   "metadata": {
    "ExecuteTime": {
     "end_time": "2025-07-30T00:21:39.533787Z",
     "start_time": "2025-07-30T00:21:39.479514Z"
    }
   },
   "cell_type": "code",
   "source": [
    "#Solution 5\n",
    "def count_words(filename):\n",
    "    with open(filename, 'r') as file:\n",
    "        text = file.read()\n",
    "        words = text.split()\n",
    "        return len(words)\n",
    "\n",
    "count_words('sample.txt')"
   ],
   "id": "832140fb961315a6",
   "outputs": [
    {
     "data": {
      "text/plain": [
       "12"
      ]
     },
     "execution_count": 9,
     "metadata": {},
     "output_type": "execute_result"
    }
   ],
   "execution_count": 9
  },
  {
   "metadata": {
    "ExecuteTime": {
     "end_time": "2025-07-30T00:22:31.433643Z",
     "start_time": "2025-07-30T00:22:31.423668Z"
    }
   },
   "cell_type": "code",
   "source": [
    "#Solution 6\n",
    "def find_and_replace(filename, old_word, new_word):\n",
    "    with open(filename, 'r') as file:\n",
    "        text = file.read()\n",
    "    new_text = text.replace(old_word, new_word)\n",
    "    with open(filename, 'w') as file:\n",
    "        file.write(new_text)\n",
    "\n",
    "find_and_replace('sample.txt', 'Hello', 'Hello Jackson')"
   ],
   "id": "bf88e77ba8b6f66c",
   "outputs": [],
   "execution_count": 10
  },
  {
   "metadata": {
    "ExecuteTime": {
     "end_time": "2025-07-30T00:23:30.562022Z",
     "start_time": "2025-07-30T00:23:30.554883Z"
    }
   },
   "cell_type": "code",
   "source": [
    "#Solution 7\n",
    "def read_reverse(filename):\n",
    "    with open(filename, 'r') as file:\n",
    "        lines = file.readlines()\n",
    "    for line in reversed(lines):\n",
    "        print(line.strip())\n",
    "\n",
    "read_reverse('sample.txt')"
   ],
   "id": "949db4635bde5303",
   "outputs": [
    {
     "name": "stdout",
     "output_type": "stream",
     "text": [
      "New log\n",
      "How are you?\n",
      "This is a sample log\n",
      "World!\n",
      "Hello Jackson\n"
     ]
    }
   ],
   "execution_count": 11
  },
  {
   "metadata": {
    "ExecuteTime": {
     "end_time": "2025-07-30T00:24:05.317676Z",
     "start_time": "2025-07-30T00:24:05.304926Z"
    }
   },
   "cell_type": "code",
   "source": [
    "#Solution 8\n",
    "def count_lwc(filename):\n",
    "    with open(filename, 'r') as file:\n",
    "        lines = file.readlines()\n",
    "        words = sum(len(line.split()) for line in lines)\n",
    "        characters = sum(len(line) for line in lines)\n",
    "    return len(lines), words, characters\n",
    "\n",
    "count_lwc('sample.txt')"
   ],
   "id": "e982f49cbeb026e",
   "outputs": [
    {
     "data": {
      "text/plain": [
       "(5, 13, 62)"
      ]
     },
     "execution_count": 12,
     "metadata": {},
     "output_type": "execute_result"
    }
   ],
   "execution_count": 12
  },
  {
   "metadata": {},
   "cell_type": "code",
   "outputs": [],
   "execution_count": null,
   "source": [
    "#Solution 9\n",
    "def merge_files(file_list, output_file):\n",
    "    with open(output_file, 'w') as outfile:\n",
    "        for fname in file_list:\n",
    "            with open(fname, 'r') as infile:\n",
    "                outfile.write(infile.read() + '\\n')"
   ],
   "id": "485125d6c6b83157"
  },
  {
   "metadata": {
    "ExecuteTime": {
     "end_time": "2025-07-30T00:30:13.841980Z",
     "start_time": "2025-07-30T00:30:13.832463Z"
    }
   },
   "cell_type": "code",
   "source": [
    "#Solution 10 -split files\n",
    "def split_files(filename, lines_per_file):\n",
    "    with open(filename, 'r') as infile:\n",
    "        lines = infile.readlines()\n",
    "    for i in range(0, len(lines),lines_per_file):\n",
    "        with open(f'{filename}_part{i//lines_per_file + 1}.txt','w') as outfile:\n",
    "            outfile.writelines(lines[i:i+lines_per_file])\n",
    "\n",
    "\n",
    "split_files('sample.txt',50)"
   ],
   "id": "2193a19eec4043ff",
   "outputs": [],
   "execution_count": 15
  },
  {
   "cell_type": "code",
   "metadata": {
    "ExecuteTime": {
     "end_time": "2025-07-29T23:44:21.427523Z",
     "start_time": "2025-07-29T23:44:21.420866Z"
    }
   },
   "source": [
    "#solution 15\n",
    "import os\n",
    "def handle_protected_file(filename):\n",
    "    try:\n",
    "        with open(filename,'r') as file:\n",
    "            print(file.read())\n",
    "    except PermissionError as pe:\n",
    "        print(f'Permission denied: {pe}')\n",
    "\n",
    "handle_protected_file('example.txt')"
   ],
   "id": "8dd6850909f51f14",
   "outputs": [
    {
     "name": "stdout",
     "output_type": "stream",
     "text": [
      "Hello World!\n",
      "This is a new line\n"
     ]
    }
   ],
   "execution_count": 3
  }
 ],
 "metadata": {
  "kernelspec": {
   "display_name": "Python 3",
   "language": "python",
   "name": "python3"
  },
  "language_info": {
   "codemirror_mode": {
    "name": "ipython",
    "version": 3
   },
   "file_extension": ".py",
   "mimetype": "text/x-python",
   "name": "python",
   "nbconvert_exporter": "python",
   "pygments_lexer": "ipython3",
   "version": "3.9.7"
  }
 },
 "nbformat": 4,
 "nbformat_minor": 5
}
