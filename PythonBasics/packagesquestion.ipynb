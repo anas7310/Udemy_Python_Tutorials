{
 "cells": [
  {
   "cell_type": "markdown",
   "metadata": {},
   "source": [
    "# Module 5: Modules and Packages Assignments\n",
    "## Lesson 5.1: Importing Modules\n",
    "### Assignment 1: Importing and Using Modules\n",
    "\n",
    "Import the `math` module and use it to calculate the square root of 25 and the sine of 90 degrees.\n",
    "\n",
    "### Assignment 2: Aliasing Modules\n",
    "\n",
    "Import the `datetime` module with an alias and use it to print the current date and time.\n",
    "\n",
    "### Assignment 3: Importing Specific Functions\n",
    "\n",
    "Import the `randint` function from the `random` module and use it to generate a random integer between 1 and 100.\n",
    "\n",
    "### Assignment 4: Importing Multiple Functions\n",
    "\n",
    "Import the `sqrt` and `pow` functions from the `math` module and use them to calculate the square root of 16 and 2 raised to the power of 3.\n",
    "\n",
    "### Assignment 5: Handling Import Errors\n",
    "\n",
    "Write code that attempts to import a non-existent module and gracefully handles the import error by printing an error message.\n",
    "\n",
    "## Lesson 5.2: Standard Library Overview\n",
    "### Assignment 6: Working with the `os` Module\n",
    "\n",
    "Use the `os` module to create a new directory, list the contents of the current directory, and remove the newly created directory.\n",
    "\n",
    "### Assignment 7: Working with the `sys` Module\n",
    "\n",
    "Use the `sys` module to print the Python version currently in use and the command-line arguments passed to the script.\n",
    "\n",
    "### Assignment 8: Working with the `math` Module\n",
    "\n",
    "Use the `math` module to calculate the greatest common divisor (GCD) of two numbers and the factorial of a number.\n",
    "\n",
    "### Assignment 9: Working with the `datetime` Module\n",
    "\n",
    "Use the `datetime` module to print the current date, calculate the date 100 days from today, and determine the day of the week for a given date.\n",
    "\n",
    "### Assignment 10: Working with the `random` Module\n",
    "\n",
    "Use the `random` module to generate a list of 5 random numbers between 1 and 50 and shuffle the elements of a list.\n",
    "\n",
    "## Lesson 5.3: Creating and Using Packages\n",
    "### Assignment 11: Creating a Simple Package\n",
    "\n",
    "Create a package named `mypackage` with two modules: `module1` and `module2`. `module1` should contain a function that adds two numbers, and `module2` should contain a function that multiplies two numbers. Write code to use these functions.\n",
    "\n",
    "### Assignment 12: Using `__init__.py`\n",
    "\n",
    "Modify the `mypackage` package to include an `__init__.py` file that imports the functions from `module1` and `module2`. Write code to use these functions.\n",
    "\n",
    "### Assignment 13: Importing from a Package\n",
    "\n",
    "Write code to import and use the functions from `mypackage` without explicitly importing `module1` and `module2`.\n",
    "\n",
    "### Assignment 14: Relative Imports\n",
    "\n",
    "Create a subpackage named `subpackage` within `mypackage` and move `module2` into `subpackage`. Modify the import statements in `__init__.py` to use relative imports. Write code to use the functions from both modules.\n",
    "\n",
    "### Assignment 15: Handling Package Import Errors\n",
    "\n",
    "Write code that attempts to import a non-existent function from `mypackage` and gracefully handles the import error by printing an error message."
   ],
   "id": "8502419ba309d6a5"
  },
  {
   "cell_type": "code",
   "metadata": {},
   "source": [
    "#Solution 1\n",
    "import math\n",
    "print(math.sqrt(25))\n",
    "math.sin(math.radians(90))"
   ],
   "id": "3b74cf1f349ceffb",
   "outputs": [],
   "execution_count": null
  },
  {
   "metadata": {},
   "cell_type": "code",
   "source": [
    "#Solution 2\n",
    "from datetime import datetime as dt\n",
    "print(dt.now())"
   ],
   "id": "b2b6308e3cd5fa29",
   "outputs": [],
   "execution_count": null
  },
  {
   "metadata": {},
   "cell_type": "code",
   "source": [
    "#Solution 3\n",
    "from random import randint\n",
    "print(randint(1,11))"
   ],
   "id": "d1f5ea9838e8b665",
   "outputs": [],
   "execution_count": null
  },
  {
   "metadata": {},
   "cell_type": "code",
   "source": [
    "from math import sqrt,pow\n",
    "print(sqrt(16))\n",
    "print(pow(2,3))"
   ],
   "id": "2fae0a927435eaac",
   "outputs": [],
   "execution_count": null
  },
  {
   "metadata": {},
   "cell_type": "code",
   "source": [
    "try:\n",
    "    import non_existent_module\n",
    "except ImportError as e:\n",
    "    print(f\"Error importing module {e}\")"
   ],
   "id": "2a3d528dd576d2ba",
   "outputs": [],
   "execution_count": null
  },
  {
   "metadata": {},
   "cell_type": "code",
   "source": [
    "import os\n",
    "\n",
    "os.mkdir('testing_assignment')\n",
    "\n",
    "dirlist = os.listdir()\n",
    "print(dirlist)\n",
    "\n",
    "os.rmdir('testing_assignment')\n",
    "newDirlist = os.listdir()\n",
    "print(newDirlist)"
   ],
   "id": "30c3cfc436536653",
   "outputs": [],
   "execution_count": null
  },
  {
   "metadata": {},
   "cell_type": "code",
   "source": [
    "import sys\n",
    "print(f\"Python version: {sys.version}\")\n",
    "print(f\"Command-line arguments: {sys.argv}\")"
   ],
   "id": "1dc3e12fe49c9faf",
   "outputs": [],
   "execution_count": null
  },
  {
   "metadata": {},
   "cell_type": "code",
   "source": [
    "print(math.factorial(5))\n",
    "print(math.gcd(2,6,12,24,36,48,8))"
   ],
   "id": "558db4a245a13798",
   "outputs": [],
   "execution_count": null
  },
  {
   "metadata": {},
   "cell_type": "code",
   "source": [
    "import datetime\n",
    "\n",
    "now = datetime.datetime.now()\n",
    "print(now)\n",
    "days_100_from_now = now - datetime.timedelta(days=100)\n",
    "print(days_100_from_now)\n",
    "\n",
    "given_date = datetime.date(2022, 1, 1)\n",
    "print(f\"Day of the week for 2022-01-01: {given_date.strftime('%A')}\")"
   ],
   "id": "2c10dd7a55409dc7",
   "outputs": [],
   "execution_count": null
  },
  {
   "metadata": {},
   "cell_type": "code",
   "source": [
    "import random\n",
    "\n",
    "d = list(random.randint(1,100) for _ in range(5))\n",
    "print(d)\n",
    "\n",
    "lst = [1, 2, 3, 4, 5]\n",
    "random.shuffle(lst)\n",
    "print(lst)"
   ],
   "id": "333e47780cbb0a3a",
   "outputs": [],
   "execution_count": null
  },
  {
   "metadata": {},
   "cell_type": "code",
   "source": [
    "from mypackage import module1,module2\n",
    "\n",
    "print(module1.addition(3,5))\n",
    "print(module2.multiply(3,5))\n",
    "\n"
   ],
   "id": "e7ecb46772c3e64",
   "outputs": [],
   "execution_count": null
  },
  {
   "metadata": {},
   "cell_type": "code",
   "source": [
    "from mypackage import addition,multiply\n",
    "print(addition(2, 3))  # 5\n",
    "print(multiply(2, 3))  # 6"
   ],
   "id": "88a04011ce003b73",
   "outputs": [],
   "execution_count": null
  },
  {
   "metadata": {
    "ExecuteTime": {
     "end_time": "2025-07-29T21:27:14.392329Z",
     "start_time": "2025-07-29T21:27:14.382378Z"
    }
   },
   "cell_type": "code",
   "source": [
    "try:\n",
    "    from mypackage import non_existent_function\n",
    "except ImportError as e:\n",
    "    print(f\"Error importing function: {e}\")"
   ],
   "id": "33deece8d30bf88a",
   "outputs": [
    {
     "name": "stdout",
     "output_type": "stream",
     "text": [
      "Error importing function: cannot import name 'non_existent_function' from 'mypackage' (E:\\udemy\\PythonBootcamp\\mypackage\\__init__.py)\n"
     ]
    }
   ],
   "execution_count": 26
  }
 ],
 "metadata": {
  "kernelspec": {
   "display_name": "Python 3",
   "language": "python",
   "name": "python3"
  },
  "language_info": {
   "codemirror_mode": {
    "name": "ipython",
    "version": 3
   },
   "file_extension": ".py",
   "mimetype": "text/x-python",
   "name": "python",
   "nbconvert_exporter": "python",
   "pygments_lexer": "ipython3",
   "version": "3.9.7"
  }
 },
 "nbformat": 4,
 "nbformat_minor": 5
}
