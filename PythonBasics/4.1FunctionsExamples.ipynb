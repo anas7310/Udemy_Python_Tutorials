{
 "cells": [
  {
   "metadata": {},
   "cell_type": "markdown",
   "source": "### Functions Examples",
   "id": "9537c40cdb3efc6d"
  },
  {
   "metadata": {},
   "cell_type": "markdown",
   "source": "#### Example 1 : Temperature Conversion",
   "id": "48742312749c0c97"
  },
  {
   "metadata": {
    "ExecuteTime": {
     "end_time": "2025-07-27T19:23:32.206435Z",
     "start_time": "2025-07-27T19:23:32.198374Z"
    }
   },
   "cell_type": "code",
   "source": [
    "def convert_temperature(temp, unit):\n",
    "    if unit.lower() == 'c':\n",
    "        return temp * 9/5 +32\n",
    "    elif unit.lower() == 'f':\n",
    "        return (temp-32) * 5/9\n",
    "    else:\n",
    "        return \"Please enter unit\"\n",
    "\n",
    "print(convert_temperature(86, 'f'))\n",
    "print(convert_temperature(30, 'c'))"
   ],
   "id": "76921ea1593e4963",
   "outputs": [
    {
     "name": "stdout",
     "output_type": "stream",
     "text": [
      "30.0\n",
      "86.0\n"
     ]
    }
   ],
   "execution_count": 3
  },
  {
   "metadata": {},
   "cell_type": "markdown",
   "source": "#### Example 2: Password Strength checker",
   "id": "92fe1af3b8b74e5f"
  },
  {
   "metadata": {
    "ExecuteTime": {
     "end_time": "2025-07-27T20:04:30.083977Z",
     "start_time": "2025-07-27T20:04:30.071992Z"
    }
   },
   "cell_type": "code",
   "source": [
    "def is_strong_password(password):\n",
    "    if len(password) < 8:\n",
    "        return False\n",
    "    if not any(char.isdigit() for char in password):\n",
    "        return False\n",
    "    if not any(char.islower() for char in password):\n",
    "        return False\n",
    "    if not any(char.isupper() for char in password):\n",
    "        return False\n",
    "    if not any(char in '!@#$%^&*()_+' for char in password):\n",
    "        return False\n",
    "\n",
    "    return True\n",
    "\n",
    "print(is_strong_password('weakPwd'))\n",
    "print(is_strong_password('StrongPwd@#$4321'))\n"
   ],
   "id": "484380f29110244d",
   "outputs": [
    {
     "name": "stdout",
     "output_type": "stream",
     "text": [
      "False\n",
      "True\n"
     ]
    }
   ],
   "execution_count": 5
  },
  {
   "metadata": {},
   "cell_type": "markdown",
   "source": "#### Example 3: Calculate the total cost of items in a Shopping Cart",
   "id": "f21db69a92f1dcb9"
  },
  {
   "metadata": {
    "ExecuteTime": {
     "end_time": "2025-07-27T20:13:36.099059Z",
     "start_time": "2025-07-27T20:13:36.089340Z"
    }
   },
   "cell_type": "code",
   "source": [
    "def calculate_total_cost(cart):\n",
    "    total_cost = 0\n",
    "    for item in cart:\n",
    "        total_cost += item.get('price') * item.get('quantity')\n",
    "\n",
    "    return total_cost\n",
    "#Example cart data\n",
    "cart = [\n",
    "        {'name':'Apple','price':0.5,'quantity':4},\n",
    "        {'name':'Banana','price':0.3,'quantity':6},\n",
    "        {'name':'Orange','price':0.7,'quantity':7},\n",
    "        {'name':'Kiwi','price':1,'quantity':9}\n",
    "        ]\n",
    "\n",
    "print(calculate_total_cost(cart))"
   ],
   "id": "56e7d868d0824a31",
   "outputs": [
    {
     "name": "stdout",
     "output_type": "stream",
     "text": [
      "17.7\n"
     ]
    }
   ],
   "execution_count": 17
  },
  {
   "metadata": {},
   "cell_type": "markdown",
   "source": "#### Example 4: Check if a string is palindrome or not",
   "id": "da68f0c05b0027e4"
  },
  {
   "metadata": {
    "ExecuteTime": {
     "end_time": "2025-07-27T20:18:12.981132Z",
     "start_time": "2025-07-27T20:18:12.971665Z"
    }
   },
   "cell_type": "code",
   "source": [
    "def is_palindrome(s):\n",
    "    s=s.lower().replace(\" \",\"\")\n",
    "    return s == s[::-1]\n",
    "\n",
    "print(is_palindrome('apple'))\n",
    "print(is_palindrome('banana'))\n",
    "print(is_palindrome('malayalam'))\n",
    "print(is_palindrome('A man A plan a canal Panama'))"
   ],
   "id": "cc06dc5c2799db12",
   "outputs": [
    {
     "name": "stdout",
     "output_type": "stream",
     "text": [
      "False\n",
      "False\n",
      "True\n",
      "True\n"
     ]
    }
   ],
   "execution_count": 19
  },
  {
   "metadata": {},
   "cell_type": "markdown",
   "source": "#### Example 5:Calculate the factorial of a number using recursion",
   "id": "9d611009ac00eeaf"
  },
  {
   "metadata": {
    "ExecuteTime": {
     "end_time": "2025-07-27T20:19:22.467419Z",
     "start_time": "2025-07-27T20:19:22.461421Z"
    }
   },
   "cell_type": "code",
   "source": [
    "def factorial(n):\n",
    "    if n == 0:\n",
    "        return 1\n",
    "    else:\n",
    "        return n * factorial(n-1)\n",
    "\n",
    "print(factorial(5))"
   ],
   "id": "308d26d8aea3bbc6",
   "outputs": [
    {
     "name": "stdout",
     "output_type": "stream",
     "text": [
      "120\n"
     ]
    }
   ],
   "execution_count": 20
  },
  {
   "metadata": {},
   "cell_type": "markdown",
   "source": "#### Example 6: A function to read a file and count the frequency of each word",
   "id": "cdf2ac2b30d1a53e"
  },
  {
   "metadata": {
    "ExecuteTime": {
     "end_time": "2025-07-27T20:39:05.732891Z",
     "start_time": "2025-07-27T20:39:05.724069Z"
    }
   },
   "cell_type": "code",
   "source": [
    "def count_word_frequency(file_path):\n",
    "    word_count = {}\n",
    "    with open(file_path, 'r') as file:\n",
    "        for line in file:\n",
    "            words=line.split()\n",
    "            for word in words:\n",
    "                word = word.lower().strip('.,?;!:\"\\'')\n",
    "                word_count[word] = word_count.get(word,0)+1\n",
    "\n",
    "    return word_count\n",
    "\n",
    "file_path = 'sample.txt'\n",
    "word_count = count_word_frequency(file_path)\n",
    "print(word_count)"
   ],
   "id": "be7d4b2e76d124a4",
   "outputs": [
    {
     "name": "stdout",
     "output_type": "stream",
     "text": [
      "{'hello': 2, 'world': 1, 'how': 2, 'are': 2, 'you': 2, 'my': 1, 'name': 1, 'is': 1, 'anas': 1, 'what': 1, 'a': 1, 'wonderful': 1, 'day': 1, 'today': 1, 'hi': 1, 'and': 1}\n"
     ]
    }
   ],
   "execution_count": 22
  },
  {
   "metadata": {},
   "cell_type": "markdown",
   "source": "#### Example 7:Validate Email Address",
   "id": "9d6a40456f4e5381"
  },
  {
   "metadata": {
    "ExecuteTime": {
     "end_time": "2025-07-27T20:42:27.966091Z",
     "start_time": "2025-07-27T20:42:27.955862Z"
    }
   },
   "cell_type": "code",
   "source": [
    "import re\n",
    "\n",
    "def is_valid_email(email):\n",
    "    pattern = r'^[a-zA-Z0-9_.+-]+@[a-zA-Z0-9-]+\\.[a-zA-Z0-9-.]+$'\n",
    "    return re.match(pattern,email) is not None\n",
    "\n",
    "print(is_valid_email('sgdsh@jhksjsj.com'))\n",
    "print(is_valid_email('dsdshuiu.com'))\n",
    "print(is_valid_email('sdjhhdssjkd@sjohjd'))"
   ],
   "id": "3c4ee2247e3488f7",
   "outputs": [
    {
     "name": "stdout",
     "output_type": "stream",
     "text": [
      "True\n",
      "False\n",
      "False\n"
     ]
    }
   ],
   "execution_count": 23
  }
 ],
 "metadata": {
  "kernelspec": {
   "display_name": "Python 3",
   "language": "python",
   "name": "python3"
  },
  "language_info": {
   "codemirror_mode": {
    "name": "ipython",
    "version": 2
   },
   "file_extension": ".py",
   "mimetype": "text/x-python",
   "name": "python",
   "nbconvert_exporter": "python",
   "pygments_lexer": "ipython2",
   "version": "2.7.6"
  }
 },
 "nbformat": 4,
 "nbformat_minor": 5
}
