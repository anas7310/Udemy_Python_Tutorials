{
 "cells": [
  {
   "metadata": {},
   "cell_type": "markdown",
   "source": [
    "### The filter() function\n",
    "#### the filter() function constructs an iterator from elements of an iterable for which a function returns true. It is  used to filter out items from a list (or any iterable) based on a condition."
   ],
   "id": "3eedeb1d3270ac56"
  },
  {
   "cell_type": "code",
   "id": "initial_id",
   "metadata": {
    "collapsed": true,
    "ExecuteTime": {
     "end_time": "2025-07-27T22:00:56.537711Z",
     "start_time": "2025-07-27T22:00:56.515200Z"
    }
   },
   "source": [
    "def even(num):\n",
    "    if num % 2 == 0:\n",
    "        return True\n",
    "    else:\n",
    "        return False"
   ],
   "outputs": [],
   "execution_count": 2
  },
  {
   "metadata": {
    "ExecuteTime": {
     "end_time": "2025-07-27T22:00:58.204884Z",
     "start_time": "2025-07-27T22:00:58.192369Z"
    }
   },
   "cell_type": "code",
   "source": "even(10)",
   "id": "bb434d3cfd02940d",
   "outputs": [
    {
     "data": {
      "text/plain": [
       "True"
      ]
     },
     "execution_count": 3,
     "metadata": {},
     "output_type": "execute_result"
    }
   ],
   "execution_count": 3
  },
  {
   "metadata": {
    "ExecuteTime": {
     "end_time": "2025-07-27T22:01:25.139774Z",
     "start_time": "2025-07-27T22:01:25.131364Z"
    }
   },
   "cell_type": "code",
   "source": [
    "numbers=[1,2,3,4,5,6,7,8,9,10,11,12]\n",
    "list(filter(even,numbers))"
   ],
   "id": "3ab1bc086d7bab39",
   "outputs": [
    {
     "data": {
      "text/plain": [
       "[2, 4, 6, 8, 10, 12]"
      ]
     },
     "execution_count": 5,
     "metadata": {},
     "output_type": "execute_result"
    }
   ],
   "execution_count": 5
  },
  {
   "metadata": {
    "ExecuteTime": {
     "end_time": "2025-07-27T22:08:01.298879Z",
     "start_time": "2025-07-27T22:08:01.292051Z"
    }
   },
   "cell_type": "code",
   "source": [
    "# filter with a lambda function\n",
    "numbers=[1,2,3,4,5,6,7,8,9,10]\n",
    "greater_than_five = list(filter(lambda x:x>5, numbers))\n",
    "print(greater_than_five)"
   ],
   "id": "d37c8c851479d907",
   "outputs": [
    {
     "name": "stdout",
     "output_type": "stream",
     "text": [
      "[6, 7, 8, 9, 10]\n"
     ]
    }
   ],
   "execution_count": 6
  },
  {
   "metadata": {
    "ExecuteTime": {
     "end_time": "2025-07-27T22:09:43.641396Z",
     "start_time": "2025-07-27T22:09:43.635444Z"
    }
   },
   "cell_type": "code",
   "source": [
    "#Filter with lambda function with multiple conditions\n",
    "numbers = [1,2,3,4,5,6,7,8,9]\n",
    "even_and_greater_than_five = list(filter(lambda x: x>5 and x%2==0, numbers))\n",
    "print(even_and_greater_than_five)"
   ],
   "id": "941c72da5cdcdeea",
   "outputs": [
    {
     "name": "stdout",
     "output_type": "stream",
     "text": [
      "[6, 8]\n"
     ]
    }
   ],
   "execution_count": 7
  },
  {
   "metadata": {
    "ExecuteTime": {
     "end_time": "2025-07-27T22:11:01.226276Z",
     "start_time": "2025-07-27T22:11:01.220677Z"
    }
   },
   "cell_type": "code",
   "source": [
    "#Filter to check if the age is greater than 25 in dictionaries\n",
    "people = [\n",
    "    {'name':'Anas', 'age':26},\n",
    "    {'name':'Nick', 'age':23},\n",
    "    {'name':'Francis', 'age':31},\n",
    "    {'name':'Nadeem', 'age':43}\n",
    "]\n",
    "\n",
    "age_greater_than_25 = list(filter(lambda x: x['age']>25, people))\n",
    "print(age_greater_than_25)"
   ],
   "id": "c48e7f0a26badcc",
   "outputs": [
    {
     "name": "stdout",
     "output_type": "stream",
     "text": [
      "[{'name': 'Anas', 'age': 26}, {'name': 'Francis', 'age': 31}, {'name': 'Nadeem', 'age': 43}]\n"
     ]
    }
   ],
   "execution_count": 8
  }
 ],
 "metadata": {
  "kernelspec": {
   "display_name": "Python 3",
   "language": "python",
   "name": "python3"
  },
  "language_info": {
   "codemirror_mode": {
    "name": "ipython",
    "version": 2
   },
   "file_extension": ".py",
   "mimetype": "text/x-python",
   "name": "python",
   "nbconvert_exporter": "python",
   "pygments_lexer": "ipython2",
   "version": "2.7.6"
  }
 },
 "nbformat": 4,
 "nbformat_minor": 5
}
