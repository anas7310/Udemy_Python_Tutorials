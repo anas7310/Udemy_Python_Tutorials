{
 "cells": [
  {
   "cell_type": "markdown",
   "metadata": {},
   "source": [
    "# Lesson 1.2: Python Basics\n",
    "## Topics Covered:\n",
    "- Syntax and Semantics\n",
    "- Variables and Data Types\n",
    "- Basic Operators (Arithmetic, Comparison, Logical)\n"
   ]
  },
  {
   "cell_type": "markdown",
   "metadata": {},
   "source": [
    "## 1. Syntax and Semantics\n",
    "\n",
    "**Question 1:** Write a Python program to print \"Hello, World!\"."
   ]
  },
  {
   "cell_type": "code",
   "metadata": {
    "ExecuteTime": {
     "end_time": "2025-07-09T23:04:55.012407Z",
     "start_time": "2025-07-09T23:04:55.005999Z"
    }
   },
   "source": [
    "# Your code here\n",
    "print(\"Hello, World!\")"
   ],
   "outputs": [
    {
     "name": "stdout",
     "output_type": "stream",
     "text": [
      "Hello, World!\n"
     ]
    }
   ],
   "execution_count": 3
  },
  {
   "cell_type": "markdown",
   "metadata": {},
   "source": [
    "**Question 2:** Write a Python program that takes a user input and prints it."
   ]
  },
  {
   "cell_type": "code",
   "metadata": {
    "ExecuteTime": {
     "end_time": "2025-07-09T23:05:02.757760Z",
     "start_time": "2025-07-09T23:04:55.047381Z"
    }
   },
   "source": [
    "# Your code here\n",
    "name = input(\"What is your name?\")\n",
    "print(f\"Hi {name}\")"
   ],
   "outputs": [
    {
     "name": "stdout",
     "output_type": "stream",
     "text": [
      "Hi Anas\n"
     ]
    }
   ],
   "execution_count": 4
  },
  {
   "cell_type": "markdown",
   "metadata": {},
   "source": [
    "**Question 3:** Write a Python program to check if a number is positive, negative, or zero."
   ]
  },
  {
   "cell_type": "code",
   "metadata": {
    "ExecuteTime": {
     "end_time": "2025-07-09T23:05:08.634272Z",
     "start_time": "2025-07-09T23:05:02.817002Z"
    }
   },
   "source": [
    "# Your code here\n",
    "num = int(input(\"Enter a number\"))\n",
    "if num == 0:\n",
    "    print(\"You entered a zero.\")\n",
    "elif num > 0:\n",
    "    print(\"You entered a positive number.\")\n",
    "else:\n",
    "    print(\"You entered a negative number.\")"
   ],
   "outputs": [
    {
     "name": "stdout",
     "output_type": "stream",
     "text": [
      "You entered a negative number.\n"
     ]
    }
   ],
   "execution_count": 5
  },
  {
   "cell_type": "markdown",
   "metadata": {},
   "source": [
    "**Question 4:** Write a Python program to find the largest of three numbers."
   ]
  },
  {
   "cell_type": "code",
   "metadata": {
    "ExecuteTime": {
     "end_time": "2025-07-09T23:05:17.974635Z",
     "start_time": "2025-07-09T23:05:08.687441Z"
    }
   },
   "source": [
    "# Your code here\n",
    "i=0\n",
    "numList=[]\n",
    "while i < 3:\n",
    "    num = int(input(f\"Enter {i+1} number\"))\n",
    "    numList.append(num)\n",
    "    i+=1\n",
    "maxNum = numList[0]\n",
    "for i in numList:\n",
    "    if i > maxNum:\n",
    "        maxNum = i\n",
    "\n",
    "print(maxNum)\n",
    "print(max(numList))"
   ],
   "outputs": [
    {
     "name": "stdout",
     "output_type": "stream",
     "text": [
      "101\n",
      "101\n"
     ]
    }
   ],
   "execution_count": 6
  },
  {
   "cell_type": "markdown",
   "metadata": {},
   "source": [
    "**Question 5:** Write a Python program to calculate the factorial of a number."
   ]
  },
  {
   "cell_type": "code",
   "metadata": {
    "ExecuteTime": {
     "end_time": "2025-07-09T23:07:38.799106Z",
     "start_time": "2025-07-09T23:07:35.582650Z"
    }
   },
   "source": [
    "# Your code here\n",
    "def fact(n):\n",
    "    if n == 0:\n",
    "        return 1\n",
    "    else:\n",
    "        return n * fact(n-1)\n",
    "\n",
    "numFact = int(input(f\"Enter a number\"))\n",
    "factorial = fact(numFact)\n",
    "print(factorial)"
   ],
   "outputs": [
    {
     "name": "stdout",
     "output_type": "stream",
     "text": [
      "6\n"
     ]
    }
   ],
   "execution_count": 25
  },
  {
   "cell_type": "markdown",
   "metadata": {},
   "source": [
    "## 2. Variables and Data Types\n",
    "\n",
    "**Question 6:** Create variables of different data types: integer, float, string, and boolean. Print their values and types."
   ]
  },
  {
   "cell_type": "code",
   "metadata": {
    "ExecuteTime": {
     "end_time": "2025-07-09T23:09:32.180535Z",
     "start_time": "2025-07-09T23:09:32.140267Z"
    }
   },
   "source": [
    "# Your code here\n",
    "intVar = 12\n",
    "strVar = 'Anas'\n",
    "floatVar = 12.5\n",
    "boolVar = True\n",
    "\n",
    "print(intVar)\n",
    "print(strVar)\n",
    "print(floatVar)\n",
    "print(boolVar)\n",
    "\n",
    "print(type(intVar))\n",
    "print(type(strVar))\n",
    "print(type(floatVar))\n",
    "print(type(boolVar))"
   ],
   "outputs": [
    {
     "name": "stdout",
     "output_type": "stream",
     "text": [
      "12\n",
      "Anas\n",
      "12.5\n",
      "True\n",
      "<class 'int'>\n",
      "<class 'str'>\n",
      "<class 'float'>\n",
      "<class 'bool'>\n"
     ]
    }
   ],
   "execution_count": 27
  },
  {
   "cell_type": "markdown",
   "metadata": {},
   "source": [
    "**Question 7:** Write a Python program to swap the values of two variables."
   ]
  },
  {
   "cell_type": "code",
   "metadata": {
    "ExecuteTime": {
     "end_time": "2025-07-09T23:05:18.248356Z",
     "start_time": "2025-07-09T23:05:18.225871Z"
    }
   },
   "source": [
    "# Your code here"
   ],
   "outputs": [],
   "execution_count": 9
  },
  {
   "cell_type": "markdown",
   "metadata": {},
   "source": [
    "**Question 8:** Write a Python program to convert Celsius to Fahrenheit."
   ]
  },
  {
   "cell_type": "code",
   "metadata": {
    "ExecuteTime": {
     "end_time": "2025-07-09T23:05:18.410433Z",
     "start_time": "2025-07-09T23:05:18.285383Z"
    }
   },
   "source": [
    "# Your code here"
   ],
   "outputs": [],
   "execution_count": 10
  },
  {
   "cell_type": "markdown",
   "metadata": {},
   "source": [
    "**Question 9:** Write a Python program to concatenate two strings."
   ]
  },
  {
   "cell_type": "code",
   "metadata": {
    "ExecuteTime": {
     "end_time": "2025-07-09T23:05:18.524357Z",
     "start_time": "2025-07-09T23:05:18.434344Z"
    }
   },
   "source": [
    "# Your code here"
   ],
   "outputs": [],
   "execution_count": 11
  },
  {
   "cell_type": "markdown",
   "metadata": {},
   "source": [
    "**Question 10:** Write a Python program to check if a variable is of a specific data type."
   ]
  },
  {
   "cell_type": "code",
   "metadata": {
    "ExecuteTime": {
     "end_time": "2025-07-09T23:05:18.616212Z",
     "start_time": "2025-07-09T23:05:18.583364Z"
    }
   },
   "source": [
    "# Your code here"
   ],
   "outputs": [],
   "execution_count": 12
  },
  {
   "cell_type": "markdown",
   "metadata": {},
   "source": [
    "## 3. Basic Operators (Arithmetic, Comparison, Logical)\n",
    "\n",
    "**Question 11:** Write a Python program to perform arithmetic operations: addition, subtraction, multiplication, and division."
   ]
  },
  {
   "cell_type": "code",
   "metadata": {
    "ExecuteTime": {
     "end_time": "2025-07-09T23:05:18.730541Z",
     "start_time": "2025-07-09T23:05:18.632131Z"
    }
   },
   "source": [
    "# Your code here"
   ],
   "outputs": [],
   "execution_count": 13
  },
  {
   "cell_type": "markdown",
   "metadata": {},
   "source": [
    "**Question 12:** Write a Python program to demonstrate comparison operators: equal to, not equal to, greater than, less than."
   ]
  },
  {
   "cell_type": "code",
   "metadata": {
    "ExecuteTime": {
     "end_time": "2025-07-09T23:05:18.923152Z",
     "start_time": "2025-07-09T23:05:18.788031Z"
    }
   },
   "source": [
    "# Your code here"
   ],
   "outputs": [],
   "execution_count": 14
  },
  {
   "cell_type": "markdown",
   "metadata": {},
   "source": [
    "**Question 13:** Write a Python program to demonstrate logical operators: and, or, not."
   ]
  },
  {
   "cell_type": "code",
   "metadata": {
    "ExecuteTime": {
     "end_time": "2025-07-09T23:05:19.010223Z",
     "start_time": "2025-07-09T23:05:18.972335Z"
    }
   },
   "source": [
    "# Your code here"
   ],
   "outputs": [],
   "execution_count": 15
  },
  {
   "cell_type": "markdown",
   "metadata": {},
   "source": [
    "**Question 14:** Write a Python program to calculate the square of a number."
   ]
  },
  {
   "cell_type": "code",
   "metadata": {
    "ExecuteTime": {
     "end_time": "2025-07-09T23:05:19.108691Z",
     "start_time": "2025-07-09T23:05:19.034974Z"
    }
   },
   "source": [
    "# Your code here"
   ],
   "outputs": [],
   "execution_count": 16
  },
  {
   "cell_type": "markdown",
   "metadata": {},
   "source": [
    "**Question 15:** Write a Python program to check if a number is even or odd."
   ]
  },
  {
   "cell_type": "code",
   "metadata": {
    "ExecuteTime": {
     "end_time": "2025-07-09T23:05:19.189769Z",
     "start_time": "2025-07-09T23:05:19.122805Z"
    }
   },
   "source": [
    "# Your code here"
   ],
   "outputs": [],
   "execution_count": 17
  },
  {
   "cell_type": "markdown",
   "metadata": {},
   "source": [
    "**Question 16:** Write a Python program to find the sum of the first n natural numbers."
   ]
  },
  {
   "cell_type": "code",
   "metadata": {
    "ExecuteTime": {
     "end_time": "2025-07-09T23:05:19.361838Z",
     "start_time": "2025-07-09T23:05:19.203794Z"
    }
   },
   "source": [
    "# Your code here"
   ],
   "outputs": [],
   "execution_count": 18
  },
  {
   "cell_type": "markdown",
   "metadata": {},
   "source": [
    "**Question 17:** Write a Python program to check if a year is a leap year."
   ]
  },
  {
   "cell_type": "code",
   "metadata": {
    "ExecuteTime": {
     "end_time": "2025-07-09T23:05:19.509172Z",
     "start_time": "2025-07-09T23:05:19.389206Z"
    }
   },
   "source": [
    "# Your code here"
   ],
   "outputs": [],
   "execution_count": 19
  },
  {
   "cell_type": "markdown",
   "metadata": {},
   "source": [
    "**Question 18:** Write a Python program to reverse a string."
   ]
  },
  {
   "cell_type": "code",
   "metadata": {
    "ExecuteTime": {
     "end_time": "2025-07-09T23:05:19.761799Z",
     "start_time": "2025-07-09T23:05:19.521721Z"
    }
   },
   "source": [
    "# Your code here"
   ],
   "outputs": [],
   "execution_count": 20
  },
  {
   "cell_type": "markdown",
   "metadata": {},
   "source": [
    "**Question 19:** Write a Python program to check if a string is a palindrome."
   ]
  },
  {
   "cell_type": "code",
   "metadata": {
    "ExecuteTime": {
     "end_time": "2025-07-09T23:05:20.250240Z",
     "start_time": "2025-07-09T23:05:20.245438Z"
    }
   },
   "source": [
    "# Your code here"
   ],
   "outputs": [],
   "execution_count": 21
  },
  {
   "cell_type": "markdown",
   "metadata": {},
   "source": [
    "**Question 20:** Write a Python program to sort a list of numbers in ascending order."
   ]
  },
  {
   "cell_type": "code",
   "metadata": {
    "ExecuteTime": {
     "end_time": "2025-07-11T20:54:18.759314Z",
     "start_time": "2025-07-11T20:54:18.746002Z"
    }
   },
   "source": [
    "# Your code here\n",
    "originalList = [22,45,4,3,1,6,7,2,12,17,92]\n",
    "print(originalList)\n",
    "for i in range(0,len(originalList)-1):\n",
    "    for j in  range(i+1, len(originalList)-1):\n",
    "        if originalList[i] < originalList[j]:\n",
    "            temp = originalList[j]\n",
    "            originalList[j] = originalList[i]\n",
    "            originalList[i] = temp\n",
    "\n",
    "\n",
    "print(originalList)\n"
   ],
   "outputs": [
    {
     "name": "stdout",
     "output_type": "stream",
     "text": [
      "[22, 45, 4, 3, 1, 6, 7, 2, 12, 17, 92]\n",
      "[45, 22, 17, 12, 7, 6, 4, 3, 2, 1, 92]\n"
     ]
    }
   ],
   "execution_count": 1
  }
 ],
 "metadata": {
  "kernelspec": {
   "display_name": "Python 3",
   "language": "python",
   "name": "python3"
  },
  "language_info": {
   "codemirror_mode": {
    "name": "ipython",
    "version": 3
   },
   "file_extension": ".py",
   "mimetype": "text/x-python",
   "name": "python",
   "nbconvert_exporter": "python",
   "pygments_lexer": "ipython3",
   "version": "3.8.5"
  }
 },
 "nbformat": 4,
 "nbformat_minor": 4
}
