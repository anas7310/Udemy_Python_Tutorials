{
 "cells": [
  {
   "metadata": {},
   "cell_type": "markdown",
   "source": [
    "### Logging with Multiple Loggers\n",
    "you can create multiple loggers for different parts of your application"
   ],
   "id": "d610fa8981e0670b"
  },
  {
   "cell_type": "code",
   "id": "initial_id",
   "metadata": {
    "collapsed": true,
    "ExecuteTime": {
     "end_time": "2025-08-31T23:32:23.323896Z",
     "start_time": "2025-08-31T23:32:23.296532Z"
    }
   },
   "source": [
    "import logging\n",
    "from asyncio.constants import DEBUG_STACK_DEPTH\n",
    "\n",
    "#create a logger for module1\n",
    "logger1 = logging.getLogger(\"module1\")\n",
    "logger1.setLevel(logging.DEBUG)\n",
    "\n",
    "#create logger for module2\n",
    "logger2 = logging.getLogger(\"module2\")\n",
    "logger2.setLevel(logging.WARNING)\n",
    "\n",
    "#configure logging settings\n",
    "logging.basicConfig(\n",
    "    level=logging.DEBUG,\n",
    "    format='%(asctime)s - %(name)s - %(levelname)s - %(message)s',\n",
    "    datefmt='%Y-%m-%d %H-%M-%S'\n",
    ")"
   ],
   "outputs": [],
   "execution_count": 1
  },
  {
   "metadata": {
    "ExecuteTime": {
     "end_time": "2025-08-31T23:33:31.971400Z",
     "start_time": "2025-08-31T23:33:31.964376Z"
    }
   },
   "cell_type": "code",
   "source": [
    "#log message with different loggers\n",
    "logger1.debug(\"This is a debug message for logger1\")\n",
    "logger2.warning(\"This is a warning message for logger2\")"
   ],
   "id": "f4e0b0c1c3003595",
   "outputs": [
    {
     "name": "stderr",
     "output_type": "stream",
     "text": [
      "2025-09-01 05-03-31 - module1 - DEBUG - This is a debug message for logger1\n",
      "2025-09-01 05-03-31 - module2 - WARNING - This is a warning message for logger2\n"
     ]
    }
   ],
   "execution_count": 3
  },
  {
   "metadata": {
    "ExecuteTime": {
     "end_time": "2025-08-31T23:34:02.395371Z",
     "start_time": "2025-08-31T23:34:02.389696Z"
    }
   },
   "cell_type": "code",
   "source": "logger2.error(\"This is an error message\")",
   "id": "237f76c23d1190c8",
   "outputs": [
    {
     "name": "stderr",
     "output_type": "stream",
     "text": [
      "2025-09-01 05-04-02 - module2 - ERROR - This is an error message\n"
     ]
    }
   ],
   "execution_count": 4
  },
  {
   "metadata": {},
   "cell_type": "code",
   "outputs": [],
   "execution_count": null,
   "source": "",
   "id": "aaac53c1a14be177"
  }
 ],
 "metadata": {
  "kernelspec": {
   "display_name": "Python 3",
   "language": "python",
   "name": "python3"
  },
  "language_info": {
   "codemirror_mode": {
    "name": "ipython",
    "version": 2
   },
   "file_extension": ".py",
   "mimetype": "text/x-python",
   "name": "python",
   "nbconvert_exporter": "python",
   "pygments_lexer": "ipython2",
   "version": "2.7.6"
  }
 },
 "nbformat": 4,
 "nbformat_minor": 5
}
