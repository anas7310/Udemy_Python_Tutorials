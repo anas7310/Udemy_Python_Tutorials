{
 "cells": [
  {
   "cell_type": "markdown",
   "metadata": {},
   "source": [
    "# Module: Logging Assignments\n",
    "## Lesson: Logging\n",
    "### Assignment 1: Basic Logging\n",
    "\n",
    "1. Write a Python function to create a basic logger that logs messages to a file named `app.log`.\n",
    "2. Modify the function to log messages of levels: DEBUG, INFO, WARNING, ERROR, and CRITICAL.\n",
    "\n",
    "### Assignment 2: Logging with Different Handlers\n",
    "\n",
    "1. Write a Python function to create a logger that logs messages to both a file named `app.log` and the console.\n",
    "2. Modify the function to use different logging levels for the file and console handlers.\n",
    "\n",
    "### Assignment 3: Formatting Log Messages\n",
    "\n",
    "1. Write a Python function to create a logger with a custom log message format that includes the timestamp, logging level, and message.\n",
    "2. Modify the function to use different formats for the file and console handlers.\n",
    "\n",
    "### Assignment 4: Rotating Log Files\n",
    "\n",
    "1. Write a Python function to create a logger that uses a rotating file handler, which creates a new log file when the current log file reaches a certain size.\n",
    "2. Modify the function to keep a specified number of backup log files.\n",
    "\n",
    "### Assignment 5: Logging Exceptions\n",
    "\n",
    "1. Write a Python function that logs an exception stack trace to a log file when an exception occurs.\n",
    "2. Modify the function to log the stack trace at the ERROR level.\n",
    "\n",
    "### Assignment 6: Contextual Logging\n",
    "\n",
    "1. Write a Python function to create a logger that includes contextual information (e.g., function name, line number) in the log messages.\n",
    "2. Modify the function to include additional contextual information (e.g., user ID, session ID).\n",
    "\n",
    "### Assignment 7: Configuring Logging with a Dictionary\n",
    "\n",
    "1. Write a Python function to configure logging using a dictionary. The configuration should include handlers for both file and console logging.\n",
    "2. Modify the dictionary to include different logging levels and formats for each handler.\n",
    "\n",
    "### Assignment 8: Logging in a Multi-Module Application\n",
    "\n",
    "1. Write a Python script that sets up logging for a multi-module application. Each module should have its own logger.\n",
    "2. Modify the script to propagate log messages from each module's logger to a root logger that handles logging to a file.\n",
    "\n",
    "### Assignment 9: Logging Performance\n",
    "\n",
    "1. Write a Python script to benchmark the performance of logging with different handlers (e.g., file handler, console handler, rotating file handler).\n",
    "2. Modify the script to compare the performance of logging with and without message formatting.\n",
    "\n",
    "### Assignment 10: Advanced Logging Configuration\n",
    "\n",
    "1. Write a Python function to configure logging using an external configuration file (e.g., `logging.conf`). The configuration should include handlers for file and console logging.\n",
    "2. Modify the configuration file to use different logging levels and formats for each handler."
   ],
   "id": "6853a7771f94a947"
  },
  {
   "cell_type": "code",
   "metadata": {
    "ExecuteTime": {
     "end_time": "2025-09-01T00:18:23.549017Z",
     "start_time": "2025-09-01T00:18:23.541017Z"
    }
   },
   "source": [
    "import logging\n",
    "def basic_logger():\n",
    "    logging.basicConfig(\n",
    "        level=logging.DEBUG,\n",
    "        filename='assignmentlogs.log',\n",
    "        format='%(asctime)s - %(name)s - %(levelname)s - %(message)s',\n",
    "        datefmt='%Y-%m-%d %H:%M:%S'\n",
    "    )\n",
    "\n",
    "    logger = logging.getLogger(\"Assignment Logs\")\n",
    "\n",
    "    logger.debug('This is a debug message')\n",
    "    logger.info('This is an info message')\n",
    "    logger.warning('This is a warning message')\n",
    "    logger.error('This is an error message')\n",
    "    logger.critical('This is a critical message')\n",
    "\n",
    "\n",
    "basic_logger()"
   ],
   "id": "1392d637302ac154",
   "outputs": [],
   "execution_count": 3
  },
  {
   "metadata": {
    "ExecuteTime": {
     "end_time": "2025-09-01T00:19:04.668190Z",
     "start_time": "2025-09-01T00:19:04.661119Z"
    }
   },
   "cell_type": "code",
   "source": [
    "logger = logging.getLogger(\"Assignment Logs\")\n",
    "\n",
    "logger.debug('This is a debug message')\n",
    "logger.info('This is an info message')\n",
    "logger.warning('This is a warning message')\n",
    "logger.error('This is an error message')\n",
    "logger.critical('This is a critical message')"
   ],
   "id": "c42d9db7a51f51e2",
   "outputs": [],
   "execution_count": 5
  },
  {
   "metadata": {
    "ExecuteTime": {
     "end_time": "2025-09-01T00:23:15.512665Z",
     "start_time": "2025-09-01T00:23:15.105564Z"
    }
   },
   "cell_type": "code",
   "source": [
    "def logger_with_handlers():\n",
    "    logger = logging.getLogger(\"my_logger\")\n",
    "    logger.setLevel(logging.DEBUG)\n",
    "\n",
    "    file_handler = logging.FileHandler('assignmentlogs.log')\n",
    "    console_handler = logging.StreamHandler()\n",
    "\n",
    "    file_handler.setLevel(logging.DEBUG)\n",
    "    console_handler.setLevel(logging.DEBUG)\n",
    "\n",
    "    formatter = logging.Formatter('%(asctime)s - %(name)s - %(levelname)s - %(message)s')\n",
    "    file_handler.setFormatter(formatter)\n",
    "    console_handler.setFormatter(formatter)\n",
    "\n",
    "    logger.addHandler(file_handler)\n",
    "    logger.addHandler(console_handler)\n",
    "\n",
    "    logger.debug('This is a debug message')\n",
    "    logger.info('This is an info message')\n",
    "    logger.warning('This is a warning message')\n",
    "    logger.error('This is an error message')\n",
    "    logger.critical('This is a critical message')\n",
    "\n",
    "logger_with_handlers()"
   ],
   "id": "57b4e51e086eb3d9",
   "outputs": [
    {
     "name": "stderr",
     "output_type": "stream",
     "text": [
      "2025-09-01 05:53:15,491 - my_logger - DEBUG - This is a debug message\n",
      "2025-09-01 05:53:15,501 - my_logger - INFO - This is an info message\n",
      "2025-09-01 05:53:15,504 - my_logger - WARNING - This is a warning message\n",
      "2025-09-01 05:53:15,507 - my_logger - ERROR - This is an error message\n",
      "2025-09-01 05:53:15,508 - my_logger - CRITICAL - This is a critical message\n"
     ]
    }
   ],
   "execution_count": 6
  },
  {
   "metadata": {},
   "cell_type": "code",
   "outputs": [],
   "execution_count": null,
   "source": "",
   "id": "8147d36e27910a9f"
  }
 ],
 "metadata": {
  "kernelspec": {
   "display_name": "Python 3",
   "language": "python",
   "name": "python3"
  },
  "language_info": {
   "codemirror_mode": {
    "name": "ipython",
    "version": 3
   },
   "file_extension": ".py",
   "mimetype": "text/x-python",
   "name": "python",
   "nbconvert_exporter": "python",
   "pygments_lexer": "ipython3",
   "version": "3.9.7"
  }
 },
 "nbformat": 4,
 "nbformat_minor": 5
}
