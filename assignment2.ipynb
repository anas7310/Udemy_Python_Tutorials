{
 "cells": [
  {
   "cell_type": "markdown",
   "metadata": {},
   "source": [
    "# Module 2: Control Flow Assignments\n",
    "## Lesson 2.1: Conditional Statements\n",
    "### Assignment 1: Simple if Statement\n",
    "\n",
    "Write a program that asks the user to input a number and prints whether the number is positive.\n",
    "\n",
    "### Assignment 2: if-else Statement\n",
    "\n",
    "Write a program that asks the user to input a number and prints whether the number is positive or negative.\n",
    "\n",
    "### Assignment 3: if-elif-else Statement\n",
    "\n",
    "Write a program that asks the user to input a number and prints whether the number is positive, negative, or zero.\n",
    "\n",
    "### Assignment 4: Nested if Statement\n",
    "\n",
    "Write a program that asks the user to input a number and prints whether the number is positive and even, positive and odd, or negative.\n",
    "\n",
    "## Lesson 2.2: Loops\n",
    "### Assignment 5: for Loop\n",
    "\n",
    "Write a program that prints all the numbers from 1 to 10 using a for loop.\n",
    "\n",
    "### Assignment 6: while Loop\n",
    "\n",
    "Write a program that prints all the numbers from 1 to 10 using a while loop.\n",
    "\n",
    "### Assignment 7: Nested Loops\n",
    "\n",
    "Write a program that prints a 5x5 grid of asterisks (*) using nested loops.\n",
    "\n",
    "### Assignment 8: break Statement\n",
    "\n",
    "Write a program that asks the user to input numbers until they input 0. The program should print the sum of all the input numbers.\n",
    "\n",
    "### Assignment 9: continue Statement\n",
    "\n",
    "Write a program that prints all the numbers from 1 to 10 except 5 using a for loop and continue statement.\n",
    "\n",
    "### Assignment 10: pass Statement\n",
    "\n",
    "Write a program that defines an empty function using the pass statement.\n",
    "\n",
    "### Assignment 11: Combining Loops and Conditionals\n",
    "\n",
    "Write a program that asks the user to input a number and prints all the even numbers from 1 to that number using a for loop.\n",
    "\n",
    "### Assignment 12: Factorial Calculation\n",
    "\n",
    "Write a program that calculates the factorial of a number input by the user using a while loop.\n",
    "\n",
    "### Assignment 13: Sum of Digits\n",
    "\n",
    "Write a program that calculates the sum of the digits of a number input by the user using a while loop.\n",
    "\n",
    "### Assignment 14: Prime Number Check\n",
    "\n",
    "Write a program that checks if a number input by the user is a prime number using a for loop.\n",
    "\n",
    "### Assignment 15: Fibonacci Sequence\n",
    "\n",
    "Write a program that prints the first n Fibonacci numbers, where n is input by the user."
   ],
   "id": "da32b70888c8f251"
  },
  {
   "cell_type": "code",
   "metadata": {},
   "source": [
    "# Question 1, 2 and 3 - Write a program that asks the user to input a number and prints whether the number is positive.\n",
    "#Solution -\n",
    "num = int(input('Enter a number'))\n",
    "if num >0:\n",
    "    print(f'{num} is a positive number')\n",
    "elif num == 0:\n",
    "    print('number is zero')\n",
    "else:\n",
    "    print(f'{num} is a negative number')"
   ],
   "id": "b531c3fa1ccaf833",
   "outputs": [],
   "execution_count": null
  },
  {
   "metadata": {},
   "cell_type": "code",
   "source": [
    "# Question 4 - Write a program that asks the user to input a number and prints whether the number is positive and even, positive and odd, or negative.\n",
    "#Solution -\n",
    "n = int(input('Enter a number'))\n",
    "if n > 0:\n",
    "    if n%2==0:\n",
    "        print(f'{n} is a positive and even number')\n",
    "    else:\n",
    "        print(f'{n} is a positive and odd number')\n",
    "elif n==0:\n",
    "    print('You entered zero')\n",
    "else:\n",
    "    print(f'{n} is a negative number')"
   ],
   "id": "ccc82e374b87c2cf",
   "outputs": [],
   "execution_count": null
  },
  {
   "metadata": {},
   "cell_type": "code",
   "source": [
    "# Question 5 - Write a program that prints all the numbers from 1 to 10 using a for loop.\n",
    "# Solution\n",
    "print('For Loop')\n",
    "for i in range(1,11):\n",
    "    print(i, end = ' ')\n",
    "\n",
    "print()\n",
    "\n",
    "#Question 6 -  Write a program that prints all the numbers from 1 to 10 using a while loop.\n",
    "j=1\n",
    "print('While Loop')\n",
    "while j < 11:\n",
    "    print(j, end = ' ')\n",
    "    j+=1"
   ],
   "id": "86eb36d6669f81fb",
   "outputs": [],
   "execution_count": null
  },
  {
   "metadata": {},
   "cell_type": "code",
   "source": [
    "#Question 7 - Write a program that prints a 5x5 grid of asterisks (*) using nested loops.\n",
    "for i in range(1,6):\n",
    "    for j in range(1,6):\n",
    "        print(\"*\", end='')\n",
    "    print()"
   ],
   "id": "48699004cdc07caa",
   "outputs": [],
   "execution_count": null
  },
  {
   "metadata": {},
   "cell_type": "code",
   "source": [
    "#Question 8 - Write a program that asks the user to input numbers until they input 0. The program should print the sum of all the input numbers.\n",
    "\n",
    "totalSum = 0\n",
    "while True:\n",
    "    n=int(input('Enter a number'))\n",
    "    totalSum += n\n",
    "    if n==0:\n",
    "        break\n",
    "\n",
    "print(totalSum)"
   ],
   "id": "5875205f4e7a6a11",
   "outputs": [],
   "execution_count": null
  },
  {
   "metadata": {},
   "cell_type": "code",
   "source": [
    "# Question 9 - Write a program that prints all the numbers from 1 to 10 except 5 using a for loop and continue statement.\n",
    "\n",
    "#Solution -\n",
    "for i in range(1,11):\n",
    "    if i == 5:\n",
    "        continue\n",
    "    print(i, end = ' ')"
   ],
   "id": "22c0cbc47f1a4651",
   "outputs": [],
   "execution_count": null
  },
  {
   "metadata": {},
   "cell_type": "code",
   "source": [
    "#Question 10 - Write a program that defines an empty function using the pass statement.\n",
    "def empty_function():\n",
    "    pass\n",
    "empty_function()"
   ],
   "id": "81fda3f71c881dc6",
   "outputs": [],
   "execution_count": null
  },
  {
   "metadata": {
    "ExecuteTime": {
     "end_time": "2025-07-18T20:30:11.168996Z",
     "start_time": "2025-07-18T20:30:07.987096Z"
    }
   },
   "cell_type": "code",
   "source": [
    "# Question 11 - Write a program that asks the user to input a number and prints all the even numbers from 1 to that number using a for loop.\n",
    "\n",
    "n=int(input('Enter a number'))\n",
    "for i in range(1,n+1):\n",
    "    if i%2==0:\n",
    "        print(i, end=' ')"
   ],
   "id": "2d45537c62d71820",
   "outputs": [
    {
     "name": "stdout",
     "output_type": "stream",
     "text": [
      "2 4 6 8 10 12 14 16 18 20 22 24 26 28 30 32 34 36 38 40 42 44 46 48 50 "
     ]
    }
   ],
   "execution_count": 27
  },
  {
   "metadata": {
    "ExecuteTime": {
     "end_time": "2025-07-18T20:38:18.556228Z",
     "start_time": "2025-07-18T20:38:15.943695Z"
    }
   },
   "cell_type": "code",
   "source": [
    "#Question 12 - Write a program that calculates the factorial of a number input by the user using a while loop.\n",
    "\n",
    "n=int(input('Enter a number'))\n",
    "fact=1\n",
    "while n>0:\n",
    "    fact = fact * n\n",
    "    n-=1\n",
    "\n",
    "print(fact)"
   ],
   "id": "ccbe5d47ff34480a",
   "outputs": [
    {
     "name": "stdout",
     "output_type": "stream",
     "text": [
      "3628800\n"
     ]
    }
   ],
   "execution_count": 29
  },
  {
   "metadata": {
    "ExecuteTime": {
     "end_time": "2025-07-18T20:41:50.311715Z",
     "start_time": "2025-07-18T20:41:09.858660Z"
    }
   },
   "cell_type": "code",
   "source": [
    "# Question 13 - Write a program that calculates the sum of the digits of a number input by the user using a while loop.\n",
    "\n",
    "sumOfDigits = 0\n",
    "n=int(input('Enter a number'))\n",
    "while n>0:\n",
    "    sumOfDigits += n%10\n",
    "    n//=10\n",
    "\n",
    "print(sumOfDigits)"
   ],
   "id": "a2bd7ca9ab6fefb5",
   "outputs": [
    {
     "name": "stdout",
     "output_type": "stream",
     "text": [
      "67\n"
     ]
    }
   ],
   "execution_count": 33
  },
  {
   "metadata": {
    "ExecuteTime": {
     "end_time": "2025-07-18T20:47:35.260614Z",
     "start_time": "2025-07-18T20:47:32.497355Z"
    }
   },
   "cell_type": "code",
   "source": [
    "# Question 14 - Write a program that checks if a number input by the user is a prime number using a for loop.\n",
    "n=int(input('Enter a number'))\n",
    "isPrime = True\n",
    "if n<=1:\n",
    "    isPrime = False\n",
    "else:\n",
    "    for i in range(2, int(n**0.5)+1):\n",
    "        if n%i==0:\n",
    "            isPrime = False\n",
    "            break\n",
    "        else:\n",
    "            isPrime = True\n",
    "\n",
    "if isPrime:\n",
    "    print(f'{n} is a prime number')\n",
    "else:\n",
    "    print(f'{n} is not a prime number')"
   ],
   "id": "c86941bc69226530",
   "outputs": [
    {
     "name": "stdout",
     "output_type": "stream",
     "text": [
      "13 is a prime number\n"
     ]
    }
   ],
   "execution_count": 40
  },
  {
   "metadata": {
    "ExecuteTime": {
     "end_time": "2025-07-18T20:50:41.511914Z",
     "start_time": "2025-07-18T20:50:37.989433Z"
    }
   },
   "cell_type": "code",
   "source": [
    "#Question 15 - Fibonacci Series\n",
    "n=int(input('Enter a number'))\n",
    "a,b=0,1\n",
    "count=0\n",
    "while count<n:\n",
    "    print(a, end=' ')\n",
    "    a,b=b,a+b\n",
    "    count+=1\n",
    "\n"
   ],
   "id": "bf10ec40ac8a6427",
   "outputs": [
    {
     "name": "stdout",
     "output_type": "stream",
     "text": [
      "0 1 1 2 3 5 8 13 21 34 55 89 144 233 377 610 987 1597 2584 4181 6765 10946 17711 28657 46368 75025 121393 196418 317811 514229 832040 1346269 2178309 3524578 5702887 9227465 "
     ]
    }
   ],
   "execution_count": 42
  }
 ],
 "metadata": {
  "kernelspec": {
   "display_name": "Python 3",
   "language": "python",
   "name": "python3"
  },
  "language_info": {
   "codemirror_mode": {
    "name": "ipython",
    "version": 3
   },
   "file_extension": ".py",
   "mimetype": "text/x-python",
   "name": "python",
   "nbconvert_exporter": "python",
   "pygments_lexer": "ipython3",
   "version": "3.9.7"
  }
 },
 "nbformat": 4,
 "nbformat_minor": 5
}
