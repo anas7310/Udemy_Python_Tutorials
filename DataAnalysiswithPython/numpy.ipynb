{
 "cells": [
  {
   "metadata": {},
   "cell_type": "markdown",
   "source": [
    "### Numpy\n",
    "NumPy is a fundamental library for scientific computing in Python. It provides support for arrays and matrices, along with a collection of mathematical functions to operate on these data structures. In this lesson, we will cover the basics of NumPy, focusing on arrays and vectorized operations."
   ],
   "id": "7b70c90a05afd58a"
  },
  {
   "cell_type": "code",
   "id": "initial_id",
   "metadata": {
    "collapsed": true,
    "ExecuteTime": {
     "end_time": "2025-08-20T20:41:25.536854Z",
     "start_time": "2025-08-20T20:41:23.006286Z"
    }
   },
   "source": [
    "import numpy as np\n",
    "\n",
    "#create arrays using numpy\n",
    "#create 1D array\n",
    "\n",
    "arr1 = np.array([1,2,3,4,5,6])\n",
    "print(arr1)\n",
    "print(type(arr1))\n",
    "print(arr1.shape)"
   ],
   "outputs": [
    {
     "name": "stdout",
     "output_type": "stream",
     "text": [
      "[1 2 3 4 5 6]\n",
      "<class 'numpy.ndarray'>\n",
      "(6,)\n"
     ]
    }
   ],
   "execution_count": 2
  },
  {
   "metadata": {
    "ExecuteTime": {
     "end_time": "2025-08-20T20:41:25.619581Z",
     "start_time": "2025-08-20T20:41:25.608616Z"
    }
   },
   "cell_type": "code",
   "source": [
    "arr2 = np.array([1,2,3,4,5,6])\n",
    "# arr2.reshape(1,6) #1 Row and 6 Columns\n",
    "arr2.reshape(2,3) #2 rows and 3 columns"
   ],
   "id": "9258e948e5c00ec3",
   "outputs": [
    {
     "data": {
      "text/plain": [
       "array([[1, 2, 3],\n",
       "       [4, 5, 6]])"
      ]
     },
     "execution_count": 3,
     "metadata": {},
     "output_type": "execute_result"
    }
   ],
   "execution_count": 3
  },
  {
   "metadata": {
    "ExecuteTime": {
     "end_time": "2025-08-20T20:41:25.654579Z",
     "start_time": "2025-08-20T20:41:25.647795Z"
    }
   },
   "cell_type": "code",
   "source": [
    "#2D Array\n",
    "arr2 = np.array([[1,2,3,4,5],[4,5,6,7,8]])\n",
    "print(arr2)\n",
    "print(arr2.shape)"
   ],
   "id": "3d860d5d1aa90598",
   "outputs": [
    {
     "name": "stdout",
     "output_type": "stream",
     "text": [
      "[[1 2 3 4 5]\n",
      " [4 5 6 7 8]]\n",
      "(2, 5)\n"
     ]
    }
   ],
   "execution_count": 4
  },
  {
   "metadata": {
    "ExecuteTime": {
     "end_time": "2025-08-20T20:41:25.683821Z",
     "start_time": "2025-08-20T20:41:25.676415Z"
    }
   },
   "cell_type": "code",
   "source": "np.arange(2,10,2).reshape(2,2)",
   "id": "54c87e058f3a5767",
   "outputs": [
    {
     "data": {
      "text/plain": [
       "array([[2, 4],\n",
       "       [6, 8]])"
      ]
     },
     "execution_count": 5,
     "metadata": {},
     "output_type": "execute_result"
    }
   ],
   "execution_count": 5
  },
  {
   "metadata": {
    "ExecuteTime": {
     "end_time": "2025-08-20T20:41:25.717906Z",
     "start_time": "2025-08-20T20:41:25.707461Z"
    }
   },
   "cell_type": "code",
   "source": "np.ones((3,4))",
   "id": "5394aa2daaa39ad9",
   "outputs": [
    {
     "data": {
      "text/plain": [
       "array([[1., 1., 1., 1.],\n",
       "       [1., 1., 1., 1.],\n",
       "       [1., 1., 1., 1.]])"
      ]
     },
     "execution_count": 6,
     "metadata": {},
     "output_type": "execute_result"
    }
   ],
   "execution_count": 6
  },
  {
   "metadata": {
    "ExecuteTime": {
     "end_time": "2025-08-20T20:41:25.747520Z",
     "start_time": "2025-08-20T20:41:25.738798Z"
    }
   },
   "cell_type": "code",
   "source": [
    "#Identity matrix\n",
    "np.eye(3)"
   ],
   "id": "b17f4d23876e72b8",
   "outputs": [
    {
     "data": {
      "text/plain": [
       "array([[1., 0., 0.],\n",
       "       [0., 1., 0.],\n",
       "       [0., 0., 1.]])"
      ]
     },
     "execution_count": 7,
     "metadata": {},
     "output_type": "execute_result"
    }
   ],
   "execution_count": 7
  },
  {
   "metadata": {
    "ExecuteTime": {
     "end_time": "2025-08-20T20:41:25.786990Z",
     "start_time": "2025-08-20T20:41:25.777060Z"
    }
   },
   "cell_type": "code",
   "source": [
    "arr = np.array([[1,2,3],[4,5,6]])\n",
    "\n",
    "print('Array: \\n', arr)\n",
    "print('Shape: ', arr.shape)\n",
    "print('Number of dimensions: ', arr.ndim)\n",
    "print('Size (number of elements): ', arr.size)\n",
    "print('Data type: ', arr.dtype)\n",
    "print('Item size (in bytes)', arr.itemsize)"
   ],
   "id": "5665648988d6d6e4",
   "outputs": [
    {
     "name": "stdout",
     "output_type": "stream",
     "text": [
      "Array: \n",
      " [[1 2 3]\n",
      " [4 5 6]]\n",
      "Shape:  (2, 3)\n",
      "Number of dimensions:  2\n",
      "Size (number of elements):  6\n",
      "Data type:  int64\n",
      "Item size (in bytes) 8\n"
     ]
    }
   ],
   "execution_count": 8
  },
  {
   "metadata": {
    "ExecuteTime": {
     "end_time": "2025-08-20T20:41:25.831543Z",
     "start_time": "2025-08-20T20:41:25.812949Z"
    }
   },
   "cell_type": "code",
   "source": [
    "#Numpy vectorized operations\n",
    "arr1 = np.array([1,2,3,4,5])\n",
    "arr2 = np.array([10,20,30,40,50])\n",
    "\n",
    "#Element wise addition\n",
    "print(\"Addition: \", arr1 + arr2)\n",
    "\n",
    "#Element wise subtraction\n",
    "print(\"Subtraction: \", arr1 - arr2)\n",
    "\n",
    "#Element wise multiplication\n",
    "print(\"Multiplication: \", arr1 * arr2)\n",
    "\n",
    "#Element wise division\n",
    "print(\"Division: \", arr1 / arr2)"
   ],
   "id": "bc7a72ad4d9f1e35",
   "outputs": [
    {
     "name": "stdout",
     "output_type": "stream",
     "text": [
      "Addition:  [11 22 33 44 55]\n",
      "Subtraction:  [ -9 -18 -27 -36 -45]\n",
      "Multiplication:  [ 10  40  90 160 250]\n",
      "Division:  [0.1 0.1 0.1 0.1 0.1]\n"
     ]
    }
   ],
   "execution_count": 9
  },
  {
   "metadata": {
    "ExecuteTime": {
     "end_time": "2025-08-20T20:43:16.123620Z",
     "start_time": "2025-08-20T20:43:16.111575Z"
    }
   },
   "cell_type": "code",
   "source": [
    "#Universal functions\n",
    "arr = np.array([2,3,4,5,6])\n",
    "\n",
    "##square root\n",
    "print(np.sqrt(arr))\n",
    "\n",
    "##Exponential\n",
    "print(np.exp(arr))\n",
    "\n",
    "#Sine\n",
    "print(np.sin(arr))\n",
    "\n",
    "#natural log\n",
    "print(np.log(arr))"
   ],
   "id": "4f2c72956a062e77",
   "outputs": [
    {
     "name": "stdout",
     "output_type": "stream",
     "text": [
      "[1.41421356 1.73205081 2.         2.23606798 2.44948974]\n",
      "[  7.3890561   20.08553692  54.59815003 148.4131591  403.42879349]\n",
      "[ 0.90929743  0.14112001 -0.7568025  -0.95892427 -0.2794155 ]\n",
      "[0.69314718 1.09861229 1.38629436 1.60943791 1.79175947]\n"
     ]
    }
   ],
   "execution_count": 12
  },
  {
   "metadata": {
    "ExecuteTime": {
     "end_time": "2025-08-20T20:46:13.906883Z",
     "start_time": "2025-08-20T20:46:13.900151Z"
    }
   },
   "cell_type": "code",
   "source": [
    "#array slicing and indexing\n",
    "arr = np.array([[1,2,3,4,],[5,6,7,8],[9,10,11,12]])\n",
    "print(\"Array: \\n\", arr)"
   ],
   "id": "f284afbc8a7484d8",
   "outputs": [
    {
     "name": "stdout",
     "output_type": "stream",
     "text": [
      "Array: \n",
      " [[ 1  2  3  4]\n",
      " [ 5  6  7  8]\n",
      " [ 9 10 11 12]]\n"
     ]
    }
   ],
   "execution_count": 13
  },
  {
   "metadata": {
    "ExecuteTime": {
     "end_time": "2025-08-20T20:57:26.619356Z",
     "start_time": "2025-08-20T20:57:26.609385Z"
    }
   },
   "cell_type": "code",
   "source": "print(arr[0][0])",
   "id": "e18ea2b6718e4662",
   "outputs": [
    {
     "name": "stdout",
     "output_type": "stream",
     "text": [
      "1\n"
     ]
    }
   ],
   "execution_count": 19
  },
  {
   "metadata": {
    "ExecuteTime": {
     "end_time": "2025-08-20T20:58:16.577915Z",
     "start_time": "2025-08-20T20:58:16.568383Z"
    }
   },
   "cell_type": "code",
   "source": "arr[1:]",
   "id": "bd4041e93ee0ebeb",
   "outputs": [
    {
     "data": {
      "text/plain": [
       "array([[ 5,  6,  7,  8],\n",
       "       [ 9, 10, 11, 12]])"
      ]
     },
     "execution_count": 20,
     "metadata": {},
     "output_type": "execute_result"
    }
   ],
   "execution_count": 20
  },
  {
   "metadata": {
    "ExecuteTime": {
     "end_time": "2025-08-20T20:58:26.185404Z",
     "start_time": "2025-08-20T20:58:26.176992Z"
    }
   },
   "cell_type": "code",
   "source": "arr[1:,2:]",
   "id": "9cd2f16c0944a73a",
   "outputs": [
    {
     "data": {
      "text/plain": [
       "array([[ 7,  8],\n",
       "       [11, 12]])"
      ]
     },
     "execution_count": 21,
     "metadata": {},
     "output_type": "execute_result"
    }
   ],
   "execution_count": 21
  },
  {
   "metadata": {
    "ExecuteTime": {
     "end_time": "2025-08-20T21:00:03.689449Z",
     "start_time": "2025-08-20T21:00:03.681156Z"
    }
   },
   "cell_type": "code",
   "source": "print(arr[0:2,2:])",
   "id": "5c50718ea9b75586",
   "outputs": [
    {
     "name": "stdout",
     "output_type": "stream",
     "text": [
      "[[3 4]\n",
      " [7 8]]\n"
     ]
    }
   ],
   "execution_count": 27
  },
  {
   "metadata": {
    "ExecuteTime": {
     "end_time": "2025-08-20T21:00:56.465706Z",
     "start_time": "2025-08-20T21:00:56.461045Z"
    }
   },
   "cell_type": "code",
   "source": "print(arr[1:,1:3])",
   "id": "61bb01413c29ae5d",
   "outputs": [
    {
     "name": "stdout",
     "output_type": "stream",
     "text": [
      "[[ 6  7]\n",
      " [10 11]]\n"
     ]
    }
   ],
   "execution_count": 29
  },
  {
   "metadata": {
    "ExecuteTime": {
     "end_time": "2025-08-20T21:01:42.654319Z",
     "start_time": "2025-08-20T21:01:42.648510Z"
    }
   },
   "cell_type": "code",
   "source": [
    "#Modify array elements\n",
    "arr[0,0] = 100\n",
    "print(arr)"
   ],
   "id": "2abb785cc211d18c",
   "outputs": [
    {
     "name": "stdout",
     "output_type": "stream",
     "text": [
      "[[100   2   3   4]\n",
      " [  5   6   7   8]\n",
      " [  9  10  11  12]]\n"
     ]
    }
   ],
   "execution_count": 30
  },
  {
   "metadata": {
    "ExecuteTime": {
     "end_time": "2025-08-20T21:02:12.813631Z",
     "start_time": "2025-08-20T21:02:12.807510Z"
    }
   },
   "cell_type": "code",
   "source": [
    "arr[1:] = 100\n",
    "print(arr)"
   ],
   "id": "b8f969f4c1983446",
   "outputs": [
    {
     "name": "stdout",
     "output_type": "stream",
     "text": [
      "[[100   2   3   4]\n",
      " [100 100 100 100]\n",
      " [100 100 100 100]]\n"
     ]
    }
   ],
   "execution_count": 31
  },
  {
   "metadata": {
    "ExecuteTime": {
     "end_time": "2025-08-25T19:03:44.200456Z",
     "start_time": "2025-08-25T19:03:43.901158Z"
    }
   },
   "cell_type": "code",
   "source": [
    "##statistical concepts - Normalization\n",
    "##to have a mean of 0 and standard deviation of 1\n",
    "\n",
    "data = np.array([1,2,3,4,5])\n",
    "\n",
    "#calculate the mean and standard deviation\n",
    "mean = np.mean(data)\n",
    "std_dev = np.std(data)\n",
    "\n",
    "#Normalize the data\n",
    "normalized_data = (data-mean)/std_dev\n",
    "print(\"Normalized data: \", normalized_data)"
   ],
   "id": "e726652b64b4a018",
   "outputs": [
    {
     "name": "stdout",
     "output_type": "stream",
     "text": [
      "Normalized data:  [-1.41421356 -0.70710678  0.          0.70710678  1.41421356]\n"
     ]
    }
   ],
   "execution_count": 34
  },
  {
   "metadata": {
    "ExecuteTime": {
     "end_time": "2025-08-25T19:05:18.002187Z",
     "start_time": "2025-08-25T19:05:17.991709Z"
    }
   },
   "cell_type": "code",
   "source": [
    "print(\"Mean: \", mean)\n",
    "print(\"Standard Deviation: \", std_dev)\n",
    "print(np.mean(normalized_data))\n",
    "print(np.std(normalized_data))"
   ],
   "id": "bbff700436dff46",
   "outputs": [
    {
     "name": "stdout",
     "output_type": "stream",
     "text": [
      "Mean:  3.0\n",
      "Standard Deviation:  1.4142135623730951\n",
      "0.0\n",
      "0.9999999999999999\n"
     ]
    }
   ],
   "execution_count": 36
  },
  {
   "metadata": {
    "ExecuteTime": {
     "end_time": "2025-08-25T19:43:57.313271Z",
     "start_time": "2025-08-25T19:43:57.149987Z"
    }
   },
   "cell_type": "code",
   "source": [
    "data = np.array([1,2,3,4,5,6,7,8,9,10])\n",
    "\n",
    "#Mean\n",
    "mean = np.mean(data)\n",
    "print(\"Mean: \", mean)\n",
    "\n",
    "#Median\n",
    "median = np.median(data)\n",
    "print(\"Median: \", median)\n",
    "\n",
    "#Standard Deviation\n",
    "std_dev = np.std(data)\n",
    "print(\"Standard Deviation: \", std_dev)\n",
    "\n",
    "#Variance\n",
    "variance = np.var(data)\n",
    "print(\"Variance: \", variance)"
   ],
   "id": "633aed9fe1265395",
   "outputs": [
    {
     "name": "stdout",
     "output_type": "stream",
     "text": [
      "Mean:  5.5\n",
      "Median:  5.5\n",
      "Standard Deviation:  2.8722813232690143\n",
      "Variance:  8.25\n"
     ]
    }
   ],
   "execution_count": 39
  },
  {
   "metadata": {
    "ExecuteTime": {
     "end_time": "2025-08-25T19:46:40.698315Z",
     "start_time": "2025-08-25T19:46:40.678617Z"
    }
   },
   "cell_type": "code",
   "source": [
    "##Logical Operations\n",
    "data = np.array([1,2,3,4,5,6,7,8,9,10])\n",
    "\n",
    "data[(data>=5) & (data<=8)]\n"
   ],
   "id": "4101bde45e08707f",
   "outputs": [
    {
     "data": {
      "text/plain": [
       "array([5, 6, 7, 8])"
      ]
     },
     "execution_count": 42,
     "metadata": {},
     "output_type": "execute_result"
    }
   ],
   "execution_count": 42
  },
  {
   "metadata": {},
   "cell_type": "code",
   "outputs": [],
   "execution_count": null,
   "source": "",
   "id": "f390e61055d5e1a3"
  }
 ],
 "metadata": {
  "kernelspec": {
   "display_name": "Python 3",
   "language": "python",
   "name": "python3"
  },
  "language_info": {
   "codemirror_mode": {
    "name": "ipython",
    "version": 2
   },
   "file_extension": ".py",
   "mimetype": "text/x-python",
   "name": "python",
   "nbconvert_exporter": "python",
   "pygments_lexer": "ipython2",
   "version": "2.7.6"
  }
 },
 "nbformat": 4,
 "nbformat_minor": 5
}
