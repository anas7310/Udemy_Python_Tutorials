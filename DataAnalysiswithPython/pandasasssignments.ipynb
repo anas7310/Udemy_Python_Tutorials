{
 "cells": [
  {
   "cell_type": "markdown",
   "metadata": {},
   "source": [
    "# Module: Pandas Assignments\n",
    "## Lesson: Pandas\n",
    "### Assignment 1: DataFrame Creation and Indexing\n",
    "\n",
    "1. Create a Pandas DataFrame with 4 columns and 6 rows filled with random integers. Set the index to be the first column.\n",
    "2. Create a Pandas DataFrame with columns 'A', 'B', 'C' and index 'X', 'Y', 'Z'. Fill the DataFrame with random integers and access the element at row 'Y' and column 'B'.\n",
    "\n",
    "### Assignment 2: DataFrame Operations\n",
    "\n",
    "1. Create a Pandas DataFrame with 3 columns and 5 rows filled with random integers. Add a new column that is the product of the first two columns.\n",
    "2. Create a Pandas DataFrame with 3 columns and 4 rows filled with random integers. Compute the row-wise and column-wise sum.\n",
    "\n",
    "### Assignment 3: Data Cleaning\n",
    "\n",
    "1. Create a Pandas DataFrame with 3 columns and 5 rows filled with random integers. Introduce some NaN values. Fill the NaN values with the mean of the respective columns.\n",
    "2. Create a Pandas DataFrame with 4 columns and 6 rows filled with random integers. Introduce some NaN values. Drop the rows with any NaN values.\n",
    "\n",
    "### Assignment 4: Data Aggregation\n",
    "\n",
    "1. Create a Pandas DataFrame with 2 columns: 'Category' and 'Value'. Fill the 'Category' column with random categories ('A', 'B', 'C') and the 'Value' column with random integers. Group the DataFrame by 'Category' and compute the sum and mean of 'Value' for each category.\n",
    "2. Create a Pandas DataFrame with 3 columns: 'Product', 'Category', and 'Sales'. Fill the DataFrame with random data. Group the DataFrame by 'Category' and compute the total sales for each category.\n",
    "\n",
    "### Assignment 5: Merging DataFrames\n",
    "\n",
    "1. Create two Pandas DataFrames with a common column. Merge the DataFrames using the common column.\n",
    "2. Create two Pandas DataFrames with different columns. Concatenate the DataFrames along the rows and along the columns.\n",
    "\n",
    "### Assignment 6: Time Series Analysis\n",
    "\n",
    "1. Create a Pandas DataFrame with a datetime index and one column filled with random integers. Resample the DataFrame to compute the monthly mean of the values.\n",
    "2. Create a Pandas DataFrame with a datetime index ranging from '2021-01-01' to '2021-12-31' and one column filled with random integers. Compute the rolling mean with a window of 7 days.\n",
    "\n",
    "### Assignment 7: MultiIndex DataFrame\n",
    "\n",
    "1. Create a Pandas DataFrame with a MultiIndex (hierarchical index). Perform some basic indexing and slicing operations on the MultiIndex DataFrame.\n",
    "2. Create a Pandas DataFrame with MultiIndex consisting of 'Category' and 'SubCategory'. Fill the DataFrame with random data and compute the sum of values for each 'Category' and 'SubCategory'.\n",
    "\n",
    "### Assignment 8: Pivot Tables\n",
    "\n",
    "1. Create a Pandas DataFrame with columns 'Date', 'Category', and 'Value'. Create a pivot table to compute the sum of 'Value' for each 'Category' by 'Date'.\n",
    "2. Create a Pandas DataFrame with columns 'Year', 'Quarter', and 'Revenue'. Create a pivot table to compute the mean 'Revenue' for each 'Quarter' by 'Year'.\n",
    "\n",
    "### Assignment 9: Applying Functions\n",
    "\n",
    "1. Create a Pandas DataFrame with 3 columns and 5 rows filled with random integers. Apply a function that doubles the values of the DataFrame.\n",
    "2. Create a Pandas DataFrame with 3 columns and 6 rows filled with random integers. Apply a lambda function to create a new column that is the sum of the existing columns.\n",
    "\n",
    "### Assignment 10: Working with Text Data\n",
    "\n",
    "1. Create a Pandas Series with 5 random text strings. Convert all the strings to uppercase.\n",
    "2. Create a Pandas Series with 5 random text strings. Extract the first three characters of each string.\n"
   ],
   "id": "f61fb196619c3fc5"
  },
  {
   "cell_type": "code",
   "metadata": {
    "ExecuteTime": {
     "end_time": "2025-08-30T17:59:42.699440Z",
     "start_time": "2025-08-30T17:59:42.688062Z"
    }
   },
   "source": [
    "import pandas as pd\n",
    "import numpy as np\n",
    "\n",
    "#Solution 1\n",
    "df = pd.DataFrame(np.random.randint( 1,100, size=(6,4)), columns=list('ABCD'))\n",
    "print(df)"
   ],
   "id": "1bc362df08b4038b",
   "outputs": [
    {
     "name": "stdout",
     "output_type": "stream",
     "text": [
      "    A   B   C   D\n",
      "0  66  68  93  19\n",
      "1  38  90  60  61\n",
      "2  42  49  94  54\n",
      "3  29  94  50  51\n",
      "4  68  15  32  96\n",
      "5  90  71   5  24\n"
     ]
    }
   ],
   "execution_count": 7
  },
  {
   "metadata": {
    "ExecuteTime": {
     "end_time": "2025-08-30T17:58:40.214916Z",
     "start_time": "2025-08-30T17:58:40.079901Z"
    }
   },
   "cell_type": "code",
   "source": "df.set_index('A', inplace=True)",
   "id": "f70c7e2301e33c74",
   "outputs": [],
   "execution_count": 3
  },
  {
   "metadata": {
    "ExecuteTime": {
     "end_time": "2025-08-30T17:59:34.024999Z",
     "start_time": "2025-08-30T17:59:34.016754Z"
    }
   },
   "cell_type": "code",
   "source": [
    "print(\"Data Frame with new index:\")\n",
    "print(df)"
   ],
   "id": "580a20a2ac7a4b09",
   "outputs": [
    {
     "name": "stdout",
     "output_type": "stream",
     "text": [
      "Data Frame with new index:\n",
      "     B   C   D\n",
      "A             \n",
      "40   7  30  64\n",
      "82  11   7  24\n",
      "79  59  30   9\n",
      "67  27  14  22\n",
      "2   33  91  38\n",
      "90  89  42   7\n"
     ]
    }
   ],
   "execution_count": 6
  },
  {
   "metadata": {
    "ExecuteTime": {
     "end_time": "2025-08-30T18:00:51.524686Z",
     "start_time": "2025-08-30T18:00:51.511044Z"
    }
   },
   "cell_type": "code",
   "source": [
    "#Solution2\n",
    "df = pd.DataFrame(np.random.randint( 1,100, size=(3,3)), columns=list('ABC'), index=list('XYZ'))\n",
    "df"
   ],
   "id": "17576c22cdc8aea0",
   "outputs": [
    {
     "data": {
      "text/plain": [
       "    A   B   C\n",
       "X  92  71   8\n",
       "Y  12   7  32\n",
       "Z  75  55  34"
      ],
      "text/html": [
       "<div>\n",
       "<style scoped>\n",
       "    .dataframe tbody tr th:only-of-type {\n",
       "        vertical-align: middle;\n",
       "    }\n",
       "\n",
       "    .dataframe tbody tr th {\n",
       "        vertical-align: top;\n",
       "    }\n",
       "\n",
       "    .dataframe thead th {\n",
       "        text-align: right;\n",
       "    }\n",
       "</style>\n",
       "<table border=\"1\" class=\"dataframe\">\n",
       "  <thead>\n",
       "    <tr style=\"text-align: right;\">\n",
       "      <th></th>\n",
       "      <th>A</th>\n",
       "      <th>B</th>\n",
       "      <th>C</th>\n",
       "    </tr>\n",
       "  </thead>\n",
       "  <tbody>\n",
       "    <tr>\n",
       "      <th>X</th>\n",
       "      <td>92</td>\n",
       "      <td>71</td>\n",
       "      <td>8</td>\n",
       "    </tr>\n",
       "    <tr>\n",
       "      <th>Y</th>\n",
       "      <td>12</td>\n",
       "      <td>7</td>\n",
       "      <td>32</td>\n",
       "    </tr>\n",
       "    <tr>\n",
       "      <th>Z</th>\n",
       "      <td>75</td>\n",
       "      <td>55</td>\n",
       "      <td>34</td>\n",
       "    </tr>\n",
       "  </tbody>\n",
       "</table>\n",
       "</div>"
      ]
     },
     "execution_count": 8,
     "metadata": {},
     "output_type": "execute_result"
    }
   ],
   "execution_count": 8
  },
  {
   "metadata": {
    "ExecuteTime": {
     "end_time": "2025-08-30T18:01:44.130584Z",
     "start_time": "2025-08-30T18:01:44.125965Z"
    }
   },
   "cell_type": "code",
   "source": "print(df.at['Y','B'])",
   "id": "8b8fdfc06acce6c0",
   "outputs": [
    {
     "name": "stdout",
     "output_type": "stream",
     "text": [
      "7\n"
     ]
    }
   ],
   "execution_count": 12
  },
  {
   "metadata": {
    "ExecuteTime": {
     "end_time": "2025-08-30T18:03:00.614239Z",
     "start_time": "2025-08-30T18:03:00.601307Z"
    }
   },
   "cell_type": "code",
   "source": [
    "#Solution3\n",
    "df = pd.DataFrame(np.random.randint( 1,100, size=(5,3)), columns=list('ABC'))\n",
    "\n",
    "print(df)"
   ],
   "id": "34286770b41dfcc3",
   "outputs": [
    {
     "name": "stdout",
     "output_type": "stream",
     "text": [
      "    A   B   C\n",
      "0  63  82  40\n",
      "1  13  86  81\n",
      "2  40  16  65\n",
      "3  41  64  71\n",
      "4  68  76  94\n"
     ]
    }
   ],
   "execution_count": 13
  },
  {
   "metadata": {
    "ExecuteTime": {
     "end_time": "2025-08-30T18:04:21.860839Z",
     "start_time": "2025-08-30T18:04:21.854794Z"
    }
   },
   "cell_type": "code",
   "source": "df['D'] = df['A'] * df['B']",
   "id": "dfcae20713a68590",
   "outputs": [],
   "execution_count": 17
  },
  {
   "metadata": {
    "ExecuteTime": {
     "end_time": "2025-08-30T18:04:41.014775Z",
     "start_time": "2025-08-30T18:04:41.001190Z"
    }
   },
   "cell_type": "code",
   "source": [
    "#DataFrame with new column D\n",
    "df"
   ],
   "id": "9a03bc1ca77d7bbf",
   "outputs": [
    {
     "data": {
      "text/plain": [
       "    A   B   C     D\n",
       "0  63  82  40  5166\n",
       "1  13  86  81  1118\n",
       "2  40  16  65   640\n",
       "3  41  64  71  2624\n",
       "4  68  76  94  5168"
      ],
      "text/html": [
       "<div>\n",
       "<style scoped>\n",
       "    .dataframe tbody tr th:only-of-type {\n",
       "        vertical-align: middle;\n",
       "    }\n",
       "\n",
       "    .dataframe tbody tr th {\n",
       "        vertical-align: top;\n",
       "    }\n",
       "\n",
       "    .dataframe thead th {\n",
       "        text-align: right;\n",
       "    }\n",
       "</style>\n",
       "<table border=\"1\" class=\"dataframe\">\n",
       "  <thead>\n",
       "    <tr style=\"text-align: right;\">\n",
       "      <th></th>\n",
       "      <th>A</th>\n",
       "      <th>B</th>\n",
       "      <th>C</th>\n",
       "      <th>D</th>\n",
       "    </tr>\n",
       "  </thead>\n",
       "  <tbody>\n",
       "    <tr>\n",
       "      <th>0</th>\n",
       "      <td>63</td>\n",
       "      <td>82</td>\n",
       "      <td>40</td>\n",
       "      <td>5166</td>\n",
       "    </tr>\n",
       "    <tr>\n",
       "      <th>1</th>\n",
       "      <td>13</td>\n",
       "      <td>86</td>\n",
       "      <td>81</td>\n",
       "      <td>1118</td>\n",
       "    </tr>\n",
       "    <tr>\n",
       "      <th>2</th>\n",
       "      <td>40</td>\n",
       "      <td>16</td>\n",
       "      <td>65</td>\n",
       "      <td>640</td>\n",
       "    </tr>\n",
       "    <tr>\n",
       "      <th>3</th>\n",
       "      <td>41</td>\n",
       "      <td>64</td>\n",
       "      <td>71</td>\n",
       "      <td>2624</td>\n",
       "    </tr>\n",
       "    <tr>\n",
       "      <th>4</th>\n",
       "      <td>68</td>\n",
       "      <td>76</td>\n",
       "      <td>94</td>\n",
       "      <td>5168</td>\n",
       "    </tr>\n",
       "  </tbody>\n",
       "</table>\n",
       "</div>"
      ]
     },
     "execution_count": 19,
     "metadata": {},
     "output_type": "execute_result"
    }
   ],
   "execution_count": 19
  },
  {
   "metadata": {
    "ExecuteTime": {
     "end_time": "2025-08-30T18:09:38.538847Z",
     "start_time": "2025-08-30T18:09:38.520997Z"
    }
   },
   "cell_type": "code",
   "source": [
    "#Solution 4\n",
    "df = pd.DataFrame(np.random.randint(1,100, size=(4,3)), columns=['A','B','C'])\n",
    "print(\"Original Array\\n\",df)\n",
    "\n",
    "row_sum = df.sum(axis=1)\n",
    "column_sum = df.sum(axis=0)\n",
    "\n",
    "print(\"Row Sum: \\n\", row_sum)\n",
    "print(\"Column Sum: \\n\", column_sum)"
   ],
   "id": "2c292a5cd3a5e0f7",
   "outputs": [
    {
     "name": "stdout",
     "output_type": "stream",
     "text": [
      "Original Array\n",
      "     A   B   C\n",
      "0  57  80  79\n",
      "1  97  68  15\n",
      "2  77  98  33\n",
      "3  31  77  20\n",
      "Row Sum: \n",
      " 0    216\n",
      "1    180\n",
      "2    208\n",
      "3    128\n",
      "dtype: int64\n",
      "Column Sum: \n",
      " A    262\n",
      "B    323\n",
      "C    147\n",
      "dtype: int64\n"
     ]
    }
   ],
   "execution_count": 24
  },
  {
   "metadata": {
    "ExecuteTime": {
     "end_time": "2025-08-30T18:13:02.097606Z",
     "start_time": "2025-08-30T18:13:01.963773Z"
    }
   },
   "cell_type": "code",
   "source": [
    "#Solution5\n",
    "\n",
    "df = pd.DataFrame(np.random.randint(1,100, size=(5,3)), columns=['A','B','C'])\n",
    "print(\"Original DataFrame: \\n\",df)\n",
    "\n",
    "df.iloc[0,1]=np.nan\n",
    "df.iloc[2,2]=np.nan\n",
    "df.iloc[4,0]=np.nan\n",
    "df.iloc[3,2]=np.nan\n",
    "df"
   ],
   "id": "c0fbf311aee0643c",
   "outputs": [
    {
     "name": "stdout",
     "output_type": "stream",
     "text": [
      "Original DataFrame: \n",
      "     A   B   C\n",
      "0  44  64  49\n",
      "1  83  47  81\n",
      "2  29   1  43\n",
      "3  87  69  11\n",
      "4  48  47  58\n"
     ]
    },
    {
     "data": {
      "text/plain": [
       "      A     B     C\n",
       "0  44.0   NaN  49.0\n",
       "1  83.0  47.0  81.0\n",
       "2  29.0   1.0   NaN\n",
       "3  87.0  69.0   NaN\n",
       "4   NaN  47.0  58.0"
      ],
      "text/html": [
       "<div>\n",
       "<style scoped>\n",
       "    .dataframe tbody tr th:only-of-type {\n",
       "        vertical-align: middle;\n",
       "    }\n",
       "\n",
       "    .dataframe tbody tr th {\n",
       "        vertical-align: top;\n",
       "    }\n",
       "\n",
       "    .dataframe thead th {\n",
       "        text-align: right;\n",
       "    }\n",
       "</style>\n",
       "<table border=\"1\" class=\"dataframe\">\n",
       "  <thead>\n",
       "    <tr style=\"text-align: right;\">\n",
       "      <th></th>\n",
       "      <th>A</th>\n",
       "      <th>B</th>\n",
       "      <th>C</th>\n",
       "    </tr>\n",
       "  </thead>\n",
       "  <tbody>\n",
       "    <tr>\n",
       "      <th>0</th>\n",
       "      <td>44.0</td>\n",
       "      <td>NaN</td>\n",
       "      <td>49.0</td>\n",
       "    </tr>\n",
       "    <tr>\n",
       "      <th>1</th>\n",
       "      <td>83.0</td>\n",
       "      <td>47.0</td>\n",
       "      <td>81.0</td>\n",
       "    </tr>\n",
       "    <tr>\n",
       "      <th>2</th>\n",
       "      <td>29.0</td>\n",
       "      <td>1.0</td>\n",
       "      <td>NaN</td>\n",
       "    </tr>\n",
       "    <tr>\n",
       "      <th>3</th>\n",
       "      <td>87.0</td>\n",
       "      <td>69.0</td>\n",
       "      <td>NaN</td>\n",
       "    </tr>\n",
       "    <tr>\n",
       "      <th>4</th>\n",
       "      <td>NaN</td>\n",
       "      <td>47.0</td>\n",
       "      <td>58.0</td>\n",
       "    </tr>\n",
       "  </tbody>\n",
       "</table>\n",
       "</div>"
      ]
     },
     "execution_count": 30,
     "metadata": {},
     "output_type": "execute_result"
    }
   ],
   "execution_count": 30
  },
  {
   "metadata": {
    "ExecuteTime": {
     "end_time": "2025-08-30T18:13:13.414745Z",
     "start_time": "2025-08-30T18:13:13.150336Z"
    }
   },
   "cell_type": "code",
   "source": [
    "df.fillna(df.mean(), inplace=True)\n",
    "df"
   ],
   "id": "ae6811a2277a4068",
   "outputs": [
    {
     "data": {
      "text/plain": [
       "       A     B          C\n",
       "0  44.00  41.0  49.000000\n",
       "1  83.00  47.0  81.000000\n",
       "2  29.00   1.0  62.666667\n",
       "3  87.00  69.0  62.666667\n",
       "4  60.75  47.0  58.000000"
      ],
      "text/html": [
       "<div>\n",
       "<style scoped>\n",
       "    .dataframe tbody tr th:only-of-type {\n",
       "        vertical-align: middle;\n",
       "    }\n",
       "\n",
       "    .dataframe tbody tr th {\n",
       "        vertical-align: top;\n",
       "    }\n",
       "\n",
       "    .dataframe thead th {\n",
       "        text-align: right;\n",
       "    }\n",
       "</style>\n",
       "<table border=\"1\" class=\"dataframe\">\n",
       "  <thead>\n",
       "    <tr style=\"text-align: right;\">\n",
       "      <th></th>\n",
       "      <th>A</th>\n",
       "      <th>B</th>\n",
       "      <th>C</th>\n",
       "    </tr>\n",
       "  </thead>\n",
       "  <tbody>\n",
       "    <tr>\n",
       "      <th>0</th>\n",
       "      <td>44.00</td>\n",
       "      <td>41.0</td>\n",
       "      <td>49.000000</td>\n",
       "    </tr>\n",
       "    <tr>\n",
       "      <th>1</th>\n",
       "      <td>83.00</td>\n",
       "      <td>47.0</td>\n",
       "      <td>81.000000</td>\n",
       "    </tr>\n",
       "    <tr>\n",
       "      <th>2</th>\n",
       "      <td>29.00</td>\n",
       "      <td>1.0</td>\n",
       "      <td>62.666667</td>\n",
       "    </tr>\n",
       "    <tr>\n",
       "      <th>3</th>\n",
       "      <td>87.00</td>\n",
       "      <td>69.0</td>\n",
       "      <td>62.666667</td>\n",
       "    </tr>\n",
       "    <tr>\n",
       "      <th>4</th>\n",
       "      <td>60.75</td>\n",
       "      <td>47.0</td>\n",
       "      <td>58.000000</td>\n",
       "    </tr>\n",
       "  </tbody>\n",
       "</table>\n",
       "</div>"
      ]
     },
     "execution_count": 31,
     "metadata": {},
     "output_type": "execute_result"
    }
   ],
   "execution_count": 31
  },
  {
   "metadata": {
    "ExecuteTime": {
     "end_time": "2025-08-30T18:26:19.248894Z",
     "start_time": "2025-08-30T18:26:19.217287Z"
    }
   },
   "cell_type": "code",
   "source": [
    "#Solution 6\n",
    "df = pd.DataFrame(np.random.randint(1,101, size=(6,4)),columns=['A','B','C','D'])\n",
    "print(\"Original DataFrame: \\n\",df)\n",
    "\n",
    "\n",
    "df.iloc[0,1]=np.nan\n",
    "df.iloc[4,3]=np.nan\n",
    "df.iloc[5,1]=np.nan\n",
    "df.iloc[5,3]=np.nan\n",
    "print(\"DATAFRAME with NaN values\")\n",
    "print(df)"
   ],
   "id": "662d869fcb42bc23",
   "outputs": [
    {
     "name": "stdout",
     "output_type": "stream",
     "text": [
      "Original DataFrame: \n",
      "     A   B    C   D\n",
      "0  86  93    9  72\n",
      "1  48  26  100  92\n",
      "2  54  23    2  39\n",
      "3  51  67   74  86\n",
      "4   7  90   16  49\n",
      "5  66  94   16  74\n",
      "DATAFRAME with NaN values\n",
      "    A     B    C     D\n",
      "0  86   NaN    9  72.0\n",
      "1  48  26.0  100  92.0\n",
      "2  54  23.0    2  39.0\n",
      "3  51  67.0   74  86.0\n",
      "4   7  90.0   16   NaN\n",
      "5  66   NaN   16   NaN\n"
     ]
    }
   ],
   "execution_count": 34
  },
  {
   "metadata": {
    "ExecuteTime": {
     "end_time": "2025-08-30T18:26:27.749703Z",
     "start_time": "2025-08-30T18:26:27.090538Z"
    }
   },
   "cell_type": "code",
   "source": "df.dropna(inplace=True)",
   "id": "6a77ea292bb7cb5c",
   "outputs": [],
   "execution_count": 35
  },
  {
   "metadata": {
    "ExecuteTime": {
     "end_time": "2025-08-30T18:27:04.293209Z",
     "start_time": "2025-08-30T18:27:04.280159Z"
    }
   },
   "cell_type": "code",
   "source": "print(\"DataFrame after dropping rows with NaN values\\n\",df)",
   "id": "6cd325bb6df76b16",
   "outputs": [
    {
     "name": "stdout",
     "output_type": "stream",
     "text": [
      "DataFrame after dropping rows with NaN values\n",
      "     A     B    C     D\n",
      "1  48  26.0  100  92.0\n",
      "2  54  23.0    2  39.0\n",
      "3  51  67.0   74  86.0\n"
     ]
    }
   ],
   "execution_count": 38
  },
  {
   "metadata": {
    "ExecuteTime": {
     "end_time": "2025-08-30T18:29:59.881161Z",
     "start_time": "2025-08-30T18:29:59.487175Z"
    }
   },
   "cell_type": "code",
   "source": [
    "#Solution 7\n",
    "df = pd.DataFrame({'Categories':np.random.choice(['A','B','C'], size=10), 'Values': np.random.randint(1,100, size=10)}, columns=['Categories', 'Values'])\n",
    "df"
   ],
   "id": "b4ecde1e8e407dd3",
   "outputs": [
    {
     "data": {
      "text/plain": [
       "  Categories  Values\n",
       "0          C       2\n",
       "1          B      35\n",
       "2          A      37\n",
       "3          A      55\n",
       "4          C      97\n",
       "5          C      45\n",
       "6          C       9\n",
       "7          A      75\n",
       "8          B       1\n",
       "9          C      44"
      ],
      "text/html": [
       "<div>\n",
       "<style scoped>\n",
       "    .dataframe tbody tr th:only-of-type {\n",
       "        vertical-align: middle;\n",
       "    }\n",
       "\n",
       "    .dataframe tbody tr th {\n",
       "        vertical-align: top;\n",
       "    }\n",
       "\n",
       "    .dataframe thead th {\n",
       "        text-align: right;\n",
       "    }\n",
       "</style>\n",
       "<table border=\"1\" class=\"dataframe\">\n",
       "  <thead>\n",
       "    <tr style=\"text-align: right;\">\n",
       "      <th></th>\n",
       "      <th>Categories</th>\n",
       "      <th>Values</th>\n",
       "    </tr>\n",
       "  </thead>\n",
       "  <tbody>\n",
       "    <tr>\n",
       "      <th>0</th>\n",
       "      <td>C</td>\n",
       "      <td>2</td>\n",
       "    </tr>\n",
       "    <tr>\n",
       "      <th>1</th>\n",
       "      <td>B</td>\n",
       "      <td>35</td>\n",
       "    </tr>\n",
       "    <tr>\n",
       "      <th>2</th>\n",
       "      <td>A</td>\n",
       "      <td>37</td>\n",
       "    </tr>\n",
       "    <tr>\n",
       "      <th>3</th>\n",
       "      <td>A</td>\n",
       "      <td>55</td>\n",
       "    </tr>\n",
       "    <tr>\n",
       "      <th>4</th>\n",
       "      <td>C</td>\n",
       "      <td>97</td>\n",
       "    </tr>\n",
       "    <tr>\n",
       "      <th>5</th>\n",
       "      <td>C</td>\n",
       "      <td>45</td>\n",
       "    </tr>\n",
       "    <tr>\n",
       "      <th>6</th>\n",
       "      <td>C</td>\n",
       "      <td>9</td>\n",
       "    </tr>\n",
       "    <tr>\n",
       "      <th>7</th>\n",
       "      <td>A</td>\n",
       "      <td>75</td>\n",
       "    </tr>\n",
       "    <tr>\n",
       "      <th>8</th>\n",
       "      <td>B</td>\n",
       "      <td>1</td>\n",
       "    </tr>\n",
       "    <tr>\n",
       "      <th>9</th>\n",
       "      <td>C</td>\n",
       "      <td>44</td>\n",
       "    </tr>\n",
       "  </tbody>\n",
       "</table>\n",
       "</div>"
      ]
     },
     "execution_count": 41,
     "metadata": {},
     "output_type": "execute_result"
    }
   ],
   "execution_count": 41
  },
  {
   "metadata": {
    "ExecuteTime": {
     "end_time": "2025-08-30T18:31:58.776397Z",
     "start_time": "2025-08-30T18:31:58.758813Z"
    }
   },
   "cell_type": "code",
   "source": "grouped_sum = df.groupby('Categories')['Values'].agg(['sum', 'mean'])",
   "id": "f0b8104baa66f99b",
   "outputs": [],
   "execution_count": 45
  },
  {
   "metadata": {
    "ExecuteTime": {
     "end_time": "2025-08-30T18:32:01.050905Z",
     "start_time": "2025-08-30T18:32:01.041765Z"
    }
   },
   "cell_type": "code",
   "source": "grouped_sum",
   "id": "e4cf8655cb98a49e",
   "outputs": [
    {
     "data": {
      "text/plain": [
       "            sum       mean\n",
       "Categories                \n",
       "A           167  55.666667\n",
       "B            36  18.000000\n",
       "C           197  39.400000"
      ],
      "text/html": [
       "<div>\n",
       "<style scoped>\n",
       "    .dataframe tbody tr th:only-of-type {\n",
       "        vertical-align: middle;\n",
       "    }\n",
       "\n",
       "    .dataframe tbody tr th {\n",
       "        vertical-align: top;\n",
       "    }\n",
       "\n",
       "    .dataframe thead th {\n",
       "        text-align: right;\n",
       "    }\n",
       "</style>\n",
       "<table border=\"1\" class=\"dataframe\">\n",
       "  <thead>\n",
       "    <tr style=\"text-align: right;\">\n",
       "      <th></th>\n",
       "      <th>sum</th>\n",
       "      <th>mean</th>\n",
       "    </tr>\n",
       "    <tr>\n",
       "      <th>Categories</th>\n",
       "      <th></th>\n",
       "      <th></th>\n",
       "    </tr>\n",
       "  </thead>\n",
       "  <tbody>\n",
       "    <tr>\n",
       "      <th>A</th>\n",
       "      <td>167</td>\n",
       "      <td>55.666667</td>\n",
       "    </tr>\n",
       "    <tr>\n",
       "      <th>B</th>\n",
       "      <td>36</td>\n",
       "      <td>18.000000</td>\n",
       "    </tr>\n",
       "    <tr>\n",
       "      <th>C</th>\n",
       "      <td>197</td>\n",
       "      <td>39.400000</td>\n",
       "    </tr>\n",
       "  </tbody>\n",
       "</table>\n",
       "</div>"
      ]
     },
     "execution_count": 46,
     "metadata": {},
     "output_type": "execute_result"
    }
   ],
   "execution_count": 46
  },
  {
   "metadata": {
    "ExecuteTime": {
     "end_time": "2025-08-30T18:36:20.175491Z",
     "start_time": "2025-08-30T18:36:19.635597Z"
    }
   },
   "cell_type": "code",
   "source": [
    "#Solution 8\n",
    "df = pd.DataFrame({'Product':np.random.choice(['A','B','C','D'], size=10), 'Category':np.random.choice(['X','Y','Z'], size=10), 'Sales':np.random.randint(101,201,size=10)}, columns=['Product', 'Category', 'Sales'])\n",
    "\n",
    "df"
   ],
   "id": "ef51d4ca174f3bb5",
   "outputs": [
    {
     "data": {
      "text/plain": [
       "  Product Category  Sales\n",
       "0       B        Z    122\n",
       "1       A        Y    162\n",
       "2       C        Z    116\n",
       "3       C        Y    122\n",
       "4       A        X    200\n",
       "5       C        Y    140\n",
       "6       A        Y    139\n",
       "7       C        X    151\n",
       "8       A        Y    159\n",
       "9       C        Y    160"
      ],
      "text/html": [
       "<div>\n",
       "<style scoped>\n",
       "    .dataframe tbody tr th:only-of-type {\n",
       "        vertical-align: middle;\n",
       "    }\n",
       "\n",
       "    .dataframe tbody tr th {\n",
       "        vertical-align: top;\n",
       "    }\n",
       "\n",
       "    .dataframe thead th {\n",
       "        text-align: right;\n",
       "    }\n",
       "</style>\n",
       "<table border=\"1\" class=\"dataframe\">\n",
       "  <thead>\n",
       "    <tr style=\"text-align: right;\">\n",
       "      <th></th>\n",
       "      <th>Product</th>\n",
       "      <th>Category</th>\n",
       "      <th>Sales</th>\n",
       "    </tr>\n",
       "  </thead>\n",
       "  <tbody>\n",
       "    <tr>\n",
       "      <th>0</th>\n",
       "      <td>B</td>\n",
       "      <td>Z</td>\n",
       "      <td>122</td>\n",
       "    </tr>\n",
       "    <tr>\n",
       "      <th>1</th>\n",
       "      <td>A</td>\n",
       "      <td>Y</td>\n",
       "      <td>162</td>\n",
       "    </tr>\n",
       "    <tr>\n",
       "      <th>2</th>\n",
       "      <td>C</td>\n",
       "      <td>Z</td>\n",
       "      <td>116</td>\n",
       "    </tr>\n",
       "    <tr>\n",
       "      <th>3</th>\n",
       "      <td>C</td>\n",
       "      <td>Y</td>\n",
       "      <td>122</td>\n",
       "    </tr>\n",
       "    <tr>\n",
       "      <th>4</th>\n",
       "      <td>A</td>\n",
       "      <td>X</td>\n",
       "      <td>200</td>\n",
       "    </tr>\n",
       "    <tr>\n",
       "      <th>5</th>\n",
       "      <td>C</td>\n",
       "      <td>Y</td>\n",
       "      <td>140</td>\n",
       "    </tr>\n",
       "    <tr>\n",
       "      <th>6</th>\n",
       "      <td>A</td>\n",
       "      <td>Y</td>\n",
       "      <td>139</td>\n",
       "    </tr>\n",
       "    <tr>\n",
       "      <th>7</th>\n",
       "      <td>C</td>\n",
       "      <td>X</td>\n",
       "      <td>151</td>\n",
       "    </tr>\n",
       "    <tr>\n",
       "      <th>8</th>\n",
       "      <td>A</td>\n",
       "      <td>Y</td>\n",
       "      <td>159</td>\n",
       "    </tr>\n",
       "    <tr>\n",
       "      <th>9</th>\n",
       "      <td>C</td>\n",
       "      <td>Y</td>\n",
       "      <td>160</td>\n",
       "    </tr>\n",
       "  </tbody>\n",
       "</table>\n",
       "</div>"
      ]
     },
     "execution_count": 47,
     "metadata": {},
     "output_type": "execute_result"
    }
   ],
   "execution_count": 47
  },
  {
   "metadata": {
    "ExecuteTime": {
     "end_time": "2025-08-30T18:38:34.922618Z",
     "start_time": "2025-08-30T18:38:34.738104Z"
    }
   },
   "cell_type": "code",
   "source": [
    "grouped = df.groupby('Category')['Sales'].sum()\n",
    "print(\"Grouped Dataframe:\")\n",
    "print(grouped)"
   ],
   "id": "efb093c0e80cff3c",
   "outputs": [
    {
     "name": "stdout",
     "output_type": "stream",
     "text": [
      "Grouped Dataframe:\n",
      "Category\n",
      "X    351\n",
      "Y    882\n",
      "Z    238\n",
      "Name: Sales, dtype: int32\n"
     ]
    }
   ],
   "execution_count": 49
  },
  {
   "metadata": {
    "ExecuteTime": {
     "end_time": "2025-08-30T18:41:51.123568Z",
     "start_time": "2025-08-30T18:41:51.108286Z"
    }
   },
   "cell_type": "code",
   "source": [
    "#Solution 9\n",
    "df1 = pd.DataFrame({'Key':['A','B','C','D'], 'Values1':np.random.randint(1,101, size=4)}, columns=['Key', 'Values1'])\n",
    "df2 = pd.DataFrame({'Key':['A','B','C','E'], 'Values2':np.random.randint(1,101, size=4)}, columns=['Key', 'Values2'])\n",
    "\n",
    "print(df1)\n",
    "print(df2)"
   ],
   "id": "b2c975290d973621",
   "outputs": [
    {
     "name": "stdout",
     "output_type": "stream",
     "text": [
      "  Key  Values1\n",
      "0   A       48\n",
      "1   B        8\n",
      "2   C       30\n",
      "3   D       45\n",
      "  Key  Values2\n",
      "0   A       10\n",
      "1   B       36\n",
      "2   C       47\n",
      "3   E       43\n"
     ]
    }
   ],
   "execution_count": 58
  },
  {
   "metadata": {
    "ExecuteTime": {
     "end_time": "2025-08-30T18:41:51.627456Z",
     "start_time": "2025-08-30T18:41:51.621658Z"
    }
   },
   "cell_type": "code",
   "source": "merged = pd.merge(df1, df2, on='Key')",
   "id": "db18fd3a175b0237",
   "outputs": [],
   "execution_count": 59
  },
  {
   "metadata": {
    "ExecuteTime": {
     "end_time": "2025-08-30T18:41:52.717171Z",
     "start_time": "2025-08-30T18:41:52.710815Z"
    }
   },
   "cell_type": "code",
   "source": "print(\"Merged DataFrame: \\n\", merged)",
   "id": "74bc48107795d1b8",
   "outputs": [
    {
     "name": "stdout",
     "output_type": "stream",
     "text": [
      "Merged DataFrame: \n",
      "   Key  Values1  Values2\n",
      "0   A       48       10\n",
      "1   B        8       36\n",
      "2   C       30       47\n"
     ]
    }
   ],
   "execution_count": 60
  },
  {
   "metadata": {
    "ExecuteTime": {
     "end_time": "2025-08-30T18:42:48.249128Z",
     "start_time": "2025-08-30T18:42:48.238605Z"
    }
   },
   "cell_type": "code",
   "source": [
    "#Solution10\n",
    "# Create two Pandas DataFrames with different columns\n",
    "df1 = pd.DataFrame({'A': np.random.randint(1, 100, size=3), 'B': np.random.randint(1, 100, size=3)})\n",
    "df2 = pd.DataFrame({'C': np.random.randint(1, 100, size=3), 'D': np.random.randint(1, 100, size=3)})"
   ],
   "id": "7d0abbd7b3d8ce5",
   "outputs": [],
   "execution_count": 62
  },
  {
   "metadata": {
    "ExecuteTime": {
     "end_time": "2025-08-30T18:44:56.474620Z",
     "start_time": "2025-08-30T18:44:56.466800Z"
    }
   },
   "cell_type": "code",
   "source": [
    "concat_rows = pd.concat([df1, df2], axis=0)\n",
    "concat_columns = pd.concat([df1,df2], axis=1)"
   ],
   "id": "70d6d2a1d9cf64b7",
   "outputs": [],
   "execution_count": 66
  },
  {
   "metadata": {
    "ExecuteTime": {
     "end_time": "2025-08-30T18:44:57.221441Z",
     "start_time": "2025-08-30T18:44:57.210402Z"
    }
   },
   "cell_type": "code",
   "source": [
    "print(\"Concat Rows:\\n\", concat_rows)\n",
    "print(\"Concat Columns:\\n\", concat_columns)"
   ],
   "id": "71f5af8fc88c580a",
   "outputs": [
    {
     "name": "stdout",
     "output_type": "stream",
     "text": [
      "Concat Rows:\n",
      "       A     B     C     D\n",
      "0  90.0  68.0   NaN   NaN\n",
      "1  98.0   4.0   NaN   NaN\n",
      "2  94.0  81.0   NaN   NaN\n",
      "0   NaN   NaN  50.0  39.0\n",
      "1   NaN   NaN  58.0  51.0\n",
      "2   NaN   NaN  76.0  14.0\n",
      "Concat Columns:\n",
      "     A   B   C   D\n",
      "0  90  68  50  39\n",
      "1  98   4  58  51\n",
      "2  94  81  76  14\n"
     ]
    }
   ],
   "execution_count": 67
  },
  {
   "metadata": {
    "ExecuteTime": {
     "end_time": "2025-08-30T19:47:14.841368Z",
     "start_time": "2025-08-30T19:47:13.612955Z"
    }
   },
   "cell_type": "code",
   "source": [
    "#Solution 11\n",
    "# Create a Pandas DataFrame with a datetime index and one column filled with random integers\n",
    "date_rng = pd.date_range(start='2024-01-01', end='2024-12-31', freq='D')\n",
    "df = pd.DataFrame(date_rng, columns=['Date'])\n",
    "df['Data'] = np.random.randint(1,101, size=len(date_rng))\n",
    "df.set_index('Date', inplace=True)\n",
    "print(\"Original DataFrame:\\n\", df)"
   ],
   "id": "96a6931aed09dfba",
   "outputs": [
    {
     "name": "stdout",
     "output_type": "stream",
     "text": [
      "Original DataFrame:\n",
      "             Data\n",
      "Date            \n",
      "2024-01-01    85\n",
      "2024-01-02    47\n",
      "2024-01-03    17\n",
      "2024-01-04    73\n",
      "2024-01-05    98\n",
      "...          ...\n",
      "2024-12-27    75\n",
      "2024-12-28    48\n",
      "2024-12-29    22\n",
      "2024-12-30    79\n",
      "2024-12-31    19\n",
      "\n",
      "[366 rows x 1 columns]\n"
     ]
    }
   ],
   "execution_count": 68
  },
  {
   "metadata": {
    "ExecuteTime": {
     "end_time": "2025-08-30T19:48:11.921933Z",
     "start_time": "2025-08-30T19:48:11.796345Z"
    }
   },
   "cell_type": "code",
   "source": [
    "monthly_mean = df.resample('ME').mean()\n",
    "print(\"Monthly Mean:\\n\", monthly_mean)"
   ],
   "id": "40dd3f73655613a1",
   "outputs": [
    {
     "name": "stdout",
     "output_type": "stream",
     "text": [
      "Monthly Mean:\n",
      "                  Data\n",
      "Date                 \n",
      "2024-01-31  61.064516\n",
      "2024-02-29  63.551724\n",
      "2024-03-31  54.516129\n",
      "2024-04-30  56.500000\n",
      "2024-05-31  47.129032\n",
      "2024-06-30  50.166667\n",
      "2024-07-31  48.354839\n",
      "2024-08-31  48.516129\n",
      "2024-09-30  52.000000\n",
      "2024-10-31  55.129032\n",
      "2024-11-30  54.166667\n",
      "2024-12-31  43.193548\n"
     ]
    }
   ],
   "execution_count": 70
  },
  {
   "metadata": {
    "ExecuteTime": {
     "end_time": "2025-08-30T19:52:19.243547Z",
     "start_time": "2025-08-30T19:52:19.115954Z"
    }
   },
   "cell_type": "code",
   "source": [
    "#Solution 12\n",
    "date_rng = pd.date_range(start='2021-01-01', end='2021-12-31', freq='D')\n",
    "df = pd.DataFrame(date_rng, columns=['date'])\n",
    "df['data'] = np.random.randint(1,101, size=len(date_rng))\n",
    "df.set_index('date', inplace=True)\n",
    "print(\"Original DataFrame:\\n\", df)\n",
    "\n",
    "\n",
    "# Compute the rolling mean with a window of 7 days\n",
    "rolling_mean = df.rolling(window=7).mean()\n",
    "print(\"Rolling Mean:\\n\", rolling_mean)"
   ],
   "id": "67bb48f29051d552",
   "outputs": [
    {
     "name": "stdout",
     "output_type": "stream",
     "text": [
      "Original DataFrame:\n",
      "             data\n",
      "date            \n",
      "2021-01-01    21\n",
      "2021-01-02    39\n",
      "2021-01-03    70\n",
      "2021-01-04    21\n",
      "2021-01-05    37\n",
      "...          ...\n",
      "2021-12-27    43\n",
      "2021-12-28    72\n",
      "2021-12-29     9\n",
      "2021-12-30    64\n",
      "2021-12-31    92\n",
      "\n",
      "[365 rows x 1 columns]\n",
      "Rolling Mean:\n",
      "                  data\n",
      "date                 \n",
      "2021-01-01        NaN\n",
      "2021-01-02        NaN\n",
      "2021-01-03        NaN\n",
      "2021-01-04        NaN\n",
      "2021-01-05        NaN\n",
      "...               ...\n",
      "2021-12-27  62.428571\n",
      "2021-12-28  60.285714\n",
      "2021-12-29  56.714286\n",
      "2021-12-30  55.857143\n",
      "2021-12-31  62.714286\n",
      "\n",
      "[365 rows x 1 columns]\n"
     ]
    }
   ],
   "execution_count": 76
  },
  {
   "metadata": {},
   "cell_type": "markdown",
   "source": "### MultiIndex DataFrame",
   "id": "62227f2875b1d0c1"
  },
  {
   "metadata": {
    "ExecuteTime": {
     "end_time": "2025-08-30T19:57:13.362673Z",
     "start_time": "2025-08-30T19:57:12.305986Z"
    }
   },
   "cell_type": "code",
   "source": [
    "#Solution 13\n",
    "arrays=[['A','A','B','B'],['one','two','one','two']]\n",
    "index=pd.MultiIndex.from_arrays(arrays, names=('Category','SubCategory'))\n",
    "df =pd.DataFrame(np.random.randint(1,101,size=(4,3)), index=index, columns=['Value1','Value2','Value3'])\n",
    "\n",
    "print(\"MultiIndex DataFrame:\")\n",
    "print(df)"
   ],
   "id": "74d2ec8871ae2a88",
   "outputs": [
    {
     "name": "stdout",
     "output_type": "stream",
     "text": [
      "MultiIndex DataFrame:\n",
      "                      Value1  Value2  Value3\n",
      "Category SubCategory                        \n",
      "A        one               9      68      96\n",
      "         two              31      95      71\n",
      "B        one              89      82      20\n",
      "         two              92      90      42\n"
     ]
    }
   ],
   "execution_count": 77
  },
  {
   "metadata": {
    "ExecuteTime": {
     "end_time": "2025-08-30T20:06:32.939870Z",
     "start_time": "2025-08-30T20:06:32.904642Z"
    }
   },
   "cell_type": "code",
   "source": "df.loc['A','one']",
   "id": "686ce3e144f1a635",
   "outputs": [
    {
     "data": {
      "text/plain": [
       "Value1     9\n",
       "Value2    68\n",
       "Value3    96\n",
       "Name: (A, one), dtype: int32"
      ]
     },
     "execution_count": 84,
     "metadata": {},
     "output_type": "execute_result"
    }
   ],
   "execution_count": 84
  },
  {
   "metadata": {
    "ExecuteTime": {
     "end_time": "2025-08-30T20:07:34.597182Z",
     "start_time": "2025-08-30T20:07:34.586956Z"
    }
   },
   "cell_type": "code",
   "source": "print(df.iloc[0,2])",
   "id": "d49bb4a2fa32bafe",
   "outputs": [
    {
     "name": "stdout",
     "output_type": "stream",
     "text": [
      "96\n"
     ]
    }
   ],
   "execution_count": 87
  },
  {
   "metadata": {
    "ExecuteTime": {
     "end_time": "2025-08-30T20:07:41.232396Z",
     "start_time": "2025-08-30T20:07:41.224171Z"
    }
   },
   "cell_type": "code",
   "source": "df.shape",
   "id": "47fc9f902b0ed4a0",
   "outputs": [
    {
     "data": {
      "text/plain": [
       "(4, 3)"
      ]
     },
     "execution_count": 88,
     "metadata": {},
     "output_type": "execute_result"
    }
   ],
   "execution_count": 88
  },
  {
   "metadata": {
    "ExecuteTime": {
     "end_time": "2025-08-30T20:08:13.082472Z",
     "start_time": "2025-08-30T20:08:13.068651Z"
    }
   },
   "cell_type": "code",
   "source": [
    "# Basic indexing and slicing operations\n",
    "print(\"Indexing at Category 'A':\")\n",
    "print(df.loc['A'])\n",
    "\n",
    "print(\"Slicing at Category 'B' and SubCategory 'two':\")\n",
    "print(df.loc[('B', 'two')])"
   ],
   "id": "44e1c3674d267e07",
   "outputs": [
    {
     "name": "stdout",
     "output_type": "stream",
     "text": [
      "Indexing at Category 'A':\n",
      "             Value1  Value2  Value3\n",
      "SubCategory                        \n",
      "one               9      68      96\n",
      "two              31      95      71\n",
      "Slicing at Category 'B' and SubCategory 'two':\n",
      "Value1    92\n",
      "Value2    90\n",
      "Value3    42\n",
      "Name: (B, two), dtype: int32\n"
     ]
    }
   ],
   "execution_count": 89
  },
  {
   "metadata": {
    "ExecuteTime": {
     "end_time": "2025-08-30T20:09:22.761434Z",
     "start_time": "2025-08-30T20:09:22.077348Z"
    }
   },
   "cell_type": "code",
   "source": [
    "#Solution 14\n",
    "arrays = [['A', 'A', 'B', 'B', 'C', 'C'], ['one', 'two', 'one', 'two', 'one', 'two']]\n",
    "index = pd.MultiIndex.from_arrays(arrays, names=('Category', 'SubCategory'))\n",
    "df = pd.DataFrame(np.random.randint(1, 100, size=(6, 3)), index=index, columns=['Value1', 'Value2', 'Value3'])\n",
    "print(\"MultiIndex DataFrame:\")\n",
    "print(df)\n",
    "\n",
    "# Compute the sum of values for each 'Category' and 'SubCategory'\n",
    "sum_values = df.groupby(['Category', 'SubCategory']).sum()\n",
    "print(\"Sum of values:\")\n",
    "print(sum_values)"
   ],
   "id": "8e9579c92c8bef75",
   "outputs": [
    {
     "name": "stdout",
     "output_type": "stream",
     "text": [
      "MultiIndex DataFrame:\n",
      "                      Value1  Value2  Value3\n",
      "Category SubCategory                        \n",
      "A        one              39      35      95\n",
      "         two              10      20      19\n",
      "B        one              80      51      60\n",
      "         two              69      36      86\n",
      "C        one               1      52      53\n",
      "         two              50       8      51\n",
      "Sum of values:\n",
      "                      Value1  Value2  Value3\n",
      "Category SubCategory                        \n",
      "A        one              39      35      95\n",
      "         two              10      20      19\n",
      "B        one              80      51      60\n",
      "         two              69      36      86\n",
      "C        one               1      52      53\n",
      "         two              50       8      51\n"
     ]
    }
   ],
   "execution_count": 90
  },
  {
   "metadata": {
    "ExecuteTime": {
     "end_time": "2025-08-30T20:14:49.082442Z",
     "start_time": "2025-08-30T20:14:48.048645Z"
    }
   },
   "cell_type": "code",
   "source": [
    "#Solution 15\n",
    "date_rng = pd.date_range(start='2024-01-01', end='2024-01-10', freq='D')\n",
    "df = pd.DataFrame({'Date':np.random.choice(date_rng, size=20),'Category':np.random.choice(['A','B','C'],size=20),'Values':np.random.randint(1,101, size=20)})\n",
    "print(\"Original DataFrame:\\n\", df)\n"
   ],
   "id": "d2824960a1ffc40e",
   "outputs": [
    {
     "name": "stdout",
     "output_type": "stream",
     "text": [
      "Original DataFrame:\n",
      "          Date Category  Values\n",
      "0  2024-01-05        C       3\n",
      "1  2024-01-02        C      51\n",
      "2  2024-01-09        A      53\n",
      "3  2024-01-05        A      41\n",
      "4  2024-01-07        B      18\n",
      "5  2024-01-05        B      34\n",
      "6  2024-01-08        A      78\n",
      "7  2024-01-07        A      35\n",
      "8  2024-01-02        A      51\n",
      "9  2024-01-06        C      75\n",
      "10 2024-01-01        A      19\n",
      "11 2024-01-03        A      79\n",
      "12 2024-01-09        A       7\n",
      "13 2024-01-07        A      89\n",
      "14 2024-01-07        B      46\n",
      "15 2024-01-04        B      24\n",
      "16 2024-01-03        B      71\n",
      "17 2024-01-08        C      78\n",
      "18 2024-01-07        C      78\n",
      "19 2024-01-07        C      74\n"
     ]
    }
   ],
   "execution_count": 91
  },
  {
   "metadata": {
    "ExecuteTime": {
     "end_time": "2025-08-30T20:16:22.749075Z",
     "start_time": "2025-08-30T20:16:22.728128Z"
    }
   },
   "cell_type": "code",
   "source": [
    "# Create a pivot table to compute the sum of 'Value' for each 'Category' by 'Date'\n",
    "pivot_table= df.pivot_table(index='Date', values='Values', columns='Category', aggfunc='sum')\n",
    "print(\"Pivot table:\\n\", pivot_table)"
   ],
   "id": "64dd3a99bbe0bed",
   "outputs": [
    {
     "name": "stdout",
     "output_type": "stream",
     "text": [
      "Pivot table:\n",
      " Category        A     B      C\n",
      "Date                          \n",
      "2024-01-01   19.0   NaN    NaN\n",
      "2024-01-02   51.0   NaN   51.0\n",
      "2024-01-03   79.0  71.0    NaN\n",
      "2024-01-04    NaN  24.0    NaN\n",
      "2024-01-05   41.0  34.0    3.0\n",
      "2024-01-06    NaN   NaN   75.0\n",
      "2024-01-07  124.0  64.0  152.0\n",
      "2024-01-08   78.0   NaN   78.0\n",
      "2024-01-09   60.0   NaN    NaN\n"
     ]
    }
   ],
   "execution_count": 94
  },
  {
   "metadata": {
    "ExecuteTime": {
     "end_time": "2025-08-30T20:41:06.093198Z",
     "start_time": "2025-08-30T20:41:05.707394Z"
    }
   },
   "cell_type": "code",
   "source": [
    "df = pd.DataFrame({'Year':np.random.choice([2021,2023,2022], size=20), 'Quarter':np.random.choice(['Q1','Q2','Q3','Q4'], size=20), 'Revenue':np.random.randint(100000,500000, size=20)})\n",
    "\n",
    "print('Original DataFrame:\\n', df)\n",
    "\n",
    "pivot_table = df.pivot_table(columns='Quarter',index='Year', values='Revenue', aggfunc='mean')\n",
    "print(\"Pivot Table:\")\n",
    "print(pivot_table)"
   ],
   "id": "223d4aa7d50362f5",
   "outputs": [
    {
     "name": "stdout",
     "output_type": "stream",
     "text": [
      "Original DataFrame:\n",
      "     Year Quarter  Revenue\n",
      "0   2022      Q2   109883\n",
      "1   2022      Q4   470460\n",
      "2   2022      Q3   346520\n",
      "3   2023      Q3   473143\n",
      "4   2021      Q3   115136\n",
      "5   2023      Q1   162579\n",
      "6   2022      Q2   246729\n",
      "7   2023      Q2   419565\n",
      "8   2021      Q4   237055\n",
      "9   2021      Q2   118158\n",
      "10  2022      Q4   357930\n",
      "11  2021      Q4   458314\n",
      "12  2021      Q3   450389\n",
      "13  2022      Q3   393789\n",
      "14  2023      Q3   309351\n",
      "15  2021      Q1   275472\n",
      "16  2021      Q1   115722\n",
      "17  2023      Q2   397306\n",
      "18  2021      Q3   217144\n",
      "19  2023      Q1   198941\n",
      "Pivot Table:\n",
      "Quarter        Q1        Q2             Q3        Q4\n",
      "Year                                                \n",
      "2021     195597.0  118158.0  260889.666667  347684.5\n",
      "2022          NaN  178306.0  370154.500000  414195.0\n",
      "2023     180760.0  408435.5  391247.000000       NaN\n"
     ]
    }
   ],
   "execution_count": 100
  },
  {
   "metadata": {
    "ExecuteTime": {
     "end_time": "2025-08-30T20:44:25.195002Z",
     "start_time": "2025-08-30T20:44:25.185667Z"
    }
   },
   "cell_type": "code",
   "source": [
    "#Solution 17\n",
    "df = pd.DataFrame(np.random.randint(1,10, size=(5,3)), columns=['A','B','C'])\n",
    "print(\"Original DataFrame:\\n\", df)\n",
    "\n",
    "df_doubled = df.apply(lambda x:x*2)\n",
    "print(\"Doubled DataFrame:\\n\", df_doubled)"
   ],
   "id": "695d907d42265a72",
   "outputs": [
    {
     "name": "stdout",
     "output_type": "stream",
     "text": [
      "Original DataFrame:\n",
      "    A  B  C\n",
      "0  9  3  7\n",
      "1  9  4  2\n",
      "2  7  8  2\n",
      "3  4  4  1\n",
      "4  3  5  3\n",
      "Doubled DataFrame:\n",
      "     A   B   C\n",
      "0  18   6  14\n",
      "1  18   8   4\n",
      "2  14  16   4\n",
      "3   8   8   2\n",
      "4   6  10   6\n"
     ]
    }
   ],
   "execution_count": 108
  },
  {
   "metadata": {
    "ExecuteTime": {
     "end_time": "2025-08-30T20:46:52.401894Z",
     "start_time": "2025-08-30T20:46:52.392860Z"
    }
   },
   "cell_type": "code",
   "source": [
    "df = pd.DataFrame(np.random.randint(1,10, size=(6,3)), columns=['A','B','C'])\n",
    "print(\"Original DataFrame:\\n\", df)"
   ],
   "id": "63ccf260e33174ec",
   "outputs": [
    {
     "name": "stdout",
     "output_type": "stream",
     "text": [
      "Original DataFrame:\n",
      "    A  B  C\n",
      "0  9  9  1\n",
      "1  1  6  1\n",
      "2  9  4  7\n",
      "3  5  5  2\n",
      "4  9  3  5\n",
      "5  3  1  9\n"
     ]
    }
   ],
   "execution_count": 114
  },
  {
   "metadata": {
    "ExecuteTime": {
     "end_time": "2025-08-30T20:46:53.103087Z",
     "start_time": "2025-08-30T20:46:53.097494Z"
    }
   },
   "cell_type": "code",
   "source": "df['Sum'] = df.apply(lambda row: row.sum(), axis=1)",
   "id": "7f5b6fec087bc80e",
   "outputs": [],
   "execution_count": 115
  },
  {
   "metadata": {
    "ExecuteTime": {
     "end_time": "2025-08-30T20:46:53.869222Z",
     "start_time": "2025-08-30T20:46:53.855550Z"
    }
   },
   "cell_type": "code",
   "source": "df",
   "id": "314bcb379d459293",
   "outputs": [
    {
     "data": {
      "text/plain": [
       "   A  B  C  Sum\n",
       "0  9  9  1   19\n",
       "1  1  6  1    8\n",
       "2  9  4  7   20\n",
       "3  5  5  2   12\n",
       "4  9  3  5   17\n",
       "5  3  1  9   13"
      ],
      "text/html": [
       "<div>\n",
       "<style scoped>\n",
       "    .dataframe tbody tr th:only-of-type {\n",
       "        vertical-align: middle;\n",
       "    }\n",
       "\n",
       "    .dataframe tbody tr th {\n",
       "        vertical-align: top;\n",
       "    }\n",
       "\n",
       "    .dataframe thead th {\n",
       "        text-align: right;\n",
       "    }\n",
       "</style>\n",
       "<table border=\"1\" class=\"dataframe\">\n",
       "  <thead>\n",
       "    <tr style=\"text-align: right;\">\n",
       "      <th></th>\n",
       "      <th>A</th>\n",
       "      <th>B</th>\n",
       "      <th>C</th>\n",
       "      <th>Sum</th>\n",
       "    </tr>\n",
       "  </thead>\n",
       "  <tbody>\n",
       "    <tr>\n",
       "      <th>0</th>\n",
       "      <td>9</td>\n",
       "      <td>9</td>\n",
       "      <td>1</td>\n",
       "      <td>19</td>\n",
       "    </tr>\n",
       "    <tr>\n",
       "      <th>1</th>\n",
       "      <td>1</td>\n",
       "      <td>6</td>\n",
       "      <td>1</td>\n",
       "      <td>8</td>\n",
       "    </tr>\n",
       "    <tr>\n",
       "      <th>2</th>\n",
       "      <td>9</td>\n",
       "      <td>4</td>\n",
       "      <td>7</td>\n",
       "      <td>20</td>\n",
       "    </tr>\n",
       "    <tr>\n",
       "      <th>3</th>\n",
       "      <td>5</td>\n",
       "      <td>5</td>\n",
       "      <td>2</td>\n",
       "      <td>12</td>\n",
       "    </tr>\n",
       "    <tr>\n",
       "      <th>4</th>\n",
       "      <td>9</td>\n",
       "      <td>3</td>\n",
       "      <td>5</td>\n",
       "      <td>17</td>\n",
       "    </tr>\n",
       "    <tr>\n",
       "      <th>5</th>\n",
       "      <td>3</td>\n",
       "      <td>1</td>\n",
       "      <td>9</td>\n",
       "      <td>13</td>\n",
       "    </tr>\n",
       "  </tbody>\n",
       "</table>\n",
       "</div>"
      ]
     },
     "execution_count": 116,
     "metadata": {},
     "output_type": "execute_result"
    }
   ],
   "execution_count": 116
  },
  {
   "metadata": {
    "ExecuteTime": {
     "end_time": "2025-08-30T20:48:54.109474Z",
     "start_time": "2025-08-30T20:48:54.102876Z"
    }
   },
   "cell_type": "code",
   "source": [
    "#Solution 19\n",
    "text_data = pd.Series(['Apple','Banana','Cherry','DragonFruit','Elderberry'])\n",
    "text_data"
   ],
   "id": "b1c273832cf447f6",
   "outputs": [
    {
     "data": {
      "text/plain": [
       "0          Apple\n",
       "1         Banana\n",
       "2         Cherry\n",
       "3    DragonFruit\n",
       "4     Elderberry\n",
       "dtype: object"
      ]
     },
     "execution_count": 122,
     "metadata": {},
     "output_type": "execute_result"
    }
   ],
   "execution_count": 122
  },
  {
   "metadata": {
    "ExecuteTime": {
     "end_time": "2025-08-30T20:48:54.929071Z",
     "start_time": "2025-08-30T20:48:54.923083Z"
    }
   },
   "cell_type": "code",
   "source": "uppercase_data = text_data.str.upper()",
   "id": "485b21f811584856",
   "outputs": [],
   "execution_count": 123
  },
  {
   "metadata": {
    "ExecuteTime": {
     "end_time": "2025-08-30T20:48:55.261433Z",
     "start_time": "2025-08-30T20:48:55.255311Z"
    }
   },
   "cell_type": "code",
   "source": "print(uppercase_data)",
   "id": "10be82071155a8d1",
   "outputs": [
    {
     "name": "stdout",
     "output_type": "stream",
     "text": [
      "0          APPLE\n",
      "1         BANANA\n",
      "2         CHERRY\n",
      "3    DRAGONFRUIT\n",
      "4     ELDERBERRY\n",
      "dtype: object\n"
     ]
    }
   ],
   "execution_count": 124
  },
  {
   "metadata": {
    "ExecuteTime": {
     "end_time": "2025-08-30T20:49:19.419396Z",
     "start_time": "2025-08-30T20:49:19.410380Z"
    }
   },
   "cell_type": "code",
   "source": [
    "#Solution 20\n",
    "# Extract the first three characters of each string\n",
    "first_three_chars = text_data.str[:3]\n",
    "print(\"First three characters:\")\n",
    "print(first_three_chars)"
   ],
   "id": "863c2bce19fe09a1",
   "outputs": [
    {
     "name": "stdout",
     "output_type": "stream",
     "text": [
      "First three characters:\n",
      "0    App\n",
      "1    Ban\n",
      "2    Che\n",
      "3    Dra\n",
      "4    Eld\n",
      "dtype: object\n"
     ]
    }
   ],
   "execution_count": 125
  },
  {
   "metadata": {},
   "cell_type": "code",
   "outputs": [],
   "execution_count": null,
   "source": "",
   "id": "421b222d6f952a1e"
  }
 ],
 "metadata": {
  "kernelspec": {
   "display_name": "Python 3",
   "language": "python",
   "name": "python3"
  },
  "language_info": {
   "codemirror_mode": {
    "name": "ipython",
    "version": 3
   },
   "file_extension": ".py",
   "mimetype": "text/x-python",
   "name": "python",
   "nbconvert_exporter": "python",
   "pygments_lexer": "ipython3",
   "version": "3.9.7"
  }
 },
 "nbformat": 4,
 "nbformat_minor": 5
}
