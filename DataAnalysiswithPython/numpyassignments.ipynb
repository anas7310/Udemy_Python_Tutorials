{
 "cells": [
  {
   "cell_type": "markdown",
   "metadata": {},
   "source": [
    "# Module: NumPy Assignments\n",
    "## Lesson: NumPy\n",
    "### Assignment 1: Array Creation and Manipulation\n",
    "\n",
    "1. Create a NumPy array of shape (5, 5) filled with random integers between 1 and 20. Replace all the elements in the third column with 1.\n",
    "2. Create a NumPy array of shape (4, 4) with values from 1 to 16. Replace the diagonal elements with 0.\n",
    "\n",
    "### Assignment 2: Array Indexing and Slicing\n",
    "\n",
    "1. Create a NumPy array of shape (6, 6) with values from 1 to 36. Extract the sub-array consisting of the 3rd to 5th rows and 2nd to 4th columns.\n",
    "2. Create a NumPy array of shape (5, 5) with random integers. Extract the elements on the border.\n",
    "\n",
    "### Assignment 3: Array Operations\n",
    "\n",
    "1. Create two NumPy arrays of shape (3, 4) filled with random integers. Perform element-wise addition, subtraction, multiplication, and division.\n",
    "2. Create a NumPy array of shape (4, 4) with values from 1 to 16. Compute the row-wise and column-wise sum.\n",
    "\n",
    "### Assignment 4: Statistical Operations\n",
    "\n",
    "1. Create a NumPy array of shape (5, 5) filled with random integers. Compute the mean, median, standard deviation, and variance of the array.\n",
    "2. Create a NumPy array of shape (3, 3) with values from 1 to 9. Normalize the array (i.e., scale the values to have a mean of 0 and a standard deviation of 1).\n",
    "\n",
    "### Assignment 5: Broadcasting\n",
    "\n",
    "1. Create a NumPy array of shape (3, 3) filled with random integers. Add a 1D array of shape (3,) to each row of the 2D array using broadcasting.\n",
    "2. Create a NumPy array of shape (4, 4) filled with random integers. Subtract a 1D array of shape (4,) from each column of the 2D array using broadcasting.\n",
    "\n",
    "### Assignment 6: Linear Algebra\n",
    "\n",
    "1. Create a NumPy array of shape (3, 3) representing a matrix. Compute its determinant, inverse, and eigenvalues.\n",
    "2. Create two NumPy arrays of shape (2, 3) and (3, 2). Perform matrix multiplication on these arrays.\n",
    "\n",
    "### Assignment 7: Advanced Array Manipulation\n",
    "\n",
    "1. Create a NumPy array of shape (3, 3) with values from 1 to 9. Reshape the array to shape (1, 9) and then to shape (9, 1).\n",
    "2. Create a NumPy array of shape (5, 5) filled with random integers. Flatten the array and then reshape it back to (5, 5).\n",
    "\n",
    "### Assignment 8: Fancy Indexing and Boolean Indexing\n",
    "\n",
    "1. Create a NumPy array of shape (5, 5) filled with random integers. Use fancy indexing to extract the elements at the corners of the array.\n",
    "2. Create a NumPy array of shape (4, 4) filled with random integers. Use boolean indexing to set all elements greater than 10 to 10.\n",
    "\n",
    "### Assignment 9: Structured Arrays\n",
    "\n",
    "1. Create a structured array with fields 'name' (string), 'age' (integer), and 'weight' (float). Add some data and sort the array by age.\n",
    "2. Create a structured array with fields 'x' and 'y' (both integers). Add some data and compute the Euclidean distance between each pair of points.\n",
    "\n",
    "### Assignment 10: Masked Arrays\n",
    "\n",
    "1. Create a masked array of shape (4, 4) with random integers and mask the elements greater than 10. Compute the sum of the unmasked elements.\n",
    "2. Create a masked array of shape (3, 3) with random integers and mask the diagonal elements. Replace the masked elements with the mean of the unmasked elements."
   ],
   "id": "2c5e111930ffe0bd"
  },
  {
   "cell_type": "code",
   "execution_count": null,
   "metadata": {},
   "outputs": [],
   "source": [],
   "id": "ce96bc60bcb7fde"
  },
  {
   "metadata": {
    "ExecuteTime": {
     "end_time": "2025-08-27T22:29:48.175805Z",
     "start_time": "2025-08-27T22:29:46.055487Z"
    }
   },
   "cell_type": "code",
   "source": [
    "import numpy as np\n",
    "\n",
    "from DataAnalysiswithPython.matplotlib import sizes\n",
    "\n",
    "from DataAnalysiswithPython.numpysolutions import corners"
   ],
   "id": "f1bb156ece7a8db4",
   "outputs": [],
   "execution_count": 1
  },
  {
   "metadata": {
    "ExecuteTime": {
     "end_time": "2025-08-27T22:33:36.381145Z",
     "start_time": "2025-08-27T22:33:36.367959Z"
    }
   },
   "cell_type": "code",
   "source": [
    "#solution 1\n",
    "array = np.random.randint(1,21,size=(5,5))\n",
    "print(\"Original array: \")\n",
    "print(array)\n",
    "\n",
    "array[:,2] = 1\n",
    "print(array)"
   ],
   "id": "e273fdd1eef7a6cf",
   "outputs": [
    {
     "name": "stdout",
     "output_type": "stream",
     "text": [
      "Original array: \n",
      "[[13  5 17 19 15]\n",
      " [11  3 14 14  3]\n",
      " [ 5  6 12 13  8]\n",
      " [18  8 14  9  2]\n",
      " [ 3 14 13  3 10]]\n",
      "[[13  5  1 19 15]\n",
      " [11  3  1 14  3]\n",
      " [ 5  6  1 13  8]\n",
      " [18  8  1  9  2]\n",
      " [ 3 14  1  3 10]]\n"
     ]
    }
   ],
   "execution_count": 10
  },
  {
   "metadata": {
    "ExecuteTime": {
     "end_time": "2025-08-27T22:37:59.965230Z",
     "start_time": "2025-08-27T22:37:59.956237Z"
    }
   },
   "cell_type": "code",
   "source": [
    "#Solution 2\n",
    "array1=np.arange(1,17).reshape((4,4))\n",
    "print(\"Original array1: \")\n",
    "print(array1)\n",
    "\n",
    "# for i in range(4):\n",
    "#     array1[i,i] = 0\n",
    "#\n",
    "np.fill_diagonal(array1,0)\n",
    "print(array1)"
   ],
   "id": "d93ce66991af080",
   "outputs": [
    {
     "name": "stdout",
     "output_type": "stream",
     "text": [
      "Original array1: \n",
      "[[ 1  2  3  4]\n",
      " [ 5  6  7  8]\n",
      " [ 9 10 11 12]\n",
      " [13 14 15 16]]\n",
      "[[ 0  2  3  4]\n",
      " [ 5  0  7  8]\n",
      " [ 9 10  0 12]\n",
      " [13 14 15  0]]\n"
     ]
    }
   ],
   "execution_count": 21
  },
  {
   "metadata": {
    "ExecuteTime": {
     "end_time": "2025-08-27T22:43:22.646701Z",
     "start_time": "2025-08-27T22:43:22.608219Z"
    }
   },
   "cell_type": "code",
   "source": [
    "#Solution 3\n",
    "array3 = np.arange(1,37).reshape((6,6))\n",
    "print(\"Original array3: \")\n",
    "print(array3)\n",
    "\n",
    "\n",
    "subarr1 = array3[2:5,1:4]\n",
    "print(\"subarr1: \")\n",
    "print(subarr1)\n"
   ],
   "id": "e93ca2087579e87f",
   "outputs": [
    {
     "name": "stdout",
     "output_type": "stream",
     "text": [
      "Original array3: \n",
      "[[ 1  2  3  4  5  6]\n",
      " [ 7  8  9 10 11 12]\n",
      " [13 14 15 16 17 18]\n",
      " [19 20 21 22 23 24]\n",
      " [25 26 27 28 29 30]\n",
      " [31 32 33 34 35 36]]\n",
      "subarr1: \n",
      "[[14 15 16]\n",
      " [20 21 22]\n",
      " [26 27 28]]\n"
     ]
    }
   ],
   "execution_count": 27
  },
  {
   "metadata": {
    "ExecuteTime": {
     "end_time": "2025-08-27T22:51:14.279481Z",
     "start_time": "2025-08-27T22:51:14.272961Z"
    }
   },
   "cell_type": "code",
   "source": [
    "#Solution 4\n",
    "array4=np.random.randint(1,21, size=(5,5))\n",
    "\n",
    "border_arr = np.concatenate((array4[0,:], array4[-1,:], array4[1:-1,0], array4[1:-1,-1]))\n",
    "print(\"border_arr: \")\n",
    "print(border_arr)"
   ],
   "id": "d4f1392635b0efe4",
   "outputs": [
    {
     "name": "stdout",
     "output_type": "stream",
     "text": [
      "border_arr: \n",
      "[14  5  8 18 16 19 13  2 16 18  9 11  2 17  7  8]\n"
     ]
    }
   ],
   "execution_count": 37
  },
  {
   "metadata": {
    "ExecuteTime": {
     "end_time": "2025-08-27T23:07:20.527548Z",
     "start_time": "2025-08-27T23:07:20.184966Z"
    }
   },
   "cell_type": "code",
   "source": [
    "#Solution 5\n",
    "arr1 = np.random.randint(1,21,size=(3,4))\n",
    "arr2 = np.random.randint(1,21,size=(3,4))\n",
    "\n",
    "print(\"arr1: \")\n",
    "print(arr1)\n",
    "print(\"arr2: \")\n",
    "print(arr2)\n",
    "\n",
    "print(\"Addition: \\n\", np.add(arr1, arr2))\n",
    "print(\"Subtraction: \\n\", np.subtract(arr1, arr2))\n",
    "print(\"Multiply: \\n\", np.multiply(arr1, arr2))\n",
    "print(\"Division: \\n\", np.divide(arr1, arr2))\n",
    "\n",
    "addition = arr1 + arr2\n",
    "subtraction = arr1 - arr2\n",
    "multiplication = arr1 * arr2\n",
    "division = arr1 / arr2\n",
    "\n",
    "print(\"Element-wise addition:\")\n",
    "print(addition)\n",
    "print(\"Element-wise subtraction:\")\n",
    "print(subtraction)\n",
    "print(\"Element-wise multiplication:\")\n",
    "print(multiplication)\n",
    "print(\"Element-wise division:\")\n",
    "print(division)"
   ],
   "id": "194699fa075ee2b5",
   "outputs": [
    {
     "name": "stdout",
     "output_type": "stream",
     "text": [
      "arr1: \n",
      "[[ 1  4  9  6]\n",
      " [18  2 15 19]\n",
      " [19  4  2  1]]\n",
      "arr2: \n",
      "[[ 6 18  4 18]\n",
      " [ 1  4  8 18]\n",
      " [15  9 14  3]]\n",
      "Addition: \n",
      " [[ 7 22 13 24]\n",
      " [19  6 23 37]\n",
      " [34 13 16  4]]\n",
      "Subtraction: \n",
      " [[ -5 -14   5 -12]\n",
      " [ 17  -2   7   1]\n",
      " [  4  -5 -12  -2]]\n",
      "Multiply: \n",
      " [[  6  72  36 108]\n",
      " [ 18   8 120 342]\n",
      " [285  36  28   3]]\n",
      "Division: \n",
      " [[ 0.16666667  0.22222222  2.25        0.33333333]\n",
      " [18.          0.5         1.875       1.05555556]\n",
      " [ 1.26666667  0.44444444  0.14285714  0.33333333]]\n",
      "Element-wise addition:\n",
      "[[ 7 22 13 24]\n",
      " [19  6 23 37]\n",
      " [34 13 16  4]]\n",
      "Element-wise subtraction:\n",
      "[[ -5 -14   5 -12]\n",
      " [ 17  -2   7   1]\n",
      " [  4  -5 -12  -2]]\n",
      "Element-wise multiplication:\n",
      "[[  6  72  36 108]\n",
      " [ 18   8 120 342]\n",
      " [285  36  28   3]]\n",
      "Element-wise division:\n",
      "[[ 0.16666667  0.22222222  2.25        0.33333333]\n",
      " [18.          0.5         1.875       1.05555556]\n",
      " [ 1.26666667  0.44444444  0.14285714  0.33333333]]\n"
     ]
    }
   ],
   "execution_count": 45
  },
  {
   "metadata": {
    "ExecuteTime": {
     "end_time": "2025-08-27T23:09:18.611570Z",
     "start_time": "2025-08-27T23:09:18.341050Z"
    }
   },
   "cell_type": "code",
   "source": [
    "#Solution 6\n",
    "arr = np.arange(1,17).reshape((4,4))\n",
    "print(\"Original array: \")\n",
    "print(arr)\n",
    "\n",
    "row_sum = np.sum(arr, axis=1)\n",
    "column_sum = np.sum(arr, axis=0)\n",
    "\n",
    "print(\"Row sum: \")\n",
    "print(row_sum)\n",
    "print(\"Column sum: \")\n",
    "print(column_sum)\n"
   ],
   "id": "d956bcc86f8f6770",
   "outputs": [
    {
     "name": "stdout",
     "output_type": "stream",
     "text": [
      "Original array: \n",
      "[[ 1  2  3  4]\n",
      " [ 5  6  7  8]\n",
      " [ 9 10 11 12]\n",
      " [13 14 15 16]]\n",
      "Row sum: \n",
      "[10 26 42 58]\n",
      "Column sum: \n",
      "[28 32 36 40]\n"
     ]
    }
   ],
   "execution_count": 46
  },
  {
   "metadata": {
    "ExecuteTime": {
     "end_time": "2025-08-27T23:21:31.653992Z",
     "start_time": "2025-08-27T23:21:31.635325Z"
    }
   },
   "cell_type": "code",
   "source": [
    "#Solution 7\n",
    "nums = np.random.randint(1,31,size=(5,5))\n",
    "print(\"Nums \\n\",nums)\n",
    "\n",
    "print(\"Median: \", np.median(nums))\n",
    "print(\"Mean: \", np.mean(nums))\n",
    "print(\"Standard Deviation\",np.std(nums))\n",
    "print(\"Variance: \", np.var(nums))"
   ],
   "id": "27db535e94e337ad",
   "outputs": [
    {
     "name": "stdout",
     "output_type": "stream",
     "text": [
      "Nums \n",
      " [[ 1  9  5 23 21]\n",
      " [22 28 22 24 17]\n",
      " [ 8  1  7 21 19]\n",
      " [ 5 21  2 12 19]\n",
      " [10 19 10 17 14]]\n",
      "Median:  17.0\n",
      "Mean:  14.28\n",
      "Standard Deviation 7.830810941403196\n",
      "Variance:  61.32160000000001\n"
     ]
    }
   ],
   "execution_count": 51
  },
  {
   "metadata": {
    "ExecuteTime": {
     "end_time": "2025-08-27T23:25:27.878727Z",
     "start_time": "2025-08-27T23:25:27.867914Z"
    }
   },
   "cell_type": "code",
   "source": [
    "array2 = np.arange(1,10).reshape((3,3))\n",
    "print(\"Original array2: \")\n",
    "print(array2)\n",
    "\n",
    "#Normalize the array\n",
    "mean = np.mean(array2)\n",
    "standard_deviation = np.std(array2)\n",
    "\n",
    "normalized = (array2-mean)/standard_deviation\n",
    "print(\"Normalized array2: \")\n",
    "print(normalized)"
   ],
   "id": "1d870496790349e4",
   "outputs": [
    {
     "name": "stdout",
     "output_type": "stream",
     "text": [
      "Original array2: \n",
      "[[1 2 3]\n",
      " [4 5 6]\n",
      " [7 8 9]]\n",
      "Normalized array2: \n",
      "[[-1.54919334 -1.161895   -0.77459667]\n",
      " [-0.38729833  0.          0.38729833]\n",
      " [ 0.77459667  1.161895    1.54919334]]\n"
     ]
    }
   ],
   "execution_count": 56
  },
  {
   "metadata": {
    "ExecuteTime": {
     "end_time": "2025-08-27T23:22:44.355649Z",
     "start_time": "2025-08-27T23:22:44.337290Z"
    }
   },
   "cell_type": "code",
   "source": "array2",
   "id": "dbc21c2471a04102",
   "outputs": [
    {
     "data": {
      "text/plain": [
       "array([[1, 2, 3],\n",
       "       [4, 5, 6],\n",
       "       [7, 8, 9]])"
      ]
     },
     "execution_count": 53,
     "metadata": {},
     "output_type": "execute_result"
    }
   ],
   "execution_count": 53
  },
  {
   "metadata": {
    "ExecuteTime": {
     "end_time": "2025-08-29T01:38:41.345463Z",
     "start_time": "2025-08-29T01:38:41.274108Z"
    }
   },
   "cell_type": "code",
   "source": [
    "array = np.random.randint(1,11, size=(3,3))\n",
    "row_array = np.random.randint(1,11, size=(3,))\n",
    "print(\"Original Array 2D \\n\", array)\n",
    "print(\"Row array 1D \\n\", row_array)\n",
    "\n",
    "# Add the 1D array to each row of the 2D array using broadcasting\n",
    "result = array+row_array\n",
    "print(\"Result\\n\", result)"
   ],
   "id": "ef85350d4b297f12",
   "outputs": [
    {
     "name": "stdout",
     "output_type": "stream",
     "text": [
      "Original Array 2D \n",
      " [[1 9 3]\n",
      " [1 7 1]\n",
      " [3 7 3]]\n",
      "Row array 1D \n",
      " [ 3  8 10]\n",
      "Result\n",
      " [[ 4 17 13]\n",
      " [ 4 15 11]\n",
      " [ 6 15 13]]\n"
     ]
    }
   ],
   "execution_count": 58
  },
  {
   "metadata": {
    "ExecuteTime": {
     "end_time": "2025-08-29T01:41:46.483357Z",
     "start_time": "2025-08-29T01:41:44.995630Z"
    }
   },
   "cell_type": "code",
   "source": [
    "array = np.random.randint(1,11, size=(4,4))\n",
    "column_array = np.random.randint(1,11, size=(4,))\n",
    "print(\"Original Array 2D \\n\", array)\n",
    "print(\"Column array 1D \\n\", column_array)\n",
    "\n",
    "# Subtract the 1D array from each column of the 2D array using broadcasting\n",
    "result = array - column_array[:,np.newaxis]\n",
    "print(\"Result\\n\", result)"
   ],
   "id": "8cf993279e5e9667",
   "outputs": [
    {
     "name": "stdout",
     "output_type": "stream",
     "text": [
      "Original Array 2D \n",
      " [[ 8  8  6  2]\n",
      " [ 9  2  7  4]\n",
      " [ 1 10  7  7]\n",
      " [ 3  7  5  7]]\n",
      "Column array 1D \n",
      " [6 4 2 2]\n",
      "Result\n",
      " [[ 2  2  0 -4]\n",
      " [ 5 -2  3  0]\n",
      " [-1  8  5  5]\n",
      " [ 1  5  3  5]]\n"
     ]
    }
   ],
   "execution_count": 61
  },
  {
   "metadata": {
    "ExecuteTime": {
     "end_time": "2025-08-29T21:12:55.081763Z",
     "start_time": "2025-08-29T21:12:54.509011Z"
    }
   },
   "cell_type": "code",
   "source": [
    "matrix = np.random.randint(1,11, size=(3,3))\n",
    "print(\"Original Array 2D \\n\", matrix)\n",
    "\n",
    "#determinant using np linearalgebra functions\n",
    "determinent = np.linalg.det(matrix)\n",
    "print(\"Determinent: \", determinent)\n",
    "\n",
    "#Inverse of matrix\n",
    "inverse = np.linalg.inv(matrix)\n",
    "print(\"Inverse\\n\",inverse)\n",
    "\n",
    "#Eigenvalues\n",
    "eigen = np.linalg.eigvals(matrix)\n",
    "print(\"Eigen Values:\\n\", eigen)"
   ],
   "id": "a33ccdd31cfee6d2",
   "outputs": [
    {
     "name": "stdout",
     "output_type": "stream",
     "text": [
      "Original Array 2D \n",
      " [[2 2 9]\n",
      " [1 2 9]\n",
      " [1 1 7]]\n",
      "Determinent:  5.000000000000001\n",
      "Inverse\n",
      " [[ 1.  -1.   0. ]\n",
      " [ 0.4  1.  -1.8]\n",
      " [-0.2  0.   0.4]]\n",
      "Eigen Values:\n",
      " [9.83111869+0.j         0.58444065+0.40867865j 0.58444065-0.40867865j]\n"
     ]
    }
   ],
   "execution_count": 65
  },
  {
   "metadata": {
    "ExecuteTime": {
     "end_time": "2025-08-29T21:15:06.866566Z",
     "start_time": "2025-08-29T21:15:06.620884Z"
    }
   },
   "cell_type": "code",
   "source": [
    "array1 = np.random.randint(1,11, size=(3,4))\n",
    "array2 = np.random.randint(1,11, size=(4,3))\n",
    "\n",
    "print(\"Array 1:\")\n",
    "print(array1)\n",
    "print(\"Array 2:\")\n",
    "print(array2)\n",
    "\n",
    "multiplication_result = np.dot(array1, array2)\n",
    "print(\"Multiplication result: \\n\", multiplication_result)"
   ],
   "id": "ce2d6e93287291ee",
   "outputs": [
    {
     "name": "stdout",
     "output_type": "stream",
     "text": [
      "Array 1:\n",
      "[[ 4  7 10  3]\n",
      " [10  8  7  4]\n",
      " [ 4  8  6  8]]\n",
      "Array 2:\n",
      "[[ 6  7 10]\n",
      " [ 1  9 10]\n",
      " [ 3  9 10]\n",
      " [ 8  3  8]]\n",
      "Multiplication result: \n",
      " [[ 85 190 234]\n",
      " [121 217 282]\n",
      " [114 178 244]]\n"
     ]
    }
   ],
   "execution_count": 68
  },
  {
   "metadata": {
    "ExecuteTime": {
     "end_time": "2025-08-29T21:16:50.880966Z",
     "start_time": "2025-08-29T21:16:50.793446Z"
    }
   },
   "cell_type": "code",
   "source": [
    "newarray = np.arange(1,10).reshape((3,3))\n",
    "print(\"Original Array 2D \\n\", newarray)\n",
    "\n",
    "reshape1 = newarray.reshape(1,9)\n",
    "print(\"Reshaped array: \\n\", reshape1)\n",
    "\n",
    "reshape2 = newarray.reshape(9,1)\n",
    "print(\"Reshaped array: \\n\", reshape2)"
   ],
   "id": "a63e2a827392abac",
   "outputs": [
    {
     "name": "stdout",
     "output_type": "stream",
     "text": [
      "Original Array 2D \n",
      " [[1 2 3]\n",
      " [4 5 6]\n",
      " [7 8 9]]\n",
      "Reshaped array: \n",
      " [[1 2 3 4 5 6 7 8 9]]\n",
      "Reshaped array: \n",
      " [[1]\n",
      " [2]\n",
      " [3]\n",
      " [4]\n",
      " [5]\n",
      " [6]\n",
      " [7]\n",
      " [8]\n",
      " [9]]\n"
     ]
    }
   ],
   "execution_count": 71
  },
  {
   "metadata": {
    "ExecuteTime": {
     "end_time": "2025-08-29T21:47:22.985155Z",
     "start_time": "2025-08-29T21:47:22.957152Z"
    }
   },
   "cell_type": "code",
   "source": [
    "array = np.random.randint(1,11, size=(5,5))\n",
    "print(\"Original Array 2D \\n\", array)\n",
    "\n",
    "flatten_array = array.flatten()\n",
    "print(\"Flattened array: \\n\", flatten_array)\n",
    "\n",
    "reshaped_array = flatten_array.reshape(5,5)\n",
    "print(\"Reshaped array: \\n\", reshaped_array)"
   ],
   "id": "5e621fce7554de80",
   "outputs": [
    {
     "name": "stdout",
     "output_type": "stream",
     "text": [
      "Original Array 2D \n",
      " [[ 3  6  3  8  2]\n",
      " [ 6  2  4  3  3]\n",
      " [ 2 10 10  5  8]\n",
      " [ 8  5  6  4  8]\n",
      " [ 7  7  3  6  8]]\n",
      "Flattened array: \n",
      " [ 3  6  3  8  2  6  2  4  3  3  2 10 10  5  8  8  5  6  4  8  7  7  3  6\n",
      "  8]\n",
      "Reshaped array: \n",
      " [[ 3  6  3  8  2]\n",
      " [ 6  2  4  3  3]\n",
      " [ 2 10 10  5  8]\n",
      " [ 8  5  6  4  8]\n",
      " [ 7  7  3  6  8]]\n"
     ]
    }
   ],
   "execution_count": 74
  },
  {
   "metadata": {
    "ExecuteTime": {
     "end_time": "2025-08-29T21:51:00.236184Z",
     "start_time": "2025-08-29T21:51:00.217206Z"
    }
   },
   "cell_type": "code",
   "source": [
    "array = np.random.randint(1,21, size=(5,5))\n",
    "print(\"Original Array 2D \\n\", array)\n",
    "\n",
    "\n",
    "corners = array[[0,0,-1,-1],[0,-1,0,-1]]\n",
    "print(\"Corners: \\n\", corners)"
   ],
   "id": "8ab35823c26a7075",
   "outputs": [
    {
     "name": "stdout",
     "output_type": "stream",
     "text": [
      "Original Array 2D \n",
      " [[ 1  3  1 19  8]\n",
      " [ 9  4 12 16 13]\n",
      " [ 2 18 20 14  8]\n",
      " [17 18 15  8  1]\n",
      " [10 12 20 12 13]]\n",
      "Corners: \n",
      " [ 1  8 10 13]\n"
     ]
    }
   ],
   "execution_count": 77
  },
  {
   "metadata": {
    "ExecuteTime": {
     "end_time": "2025-08-29T21:52:59.432658Z",
     "start_time": "2025-08-29T21:52:58.884560Z"
    }
   },
   "cell_type": "code",
   "source": [
    "array = np.random.randint(1,21,size=(4,4))\n",
    "print(\"Original Array 2D \\n\", array)\n",
    "\n",
    "array[array>10] = 10\n",
    "print(\"Modified array:\")\n",
    "print(array)"
   ],
   "id": "c1b2f215d28eb09b",
   "outputs": [
    {
     "name": "stdout",
     "output_type": "stream",
     "text": [
      "Original Array 2D \n",
      " [[ 7  1 10 13]\n",
      " [19  3  9 12]\n",
      " [ 1 11  8 13]\n",
      " [11  4  7 20]]\n",
      "Modified array:\n",
      "[[ 7  1 10 10]\n",
      " [10  3  9 10]\n",
      " [ 1 10  8 10]\n",
      " [10  4  7 10]]\n"
     ]
    }
   ],
   "execution_count": 79
  },
  {
   "metadata": {
    "ExecuteTime": {
     "end_time": "2025-08-29T21:56:41.620788Z",
     "start_time": "2025-08-29T21:56:40.520972Z"
    }
   },
   "cell_type": "code",
   "source": [
    "data_types = [('name','U10'),('age','i4'),('weight','f4')]\n",
    "data = np.array([('Alice', 25, 55.5), ('Bob', 30, 85.3), ('Charlie', 20, 65.2)], dtype=data_types)\n",
    "print(\"Data \\n\", data)"
   ],
   "id": "ea549eb93ce4e4d4",
   "outputs": [
    {
     "name": "stdout",
     "output_type": "stream",
     "text": [
      "Data \n",
      " [('Alice', 25, 55.5) ('Bob', 30, 85.3) ('Charlie', 20, 65.2)]\n"
     ]
    }
   ],
   "execution_count": 80
  },
  {
   "metadata": {
    "ExecuteTime": {
     "end_time": "2025-08-29T21:57:25.408361Z",
     "start_time": "2025-08-29T21:57:25.021122Z"
    }
   },
   "cell_type": "code",
   "source": "sorted_data = np.sort(data, order='age')",
   "id": "5c525d5be328987",
   "outputs": [],
   "execution_count": 81
  },
  {
   "metadata": {
    "ExecuteTime": {
     "end_time": "2025-08-29T21:57:59.467270Z",
     "start_time": "2025-08-29T21:57:59.460052Z"
    }
   },
   "cell_type": "code",
   "source": "print(sorted_data)",
   "id": "b3c4219e39ccb16a",
   "outputs": [
    {
     "name": "stdout",
     "output_type": "stream",
     "text": [
      "[('Charlie', 20, 65.2) ('Alice', 25, 55.5) ('Bob', 30, 85.3)]\n"
     ]
    }
   ],
   "execution_count": 83
  },
  {
   "metadata": {
    "ExecuteTime": {
     "end_time": "2025-08-29T22:07:25.270599Z",
     "start_time": "2025-08-29T22:07:25.143712Z"
    }
   },
   "cell_type": "code",
   "source": [
    "data_types = [('x','i4'),('y','i4')]\n",
    "data = np.array([(1,2),(3,4),(5,6)], dtype=data_types)\n",
    "print(\"Data \\n\", data)\n",
    "\n",
    "distances = np.sqrt((data['x'][:,np.newaxis] - data['x'])**2  + (data['y'][:,np.newaxis] - data['y'])**2 )\n",
    "print(\"Distances \\n\", distances)"
   ],
   "id": "e41566e3a45c8c33",
   "outputs": [
    {
     "name": "stdout",
     "output_type": "stream",
     "text": [
      "Data \n",
      " [(1, 2) (3, 4) (5, 6)]\n",
      "Distances \n",
      " [[0.         2.82842712 5.65685425]\n",
      " [2.82842712 0.         2.82842712]\n",
      " [5.65685425 2.82842712 0.        ]]\n"
     ]
    }
   ],
   "execution_count": 87
  },
  {
   "metadata": {
    "ExecuteTime": {
     "end_time": "2025-08-29T22:08:10.589471Z",
     "start_time": "2025-08-29T22:08:09.367695Z"
    }
   },
   "cell_type": "code",
   "source": [
    "import numpy.ma as ma\n",
    "\n",
    "# Create a masked array of shape (4, 4) with random integers\n",
    "array = np.random.randint(1, 21, size=(4, 4))\n",
    "masked_array = ma.masked_greater(array, 10)\n",
    "print(\"Original array:\")\n",
    "print(array)\n",
    "print(\"Masked array:\")\n",
    "print(masked_array)\n",
    "\n",
    "# Compute the sum of the unmasked elements\n",
    "sum_unmasked = masked_array.sum()\n",
    "print(\"Sum of unmasked elements:\", sum_unmasked)"
   ],
   "id": "14047bd42129cdbb",
   "outputs": [
    {
     "name": "stdout",
     "output_type": "stream",
     "text": [
      "Original array:\n",
      "[[19 12 16  8]\n",
      " [ 8  9 19  7]\n",
      " [12 10 16  3]\n",
      " [ 4 15  9 20]]\n",
      "Masked array:\n",
      "[[-- -- -- 8]\n",
      " [8 9 -- 7]\n",
      " [-- 10 -- 3]\n",
      " [4 -- 9 --]]\n",
      "Sum of unmasked elements: 58\n"
     ]
    }
   ],
   "execution_count": 88
  },
  {
   "metadata": {
    "ExecuteTime": {
     "end_time": "2025-08-29T22:08:46.043340Z",
     "start_time": "2025-08-29T22:08:45.940059Z"
    }
   },
   "cell_type": "code",
   "source": [
    "# Create a masked array of shape (3, 3) with random integers\n",
    "array = np.random.randint(1, 21, size=(3, 3))\n",
    "masked_array = ma.masked_array(array, mask=np.eye(3, dtype=bool))\n",
    "print(\"Original array:\")\n",
    "print(array)\n",
    "print(\"Masked array:\")\n",
    "print(masked_array)\n",
    "\n",
    "# Replace the masked elements with the mean of the unmasked elements\n",
    "mean_unmasked = masked_array.mean()\n",
    "masked_array = masked_array.filled(mean_unmasked)\n",
    "print(\"Modified masked array:\")\n",
    "print(masked_array)"
   ],
   "id": "8dcc06d283dee35a",
   "outputs": [
    {
     "name": "stdout",
     "output_type": "stream",
     "text": [
      "Original array:\n",
      "[[15 12  7]\n",
      " [20 19  4]\n",
      " [15 20  8]]\n",
      "Masked array:\n",
      "[[-- 12 7]\n",
      " [20 -- 4]\n",
      " [15 20 --]]\n",
      "Modified masked array:\n",
      "[[13 12  7]\n",
      " [20 13  4]\n",
      " [15 20 13]]\n"
     ]
    }
   ],
   "execution_count": 89
  },
  {
   "metadata": {},
   "cell_type": "code",
   "outputs": [],
   "execution_count": null,
   "source": "",
   "id": "8c0a07c06be1eb47"
  }
 ],
 "metadata": {
  "kernelspec": {
   "display_name": "Python 3",
   "language": "python",
   "name": "python3"
  },
  "language_info": {
   "codemirror_mode": {
    "name": "ipython",
    "version": 3
   },
   "file_extension": ".py",
   "mimetype": "text/x-python",
   "name": "python",
   "nbconvert_exporter": "python",
   "pygments_lexer": "ipython3",
   "version": "3.9.7"
  }
 },
 "nbformat": 4,
 "nbformat_minor": 5
}
