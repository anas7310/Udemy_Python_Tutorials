{
 "cells": [
  {
   "metadata": {},
   "cell_type": "markdown",
   "source": [
    "### Lambda Functions in Python\n",
    "#### Lambda functions are small anonymous functions defined using the *lambda* keyword. They can have any number of arguments but only one expression. They are commonly used for short operations or as arguments to higher-order functions."
   ],
   "id": "48ec681007223f9f"
  },
  {
   "cell_type": "code",
   "execution_count": null,
   "id": "initial_id",
   "metadata": {
    "collapsed": true
   },
   "outputs": [],
   "source": [
    "#syntax\n",
    "lambda arguments:expression"
   ]
  },
  {
   "metadata": {
    "ExecuteTime": {
     "end_time": "2025-07-27T20:48:50.312164Z",
     "start_time": "2025-07-27T20:48:50.307937Z"
    }
   },
   "cell_type": "code",
   "source": [
    "def addition(a,b):\n",
    "    return a+b"
   ],
   "id": "6ecd6d2a26090e5a",
   "outputs": [],
   "execution_count": 2
  },
  {
   "metadata": {
    "ExecuteTime": {
     "end_time": "2025-07-27T20:48:51.913603Z",
     "start_time": "2025-07-27T20:48:51.903888Z"
    }
   },
   "cell_type": "code",
   "source": "addition(2,3)",
   "id": "b9bb1e6dec2ff040",
   "outputs": [
    {
     "data": {
      "text/plain": [
       "5"
      ]
     },
     "execution_count": 3,
     "metadata": {},
     "output_type": "execute_result"
    }
   ],
   "execution_count": 3
  },
  {
   "metadata": {
    "ExecuteTime": {
     "end_time": "2025-07-27T20:49:33.641400Z",
     "start_time": "2025-07-27T20:49:33.636354Z"
    }
   },
   "cell_type": "code",
   "source": [
    "addition = lambda a,b:a+b\n",
    "type(addition)\n",
    "print(addition(5,6))"
   ],
   "id": "b9efd42ef51206a",
   "outputs": [
    {
     "name": "stdout",
     "output_type": "stream",
     "text": [
      "11\n"
     ]
    }
   ],
   "execution_count": 5
  },
  {
   "metadata": {
    "ExecuteTime": {
     "end_time": "2025-07-27T20:50:11.660544Z",
     "start_time": "2025-07-27T20:50:11.655723Z"
    }
   },
   "cell_type": "code",
   "source": [
    "is_event = lambda a:a%2==0\n",
    "\n",
    "print(is_event(11))"
   ],
   "id": "c842cb8cf0d8004",
   "outputs": [
    {
     "name": "stdout",
     "output_type": "stream",
     "text": [
      "False\n"
     ]
    }
   ],
   "execution_count": 7
  },
  {
   "metadata": {
    "ExecuteTime": {
     "end_time": "2025-07-27T20:50:47.639186Z",
     "start_time": "2025-07-27T20:50:47.633843Z"
    }
   },
   "cell_type": "code",
   "source": [
    "addition = lambda a,b,c:a+b+c\n",
    "print(addition(2,3,9))"
   ],
   "id": "7d64b5cf6b6ae824",
   "outputs": [
    {
     "name": "stdout",
     "output_type": "stream",
     "text": [
      "14\n"
     ]
    }
   ],
   "execution_count": 8
  },
  {
   "metadata": {
    "ExecuteTime": {
     "end_time": "2025-07-27T21:17:07.961882Z",
     "start_time": "2025-07-27T21:17:07.949992Z"
    }
   },
   "cell_type": "code",
   "source": [
    "# map() -> applies a function to all the items in an iterable\n",
    "numbers = [1,2,3,4,5,6,7]\n",
    "squared_numbers = list(map(lambda x:x**2, numbers))\n",
    "print(squared_numbers)\n"
   ],
   "id": "43f98b4db7d8517",
   "outputs": [
    {
     "name": "stdout",
     "output_type": "stream",
     "text": [
      "[1, 4, 9, 16, 25, 36, 49]\n"
     ]
    }
   ],
   "execution_count": 10
  }
 ],
 "metadata": {
  "kernelspec": {
   "display_name": "Python 3",
   "language": "python",
   "name": "python3"
  },
  "language_info": {
   "codemirror_mode": {
    "name": "ipython",
    "version": 2
   },
   "file_extension": ".py",
   "mimetype": "text/x-python",
   "name": "python",
   "nbconvert_exporter": "python",
   "pygments_lexer": "ipython2",
   "version": "2.7.6"
  }
 },
 "nbformat": 4,
 "nbformat_minor": 5
}
