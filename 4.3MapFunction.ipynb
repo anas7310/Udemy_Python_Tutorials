{
 "cells": [
  {
   "metadata": {},
   "cell_type": "markdown",
   "source": [
    "### The map() function in python\n",
    "#### The map() function applies a given function to all the items in an input list(or any other iterable) and returns a map object(an iterator). This is particularly useful for transforming data in a list comprehensively."
   ],
   "id": "ffebb70040f55a64"
  },
  {
   "cell_type": "code",
   "id": "initial_id",
   "metadata": {
    "collapsed": true
   },
   "source": [
    "def square(x):\n",
    "    return x*x\n",
    "\n",
    "square(10)"
   ],
   "outputs": [],
   "execution_count": null
  },
  {
   "metadata": {},
   "cell_type": "code",
   "source": [
    "numbers = [1,2,3,4,5,6,7,8]\n",
    "for num in numbers:\n",
    "    print(square(num))"
   ],
   "id": "17e537d8e05851e2",
   "outputs": [],
   "execution_count": null
  },
  {
   "metadata": {
    "ExecuteTime": {
     "end_time": "2025-07-27T21:23:23.725097Z",
     "start_time": "2025-07-27T21:23:23.618554Z"
    }
   },
   "cell_type": "code",
   "source": [
    "#Using map()\n",
    "list(map(square, numbers))\n"
   ],
   "id": "94e4102e3e8d8103",
   "outputs": [
    {
     "data": {
      "text/plain": [
       "[1, 4, 9, 16, 25, 36, 49, 64]"
      ]
     },
     "execution_count": 3,
     "metadata": {},
     "output_type": "execute_result"
    }
   ],
   "execution_count": 3
  },
  {
   "metadata": {
    "ExecuteTime": {
     "end_time": "2025-07-27T21:24:41.043322Z",
     "start_time": "2025-07-27T21:24:41.034048Z"
    }
   },
   "cell_type": "code",
   "source": [
    "#lambda function with map\n",
    "numbers=[1,2,3,4,5,6,7,8]\n",
    "list(map(lambda x:x**2, numbers))"
   ],
   "id": "2880aff1d586f39a",
   "outputs": [
    {
     "data": {
      "text/plain": [
       "[1, 4, 9, 16, 25, 36, 49, 64]"
      ]
     },
     "execution_count": 6,
     "metadata": {},
     "output_type": "execute_result"
    }
   ],
   "execution_count": 6
  },
  {
   "metadata": {
    "ExecuteTime": {
     "end_time": "2025-07-27T21:26:33.095252Z",
     "start_time": "2025-07-27T21:26:33.089395Z"
    }
   },
   "cell_type": "code",
   "source": [
    "#Map multiple iterables\n",
    "numbers1=[1,2,3]\n",
    "numbers2=[4,5,6]\n",
    "\n",
    "added_numbers = list(map(lambda x,y:x+y, numbers1,numbers2))\n",
    "print(added_numbers)"
   ],
   "id": "cd801b0debe2b9b5",
   "outputs": [
    {
     "name": "stdout",
     "output_type": "stream",
     "text": [
      "[5, 7, 9]\n"
     ]
    }
   ],
   "execution_count": 9
  },
  {
   "metadata": {
    "ExecuteTime": {
     "end_time": "2025-07-27T21:28:02.360074Z",
     "start_time": "2025-07-27T21:28:02.352997Z"
    }
   },
   "cell_type": "code",
   "source": [
    "#map() to convert a list of strings to integers\n",
    "str_nums=['1','2','3','4','5','6','7','8']\n",
    "int_nums = list(map(int, str_nums))\n",
    "\n",
    "print(int_nums)\n"
   ],
   "id": "99ec0eca8a56438d",
   "outputs": [
    {
     "name": "stdout",
     "output_type": "stream",
     "text": [
      "[1, 2, 3, 4, 5, 6, 7, 8]\n"
     ]
    }
   ],
   "execution_count": 10
  },
  {
   "metadata": {
    "ExecuteTime": {
     "end_time": "2025-07-27T21:29:38.204327Z",
     "start_time": "2025-07-27T21:29:38.196646Z"
    }
   },
   "cell_type": "code",
   "source": [
    "words = ['apple','banana','cherry']\n",
    "# upper_words = list(map(lambda x:x.upper(),words))\n",
    "upper_words = list(map(str.upper, words))\n",
    "print(upper_words)"
   ],
   "id": "d23c1d3aa218a63d",
   "outputs": [
    {
     "name": "stdout",
     "output_type": "stream",
     "text": [
      "['APPLE', 'BANANA', 'CHERRY']\n"
     ]
    }
   ],
   "execution_count": 12
  },
  {
   "metadata": {
    "ExecuteTime": {
     "end_time": "2025-07-27T21:32:03.213196Z",
     "start_time": "2025-07-27T21:32:03.203631Z"
    }
   },
   "cell_type": "code",
   "source": [
    "def getname(person):\n",
    "    return person['name']\n",
    "\n",
    "people = [\n",
    "    {'name':'Anas', 'age':26},\n",
    "    {'name':'Nick', 'age':23},\n",
    "    {'name':'Francis', 'age':31},\n",
    "    {'name':'Nadeem', 'age':43}\n",
    "]\n",
    "\n",
    "names = list(map(getname,people))\n",
    "print(names)"
   ],
   "id": "a592907bda36a7bb",
   "outputs": [
    {
     "name": "stdout",
     "output_type": "stream",
     "text": [
      "['Anas', 'Nick', 'Francis', 'Nadeem']\n"
     ]
    }
   ],
   "execution_count": 15
  }
 ],
 "metadata": {
  "kernelspec": {
   "display_name": "Python 3",
   "language": "python",
   "name": "python3"
  },
  "language_info": {
   "codemirror_mode": {
    "name": "ipython",
    "version": 2
   },
   "file_extension": ".py",
   "mimetype": "text/x-python",
   "name": "python",
   "nbconvert_exporter": "python",
   "pygments_lexer": "ipython2",
   "version": "2.7.6"
  }
 },
 "nbformat": 4,
 "nbformat_minor": 5
}
