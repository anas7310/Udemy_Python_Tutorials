{
 "cells": [
  {
   "metadata": {},
   "cell_type": "markdown",
   "source": [
    "### MultiThreading\n",
    "#### When to use multithreading?\n",
    "- I/O Bound Tasks -> Tasks that spend more time waiting for I/O operations (e.g. file operations, Network API requests)\n",
    "- Concurrent Execution: When you want to improve the throughput of your application by performing multiple operations concurrently."
   ],
   "id": "c16b4f23b89a8921"
  },
  {
   "cell_type": "code",
   "id": "initial_id",
   "metadata": {
    "collapsed": true,
    "ExecuteTime": {
     "end_time": "2025-09-02T20:23:55.369316Z",
     "start_time": "2025-09-02T20:23:55.361261Z"
    }
   },
   "source": [
    "import threading\n",
    "import time\n",
    "from threading import Thread"
   ],
   "outputs": [],
   "execution_count": 1
  },
  {
   "metadata": {
    "ExecuteTime": {
     "end_time": "2025-09-02T20:27:51.526104Z",
     "start_time": "2025-09-02T20:27:51.517544Z"
    }
   },
   "cell_type": "code",
   "source": [
    "def print_numbers():\n",
    "    for i in range(5):\n",
    "        time.sleep(2)\n",
    "        print(f\"Number: {i}\")\n",
    "\n",
    "def print_letter():\n",
    "    for letter in \"abcde\":\n",
    "        time.sleep(2)\n",
    "        print(f\"Letter: {letter}\")\n"
   ],
   "id": "186c84132403493d",
   "outputs": [],
   "execution_count": 5
  },
  {
   "metadata": {
    "ExecuteTime": {
     "end_time": "2025-09-02T20:28:12.566661Z",
     "start_time": "2025-09-02T20:27:52.553446Z"
    }
   },
   "cell_type": "code",
   "source": [
    "start = time.time()\n",
    "print_numbers()\n",
    "print_letter()\n",
    "end = time.time()\n",
    "\n",
    "print(f\"Total execution time taken: {end-start}\")"
   ],
   "id": "405f4aec7c5a658e",
   "outputs": [
    {
     "name": "stdout",
     "output_type": "stream",
     "text": [
      "Number: 0\n",
      "Number: 1\n",
      "Number: 2\n",
      "Number: 3\n",
      "Number: 4\n",
      "Letter: a\n",
      "Letter: b\n",
      "Letter: c\n",
      "Letter: d\n",
      "Letter: e\n",
      "Total execution time taken: 20.008772611618042\n"
     ]
    }
   ],
   "execution_count": 6
  },
  {
   "metadata": {
    "ExecuteTime": {
     "end_time": "2025-09-02T20:34:23.734589Z",
     "start_time": "2025-09-02T20:34:13.547540Z"
    }
   },
   "cell_type": "code",
   "source": [
    "#Create 2 threads:\n",
    "#One for print_numbers and another one for print_letters\n",
    "\n",
    "t1 = threading.Thread(target= print_numbers)\n",
    "t2 = threading.Thread(target=print_letter)\n",
    "\n",
    "t=time.time()\n",
    "#Start the threads\n",
    "t1.start()\n",
    "t2.start()\n",
    "\n",
    "#Wait for threads to complete\n",
    "t1.join()\n",
    "t2.join()\n",
    "\n",
    "finished_time = time.time() - t\n",
    "\n",
    "print(f\"Finished Time: {finished_time}\")"
   ],
   "id": "5e6c537f3fe391e4",
   "outputs": [
    {
     "name": "stdout",
     "output_type": "stream",
     "text": [
      "Number: 0Letter: a\n",
      "\n",
      "Number: 1Letter: b\n",
      "\n",
      "Letter: c\n",
      "Number: 2\n",
      "Number: 3Letter: d\n",
      "\n",
      "Letter: e\n",
      "Number: 4\n",
      "Finished Time: 10.014355659484863\n"
     ]
    }
   ],
   "execution_count": 7
  },
  {
   "metadata": {},
   "cell_type": "code",
   "outputs": [],
   "execution_count": null,
   "source": "",
   "id": "9d86d543ad2ac270"
  }
 ],
 "metadata": {
  "kernelspec": {
   "display_name": "Python 3",
   "language": "python",
   "name": "python3"
  },
  "language_info": {
   "codemirror_mode": {
    "name": "ipython",
    "version": 2
   },
   "file_extension": ".py",
   "mimetype": "text/x-python",
   "name": "python",
   "nbconvert_exporter": "python",
   "pygments_lexer": "ipython2",
   "version": "2.7.6"
  }
 },
 "nbformat": 4,
 "nbformat_minor": 5
}
