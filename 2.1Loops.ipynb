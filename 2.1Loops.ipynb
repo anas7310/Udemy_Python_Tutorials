{
 "cells": [
  {
   "cell_type": "code",
   "id": "initial_id",
   "metadata": {
    "collapsed": true
   },
   "source": [
    "## For Loop\n",
    "for i in range(1,10):\n",
    "    print(i)"
   ],
   "outputs": [],
   "execution_count": null
  },
  {
   "metadata": {},
   "cell_type": "code",
   "source": [
    "for i in range(1,10,2):\n",
    "    print(i)"
   ],
   "id": "4f46872883c83780",
   "outputs": [],
   "execution_count": null
  },
  {
   "metadata": {},
   "cell_type": "code",
   "source": [
    "for i in range(10,0,-3):\n",
    "    print(i)"
   ],
   "id": "8552c90b293bb89b",
   "outputs": [],
   "execution_count": null
  },
  {
   "metadata": {},
   "cell_type": "code",
   "source": [
    "string = 'Anas yar khan'\n",
    "for i in string:\n",
    "    print(i)"
   ],
   "id": "19c905dfc0e99831",
   "outputs": [],
   "execution_count": null
  },
  {
   "metadata": {},
   "cell_type": "code",
   "source": [
    "#While loop\n",
    "##The while loop continues to execute as long as the condition is True\n",
    "count = 0\n",
    "while count < 5:\n",
    "    print(count)\n",
    "    count+=1"
   ],
   "id": "2ef9aad9f338448b",
   "outputs": [],
   "execution_count": null
  },
  {
   "metadata": {},
   "cell_type": "code",
   "source": [
    "#Loop control statements\n",
    "\n",
    "##break\n",
    "##The break statement exits the loop prematurely\n",
    "\n",
    "##break statement\n",
    "j=0\n",
    "while j< 10:\n",
    "    print(j)\n",
    "    if j==5:\n",
    "       break\n",
    "    j+=1\n",
    "\n",
    "#continue\n",
    "#The continue statement skips the current iteration and continues with the next.\n",
    "for i in range(10):\n",
    "    if i%2==0:\n",
    "        continue\n",
    "    print(i)\n"
   ],
   "id": "58cedf39bab09738",
   "outputs": [],
   "execution_count": null
  },
  {
   "metadata": {},
   "cell_type": "code",
   "source": [
    "#Pass\n",
    "#The pass statement is a null operation, it does nothing\n",
    "for i in range(5):\n",
    "    if i==3:\n",
    "        print('the number is',i)\n",
    "        pass\n",
    "    print(i)"
   ],
   "id": "b99285164a0556dd",
   "outputs": [],
   "execution_count": null
  },
  {
   "metadata": {},
   "cell_type": "code",
   "source": [
    "#Nested Loop\n",
    "#a loop inside a loop\n",
    "for i in range(3):\n",
    "    for j in range(2):\n",
    "        print(f'i:{i} and j:{j}')"
   ],
   "id": "5b7a64a9d3a41f37",
   "outputs": [],
   "execution_count": null
  },
  {
   "metadata": {
    "ExecuteTime": {
     "end_time": "2025-07-18T19:04:18.584978Z",
     "start_time": "2025-07-18T19:04:15.050178Z"
    }
   },
   "cell_type": "code",
   "source": [
    "#Example - Calculate the sum of first n natural numbers\n",
    "\n",
    "##while loop\n",
    "n=int(input(\"Enter a number\"))\n",
    "i=0\n",
    "sumOfNums = 0\n",
    "while i<=n:\n",
    "    sumOfNums+=i\n",
    "    i+=1\n",
    "print(sumOfNums)\n",
    "\n",
    "\n",
    "\n",
    "#for loop\n",
    "sumOfForLoop = 0\n",
    "for j in range(1,n+1):\n",
    "    sumOfForLoop += j\n",
    "print(sumOfForLoop)"
   ],
   "id": "1949bec82a5c5573",
   "outputs": [
    {
     "name": "stdout",
     "output_type": "stream",
     "text": [
      "55\n",
      "55\n"
     ]
    }
   ],
   "execution_count": 26
  },
  {
   "metadata": {
    "ExecuteTime": {
     "end_time": "2025-07-18T19:07:46.303781Z",
     "start_time": "2025-07-18T19:07:46.280530Z"
    }
   },
   "cell_type": "code",
   "source": [
    "##Example - Prime numbers between 1 to 100\n",
    "for num in range(1,101):\n",
    "    if num>1:\n",
    "        for i in range(2,num):\n",
    "            if num%i == 0:\n",
    "                break\n",
    "        else:\n",
    "            print(num)"
   ],
   "id": "bb8500d246565a35",
   "outputs": [
    {
     "name": "stdout",
     "output_type": "stream",
     "text": [
      "2\n",
      "3\n",
      "5\n",
      "7\n",
      "11\n",
      "13\n",
      "17\n",
      "19\n",
      "23\n",
      "29\n",
      "31\n",
      "37\n",
      "41\n",
      "43\n",
      "47\n",
      "53\n",
      "59\n",
      "61\n",
      "67\n",
      "71\n",
      "73\n",
      "79\n",
      "83\n",
      "89\n",
      "97\n"
     ]
    }
   ],
   "execution_count": 27
  }
 ],
 "metadata": {
  "kernelspec": {
   "display_name": "Python 3",
   "language": "python",
   "name": "python3"
  },
  "language_info": {
   "codemirror_mode": {
    "name": "ipython",
    "version": 2
   },
   "file_extension": ".py",
   "mimetype": "text/x-python",
   "name": "python",
   "nbconvert_exporter": "python",
   "pygments_lexer": "ipython2",
   "version": "2.7.6"
  }
 },
 "nbformat": 4,
 "nbformat_minor": 5
}
