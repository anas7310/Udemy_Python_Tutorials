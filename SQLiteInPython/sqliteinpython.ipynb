{
 "cells": [
  {
   "metadata": {},
   "cell_type": "markdown",
   "source": [
    "### SQL and SQLite\n",
    "SQL(Structured Query Language) is a standard language for managing and manipulating relational databases. SQLite is a self-contained, serverless, and zero-configuration database engine that is widely used for embedded database systems. In this lesson, we will cover the basics of SQL and SQLite, including creating databases, tables, and performing various SQL operations."
   ],
   "id": "f0015c5abedd719"
  },
  {
   "cell_type": "code",
   "id": "initial_id",
   "metadata": {
    "collapsed": true,
    "ExecuteTime": {
     "end_time": "2025-08-30T22:07:11.399649Z",
     "start_time": "2025-08-30T22:07:11.284879Z"
    }
   },
   "source": "import sqlite3",
   "outputs": [],
   "execution_count": 2
  },
  {
   "metadata": {
    "ExecuteTime": {
     "end_time": "2025-08-30T22:07:11.448824Z",
     "start_time": "2025-08-30T22:07:11.424222Z"
    }
   },
   "cell_type": "code",
   "source": [
    "#Connect to an SQLite Database\n",
    "connection = sqlite3.connect('example.db')\n",
    "connection"
   ],
   "id": "d6602833801b7b6d",
   "outputs": [
    {
     "data": {
      "text/plain": [
       "<sqlite3.Connection at 0x1af7c6064d0>"
      ]
     },
     "execution_count": 3,
     "metadata": {},
     "output_type": "execute_result"
    }
   ],
   "execution_count": 3
  },
  {
   "metadata": {
    "ExecuteTime": {
     "end_time": "2025-08-30T22:07:11.465294Z",
     "start_time": "2025-08-30T22:07:11.460188Z"
    }
   },
   "cell_type": "code",
   "source": [
    "##Create a cursor to iterate over table content\n",
    "cursor= connection.cursor()"
   ],
   "id": "cea4d53babeafbba",
   "outputs": [],
   "execution_count": 4
  },
  {
   "metadata": {
    "ExecuteTime": {
     "end_time": "2025-08-30T22:07:11.492095Z",
     "start_time": "2025-08-30T22:07:11.486223Z"
    }
   },
   "cell_type": "code",
   "source": [
    "#Create a table\n",
    "cursor.execute('''\n",
    "CREATE TABLE IF NOT EXISTS employees(\n",
    "                id Integer Primary Key,\n",
    "                name Text Not Null,\n",
    "                age Integer,\n",
    "                department Text Not Null\n",
    "                )\n",
    "''')\n",
    "\n",
    "#Commit the changes\n",
    "connection.commit()"
   ],
   "id": "8abe71331515a009",
   "outputs": [],
   "execution_count": 5
  },
  {
   "metadata": {
    "ExecuteTime": {
     "end_time": "2025-08-30T22:07:11.514719Z",
     "start_time": "2025-08-30T22:07:11.506537Z"
    }
   },
   "cell_type": "code",
   "source": [
    "cursor.execute('''\n",
    "SELECT * FROM employees\n",
    "''')"
   ],
   "id": "7cab4fff80b2b80a",
   "outputs": [
    {
     "data": {
      "text/plain": [
       "<sqlite3.Cursor at 0x1af7c20e640>"
      ]
     },
     "execution_count": 6,
     "metadata": {},
     "output_type": "execute_result"
    }
   ],
   "execution_count": 6
  },
  {
   "metadata": {
    "ExecuteTime": {
     "end_time": "2025-08-30T22:07:11.604464Z",
     "start_time": "2025-08-30T22:07:11.540087Z"
    }
   },
   "cell_type": "code",
   "source": [
    "#Insert the data in sqlite table\n",
    "cursor.execute('''\n",
    "Insert into employees(name,age,department) values('Anas',23,'Data Scientist')\n",
    "''')\n",
    "cursor.execute('''\n",
    "Insert into employees(name,age,department) values('Bob',28,'Engineering')\n",
    "''')\n",
    "cursor.execute('''\n",
    "Insert into employees(name,age,department) values('Charlie',30,'Finance')\n",
    "''')\n",
    "\n",
    "#commit the changes\n",
    "connection.commit()"
   ],
   "id": "3ad5f149beff8916",
   "outputs": [],
   "execution_count": 7
  },
  {
   "metadata": {
    "ExecuteTime": {
     "end_time": "2025-08-30T22:07:11.625107Z",
     "start_time": "2025-08-30T22:07:11.617852Z"
    }
   },
   "cell_type": "code",
   "source": [
    "#Query the data from the table\n",
    "cursor.execute('''\n",
    "SELECT * FROM employees\n",
    "''')\n",
    "\n",
    "#Print the queried data\n",
    "rows = cursor.fetchall()\n",
    "for row in rows:\n",
    "    print(row)\n"
   ],
   "id": "7d5352a69a8e1c12",
   "outputs": [
    {
     "name": "stdout",
     "output_type": "stream",
     "text": [
      "(1, 'Anas', 34, 'Data Scientist')\n",
      "(3, 'Charlie', 30, 'Finance')\n",
      "(4, 'Anas', 23, 'Data Scientist')\n",
      "(5, 'Bob', 28, 'Engineering')\n",
      "(6, 'Charlie', 30, 'Finance')\n"
     ]
    }
   ],
   "execution_count": 8
  },
  {
   "metadata": {
    "ExecuteTime": {
     "end_time": "2025-08-30T22:07:11.698989Z",
     "start_time": "2025-08-30T22:07:11.645871Z"
    }
   },
   "cell_type": "code",
   "source": [
    "#update the data in the table\n",
    "cursor.execute('''\n",
    "Update employees\n",
    "Set age = 34\n",
    "Where name = 'Anas'\n",
    "''')\n",
    "\n",
    "connection.commit()"
   ],
   "id": "54bf264fadde172f",
   "outputs": [],
   "execution_count": 9
  },
  {
   "metadata": {
    "ExecuteTime": {
     "end_time": "2025-08-30T22:07:11.763559Z",
     "start_time": "2025-08-30T22:07:11.705747Z"
    }
   },
   "cell_type": "code",
   "source": [
    "#Delete the data from the table\n",
    "cursor.execute('''\n",
    "Delete from employees\n",
    "Where name='Bob'\n",
    "''')\n",
    "\n",
    "connection.commit()"
   ],
   "id": "9cbfbfe221b2af17",
   "outputs": [],
   "execution_count": 10
  },
  {
   "metadata": {
    "ExecuteTime": {
     "end_time": "2025-08-30T22:19:33.696364Z",
     "start_time": "2025-08-30T22:19:33.545277Z"
    }
   },
   "cell_type": "code",
   "source": [
    "#Working with Sales Data\n",
    "##Connect to SQLite\n",
    "connection = sqlite3.connect('sales_data.db')\n",
    "cursor = connection.cursor()\n",
    "cursor.execute('''\n",
    "CREATE TABLE IF NOT EXISTS sales(\n",
    "                           id INTEGER PRIMARY KEY,\n",
    "                           date TEXT NOT NULL,\n",
    "                           product TEXT NOT NULL,\n",
    "                           sales INTEGER,\n",
    "                           region TEXT\n",
    "                           )\n",
    "''')\n",
    "\n",
    "##Insert data into sales table\n",
    "sales_data = [\n",
    "    ('2023-01-06', 'Product1', 225, 'West'),\n",
    "    ('2023-01-12', 'Product2', 310, 'North'),\n",
    "    ('2023-01-01', 'Product3', 480, 'East'),\n",
    "    ('2023-01-14', 'Product1', 95, 'South'),\n",
    "    ('2023-01-09', 'Product2', 410, 'North'),\n",
    "    ('2023-01-03', 'Product3', 150, 'West'),\n",
    "    ('2023-01-16', 'Product1', 320, 'East'),\n",
    "    ('2023-01-20', 'Product2', 275, 'South'),\n",
    "    ('2023-01-05', 'Product3', 110, 'North'),\n",
    "    ('2023-01-18', 'Product1', 490, 'East'),\n",
    "    ('2023-01-04', 'Product2', 205, 'West'),\n",
    "    ('2023-01-11', 'Product3', 360, 'South'),\n",
    "    ('2023-01-02', 'Product1', 295, 'North'),\n",
    "    ('2023-01-15', 'Product2', 420, 'East'),\n",
    "    ('2023-01-08', 'Product3', 180, 'South'),\n",
    "    ('2023-01-19', 'Product1', 365, 'West'),\n",
    "    ('2023-01-07', 'Product2', 275, 'North'),\n",
    "    ('2023-01-10', 'Product3', 455, 'East'),\n",
    "    ('2023-01-13', 'Product1', 130, 'South'),\n",
    "    ('2023-01-17', 'Product2', 340, 'West')\n",
    "]\n",
    "connection.commit()"
   ],
   "id": "1057d2a5ae0bd5e3",
   "outputs": [],
   "execution_count": 28
  },
  {
   "metadata": {
    "ExecuteTime": {
     "end_time": "2025-08-30T22:19:34.537946Z",
     "start_time": "2025-08-30T22:19:34.473389Z"
    }
   },
   "cell_type": "code",
   "source": [
    "#Bulk insertion from array to sqlite table\n",
    "cursor.executemany('''\n",
    "Insert into sales(date,product,sales,region) values(?,?,?,?)\n",
    "''',sales_data)\n",
    "\n",
    "connection.commit()"
   ],
   "id": "f2c1638d4e60aee9",
   "outputs": [],
   "execution_count": 29
  },
  {
   "metadata": {
    "ExecuteTime": {
     "end_time": "2025-08-30T22:19:37.086863Z",
     "start_time": "2025-08-30T22:19:37.080714Z"
    }
   },
   "cell_type": "code",
   "source": [
    "#Query the data from the table\n",
    "cursor.execute('''\n",
    "SELECT * FROM sales\n",
    "''')\n",
    "\n",
    "\n",
    "#Print the queried data\n",
    "rows = cursor.fetchall()\n",
    "for row in rows:\n",
    "    print(row)"
   ],
   "id": "b9bff0a9cfcd489e",
   "outputs": [
    {
     "name": "stdout",
     "output_type": "stream",
     "text": [
      "(1, '2023-01-06', 'Product1', 225, 'West')\n",
      "(2, '2023-01-12', 'Product2', 310, 'North')\n",
      "(3, '2023-01-01', 'Product3', 480, 'East')\n",
      "(4, '2023-01-14', 'Product1', 95, 'South')\n",
      "(5, '2023-01-09', 'Product2', 410, 'North')\n",
      "(6, '2023-01-03', 'Product3', 150, 'West')\n",
      "(7, '2023-01-16', 'Product1', 320, 'East')\n",
      "(8, '2023-01-20', 'Product2', 275, 'South')\n",
      "(9, '2023-01-05', 'Product3', 110, 'North')\n",
      "(10, '2023-01-18', 'Product1', 490, 'East')\n",
      "(11, '2023-01-04', 'Product2', 205, 'West')\n",
      "(12, '2023-01-11', 'Product3', 360, 'South')\n",
      "(13, '2023-01-02', 'Product1', 295, 'North')\n",
      "(14, '2023-01-15', 'Product2', 420, 'East')\n",
      "(15, '2023-01-08', 'Product3', 180, 'South')\n",
      "(16, '2023-01-19', 'Product1', 365, 'West')\n",
      "(17, '2023-01-07', 'Product2', 275, 'North')\n",
      "(18, '2023-01-10', 'Product3', 455, 'East')\n",
      "(19, '2023-01-13', 'Product1', 130, 'South')\n",
      "(20, '2023-01-17', 'Product2', 340, 'West')\n"
     ]
    }
   ],
   "execution_count": 30
  },
  {
   "metadata": {
    "ExecuteTime": {
     "end_time": "2025-08-30T22:20:10.701194Z",
     "start_time": "2025-08-30T22:20:10.696133Z"
    }
   },
   "cell_type": "code",
   "source": "connection.close()",
   "id": "de5551dbe4464708",
   "outputs": [],
   "execution_count": 31
  },
  {
   "metadata": {
    "ExecuteTime": {
     "end_time": "2025-08-30T22:20:29.300390Z",
     "start_time": "2025-08-30T22:20:29.268938Z"
    }
   },
   "cell_type": "code",
   "source": [
    "cursor.execute('''\n",
    "SELECT * FROM sales\n",
    "''')\n",
    "\n",
    "\n",
    "#Print the queried data\n",
    "rows = cursor.fetchall()\n",
    "for row in rows:\n",
    "    print(row)"
   ],
   "id": "d3c7e0f2c6e949f0",
   "outputs": [
    {
     "ename": "ProgrammingError",
     "evalue": "Cannot operate on a closed database.",
     "output_type": "error",
     "traceback": [
      "\u001B[31m---------------------------------------------------------------------------\u001B[39m",
      "\u001B[31mProgrammingError\u001B[39m                          Traceback (most recent call last)",
      "\u001B[36mCell\u001B[39m\u001B[36m \u001B[39m\u001B[32mIn[32]\u001B[39m\u001B[32m, line 1\u001B[39m\n\u001B[32m----> \u001B[39m\u001B[32m1\u001B[39m \u001B[43mcursor\u001B[49m\u001B[43m.\u001B[49m\u001B[43mexecute\u001B[49m\u001B[43m(\u001B[49m\u001B[33;43m'''\u001B[39;49m\n\u001B[32m      2\u001B[39m \u001B[33;43mSELECT * FROM sales\u001B[39;49m\n\u001B[32m      3\u001B[39m \u001B[33;43m'''\u001B[39;49m\u001B[43m)\u001B[49m\n\u001B[32m      6\u001B[39m \u001B[38;5;66;03m#Print the queried data\u001B[39;00m\n\u001B[32m      7\u001B[39m rows = cursor.fetchall()\n",
      "\u001B[31mProgrammingError\u001B[39m: Cannot operate on a closed database."
     ]
    }
   ],
   "execution_count": 32
  },
  {
   "metadata": {},
   "cell_type": "code",
   "outputs": [],
   "execution_count": null,
   "source": "",
   "id": "8e470842aee5befd"
  }
 ],
 "metadata": {
  "kernelspec": {
   "display_name": "Python 3",
   "language": "python",
   "name": "python3"
  },
  "language_info": {
   "codemirror_mode": {
    "name": "ipython",
    "version": 2
   },
   "file_extension": ".py",
   "mimetype": "text/x-python",
   "name": "python",
   "nbconvert_exporter": "python",
   "pygments_lexer": "ipython2",
   "version": "2.7.6"
  }
 },
 "nbformat": 4,
 "nbformat_minor": 5
}
