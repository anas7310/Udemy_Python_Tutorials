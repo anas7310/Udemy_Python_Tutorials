{
 "cells": [
  {
   "cell_type": "markdown",
   "id": "964cf61d",
   "metadata": {},
   "source": [
    "# Module: SQLite3 Assignments\n",
    "## Lesson: SQLite3\n",
    "### Assignment 1: Creating and Connecting to a Database\n",
    "\n",
    "1. Write a Python function to create a new SQLite3 database named `test.db`.\n",
    "2. Write a Python function to create a table named `employees` with columns `id` (integer), `name` (text), `age` (integer), and `department` (text) in the `test.db` database.\n",
    "\n",
    "### Assignment 2: Inserting Data\n",
    "\n",
    "1. Write a Python function to insert a new employee into the `employees` table.\n",
    "2. Insert at least 5 different employees into the `employees` table.\n",
    "\n",
    "### Assignment 3: Querying Data\n",
    "\n",
    "1. Write a Python function to fetch and display all records from the `employees` table.\n",
    "2. Write a Python function to fetch and display all employees from a specific department.\n",
    "\n",
    "### Assignment 4: Updating Data\n",
    "\n",
    "1. Write a Python function to update the department of an employee based on their `id`.\n",
    "2. Update the department of at least 2 employees and display the updated records.\n",
    "\n",
    "### Assignment 5: Deleting Data\n",
    "\n",
    "1. Write a Python function to delete an employee from the `employees` table based on their `id`.\n",
    "2. Delete at least 1 employee and display the remaining records.\n",
    "\n",
    "### Assignment 6: Advanced Queries\n",
    "\n",
    "1. Write a Python function to fetch and display employees older than a certain age.\n",
    "2. Write a Python function to fetch and display employees whose names start with a specific letter.\n",
    "\n",
    "### Assignment 7: Handling Transactions\n",
    "\n",
    "1. Write a Python function to insert multiple employees into the `employees` table in a single transaction. Ensure that if any insertion fails, none of the insertions are committed.\n",
    "2. Write a Python function to update the age of multiple employees in a single transaction. Ensure that if any update fails, none of the updates are committed.\n",
    "\n",
    "### Assignment 8: Creating Relationships\n",
    "\n",
    "1. Create a new table named `departments` with columns `id` (integer) and `name` (text).\n",
    "2. Modify the `employees` table to include a foreign key referencing the `id` column in the `departments` table.\n",
    "3. Write a Python function to insert data into both the `departments` and `employees` tables, ensuring referential integrity.\n",
    "\n",
    "### Assignment 9: Indexing and Optimization\n",
    "\n",
    "1. Create an index on the `name` column of the `employees` table.\n",
    "2. Write a Python function to fetch and display all employees whose names start with a specific letter. Compare the performance with and without the index.\n",
    "\n",
    "### Assignment 10: Backing Up and Restoring Data\n",
    "\n",
    "1. Write a Python function to back up the `test.db` database to a file named `backup.db`.\n",
    "2. Write a Python function to restore the `test.db` database from the `backup.db` file."
   ]
  },
  {
   "cell_type": "code",
   "metadata": {
    "ExecuteTime": {
     "end_time": "2025-08-31T22:17:49.332286Z",
     "start_time": "2025-08-31T22:17:49.160644Z"
    }
   },
   "source": [
    "import sqlite3\n",
    "import time\n",
    "\n",
    "connection = sqlite3.connect('test.db')\n",
    "cursor = connection.cursor()"
   ],
   "id": "5ed91a33c43dc35c",
   "outputs": [],
   "execution_count": 79
  },
  {
   "metadata": {
    "ExecuteTime": {
     "end_time": "2025-08-30T22:34:29.322431Z",
     "start_time": "2025-08-30T22:34:28.863218Z"
    }
   },
   "cell_type": "code",
   "source": [
    "cursor.execute('''\n",
    "CREATE TABLE IF NOT EXISTS employees(\n",
    "id INTEGER PRIMARY KEY,\n",
    "name TEXT NOT NULL,\n",
    "age INTEGER,\n",
    "department TEXT)\n",
    "''')\n",
    "\n",
    "connection.commit()"
   ],
   "id": "6795c1b4b9afb1de",
   "outputs": [],
   "execution_count": 2
  },
  {
   "metadata": {
    "ExecuteTime": {
     "end_time": "2025-08-30T22:37:22.434199Z",
     "start_time": "2025-08-30T22:37:21.994498Z"
    }
   },
   "cell_type": "code",
   "source": [
    "cursor.execute('''\n",
    "INSERT INTO employees(id, name, age, department) values(1,'Anas',24,'Engineering')\n",
    "''')\n",
    "\n",
    "connection.commit()"
   ],
   "id": "8dedab7fc2bd1fd5",
   "outputs": [],
   "execution_count": 3
  },
  {
   "metadata": {
    "ExecuteTime": {
     "end_time": "2025-08-30T22:38:20.432755Z",
     "start_time": "2025-08-30T22:38:20.417225Z"
    }
   },
   "cell_type": "code",
   "source": [
    "employees_data= [\n",
    "    (2, \"Bob Smith\", 34, \"Finance\"),\n",
    "    (3, \"Charlie Brown\", 41, \"IT\"),\n",
    "    (4, \"Diana Prince\", 27, \"Marketing\"),\n",
    "    (5, \"Ethan Hunt\", 38, \"Sales\"),\n",
    "    (6, \"Fiona Davis\", 31, \"Finance\"),\n",
    "    (7, \"George Miller\", 45, \"Operations\"),\n",
    "    (8, \"Hannah Lee\", 26, \"HR\"),\n",
    "    (9, \"Ian Clark\", 37, \"IT\"),\n",
    "    (10, \"Julia Roberts\", 33, \"Sales\"),\n",
    "]\n",
    "\n",
    "cursor.executemany('''\n",
    "INSERT INTO employees(id, name, age, department) values(?,?,?,?)\n",
    "''', employees_data)"
   ],
   "id": "147d1f15810f858b",
   "outputs": [
    {
     "data": {
      "text/plain": [
       "<sqlite3.Cursor at 0x230d88b15c0>"
      ]
     },
     "execution_count": 5,
     "metadata": {},
     "output_type": "execute_result"
    }
   ],
   "execution_count": 5
  },
  {
   "metadata": {
    "ExecuteTime": {
     "end_time": "2025-08-30T22:38:29.772085Z",
     "start_time": "2025-08-30T22:38:29.634887Z"
    }
   },
   "cell_type": "code",
   "source": "connection.commit()",
   "id": "165c4aeb120c6c78",
   "outputs": [],
   "execution_count": 6
  },
  {
   "metadata": {
    "ExecuteTime": {
     "end_time": "2025-08-30T22:41:03.922842Z",
     "start_time": "2025-08-30T22:41:03.813463Z"
    }
   },
   "cell_type": "code",
   "source": [
    "cursor.execute('''\n",
    "SELECT * FROM employees\n",
    "''')\n",
    "\n",
    "data  = cursor.fetchall()\n",
    "for employee in data:\n",
    "    print(employee)"
   ],
   "id": "a7ff05ee01544d6a",
   "outputs": [
    {
     "name": "stdout",
     "output_type": "stream",
     "text": [
      "(1, 'Anas', 24, 'Engineering')\n",
      "(2, 'Bob Smith', 34, 'Finance')\n",
      "(3, 'Charlie Brown', 41, 'IT')\n",
      "(4, 'Diana Prince', 27, 'Marketing')\n",
      "(5, 'Ethan Hunt', 38, 'Sales')\n",
      "(6, 'Fiona Davis', 31, 'Finance')\n",
      "(7, 'George Miller', 45, 'Operations')\n",
      "(8, 'Hannah Lee', 26, 'HR')\n",
      "(9, 'Ian Clark', 37, 'IT')\n",
      "(10, 'Julia Roberts', 33, 'Sales')\n"
     ]
    }
   ],
   "execution_count": 7
  },
  {
   "metadata": {
    "ExecuteTime": {
     "end_time": "2025-08-30T22:42:08.170759Z",
     "start_time": "2025-08-30T22:42:08.162820Z"
    }
   },
   "cell_type": "code",
   "source": [
    "cursor.execute('''\n",
    "SELECT * FROM employees WHERE department='IT'\n",
    "''')\n",
    "\n",
    "data  = cursor.fetchall()\n",
    "for employee in data:\n",
    "    print(employee)"
   ],
   "id": "4a123fde996b234c",
   "outputs": [
    {
     "name": "stdout",
     "output_type": "stream",
     "text": [
      "(3, 'Charlie Brown', 41, 'IT')\n",
      "(9, 'Ian Clark', 37, 'IT')\n"
     ]
    }
   ],
   "execution_count": 8
  },
  {
   "metadata": {
    "ExecuteTime": {
     "end_time": "2025-08-30T22:43:57.818113Z",
     "start_time": "2025-08-30T22:43:57.402987Z"
    }
   },
   "cell_type": "code",
   "source": [
    "cursor.execute('''\n",
    "UPDATE employees\n",
    "SET department = 'IT'\n",
    "WHERE id=6\n",
    "''')\n",
    "\n",
    "connection.commit()"
   ],
   "id": "b9a1a7fd0887e787",
   "outputs": [],
   "execution_count": 10
  },
  {
   "metadata": {
    "ExecuteTime": {
     "end_time": "2025-08-30T22:44:18.019713Z",
     "start_time": "2025-08-30T22:44:18.013452Z"
    }
   },
   "cell_type": "code",
   "source": [
    "cursor.execute('''\n",
    "SELECT * FROM employees WHERE department='IT'\n",
    "''')\n",
    "\n",
    "data  = cursor.fetchall()\n",
    "for employee in data:\n",
    "    print(employee)"
   ],
   "id": "15678f9cb7a55ae",
   "outputs": [
    {
     "name": "stdout",
     "output_type": "stream",
     "text": [
      "(3, 'Charlie Brown', 41, 'IT')\n",
      "(6, 'Fiona Davis', 31, 'IT')\n",
      "(9, 'Ian Clark', 37, 'IT')\n"
     ]
    }
   ],
   "execution_count": 11
  },
  {
   "metadata": {
    "ExecuteTime": {
     "end_time": "2025-08-30T22:46:02.914069Z",
     "start_time": "2025-08-30T22:46:02.495043Z"
    }
   },
   "cell_type": "code",
   "source": [
    "cursor.execute('''\n",
    "UPDATE employees\n",
    "SET department = 'Operations'\n",
    "WHERE department = 'Sales'\n",
    "''')\n",
    "\n",
    "connection.commit()"
   ],
   "id": "196f63a927dbefcb",
   "outputs": [],
   "execution_count": 14
  },
  {
   "metadata": {
    "ExecuteTime": {
     "end_time": "2025-08-30T22:46:03.526300Z",
     "start_time": "2025-08-30T22:46:03.518727Z"
    }
   },
   "cell_type": "code",
   "source": [
    "cursor.execute('''\n",
    "SELECT * FROM employees\n",
    "''')\n",
    "\n",
    "data  = cursor.fetchall()\n",
    "for employee in data:\n",
    "    print(employee)"
   ],
   "id": "25b4d1cb1f894c68",
   "outputs": [
    {
     "name": "stdout",
     "output_type": "stream",
     "text": [
      "(1, 'Anas', 24, 'Engineering')\n",
      "(2, 'Bob Smith', 34, 'Finance')\n",
      "(3, 'Charlie Brown', 41, 'IT')\n",
      "(4, 'Diana Prince', 27, 'Marketing')\n",
      "(5, 'Ethan Hunt', 38, 'Operations')\n",
      "(6, 'Fiona Davis', 31, 'IT')\n",
      "(7, 'George Miller', 45, 'Operations')\n",
      "(8, 'Hannah Lee', 26, 'HR')\n",
      "(9, 'Ian Clark', 37, 'IT')\n",
      "(10, 'Julia Roberts', 33, 'Operations')\n"
     ]
    }
   ],
   "execution_count": 15
  },
  {
   "metadata": {
    "ExecuteTime": {
     "end_time": "2025-08-30T22:47:06.916815Z",
     "start_time": "2025-08-30T22:47:06.435309Z"
    }
   },
   "cell_type": "code",
   "source": [
    "cursor.execute('''\n",
    "DELETE FROM employees\n",
    "where id=7\n",
    "''')\n",
    "\n",
    "connection.commit()"
   ],
   "id": "688eb3c50ce8cda7",
   "outputs": [],
   "execution_count": 16
  },
  {
   "metadata": {
    "ExecuteTime": {
     "end_time": "2025-08-30T22:47:14.497189Z",
     "start_time": "2025-08-30T22:47:14.490077Z"
    }
   },
   "cell_type": "code",
   "source": [
    "cursor.execute('''\n",
    "SELECT * FROM employees\n",
    "''')\n",
    "\n",
    "data  = cursor.fetchall()\n",
    "for employee in data:\n",
    "    print(employee)"
   ],
   "id": "17537d9de5c5191d",
   "outputs": [
    {
     "name": "stdout",
     "output_type": "stream",
     "text": [
      "(1, 'Anas', 24, 'Engineering')\n",
      "(2, 'Bob Smith', 34, 'Finance')\n",
      "(3, 'Charlie Brown', 41, 'IT')\n",
      "(4, 'Diana Prince', 27, 'Marketing')\n",
      "(5, 'Ethan Hunt', 38, 'Operations')\n",
      "(6, 'Fiona Davis', 31, 'IT')\n",
      "(8, 'Hannah Lee', 26, 'HR')\n",
      "(9, 'Ian Clark', 37, 'IT')\n",
      "(10, 'Julia Roberts', 33, 'Operations')\n"
     ]
    }
   ],
   "execution_count": 17
  },
  {
   "metadata": {
    "ExecuteTime": {
     "end_time": "2025-08-30T22:48:16.293344Z",
     "start_time": "2025-08-30T22:48:15.866300Z"
    }
   },
   "cell_type": "code",
   "source": [
    "cursor.execute('''\n",
    "DELETE FROM employees\n",
    "where name LIKE 'Ian%'\n",
    "''')\n",
    "\n",
    "connection.commit()"
   ],
   "id": "75153c85f8a8663",
   "outputs": [],
   "execution_count": 20
  },
  {
   "metadata": {
    "ExecuteTime": {
     "end_time": "2025-08-30T22:48:23.650696Z",
     "start_time": "2025-08-30T22:48:23.641102Z"
    }
   },
   "cell_type": "code",
   "source": [
    "cursor.execute('''\n",
    "SELECT * FROM employees\n",
    "''')\n",
    "\n",
    "data  = cursor.fetchall()\n",
    "for employee in data:\n",
    "    print(employee)"
   ],
   "id": "45cf784777d4eb79",
   "outputs": [
    {
     "name": "stdout",
     "output_type": "stream",
     "text": [
      "(1, 'Anas', 24, 'Engineering')\n",
      "(2, 'Bob Smith', 34, 'Finance')\n",
      "(3, 'Charlie Brown', 41, 'IT')\n",
      "(4, 'Diana Prince', 27, 'Marketing')\n",
      "(5, 'Ethan Hunt', 38, 'Operations')\n",
      "(6, 'Fiona Davis', 31, 'IT')\n",
      "(8, 'Hannah Lee', 26, 'HR')\n",
      "(10, 'Julia Roberts', 33, 'Operations')\n"
     ]
    }
   ],
   "execution_count": 21
  },
  {
   "metadata": {
    "ExecuteTime": {
     "end_time": "2025-08-30T22:49:14.233946Z",
     "start_time": "2025-08-30T22:49:14.224119Z"
    }
   },
   "cell_type": "code",
   "source": [
    "cursor.execute('''\n",
    "SELECT * FROM employees\n",
    "WHERE age>30\n",
    "''')\n",
    "\n",
    "data  = cursor.fetchall()\n",
    "for employee in data:\n",
    "    print(employee)"
   ],
   "id": "e0860568d008c655",
   "outputs": [
    {
     "name": "stdout",
     "output_type": "stream",
     "text": [
      "(2, 'Bob Smith', 34, 'Finance')\n",
      "(3, 'Charlie Brown', 41, 'IT')\n",
      "(5, 'Ethan Hunt', 38, 'Operations')\n",
      "(6, 'Fiona Davis', 31, 'IT')\n",
      "(10, 'Julia Roberts', 33, 'Operations')\n"
     ]
    }
   ],
   "execution_count": 23
  },
  {
   "metadata": {
    "ExecuteTime": {
     "end_time": "2025-08-30T22:50:35.352293Z",
     "start_time": "2025-08-30T22:50:35.338812Z"
    }
   },
   "cell_type": "code",
   "source": [
    "cursor.execute('''\n",
    "UPDATE employees\n",
    "SET name = 'Barbie'\n",
    "WHERE id=5\n",
    "''')"
   ],
   "id": "c447ed12dad52c6d",
   "outputs": [
    {
     "data": {
      "text/plain": [
       "<sqlite3.Cursor at 0x230d88b15c0>"
      ]
     },
     "execution_count": 27,
     "metadata": {},
     "output_type": "execute_result"
    }
   ],
   "execution_count": 27
  },
  {
   "metadata": {
    "ExecuteTime": {
     "end_time": "2025-08-30T22:50:36.620017Z",
     "start_time": "2025-08-30T22:50:36.615743Z"
    }
   },
   "cell_type": "code",
   "source": "connection.commit()",
   "id": "c564ec9ffef84184",
   "outputs": [],
   "execution_count": 28
  },
  {
   "metadata": {
    "ExecuteTime": {
     "end_time": "2025-08-30T22:50:45.929975Z",
     "start_time": "2025-08-30T22:50:45.912709Z"
    }
   },
   "cell_type": "code",
   "source": [
    "cursor.execute('''\n",
    "SELECT * FROM employees\n",
    "''')\n",
    "\n",
    "data  = cursor.fetchall()\n",
    "for employee in data:\n",
    "    print(employee)"
   ],
   "id": "54ad1a44ab992e94",
   "outputs": [
    {
     "name": "stdout",
     "output_type": "stream",
     "text": [
      "(1, 'Anas', 24, 'Engineering')\n",
      "(2, 'Bob Smith', 34, 'Finance')\n",
      "(3, 'Charlie Brown', 41, 'IT')\n",
      "(4, 'Diana Prince', 27, 'Marketing')\n",
      "(5, 'Barbie', 38, 'Operations')\n",
      "(6, 'Fiona Davis', 31, 'IT')\n",
      "(8, 'Hannah Lee', 26, 'HR')\n",
      "(10, 'Julia Roberts', 33, 'Operations')\n"
     ]
    }
   ],
   "execution_count": 29
  },
  {
   "metadata": {
    "ExecuteTime": {
     "end_time": "2025-08-30T22:51:11.118215Z",
     "start_time": "2025-08-30T22:51:11.112810Z"
    }
   },
   "cell_type": "code",
   "source": [
    "cursor.execute('''\n",
    "SELECT * FROM employees\n",
    "WHERE name LIKE 'B%'\n",
    "''')\n",
    "\n",
    "data  = cursor.fetchall()\n",
    "for employee in data:\n",
    "    print(employee)"
   ],
   "id": "f3f623e3a1fcc8f3",
   "outputs": [
    {
     "name": "stdout",
     "output_type": "stream",
     "text": [
      "(2, 'Bob Smith', 34, 'Finance')\n",
      "(5, 'Barbie', 38, 'Operations')\n"
     ]
    }
   ],
   "execution_count": 31
  },
  {
   "metadata": {
    "ExecuteTime": {
     "end_time": "2025-08-30T22:58:44.932336Z",
     "start_time": "2025-08-30T22:58:44.762490Z"
    }
   },
   "cell_type": "code",
   "source": [
    "def insert_multiple_employees(employees):\n",
    "    connection1=sqlite3.connect('test1.db')\n",
    "    cursor1 = connection1.cursor()\n",
    "    try:\n",
    "        cursor1.executemany('''\n",
    "            INSERT INTO employees(id,name,age,department) VALUES(?,?,?,?)\n",
    "        ''', employee)\n",
    "        connection1.commit()\n",
    "        print(\"All Employees inserted successfully.\")\n",
    "    except Exception as e:\n",
    "        connection1.rollback()\n",
    "        print(\"Error occurred! Connection rolled back.\")\n",
    "        print(e)\n",
    "    finally:\n",
    "        connection1.close()"
   ],
   "id": "d0cb420d9c7580f",
   "outputs": [],
   "execution_count": 32
  },
  {
   "metadata": {
    "ExecuteTime": {
     "end_time": "2025-08-30T22:58:54.456877Z",
     "start_time": "2025-08-30T22:58:54.167990Z"
    }
   },
   "cell_type": "code",
   "source": "insert_multiple_employees(employees_data)",
   "id": "f3a32fa6fcc122c3",
   "outputs": [
    {
     "name": "stdout",
     "output_type": "stream",
     "text": [
      "Error occurred! Connection rolled back.\n",
      "no such table: employees\n"
     ]
    }
   ],
   "execution_count": 33
  },
  {
   "metadata": {
    "ExecuteTime": {
     "end_time": "2025-08-30T23:05:26.888912Z",
     "start_time": "2025-08-30T23:05:26.880441Z"
    }
   },
   "cell_type": "code",
   "source": [
    "def insert_multiple_employees(employees):\n",
    "        conn = sqlite3.connect('test1.db')\n",
    "        cursor1 = conn.cursor()\n",
    "        try:\n",
    "            cursor1.executemany('''\n",
    "                INSERT INTO employees(id, name, age, department) VALUES(?, ?, ?, ?)\n",
    "            ''', employees)\n",
    "            conn.commit()\n",
    "            print(\"All employees inserted successfully.\")\n",
    "        except Exception as e:\n",
    "            conn.rollback()\n",
    "            print(\"Error occurred, transaction rolled back.\")\n",
    "            print(e)\n",
    "        finally:\n",
    "            conn.close()\n",
    "\n",
    "    # Test the function with valid and invalid data,\n",
    "employees = [\n",
    "        (26, 'Frank', 40, 'Finance'),\n",
    "        (27, 'Grace', 29, 'Engineering'),\n",
    "        (28, 'Hannah', 35, 'Marketing'),\n",
    "        (29, 'Ivan', 38, 'Sales'),\n",
    "        (21, 'Jack', 45, 'HR')\n",
    "]\n",
    "insert_multiple_employees(employees)"
   ],
   "id": "7f42a4e21d74c0d0",
   "outputs": [
    {
     "name": "stdout",
     "output_type": "stream",
     "text": [
      "Error occurred, transaction rolled back.\n",
      "no such table: employees\n"
     ]
    }
   ],
   "execution_count": 41
  },
  {
   "metadata": {
    "ExecuteTime": {
     "end_time": "2025-08-30T23:06:34.741883Z",
     "start_time": "2025-08-30T23:06:34.735223Z"
    }
   },
   "cell_type": "code",
   "source": [
    "cursor.execute('''\n",
    "SELECT * FROM employees\n",
    "''')\n",
    "\n",
    "data  = cursor.fetchall()\n",
    "for employee in data:\n",
    "    print(employee)"
   ],
   "id": "f02942eb0ee438e4",
   "outputs": [
    {
     "name": "stdout",
     "output_type": "stream",
     "text": [
      "(1, 'Anas', 24, 'Engineering')\n",
      "(2, 'Bob Smith', 34, 'Finance')\n",
      "(3, 'Charlie Brown', 41, 'IT')\n",
      "(4, 'Diana Prince', 27, 'Marketing')\n",
      "(5, 'Barbie', 38, 'Operations')\n",
      "(6, 'Fiona Davis', 31, 'IT')\n",
      "(8, 'Hannah Lee', 26, 'HR')\n",
      "(10, 'Julia Roberts', 33, 'Operations')\n"
     ]
    }
   ],
   "execution_count": 42
  },
  {
   "metadata": {
    "ExecuteTime": {
     "end_time": "2025-08-31T20:55:10.081836Z",
     "start_time": "2025-08-31T20:55:10.056386Z"
    }
   },
   "cell_type": "code",
   "source": [
    "update_ages = [\n",
    "    (32,11),\n",
    "    (29,4),\n",
    "    (36,'A'),\n",
    "    (42,11) #id does not exists\n",
    "]"
   ],
   "id": "1164663544e12c7c",
   "outputs": [],
   "execution_count": 50
  },
  {
   "metadata": {
    "ExecuteTime": {
     "end_time": "2025-08-31T20:55:45.839678Z",
     "start_time": "2025-08-31T20:55:45.699018Z"
    }
   },
   "cell_type": "code",
   "source": [
    "def update_age(update_ages):\n",
    "    connection = sqlite3.connect('test.db')\n",
    "    cursor = connection.cursor()\n",
    "\n",
    "    try:\n",
    "        cursor.executemany('''\n",
    "        UPDATE employees\n",
    "        SET age = ?\n",
    "        WHERE id = ?\n",
    "        ''', update_ages)\n",
    "\n",
    "        if cursor.rowcount == 0:\n",
    "            print(f\"No record found \")\n",
    "        else:\n",
    "            print(f\"Updated\")\n",
    "\n",
    "\n",
    "        connection.commit()\n",
    "        print(\"Ages updated successfully\")\n",
    "    except Exception as e:\n",
    "        connection.rollback()\n",
    "        print(\"Error occurred! connection rolled back\")\n",
    "        print(e)\n",
    "    finally:\n",
    "        connection.close()\n",
    "\n",
    "update_age(update_ages)\n"
   ],
   "id": "ce6c00541e267720",
   "outputs": [
    {
     "name": "stdout",
     "output_type": "stream",
     "text": [
      "Error occurred! connection rolled back\n",
      "no such table: employees\n"
     ]
    }
   ],
   "execution_count": 53
  },
  {
   "metadata": {
    "ExecuteTime": {
     "end_time": "2025-08-31T20:56:00.940529Z",
     "start_time": "2025-08-31T20:56:00.828703Z"
    }
   },
   "cell_type": "code",
   "source": [
    "cursor.execute('''\n",
    "SELECT * FROM employees\n",
    "''')\n",
    "\n",
    "data  = cursor.fetchall()\n",
    "for employee in data:\n",
    "    print(employee)"
   ],
   "id": "42235d76d88f88e0",
   "outputs": [
    {
     "name": "stdout",
     "output_type": "stream",
     "text": [
      "(1, 'Anas', 32, 'Engineering')\n",
      "(2, 'Bob Smith', 34, 'Finance')\n",
      "(3, 'Charlie Brown', 41, 'IT')\n",
      "(4, 'Diana Prince', 29, 'Marketing')\n",
      "(5, 'Barbie', 38, 'Operations')\n",
      "(6, 'Fiona Davis', 31, 'IT')\n",
      "(8, 'Hannah Lee', 36, 'HR')\n",
      "(10, 'Julia Roberts', 33, 'Operations')\n"
     ]
    }
   ],
   "execution_count": 54
  },
  {
   "metadata": {
    "ExecuteTime": {
     "end_time": "2025-08-31T22:18:34.198768Z",
     "start_time": "2025-08-31T22:18:34.188647Z"
    }
   },
   "cell_type": "code",
   "source": [
    "conn = sqlite3.connect('test.db')\n",
    "cursor = conn.cursor()"
   ],
   "id": "ff3b2f5c99c205f7",
   "outputs": [],
   "execution_count": 83
  },
  {
   "metadata": {},
   "cell_type": "code",
   "source": [
    "cursor.execute('''\n",
    "CREATE TABLE departments(\n",
    "                id INTEGER PRIMARY KEY,\n",
    "                name TEXT NOT NULL UNIQUE\n",
    "                )\n",
    "''')\n",
    "\n",
    "conn.commit()"
   ],
   "id": "eea67b1e1a2e1d0",
   "outputs": [],
   "execution_count": null
  },
  {
   "metadata": {
    "ExecuteTime": {
     "end_time": "2025-08-31T22:18:05.610939300Z",
     "start_time": "2025-08-31T21:26:11.378504Z"
    }
   },
   "cell_type": "code",
   "source": [
    "cursor.execute('''\n",
    "SELECT * FROM departments\n",
    "''')\n",
    "\n",
    "data  = cursor.fetchall()\n",
    "for employee in data:\n",
    "    print(employee)"
   ],
   "id": "9c490b806346566b",
   "outputs": [],
   "execution_count": 66
  },
  {
   "metadata": {
    "ExecuteTime": {
     "end_time": "2025-08-31T21:26:01.149825Z",
     "start_time": "2025-08-31T21:26:00.969496Z"
    }
   },
   "cell_type": "code",
   "source": [
    "#Drop Table\n",
    "#\n",
    "# cursor.execute('''\n",
    "# DROP TABLE department\n",
    "# ''')\n",
    "#\n",
    "# conn.commit()"
   ],
   "id": "a18df00a06cf20d3",
   "outputs": [],
   "execution_count": 63
  },
  {
   "metadata": {
    "ExecuteTime": {
     "end_time": "2025-08-31T21:33:11.624630Z",
     "start_time": "2025-08-31T21:33:11.519768Z"
    }
   },
   "cell_type": "code",
   "source": [
    "#Modify employee table and add a foreign key for department id\n",
    "\n",
    "cursor.executescript('''\n",
    "PRAGMA foreign_keys=off;\n",
    "BEGIN TRANSACTION;\n",
    "ALTER TABLE employees RENAME to old_employees;\n",
    "CREATE TABLE employees(\n",
    "id INTEGER PRIMARY KEY,\n",
    "name TEXT NOT NULL,\n",
    "age TEXT,\n",
    "department TEXT,\n",
    "department_id INTEGER,\n",
    "FOREIGN KEY(department_id) REFERENCES departments\n",
    ");\n",
    "INSERT INTO employees(id,name,age,department)\n",
    "SELECT id,name,age,department FROM old_employees;\n",
    "DROP TABLE old_employees;\n",
    "COMMIT;\n",
    "PRAGMA foreign_keys=on;\n",
    "''')\n",
    "\n",
    "conn.commit()\n",
    "print(\"Table 'employees' modified successfully.\")"
   ],
   "id": "1d6966a2052e337",
   "outputs": [
    {
     "name": "stdout",
     "output_type": "stream",
     "text": [
      "Table 'employees' modified successfully.\n"
     ]
    }
   ],
   "execution_count": 70
  },
  {
   "metadata": {
    "ExecuteTime": {
     "end_time": "2025-08-31T21:43:33.911031Z",
     "start_time": "2025-08-31T21:43:33.900481Z"
    }
   },
   "cell_type": "code",
   "source": [
    "def insert_department_and_employee(department_id, department_name, employee_id, name, age, department):\n",
    "    conn = sqlite3.connect('test.db')\n",
    "    cursor = conn.cursor()\n",
    "    try:\n",
    "        cursor.execute('''\n",
    "        INSERT INTO departments(id,name)\n",
    "        VALUES(?,?)\n",
    "        ''',( department_id, department_name))\n",
    "\n",
    "        cursor.execute('''\n",
    "        INSERT INTO employees(id,name,age,department,department_id)\n",
    "        VALUES (?,?,?,?,?)\n",
    "        ''',(employee_id,name,age, department, department_id))\n",
    "\n",
    "        conn.commit()\n",
    "        print(\"Details added successfully.\")\n",
    "    except Exception as e:\n",
    "        conn.rollback()\n",
    "        print(e)\n",
    "    finally:\n",
    "        conn.close()"
   ],
   "id": "1dcc7fca67102947",
   "outputs": [],
   "execution_count": 75
  },
  {
   "metadata": {
    "ExecuteTime": {
     "end_time": "2025-08-31T21:43:44.314613Z",
     "start_time": "2025-08-31T21:43:44.252416Z"
    }
   },
   "cell_type": "code",
   "source": "insert_department_and_employee(1, 'Finance', 11, 'Zara', 28, 'Finance')",
   "id": "2a48439aa4f6c8bd",
   "outputs": [
    {
     "name": "stdout",
     "output_type": "stream",
     "text": [
      "Details added successfully.\n"
     ]
    }
   ],
   "execution_count": 77
  },
  {
   "metadata": {},
   "cell_type": "markdown",
   "source": "### Indexing and Optimization",
   "id": "66f5f7e18a6eef2e"
  },
  {
   "metadata": {
    "ExecuteTime": {
     "end_time": "2025-08-31T21:47:03.671478Z",
     "start_time": "2025-08-31T21:47:03.245504Z"
    }
   },
   "cell_type": "code",
   "source": [
    "# Create an index on the `name` column of the `employees` table.\n",
    "\n",
    "cursor.execute('''\n",
    "CREATE INDEX idx_name ON employees(name)\n",
    "''')\n",
    "\n",
    "conn.commit()"
   ],
   "id": "f5922f1a503a43c6",
   "outputs": [],
   "execution_count": 78
  },
  {
   "metadata": {
    "ExecuteTime": {
     "end_time": "2025-08-31T22:25:58.363773Z",
     "start_time": "2025-08-31T22:25:58.154852Z"
    }
   },
   "cell_type": "code",
   "source": [
    "# Write a Python function to fetch and display all employees whose names start with a specific letter. Compare the performance with and without the index.\n",
    "\n",
    "start_time = time.time()\n",
    "cursor.execute(\"SELECT * FROM employees WHERE name LIKE 'B%'\")\n",
    "records = cursor.fetchall()\n",
    "end_time = time.time()\n",
    "delta = end_time-start_time\n",
    "print(\"Time Taken: \", delta)\n",
    "for record in records:\n",
    "    print(record)"
   ],
   "id": "4c95707df2fc880e",
   "outputs": [
    {
     "name": "stdout",
     "output_type": "stream",
     "text": [
      "Time Taken:  0.02319788932800293\n",
      "(2, 'Bob Smith', '34', 'Finance', None)\n",
      "(5, 'Barbie', '38', 'Operations', None)\n"
     ]
    }
   ],
   "execution_count": 84
  },
  {
   "metadata": {},
   "cell_type": "markdown",
   "source": "### Backing Up and Restoring Data",
   "id": "1035bc33b368d4a9"
  },
  {
   "metadata": {
    "ExecuteTime": {
     "end_time": "2025-08-31T22:28:43.828210Z",
     "start_time": "2025-08-31T22:28:43.796109Z"
    }
   },
   "cell_type": "code",
   "source": [
    "#Backup test.db to backup.db\n",
    "import shutil\n",
    "def backup_database():\n",
    "    shutil.copy('test.db','backup.db')\n",
    "    print(\"Database backed up successfully\")"
   ],
   "id": "376ad34ee6388c60",
   "outputs": [],
   "execution_count": 85
  },
  {
   "metadata": {
    "ExecuteTime": {
     "end_time": "2025-08-31T22:28:47.016887Z",
     "start_time": "2025-08-31T22:28:46.556302Z"
    }
   },
   "cell_type": "code",
   "source": "backup_database()",
   "id": "ecbc71028edc693",
   "outputs": [
    {
     "name": "stdout",
     "output_type": "stream",
     "text": [
      "Database backed up successfully\n"
     ]
    }
   ],
   "execution_count": 86
  },
  {
   "metadata": {
    "ExecuteTime": {
     "end_time": "2025-08-31T22:29:53.305796Z",
     "start_time": "2025-08-31T22:29:53.299092Z"
    }
   },
   "cell_type": "code",
   "source": [
    "def restore_database():\n",
    "    shutil.copy('backup.db', 'test.db')\n",
    "    print(\"Database restored successfully.\")"
   ],
   "id": "ec6b25646e58b8f3",
   "outputs": [],
   "execution_count": 87
  },
  {
   "metadata": {
    "ExecuteTime": {
     "end_time": "2025-08-31T22:29:58.652068Z",
     "start_time": "2025-08-31T22:29:58.264483Z"
    }
   },
   "cell_type": "code",
   "source": "restore_database()",
   "id": "40155f05b744cff0",
   "outputs": [
    {
     "name": "stdout",
     "output_type": "stream",
     "text": [
      "Database restored successfully.\n"
     ]
    }
   ],
   "execution_count": 88
  },
  {
   "metadata": {},
   "cell_type": "code",
   "outputs": [],
   "execution_count": null,
   "source": "",
   "id": "80554099100f9611"
  }
 ],
 "metadata": {
  "kernelspec": {
   "display_name": "Python 3",
   "language": "python",
   "name": "python3"
  },
  "language_info": {
   "codemirror_mode": {
    "name": "ipython",
    "version": 3
   },
   "file_extension": ".py",
   "mimetype": "text/x-python",
   "name": "python",
   "nbconvert_exporter": "python",
   "pygments_lexer": "ipython3",
   "version": "3.9.7"
  }
 },
 "nbformat": 4,
 "nbformat_minor": 5
}
