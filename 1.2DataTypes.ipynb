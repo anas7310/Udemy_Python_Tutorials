{
 "cells": [
  {
   "metadata": {},
   "cell_type": "markdown",
   "source": [
    "### Data Types\n",
    "##### Integer\n",
    "##### Long\n",
    "##### String\n",
    "##### Boolean"
   ],
   "id": "aaea01f38a6c4f63"
  },
  {
   "cell_type": "code",
   "id": "initial_id",
   "metadata": {
    "collapsed": true,
    "ExecuteTime": {
     "end_time": "2025-07-15T20:19:12.074038Z",
     "start_time": "2025-07-15T20:19:12.068014Z"
    }
   },
   "source": [
    "age = 35\n",
    "print(type(age))\n",
    "\n",
    "num = 37.78\n",
    "print(type(num))\n",
    "\n",
    "name ='Anas'\n",
    "print(type(name))\n",
    "\n",
    "is_student = True\n",
    "print(type(is_student))"
   ],
   "outputs": [
    {
     "name": "stdout",
     "output_type": "stream",
     "text": [
      "<class 'int'>\n",
      "<class 'float'>\n",
      "<class 'str'>\n",
      "<class 'bool'>\n"
     ]
    }
   ],
   "execution_count": 3
  },
  {
   "metadata": {
    "ExecuteTime": {
     "end_time": "2025-07-15T20:20:02.600816Z",
     "start_time": "2025-07-15T20:20:02.595908Z"
    }
   },
   "cell_type": "code",
   "source": [
    "a=10\n",
    "b=10\n",
    "print(type(a==b))\n",
    "print(a==b)"
   ],
   "id": "42f9240723d4814e",
   "outputs": [
    {
     "name": "stdout",
     "output_type": "stream",
     "text": [
      "<class 'bool'>\n",
      "True\n"
     ]
    }
   ],
   "execution_count": 4
  },
  {
   "metadata": {
    "ExecuteTime": {
     "end_time": "2025-07-15T20:35:11.816133Z",
     "start_time": "2025-07-15T20:35:11.797460Z"
    }
   },
   "cell_type": "code",
   "source": [
    "#Common errors\n",
    "result = 'Hello' + str(5)\n",
    "print(result)\n",
    "print('world',6)"
   ],
   "id": "1846796d735ab172",
   "outputs": [
    {
     "name": "stdout",
     "output_type": "stream",
     "text": [
      "Hello5\n",
      "world 6\n"
     ]
    }
   ],
   "execution_count": 8
  }
 ],
 "metadata": {
  "kernelspec": {
   "display_name": "Python 3",
   "language": "python",
   "name": "python3"
  },
  "language_info": {
   "codemirror_mode": {
    "name": "ipython",
    "version": 2
   },
   "file_extension": ".py",
   "mimetype": "text/x-python",
   "name": "python",
   "nbconvert_exporter": "python",
   "pygments_lexer": "ipython2",
   "version": "2.7.6"
  }
 },
 "nbformat": 4,
 "nbformat_minor": 5
}
