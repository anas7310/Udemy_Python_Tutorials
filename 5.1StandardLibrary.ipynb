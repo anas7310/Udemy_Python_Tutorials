{
 "cells": [
  {
   "metadata": {},
   "cell_type": "markdown",
   "source": [
    "### Standard Library Overview\n",
    "#### Python's Standard Library is a vast collection of modules and packages that come bundled with Python, providing a wide range of functionalities out of the box. Here's an overview of some of the most commonly used modules and packages in python standard library.\n"
   ],
   "id": "e7fb0278950d7691"
  },
  {
   "cell_type": "code",
   "id": "initial_id",
   "metadata": {
    "collapsed": true,
    "ExecuteTime": {
     "end_time": "2025-07-29T20:09:44.789736Z",
     "start_time": "2025-07-29T20:09:44.783941Z"
    }
   },
   "source": [
    "import array\n",
    "arr=array.array('i',[1,2,3,4,5])\n",
    "print(arr)"
   ],
   "outputs": [
    {
     "name": "stdout",
     "output_type": "stream",
     "text": [
      "array('i', [1, 2, 3, 4, 5])\n"
     ]
    }
   ],
   "execution_count": 2
  },
  {
   "metadata": {
    "ExecuteTime": {
     "end_time": "2025-07-29T20:10:24.930576Z",
     "start_time": "2025-07-29T20:10:24.924500Z"
    }
   },
   "cell_type": "code",
   "source": [
    "import math\n",
    "print(math.sqrt(36))\n",
    "print(math.pi)\n"
   ],
   "id": "f150c9300206f35f",
   "outputs": [
    {
     "name": "stdout",
     "output_type": "stream",
     "text": [
      "6.0\n",
      "3.141592653589793\n"
     ]
    }
   ],
   "execution_count": 4
  },
  {
   "metadata": {
    "ExecuteTime": {
     "end_time": "2025-07-29T20:12:09.495270Z",
     "start_time": "2025-07-29T20:12:09.489162Z"
    }
   },
   "cell_type": "code",
   "source": [
    "import random\n",
    "print(random.randint(1,10))\n",
    "print(random.choices([1,2,3,4,5,'Hello','Apple','Banana','Cherry']))"
   ],
   "id": "f231733a44651325",
   "outputs": [
    {
     "name": "stdout",
     "output_type": "stream",
     "text": [
      "9\n",
      "['Apple']\n"
     ]
    }
   ],
   "execution_count": 18
  },
  {
   "metadata": {
    "ExecuteTime": {
     "end_time": "2025-07-29T20:13:02.733849Z",
     "start_time": "2025-07-29T20:13:02.727499Z"
    }
   },
   "cell_type": "code",
   "source": [
    "### File and Directory access\n",
    "import os\n",
    "print(os.getcwd())"
   ],
   "id": "d886cabce6ee7576",
   "outputs": [
    {
     "name": "stdout",
     "output_type": "stream",
     "text": [
      "E:\\udemy\\PythonBootcamp\n"
     ]
    }
   ],
   "execution_count": 19
  },
  {
   "metadata": {
    "ExecuteTime": {
     "end_time": "2025-07-29T20:13:39.696182Z",
     "start_time": "2025-07-29T20:13:39.690241Z"
    }
   },
   "cell_type": "code",
   "source": "os.mkdir(\"test_dir\")",
   "id": "58e56e30c7c2ec34",
   "outputs": [],
   "execution_count": 20
  },
  {
   "metadata": {
    "ExecuteTime": {
     "end_time": "2025-07-29T20:20:09.293243Z",
     "start_time": "2025-07-29T20:20:09.275751Z"
    }
   },
   "cell_type": "code",
   "source": [
    "#Create a new file\n",
    "path = 'E:/udemy/PythonBootcamp/test_dir'\n",
    "dirlist = os.listdir(path)\n",
    "print(dirlist)\n",
    "\n",
    "with open(os.path.join(path,'newtest.txt'),'w') as f:\n",
    "    f.write('hello')\n",
    "\n",
    "dirlist = os.listdir(path)\n",
    "print(dirlist)"
   ],
   "id": "a776d6aafc0300d0",
   "outputs": [
    {
     "name": "stdout",
     "output_type": "stream",
     "text": [
      "['test.txt']\n",
      "['newtest.txt', 'test.txt']\n"
     ]
    }
   ],
   "execution_count": 22
  },
  {
   "metadata": {
    "ExecuteTime": {
     "end_time": "2025-07-29T20:40:52.708423Z",
     "start_time": "2025-07-29T20:40:52.329881Z"
    }
   },
   "cell_type": "code",
   "source": [
    "#High level operations on files and collection of files\n",
    "import shutil\n",
    "shutil.copy('source.txt','destination.txt')"
   ],
   "id": "24fdd8af2c1e22a",
   "outputs": [
    {
     "data": {
      "text/plain": [
       "'destination.txt'"
      ]
     },
     "execution_count": 23,
     "metadata": {},
     "output_type": "execute_result"
    }
   ],
   "execution_count": 23
  },
  {
   "metadata": {
    "ExecuteTime": {
     "end_time": "2025-07-29T20:44:07.029148Z",
     "start_time": "2025-07-29T20:44:07.012083Z"
    }
   },
   "cell_type": "code",
   "source": [
    "#Data Serialization\n",
    "import json\n",
    "data={\n",
    "    'name':'Anas',\n",
    "    'age':27,\n",
    "    'grade':'A'\n",
    "}\n",
    "json_str = json.dumps(data)\n",
    "print(json_str)\n",
    "print(type(json_str))\n",
    "\n",
    "parsed_data = json.loads(json_str)\n",
    "print(parsed_data)\n",
    "print(type(parsed_data))"
   ],
   "id": "33891bf601ad227b",
   "outputs": [
    {
     "name": "stdout",
     "output_type": "stream",
     "text": [
      "{\"name\": \"Anas\", \"age\": 27, \"grade\": \"A\"}\n",
      "<class 'str'>\n",
      "{'name': 'Anas', 'age': 27, 'grade': 'A'}\n",
      "<class 'dict'>\n"
     ]
    }
   ],
   "execution_count": 25
  },
  {
   "metadata": {
    "ExecuteTime": {
     "end_time": "2025-07-29T20:49:35.034495Z",
     "start_time": "2025-07-29T20:49:34.754752Z"
    }
   },
   "cell_type": "code",
   "source": [
    "#csv\n",
    "import csv\n",
    "with open('example.csv',mode='w',newline='') as file:\n",
    "    writer = csv.writer(file)\n",
    "    writer.writerow(['id','name','age','grade'])\n",
    "    writer.writerow(['1','Anas',27,'A'])\n",
    "\n",
    "with open('example.csv', mode='r') as file:\n",
    "    reader = csv.reader(file)\n",
    "    for row in reader:\n",
    "        print(row)\n"
   ],
   "id": "be6cbf3e9261bef5",
   "outputs": [
    {
     "name": "stdout",
     "output_type": "stream",
     "text": [
      "['id', 'name', 'age', 'grade']\n",
      "['1', 'Anas', '27', 'A']\n"
     ]
    }
   ],
   "execution_count": 26
  },
  {
   "metadata": {
    "ExecuteTime": {
     "end_time": "2025-07-29T20:51:36.643585Z",
     "start_time": "2025-07-29T20:51:36.623680Z"
    }
   },
   "cell_type": "code",
   "source": [
    "#DateTime\n",
    "from datetime import datetime,timedelta\n",
    "\n",
    "now=datetime.now()\n",
    "print(now)\n",
    "\n",
    "yesterday = now - timedelta(days=1)\n",
    "print(yesterday)"
   ],
   "id": "af4e4da35888b631",
   "outputs": [
    {
     "name": "stdout",
     "output_type": "stream",
     "text": [
      "2025-07-30 02:21:36.632098\n",
      "2025-07-29 02:21:36.632098\n"
     ]
    }
   ],
   "execution_count": 27
  },
  {
   "metadata": {
    "ExecuteTime": {
     "end_time": "2025-07-29T20:52:25.136415Z",
     "start_time": "2025-07-29T20:52:23.127666Z"
    }
   },
   "cell_type": "code",
   "source": [
    "#time\n",
    "import time\n",
    "print(time.time())\n",
    "time.sleep(2)\n",
    "print(time.time())"
   ],
   "id": "e37a2c634d15897e",
   "outputs": [
    {
     "name": "stdout",
     "output_type": "stream",
     "text": [
      "1753822343.1328955\n",
      "1753822345.1343274\n"
     ]
    }
   ],
   "execution_count": 28
  },
  {
   "metadata": {
    "ExecuteTime": {
     "end_time": "2025-07-29T20:54:08.046924Z",
     "start_time": "2025-07-29T20:54:08.038228Z"
    }
   },
   "cell_type": "code",
   "source": [
    "#Regular Expression\n",
    "import re\n",
    "pattern = r'\\d+'\n",
    "text = 'There are 123 apples 456'\n",
    "match = re.search(pattern,text)\n",
    "print(match.group())"
   ],
   "id": "cb1b54d67a5d53d2",
   "outputs": [
    {
     "name": "stdout",
     "output_type": "stream",
     "text": [
      "123\n"
     ]
    }
   ],
   "execution_count": 31
  }
 ],
 "metadata": {
  "kernelspec": {
   "display_name": "Python 3",
   "language": "python",
   "name": "python3"
  },
  "language_info": {
   "codemirror_mode": {
    "name": "ipython",
    "version": 2
   },
   "file_extension": ".py",
   "mimetype": "text/x-python",
   "name": "python",
   "nbconvert_exporter": "python",
   "pygments_lexer": "ipython2",
   "version": "2.7.6"
  }
 },
 "nbformat": 4,
 "nbformat_minor": 5
}
