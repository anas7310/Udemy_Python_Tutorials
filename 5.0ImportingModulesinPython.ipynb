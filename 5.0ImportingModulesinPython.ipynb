{
 "cells": [
  {
   "metadata": {},
   "cell_type": "markdown",
   "source": [
    "### Importing modules in Python: Modules and Packages\n",
    "#### In Python, modules and packages help organize and reuse code. Here's a comprehensive guide on how to import them"
   ],
   "id": "e99d7ef842292a87"
  },
  {
   "cell_type": "code",
   "id": "initial_id",
   "metadata": {
    "collapsed": true,
    "ExecuteTime": {
     "end_time": "2025-07-28T20:23:59.792246Z",
     "start_time": "2025-07-28T20:23:59.785464Z"
    }
   },
   "source": [
    "import math\n",
    "print(math.pi)\n",
    "print(math.sqrt(25))"
   ],
   "outputs": [
    {
     "name": "stdout",
     "output_type": "stream",
     "text": [
      "3.141592653589793\n",
      "5.0\n"
     ]
    }
   ],
   "execution_count": 2
  },
  {
   "metadata": {
    "ExecuteTime": {
     "end_time": "2025-07-28T20:24:36.559491Z",
     "start_time": "2025-07-28T20:24:36.553833Z"
    }
   },
   "cell_type": "code",
   "source": [
    "from math import sqrt, pi\n",
    "print(sqrt(25))\n",
    "print(pi)\n"
   ],
   "id": "eb1056c1643c7c40",
   "outputs": [
    {
     "name": "stdout",
     "output_type": "stream",
     "text": [
      "5.0\n",
      "3.141592653589793\n"
     ]
    }
   ],
   "execution_count": 3
  },
  {
   "metadata": {
    "ExecuteTime": {
     "end_time": "2025-07-28T20:46:55.854252Z",
     "start_time": "2025-07-28T20:46:55.848472Z"
    }
   },
   "cell_type": "code",
   "source": [
    "import numpy as np\n",
    "nums = np.array([1,2,3,4,5,6])\n",
    "print(nums.dtype)"
   ],
   "id": "3d45dede760d9a28",
   "outputs": [
    {
     "name": "stdout",
     "output_type": "stream",
     "text": [
      "int64\n"
     ]
    }
   ],
   "execution_count": 6
  },
  {
   "metadata": {
    "ExecuteTime": {
     "end_time": "2025-07-28T20:48:07.968355Z",
     "start_time": "2025-07-28T20:48:07.962173Z"
    }
   },
   "cell_type": "code",
   "source": [
    "from math import *\n",
    "print(sqrt(36))\n",
    "print(pi)\n",
    "print(tau)"
   ],
   "id": "454320f79f78f3fd",
   "outputs": [
    {
     "name": "stdout",
     "output_type": "stream",
     "text": [
      "6.0\n",
      "3.141592653589793\n",
      "6.283185307179586\n"
     ]
    }
   ],
   "execution_count": 7
  },
  {
   "metadata": {
    "ExecuteTime": {
     "end_time": "2025-07-29T20:05:36.028358Z",
     "start_time": "2025-07-29T20:05:35.939681Z"
    }
   },
   "cell_type": "code",
   "source": [
    "from package import maths\n",
    "print(maths.addition(2,3))"
   ],
   "id": "f4804c13d127be06",
   "outputs": [
    {
     "name": "stdout",
     "output_type": "stream",
     "text": [
      "5\n"
     ]
    }
   ],
   "execution_count": 16
  },
  {
   "metadata": {
    "ExecuteTime": {
     "end_time": "2025-07-29T20:05:38.252789Z",
     "start_time": "2025-07-29T20:05:37.690904Z"
    }
   },
   "cell_type": "code",
   "source": "print(maths.subtraction(13,10))",
   "id": "903c876dc54cca66",
   "outputs": [
    {
     "ename": "AttributeError",
     "evalue": "module 'package.maths' has no attribute 'subtraction'",
     "output_type": "error",
     "traceback": [
      "\u001B[31m---------------------------------------------------------------------------\u001B[39m",
      "\u001B[31mAttributeError\u001B[39m                            Traceback (most recent call last)",
      "\u001B[36mCell\u001B[39m\u001B[36m \u001B[39m\u001B[32mIn[17]\u001B[39m\u001B[32m, line 1\u001B[39m\n\u001B[32m----> \u001B[39m\u001B[32m1\u001B[39m \u001B[38;5;28mprint\u001B[39m(\u001B[43mmaths\u001B[49m\u001B[43m.\u001B[49m\u001B[43msubtraction\u001B[49m(\u001B[32m13\u001B[39m,\u001B[32m10\u001B[39m))\n",
      "\u001B[31mAttributeError\u001B[39m: module 'package.maths' has no attribute 'subtraction'"
     ]
    }
   ],
   "execution_count": 17
  }
 ],
 "metadata": {
  "kernelspec": {
   "display_name": "Python 3",
   "language": "python",
   "name": "python3"
  },
  "language_info": {
   "codemirror_mode": {
    "name": "ipython",
    "version": 2
   },
   "file_extension": ".py",
   "mimetype": "text/x-python",
   "name": "python",
   "nbconvert_exporter": "python",
   "pygments_lexer": "ipython2",
   "version": "2.7.6"
  }
 },
 "nbformat": 4,
 "nbformat_minor": 5
}
