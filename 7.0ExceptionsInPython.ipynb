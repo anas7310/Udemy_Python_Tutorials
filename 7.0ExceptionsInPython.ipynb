{
 "cells": [
  {
   "metadata": {},
   "cell_type": "markdown",
   "source": [
    "### Understanding Exceptions\n",
    "Exception handling in Python allows you to handle errors gracefully and take corrective actions without stopping the execution of the Program. This lesson will cover the basics of exceptions, including how to use try, except, else and finally blocks.\n",
    "\n",
    "### What are Exceptions?\n",
    "Exceptions are events that disrupt the normal flow of a program. They occur when an error is encountered during program execution. Common exceptions include:\n",
    "- ZeroDivisionError: Divide by zero.\n",
    "- FileNotFoundError: File not found\n",
    "- ValueError: Invalid value\n",
    "- TypeError: Invalid value"
   ],
   "id": "3467e917a9a5bc6d"
  },
  {
   "cell_type": "code",
   "id": "initial_id",
   "metadata": {
    "collapsed": true,
    "ExecuteTime": {
     "end_time": "2025-07-30T21:45:14.212004Z",
     "start_time": "2025-07-30T21:45:14.203961Z"
    }
   },
   "source": "print()",
   "outputs": [
    {
     "name": "stdout",
     "output_type": "stream",
     "text": [
      "\n"
     ]
    }
   ],
   "execution_count": 1
  },
  {
   "metadata": {
    "ExecuteTime": {
     "end_time": "2025-07-30T21:47:04.254556Z",
     "start_time": "2025-07-30T21:47:04.249246Z"
    }
   },
   "cell_type": "code",
   "source": [
    "try:\n",
    "    a=b\n",
    "except NameError as e:\n",
    "    print(\"The variable has not been assigned\")\n"
   ],
   "id": "64b0f5c58892114d",
   "outputs": [
    {
     "name": "stdout",
     "output_type": "stream",
     "text": [
      "The variable has not been assigned\n"
     ]
    }
   ],
   "execution_count": 6
  },
  {
   "metadata": {
    "ExecuteTime": {
     "end_time": "2025-07-30T21:49:06.310365Z",
     "start_time": "2025-07-30T21:49:06.305327Z"
    }
   },
   "cell_type": "code",
   "source": [
    "try:\n",
    "    result = 1/2\n",
    "    a=b\n",
    "except ZeroDivisionError as e:\n",
    "    print(e)\n",
    "except Exception as ex:\n",
    "    print(ex)"
   ],
   "id": "b95ef11fbc386496",
   "outputs": [
    {
     "name": "stdout",
     "output_type": "stream",
     "text": [
      "name 'b' is not defined\n"
     ]
    }
   ],
   "execution_count": 10
  },
  {
   "metadata": {
    "ExecuteTime": {
     "end_time": "2025-07-30T21:50:34.477253Z",
     "start_time": "2025-07-30T21:50:31.519893Z"
    }
   },
   "cell_type": "code",
   "source": [
    "try:\n",
    "    num = int(input('Enter a number: '))\n",
    "    result = 10/num\n",
    "except ValueError as ex:\n",
    "    print(ex)\n",
    "except Exception as ex:\n",
    "    print(ex)"
   ],
   "id": "605ed52176d4a270",
   "outputs": [
    {
     "name": "stdout",
     "output_type": "stream",
     "text": [
      "division by zero\n"
     ]
    }
   ],
   "execution_count": 13
  },
  {
   "metadata": {
    "ExecuteTime": {
     "end_time": "2025-07-30T21:54:02.971177Z",
     "start_time": "2025-07-30T21:54:00.026589Z"
    }
   },
   "cell_type": "code",
   "source": [
    "#try, except and else block\n",
    "try:\n",
    "    num = int(input('Enter a number: '))\n",
    "    result = 10/num\n",
    "except ValueError as ex:\n",
    "    print(\"That's not a valid number!\")\n",
    "except ZeroDivisionError as ex:\n",
    "    print('Enter denominator greater than 0')\n",
    "except Exception as ex:\n",
    "    print(ex)\n",
    "else: #ELse block will only execute when try block is successfully executed, if any of the exception occurred then it will not execute, only the exception block will execute\n",
    "    print(f'The result is {result}')"
   ],
   "id": "2449eb9d3b3fd401",
   "outputs": [
    {
     "name": "stdout",
     "output_type": "stream",
     "text": [
      "Enter denominator greater than 0\n"
     ]
    }
   ],
   "execution_count": 15
  },
  {
   "metadata": {
    "ExecuteTime": {
     "end_time": "2025-07-30T21:59:38.327564Z",
     "start_time": "2025-07-30T21:59:35.255822Z"
    }
   },
   "cell_type": "code",
   "source": [
    "#Try, except, else and finally\n",
    "try:\n",
    "    num = int(input('Enter a number: '))\n",
    "    result = 10/num\n",
    "except ValueError as ex:\n",
    "    print(\"That's not a valid number!\")\n",
    "except ZeroDivisionError as ex:\n",
    "    print('Enter denominator greater than 0')\n",
    "except Exception as ex:\n",
    "    print(ex)\n",
    "else: #ELse block will only execute when try block is successfully executed, if any of the exception occurred then it will not execute, only the exception block will execute\n",
    "    print(f'The result is {result}')\n",
    "finally:\n",
    "    print('This finally block will execute irrespective of try or exception')"
   ],
   "id": "1d997c50234645d9",
   "outputs": [
    {
     "name": "stdout",
     "output_type": "stream",
     "text": [
      "The result is 0.43478260869565216\n",
      "This finally block will execute irrespective of try or exception\n"
     ]
    }
   ],
   "execution_count": 18
  },
  {
   "metadata": {
    "ExecuteTime": {
     "end_time": "2025-07-30T22:05:37.168293Z",
     "start_time": "2025-07-30T22:05:37.073400Z"
    }
   },
   "cell_type": "code",
   "source": [
    "##File handling and exception handling\n",
    "try:\n",
    "    file = open('example1.txt','r')\n",
    "    content = file.read()\n",
    "    print(content)\n",
    "except FileNotFoundError as ex:\n",
    "    print('File not found')\n",
    "finally:\n",
    "    if 'file' in locals() and not file.closed():\n",
    "        file.close()\n",
    "        print('file closed')"
   ],
   "id": "2233e3c381f5c886",
   "outputs": [
    {
     "name": "stdout",
     "output_type": "stream",
     "text": [
      "File not found\n"
     ]
    }
   ],
   "execution_count": 21
  }
 ],
 "metadata": {
  "kernelspec": {
   "display_name": "Python 3",
   "language": "python",
   "name": "python3"
  },
  "language_info": {
   "codemirror_mode": {
    "name": "ipython",
    "version": 2
   },
   "file_extension": ".py",
   "mimetype": "text/x-python",
   "name": "python",
   "nbconvert_exporter": "python",
   "pygments_lexer": "ipython2",
   "version": "2.7.6"
  }
 },
 "nbformat": 4,
 "nbformat_minor": 5
}
