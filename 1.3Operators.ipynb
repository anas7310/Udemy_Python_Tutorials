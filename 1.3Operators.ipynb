{
 "cells": [
  {
   "cell_type": "code",
   "id": "initial_id",
   "metadata": {
    "collapsed": true,
    "ExecuteTime": {
     "end_time": "2025-07-15T20:41:31.926400Z",
     "start_time": "2025-07-15T20:41:31.918317Z"
    }
   },
   "source": [
    "#Arithmetic Operators\n",
    "a=10\n",
    "b=15\n",
    "\n",
    "add_result = a+b\n",
    "sub_result = a-b\n",
    "mult_result = a*b\n",
    "div_result = a/b\n",
    "floor_div_result = a//b\n",
    "pow_result = a**b\n",
    "module_result = a%b\n",
    "\n",
    "print(add_result)\n",
    "print(sub_result)\n",
    "print(mult_result)\n",
    "print(div_result)\n",
    "print(floor_div_result)\n",
    "print(pow_result)\n",
    "print(module_result)"
   ],
   "outputs": [
    {
     "name": "stdout",
     "output_type": "stream",
     "text": [
      "25\n",
      "-5\n",
      "150\n",
      "0.6666666666666666\n",
      "0\n",
      "1000000000000000\n",
      "10\n"
     ]
    }
   ],
   "execution_count": 2
  },
  {
   "metadata": {
    "ExecuteTime": {
     "end_time": "2025-07-15T20:54:17.284747Z",
     "start_time": "2025-07-15T20:54:17.277539Z"
    }
   },
   "cell_type": "code",
   "source": [
    "#Comparison Operators\n",
    "# == , !=, >=, <= , >, <\n",
    "\n",
    "# == operator\n",
    "a=10\n",
    "b=10\n",
    "\n",
    "print(a==b)\n",
    "\n",
    "str1='Hello'\n",
    "str2='hello'\n",
    "\n",
    "print(str1 == str2) #case-sensitive\n",
    "\n",
    "# != operator\n",
    "print(str1 != str2)\n",
    "\n",
    "\n",
    "#greater than equal to >=\n",
    "c=15\n",
    "d=15\n",
    "print(c>=b)\n",
    "print(c>=d)\n",
    "\n",
    "#Less than equal to\n",
    "print(c<=d)\n",
    "\n",
    "#less than\n",
    "print(c<d)\n",
    "\n",
    "#greater than\n",
    "print(c>b)\n",
    "print(c<=c)"
   ],
   "id": "14e1df6131501c0b",
   "outputs": [
    {
     "name": "stdout",
     "output_type": "stream",
     "text": [
      "True\n",
      "False\n",
      "True\n",
      "True\n",
      "True\n",
      "True\n",
      "False\n",
      "True\n",
      "True\n"
     ]
    }
   ],
   "execution_count": 7
  },
  {
   "metadata": {},
   "cell_type": "markdown",
   "source": [
    "### Logical Operators\n",
    "###### NOT\n",
    "###### AND\n",
    "###### OR"
   ],
   "id": "edfc9550b34f106f"
  },
  {
   "metadata": {
    "ExecuteTime": {
     "end_time": "2025-07-15T20:56:50.741652Z",
     "start_time": "2025-07-15T20:56:50.630765Z"
    }
   },
   "cell_type": "code",
   "source": [
    "X=True\n",
    "Y=False\n",
    "\n",
    "print(X and Y)\n",
    "print(X or Y)\n",
    "print(not X)"
   ],
   "id": "6d654f9981bf7e43",
   "outputs": [
    {
     "name": "stdout",
     "output_type": "stream",
     "text": [
      "False\n",
      "True\n",
      "False\n"
     ]
    }
   ],
   "execution_count": 9
  }
 ],
 "metadata": {
  "kernelspec": {
   "display_name": "Python 3",
   "language": "python",
   "name": "python3"
  },
  "language_info": {
   "codemirror_mode": {
    "name": "ipython",
    "version": 2
   },
   "file_extension": ".py",
   "mimetype": "text/x-python",
   "name": "python",
   "nbconvert_exporter": "python",
   "pygments_lexer": "ipython2",
   "version": "2.7.6"
  }
 },
 "nbformat": 4,
 "nbformat_minor": 5
}
