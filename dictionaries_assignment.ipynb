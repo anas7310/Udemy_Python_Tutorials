{
 "cells": [
  {
   "cell_type": "markdown",
   "metadata": {},
   "source": [
    "# Module 3: Data Structures Assignments\n",
    "## Lesson 3.4: Dictionaries\n",
    "### Assignment 1: Creating and Accessing Dictionaries\n",
    "\n",
    "Create a dictionary with the first 10 positive integers as keys and their squares as values. Print the dictionary.\n",
    "\n",
    "### Assignment 2: Accessing Dictionary Elements\n",
    "\n",
    "Print the value of the key 5 and the keys of the dictionary created in Assignment 1.\n",
    "\n",
    "### Assignment 3: Dictionary Methods\n",
    "\n",
    "Add a new key-value pair (11, 121) to the dictionary created in Assignment 1 and then remove the key-value pair with key 1. Print the modified dictionary.\n",
    "\n",
    "### Assignment 4: Iterating Over Dictionaries\n",
    "\n",
    "Iterate over the dictionary created in Assignment 1 and print each key-value pair.\n",
    "\n",
    "### Assignment 5: Dictionary Comprehensions\n",
    "\n",
    "Create a new dictionary containing the cubes of the first 10 positive integers using a dictionary comprehension. Print the new dictionary.\n",
    "\n",
    "### Assignment 6: Merging Dictionaries\n",
    "\n",
    "Create two dictionaries: one with keys as the first 5 positive integers and values as their squares, and another with keys as the next 5 positive integers and values as their squares. Merge these dictionaries into a single dictionary and print it.\n",
    "\n",
    "### Assignment 7: Nested Dictionaries\n",
    "\n",
    "Create a nested dictionary representing a student with keys 'name', 'age', 'grades', where 'grades' is another dictionary with keys 'math', 'science', and 'english'. Print the nested dictionary.\n",
    "\n",
    "### Assignment 8: Dictionary of Lists\n",
    "\n",
    "Create a dictionary where the keys are the first 5 positive integers and the values are lists containing the first 5 multiples of the key. Print the dictionary.\n",
    "\n",
    "### Assignment 9: Dictionary of Tuples\n",
    "\n",
    "Create a dictionary where the keys are the first 5 positive integers and the values are tuples containing the key and its square. Print the dictionary.\n",
    "\n",
    "### Assignment 10: Dictionary and List Conversion\n",
    "\n",
    "Create a dictionary with the first 5 positive integers as keys and their squares as values. Convert the dictionary to a list of tuples and print it.\n",
    "\n",
    "### Assignment 11: Dictionary Filtering\n",
    "\n",
    "Create a dictionary with the first 10 positive integers as keys and their squares as values. Create a new dictionary containing only the key-value pairs where the key is even. Print the new dictionary.\n",
    "\n",
    "### Assignment 12: Dictionary Key and Value Transformation\n",
    "\n",
    "Create a dictionary with the first 5 positive integers as keys and their squares as values. Create a new dictionary with keys and values swapped. Print the new dictionary.\n",
    "\n",
    "### Assignment 13: Default Dictionary\n",
    "\n",
    "Create a default dictionary where each key has a default value of an empty list. Add some elements to the lists and print the dictionary.\n",
    "\n",
    "### Assignment 14: Counting with Dictionaries\n",
    "\n",
    "Write a function that takes a string and returns a dictionary with the count of each character in the string. Print the dictionary.\n",
    "\n",
    "### Assignment 15: Dictionary and JSON\n",
    "\n",
    "Create a dictionary representing a book with keys 'title', 'author', 'year', and 'genre'. Convert the dictionary to a JSON string and print it."
   ],
   "id": "ae4d35d2cfe6a5a"
  },
  {
   "cell_type": "code",
   "metadata": {},
   "source": [
    "#Solution 1\n",
    "dict1 = {x:x**2 for x in range(1,11)}\n",
    "print(dict1)"
   ],
   "id": "cfa45a95646ea899",
   "outputs": [],
   "execution_count": null
  },
  {
   "metadata": {},
   "cell_type": "code",
   "source": [
    "#Solution 2\n",
    "value_of_key5 = dict1.get(5)\n",
    "print(value_of_key5)\n",
    "\n",
    "for key in dict1.keys():\n",
    "    print(key, end=' ')\n",
    "\n",
    "print()\n",
    "print(f'Keys : {list(dict1.keys())}')"
   ],
   "id": "548a7344d05281b9",
   "outputs": [],
   "execution_count": null
  },
  {
   "metadata": {},
   "cell_type": "code",
   "source": [
    "#Solution 3\n",
    "dict1[11] = 121\n",
    "print(dict1)\n",
    "del dict1[1]\n",
    "print(dict1)"
   ],
   "id": "62f2e956b4d1b0c1",
   "outputs": [],
   "execution_count": null
  },
  {
   "metadata": {},
   "cell_type": "code",
   "source": [
    "#Solution 4\n",
    "for key,value in dict1.items():\n",
    "    print(f'{key}: {value}')"
   ],
   "id": "9caaa1d39f7aa7b3",
   "outputs": [],
   "execution_count": null
  },
  {
   "metadata": {},
   "cell_type": "code",
   "source": [
    "#Solution 5\n",
    "cubes={i:i**3 for i in range(1,11)}\n",
    "print(cubes)"
   ],
   "id": "6d7271a98679ecd4",
   "outputs": [],
   "execution_count": null
  },
  {
   "metadata": {
    "ExecuteTime": {
     "end_time": "2025-07-25T21:26:20.344665Z",
     "start_time": "2025-07-25T21:26:20.335506Z"
    }
   },
   "cell_type": "code",
   "source": [
    "#Solution 6\n",
    "dict1 = {x:x**2 for x in range(1,6)}\n",
    "dict2 = {x:x**2 for x in range(6,11)}\n",
    "\n",
    "merged_dict = {**dict1, **dict2}\n",
    "print(merged_dict)"
   ],
   "id": "45e26285816eaf6d",
   "outputs": [
    {
     "name": "stdout",
     "output_type": "stream",
     "text": [
      "{1: 1, 2: 4, 3: 9, 4: 16, 5: 25, 6: 36, 7: 49, 8: 64, 9: 81, 10: 100}\n"
     ]
    }
   ],
   "execution_count": 11
  },
  {
   "metadata": {
    "ExecuteTime": {
     "end_time": "2025-07-25T21:29:01.053335Z",
     "start_time": "2025-07-25T21:29:01.044063Z"
    }
   },
   "cell_type": "code",
   "source": [
    "#solution 7\n",
    "student= {\n",
    "    'name':'Anas Yar Khan',\n",
    "    'age':25,\n",
    "    'grades': {'maths':90,'science':95,'english':89}\n",
    "}\n",
    "\n",
    "print(student)"
   ],
   "id": "62501aea2ff8bd7",
   "outputs": [
    {
     "name": "stdout",
     "output_type": "stream",
     "text": [
      "{'name': 'Anas Yar Khan', 'age': 25, 'grades': {'maths': 90, 'science': 95, 'english': 89}}\n"
     ]
    }
   ],
   "execution_count": 13
  },
  {
   "metadata": {
    "ExecuteTime": {
     "end_time": "2025-07-25T21:30:24.054559Z",
     "start_time": "2025-07-25T21:30:24.043231Z"
    }
   },
   "cell_type": "code",
   "source": [
    "#Solution 8\n",
    "complex_dict = {x:[x*j for j in range(1,6)] for x in range(1,6)}\n",
    "print(complex_dict)"
   ],
   "id": "c26e2c3802f6c031",
   "outputs": [
    {
     "name": "stdout",
     "output_type": "stream",
     "text": [
      "{1: [1, 2, 3, 4, 5], 2: [2, 4, 6, 8, 10], 3: [3, 6, 9, 12, 15], 4: [4, 8, 12, 16, 20]}\n"
     ]
    }
   ],
   "execution_count": 14
  },
  {
   "metadata": {
    "ExecuteTime": {
     "end_time": "2025-07-25T21:38:48.771401Z",
     "start_time": "2025-07-25T21:38:48.757703Z"
    }
   },
   "cell_type": "code",
   "source": [
    "#Solution 9\n",
    "squared_dict = {x:tuple(x ** i for i in range(1,3)) for x in range(1,6)}\n",
    "tuple_dict = {i:(i,i**2) for i in range(1,6)}\n",
    "print(squared_dict)\n",
    "print(tuple_dict)"
   ],
   "id": "a9fca734e06a9ab2",
   "outputs": [
    {
     "name": "stdout",
     "output_type": "stream",
     "text": [
      "{1: (1, 1), 2: (2, 4), 3: (3, 9), 4: (4, 16), 5: (5, 25)}\n",
      "{1: (1, 1), 2: (2, 4), 3: (3, 9), 4: (4, 16), 5: (5, 25)}\n"
     ]
    }
   ],
   "execution_count": 21
  },
  {
   "metadata": {},
   "cell_type": "code",
   "source": [
    "#Solution 10\n",
    "d ={i:i**2 for i in range(1,6)}\n",
    "list_of_dict = list(d.items())\n",
    "print(list_of_dict)"
   ],
   "id": "31c1fbe05fdeef60",
   "outputs": [
    {
     "name": "stdout",
     "output_type": "stream",
     "text": [
      "[(1, 1), (2, 4), (3, 9), (4, 16), (5, 25)]\n"
     ]
    }
   ],
   "execution_count": 22
  },
  {
   "metadata": {
    "ExecuteTime": {
     "end_time": "2025-07-25T22:10:12.971210Z",
     "start_time": "2025-07-25T22:10:12.955776Z"
    }
   },
   "cell_type": "code",
   "source": [
    "#Soution 11\n",
    "d1 = {i:i**2 for i in range(1,11)}\n",
    "d2 = {x:y for x,y in d1.items() if x%2==0}\n",
    "print(d1)\n",
    "print(d2)"
   ],
   "id": "1e2d57d95e46f479",
   "outputs": [
    {
     "name": "stdout",
     "output_type": "stream",
     "text": [
      "{1: 1, 2: 4, 3: 9, 4: 16, 5: 25, 6: 36, 7: 49, 8: 64, 9: 81, 10: 100}\n",
      "{2: 4, 4: 16, 6: 36, 8: 64, 10: 100}\n"
     ]
    }
   ],
   "execution_count": 23
  },
  {
   "metadata": {
    "ExecuteTime": {
     "end_time": "2025-07-25T22:11:13.261845Z",
     "start_time": "2025-07-25T22:11:13.253817Z"
    }
   },
   "cell_type": "code",
   "source": [
    "#Solution 12\n",
    "d1 = {i:i**2 for i in range(1,6)}\n",
    "d2 = {y:x for x,y in d1.items()}\n",
    "print(d1)\n",
    "print(d2)"
   ],
   "id": "dcdde8a1d5a30373",
   "outputs": [
    {
     "name": "stdout",
     "output_type": "stream",
     "text": [
      "{1: 1, 2: 4, 3: 9, 4: 16, 5: 25}\n",
      "{1: 1, 4: 2, 9: 3, 16: 4, 25: 5}\n"
     ]
    }
   ],
   "execution_count": 25
  },
  {
   "metadata": {
    "ExecuteTime": {
     "end_time": "2025-07-25T22:12:30.218384Z",
     "start_time": "2025-07-25T22:12:30.207956Z"
    }
   },
   "cell_type": "code",
   "source": [
    "#Solution 13\n",
    "from collections import defaultdict\n",
    "\n",
    "default_dict = defaultdict(list)\n",
    "default_dict['a'].append(1)\n",
    "default_dict['a'].append(2)\n",
    "default_dict['b'].append(3)\n",
    "print(default_dict)"
   ],
   "id": "393d3b7d5490511f",
   "outputs": [
    {
     "name": "stdout",
     "output_type": "stream",
     "text": [
      "defaultdict(<class 'list'>, {'a': [1, 2], 'b': [3]})\n"
     ]
    }
   ],
   "execution_count": 26
  },
  {
   "metadata": {
    "ExecuteTime": {
     "end_time": "2025-07-25T22:16:04.361764Z",
     "start_time": "2025-07-25T22:16:04.355543Z"
    }
   },
   "cell_type": "code",
   "source": [
    "#Solution 14\n",
    "def count_character(word):\n",
    "    res={}\n",
    "    for x in word:\n",
    "        res[x] = res.get(x, 0) + 1\n",
    "        # if x in res:\n",
    "        #     res[x]+=1\n",
    "        # else:\n",
    "        #     res[x]=1\n",
    "\n",
    "    return res\n",
    "\n",
    "word = 'Hello world hi and welcome to this program'\n",
    "word2 = 'malayalam'\n",
    "res=count_character(word2)\n",
    "print(res)"
   ],
   "id": "3d5b11e92bbbd180",
   "outputs": [
    {
     "name": "stdout",
     "output_type": "stream",
     "text": [
      "{'m': 2, 'a': 4, 'l': 2, 'y': 1}\n"
     ]
    }
   ],
   "execution_count": 29
  },
  {
   "metadata": {
    "ExecuteTime": {
     "end_time": "2025-07-25T22:19:15.844617Z",
     "start_time": "2025-07-25T22:19:15.832279Z"
    }
   },
   "cell_type": "code",
   "source": [
    "#Solution 15\n",
    "import json\n",
    "book = {\n",
    "    'title': 'To Kill a Mockingbird',\n",
    "    'author': 'Harper Lee',\n",
    "    'year': 1960,\n",
    "    'genre': 'Fiction'\n",
    "}\n",
    "\n",
    "book_json = json.dumps(book)\n",
    "print(book_json)"
   ],
   "id": "39bf8f4af12b4059",
   "outputs": [
    {
     "name": "stdout",
     "output_type": "stream",
     "text": [
      "{\"title\": \"To Kill a Mockingbird\", \"author\": \"Harper Lee\", \"year\": 1960, \"genre\": \"Fiction\"}\n"
     ]
    }
   ],
   "execution_count": 30
  }
 ],
 "metadata": {
  "kernelspec": {
   "display_name": "Python 3",
   "language": "python",
   "name": "python3"
  },
  "language_info": {
   "codemirror_mode": {
    "name": "ipython",
    "version": 3
   },
   "file_extension": ".py",
   "mimetype": "text/x-python",
   "name": "python",
   "nbconvert_exporter": "python",
   "pygments_lexer": "ipython3",
   "version": "3.9.7"
  }
 },
 "nbformat": 4,
 "nbformat_minor": 5
}
