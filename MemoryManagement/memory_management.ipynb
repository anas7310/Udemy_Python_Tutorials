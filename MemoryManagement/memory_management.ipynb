{
 "cells": [
  {
   "metadata": {},
   "cell_type": "markdown",
   "source": [
    "### Python Memory Management\n",
    "Memory management in python involves combination of automatic garbage collection, reference counting, and various internal optimizations to efficiently manage memory allocation and deallocation. Understanding these mechanisms can help developers write more efficient and robust applications.\n",
    "\n",
    "1. Key concepts in Python Memory Management\n",
    "2. Memory Allocation and Deallocation\n",
    "3. Reference Counting\n",
    "4. Garbage Collection\n",
    "5. The gc Module\n",
    "6. Memory Management Best Practices"
   ],
   "id": "2e065c1edbb6b11f"
  },
  {
   "metadata": {},
   "cell_type": "markdown",
   "source": [
    "### Reference Counting\n",
    "Reference counting is the primary method Python uses to manage memory. Each object in Python maintains a count of references pointing to it. When the reference count drops to zero, the memory occupied by the object is deallocated"
   ],
   "id": "ba5d4df47aa4b5db"
  },
  {
   "metadata": {
    "ExecuteTime": {
     "end_time": "2025-09-02T22:32:42.845297Z",
     "start_time": "2025-09-02T22:32:42.836646Z"
    }
   },
   "cell_type": "code",
   "source": [
    "import sys\n",
    "\n",
    "a=[]\n",
    "print(sys.getrefcount(a)) #output: 2 because one reference is coming from 'a' variable and one coming from getrefcount() method/function"
   ],
   "id": "546a05630eb69dfa",
   "outputs": [
    {
     "name": "stdout",
     "output_type": "stream",
     "text": [
      "2\n"
     ]
    }
   ],
   "execution_count": 3
  },
  {
   "metadata": {
    "ExecuteTime": {
     "end_time": "2025-09-02T22:34:18.340005Z",
     "start_time": "2025-09-02T22:34:18.333882Z"
    }
   },
   "cell_type": "code",
   "source": [
    "b=a\n",
    "print(sys.getrefcount(a)) #output: 23 because one reference is coming from 'a' variable and one coming from getrefcount() method/function and one is coming from 'b' variable"
   ],
   "id": "d235f32f4a172066",
   "outputs": [
    {
     "name": "stdout",
     "output_type": "stream",
     "text": [
      "3\n"
     ]
    }
   ],
   "execution_count": 9
  },
  {
   "metadata": {
    "ExecuteTime": {
     "end_time": "2025-09-02T22:34:19.618719Z",
     "start_time": "2025-09-02T22:34:19.613860Z"
    }
   },
   "cell_type": "code",
   "source": [
    "del b\n",
    "print(sys.getrefcount(a))"
   ],
   "id": "95f2c601318213ef",
   "outputs": [
    {
     "name": "stdout",
     "output_type": "stream",
     "text": [
      "2\n"
     ]
    }
   ],
   "execution_count": 10
  },
  {
   "metadata": {},
   "cell_type": "markdown",
   "source": [
    "### Garbage Collection\n",
    "Python includes a cyclic garbage collector to handle reference cycles. Reference cycles occur when objects reference each other, preventing their reference counts from reaching zero."
   ],
   "id": "3b00a66e7acd470e"
  },
  {
   "metadata": {
    "ExecuteTime": {
     "end_time": "2025-09-02T22:40:30.961095Z",
     "start_time": "2025-09-02T22:40:30.828181Z"
    }
   },
   "cell_type": "code",
   "source": [
    "import gc\n",
    "\n",
    "#enable garbage collection\n",
    "gc.enable()"
   ],
   "id": "ae5492c8eb91f02e",
   "outputs": [],
   "execution_count": 11
  },
  {
   "metadata": {
    "ExecuteTime": {
     "end_time": "2025-09-02T22:40:37.928496Z",
     "start_time": "2025-09-02T22:40:37.923972Z"
    }
   },
   "cell_type": "code",
   "source": "gc.disable()",
   "id": "7ae568b48ea033e1",
   "outputs": [],
   "execution_count": 12
  },
  {
   "metadata": {
    "ExecuteTime": {
     "end_time": "2025-09-02T22:40:49.743716Z",
     "start_time": "2025-09-02T22:40:49.659578Z"
    }
   },
   "cell_type": "code",
   "source": "gc.collect()",
   "id": "cba1ecb14465e64f",
   "outputs": [
    {
     "data": {
      "text/plain": [
       "1668"
      ]
     },
     "execution_count": 13,
     "metadata": {},
     "output_type": "execute_result"
    }
   ],
   "execution_count": 13
  },
  {
   "metadata": {
    "ExecuteTime": {
     "end_time": "2025-09-02T22:42:42.825477Z",
     "start_time": "2025-09-02T22:42:42.819963Z"
    }
   },
   "cell_type": "code",
   "source": [
    "## Get garbage collection stats\n",
    "print(gc.get_stats())"
   ],
   "id": "49150ae4f0633724",
   "outputs": [
    {
     "name": "stdout",
     "output_type": "stream",
     "text": [
      "[{'collections': 72, 'collected': 4048, 'uncollectable': 0}, {'collections': 6, 'collected': 429, 'uncollectable': 0}, {'collections': 1, 'collected': 1668, 'uncollectable': 0}]\n"
     ]
    }
   ],
   "execution_count": 15
  },
  {
   "metadata": {
    "ExecuteTime": {
     "end_time": "2025-09-02T22:43:10.688583Z",
     "start_time": "2025-09-02T22:43:10.683336Z"
    }
   },
   "cell_type": "code",
   "source": [
    "#Get unreachable objects\n",
    "print(gc.garbage)"
   ],
   "id": "604a3ed7482b6618",
   "outputs": [
    {
     "name": "stdout",
     "output_type": "stream",
     "text": [
      "[]\n"
     ]
    }
   ],
   "execution_count": 16
  },
  {
   "metadata": {},
   "cell_type": "markdown",
   "source": [
    "### Memory Management Best Practices\n",
    "1. Use Local variables: Local variables have a short lifespan and are freed sooner than Global variables.\n",
    "2. Avoid Circular References: Circular references can lean to memory leaks if not properly manages.\n",
    "3. Use Generators: Generators produce items at a time and only keep one item in memory at a time, making them memory efficient.\n",
    "4. Explicitly Delete Objects: Use the del statement to delete variables and objects explicitly.\n",
    "5. Profile Memory Usage: Use memory profiling tools like tracemalloc and memory_profiler to identify memory leaks and optimize memory usage."
   ],
   "id": "c748eddb0a73ac2d"
  },
  {
   "metadata": {
    "ExecuteTime": {
     "end_time": "2025-09-02T22:54:55.311454Z",
     "start_time": "2025-09-02T22:54:55.174094Z"
    }
   },
   "cell_type": "code",
   "source": [
    "#Handled Circular references and Garbage Collection\n",
    "import gc\n",
    "\n",
    "class MyObject:\n",
    "    def __init__(self, name):\n",
    "        self.name=name\n",
    "        print(f'Object {self.name} created')\n",
    "\n",
    "    def __del__(self):\n",
    "        print(f\"Object {self.name} deleted\")\n",
    "\n",
    "#Create circular references (eg -> a=b,b=a)\n",
    "obj1=MyObject('obj1')\n",
    "obj2=MyObject('obj2')\n",
    "\n",
    "obj1.ref=obj2\n",
    "obj2.ref=obj1\n",
    "\n",
    "\n",
    "del obj1\n",
    "del obj2\n",
    "\n",
    "#manually trigger the garbage collection\n",
    "gc.collect()"
   ],
   "id": "ef0da6565f9f266a",
   "outputs": [
    {
     "name": "stdout",
     "output_type": "stream",
     "text": [
      "Object obj1 created\n",
      "Object obj2 created\n",
      "Object obj1 deleted\n",
      "Object obj2 deleted\n",
      "Object obj1 deleted\n",
      "Object obj2 deleted\n"
     ]
    },
    {
     "data": {
      "text/plain": [
       "13"
      ]
     },
     "execution_count": 18,
     "metadata": {},
     "output_type": "execute_result"
    }
   ],
   "execution_count": 18
  },
  {
   "metadata": {
    "ExecuteTime": {
     "end_time": "2025-09-02T22:57:31.162844Z",
     "start_time": "2025-09-02T22:57:31.156440Z"
    }
   },
   "cell_type": "code",
   "source": [
    "#Print collected garbage objects\n",
    "print(f'Garbage Collection objects: {gc.garbage}')"
   ],
   "id": "a2afa7d735fcdb36",
   "outputs": [
    {
     "name": "stdout",
     "output_type": "stream",
     "text": [
      "Garbage Collection objects: []\n"
     ]
    }
   ],
   "execution_count": 19
  },
  {
   "metadata": {
    "ExecuteTime": {
     "end_time": "2025-09-02T23:03:03.646612Z",
     "start_time": "2025-09-02T23:03:03.638921Z"
    }
   },
   "cell_type": "code",
   "source": [
    "#Generators for memory efficiency\n",
    "#Generators allows you to produce items one at a time, using memory efficiently by only keeping one item in memory at a time. (because they use yield keyword which we have learnt earlier)\n",
    "\n",
    "def generate_number(n):\n",
    "    for i in range(n):\n",
    "        yield i\n",
    "\n",
    "#using the generator\n",
    "for number in generate_number(100000):\n",
    "    print(number)\n",
    "    if number>10:\n",
    "        break"
   ],
   "id": "fa64c90a2793d6a4",
   "outputs": [
    {
     "name": "stdout",
     "output_type": "stream",
     "text": [
      "0\n",
      "1\n",
      "2\n",
      "3\n",
      "4\n",
      "5\n",
      "6\n",
      "7\n",
      "8\n",
      "9\n",
      "10\n",
      "11\n"
     ]
    }
   ],
   "execution_count": 22
  },
  {
   "metadata": {
    "ExecuteTime": {
     "end_time": "2025-09-02T23:06:49.736812Z",
     "start_time": "2025-09-02T23:06:49.605184Z"
    }
   },
   "cell_type": "code",
   "source": [
    "#Profiling Memory Usage with tracemalloc\n",
    "import tracemalloc\n",
    "\n",
    "def create_list():\n",
    "    return [i for i in range(10000)]\n",
    "\n",
    "def main():\n",
    "    tracemalloc.start()\n",
    "    create_list()\n",
    "    snapshot = tracemalloc.take_snapshot()\n",
    "    top_stats = snapshot.statistics('lineno')\n",
    "\n",
    "    print('[ Top 10 ]')\n",
    "    for stat in top_stats[:10]:\n",
    "        print(stat)"
   ],
   "id": "b5b61f89966ddcde",
   "outputs": [],
   "execution_count": 23
  },
  {
   "metadata": {
    "ExecuteTime": {
     "end_time": "2025-09-02T23:06:55.143087Z",
     "start_time": "2025-09-02T23:06:55.007705Z"
    }
   },
   "cell_type": "code",
   "source": "main()",
   "id": "31796131ddf0e6ab",
   "outputs": [
    {
     "name": "stdout",
     "output_type": "stream",
     "text": [
      "[ Top 10 ]\n",
      "E:\\udemy\\PythonBootcamp\\.venv\\Lib\\site-packages\\ipykernel\\iostream.py:287: size=208 B, count=3, average=69 B\n",
      "E:\\udemy\\PythonBootcamp\\.venv\\Lib\\site-packages\\ipykernel\\iostream.py:276: size=208 B, count=3, average=69 B\n",
      "E:\\udemy\\PythonBootcamp\\.venv\\Lib\\site-packages\\traitlets\\traitlets.py:731: size=131 B, count=2, average=66 B\n",
      "E:\\udemy\\PythonBootcamp\\.venv\\Lib\\site-packages\\traitlets\\traitlets.py:1514: size=120 B, count=1, average=120 B\n",
      "E:\\udemy\\PythonBootcamp\\.venv\\Lib\\site-packages\\zmq\\sugar\\socket.py:748: size=96 B, count=2, average=48 B\n",
      "E:\\udemy\\PythonBootcamp\\.venv\\Lib\\site-packages\\traitlets\\traitlets.py:1543: size=64 B, count=1, average=64 B\n",
      "C:\\Users\\Anas\\AppData\\Local\\Programs\\Python\\Python313\\Lib\\threading.py:656: size=64 B, count=1, average=64 B\n",
      "C:\\Users\\Anas\\AppData\\Local\\Programs\\Python\\Python313\\Lib\\threading.py:352: size=56 B, count=1, average=56 B\n"
     ]
    }
   ],
   "execution_count": 24
  },
  {
   "metadata": {},
   "cell_type": "code",
   "outputs": [],
   "execution_count": null,
   "source": "",
   "id": "b9a199feeea4de3b"
  }
 ],
 "metadata": {},
 "nbformat": 4,
 "nbformat_minor": 5
}
