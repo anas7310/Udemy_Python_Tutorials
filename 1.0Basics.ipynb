{
 "cells": [
  {
   "cell_type": "code",
   "id": "initial_id",
   "metadata": {
    "collapsed": true,
    "ExecuteTime": {
     "end_time": "2025-07-09T22:36:29.422513Z",
     "start_time": "2025-07-09T22:36:29.412262Z"
    }
   },
   "source": [
    "## Basic syntax rules in Python\n",
    "## Case Sensitive - Python is case sensitive\n",
    "\n",
    "name = \"Anas\"\n",
    "Name = \"Khan\"\n",
    "\n",
    "print(name)\n",
    "print(Name)"
   ],
   "outputs": [
    {
     "name": "stdout",
     "output_type": "stream",
     "text": [
      "Anas\n",
      "Khan\n"
     ]
    }
   ],
   "execution_count": 1
  },
  {
   "metadata": {},
   "cell_type": "markdown",
   "source": [
    "### Indentation\n",
    "Indentation in python is used to define the structure and hierarchy of the code. Unlike many other programming languages that uses braces {} to delimit blocks of code, Python uses indentation to determine the grouping of statements. This means that all the statements within a block must be indented at the same level."
   ],
   "id": "7d885109cee5acf1"
  },
  {
   "metadata": {
    "ExecuteTime": {
     "end_time": "2025-07-09T22:43:54.038230Z",
     "start_time": "2025-07-09T22:43:53.933206Z"
    }
   },
   "cell_type": "code",
   "source": [
    "# Indentation in Python\n",
    "# Python uses indentation to define blocks of code. Consistent use of spaces(commonly 4) or tab is required.\n",
    "age = 32\n",
    "if age > 30:\n",
    "    print(age)\n",
    "\n",
    "print('not inside the if statement')"
   ],
   "id": "bffaaec9ed5acd6c",
   "outputs": [
    {
     "name": "stdout",
     "output_type": "stream",
     "text": [
      "32\n",
      "not inside the if statement\n"
     ]
    }
   ],
   "execution_count": 4
  },
  {
   "metadata": {
    "ExecuteTime": {
     "end_time": "2025-07-09T22:44:45.810088Z",
     "start_time": "2025-07-09T22:44:45.801365Z"
    }
   },
   "cell_type": "code",
   "source": [
    "#This is a single line comment\n",
    "print(\"Hello World!\")"
   ],
   "id": "1682e2a0eeb993be",
   "outputs": [
    {
     "name": "stdout",
     "output_type": "stream",
     "text": [
      "Hello World!\n"
     ]
    }
   ],
   "execution_count": 6
  },
  {
   "metadata": {
    "ExecuteTime": {
     "end_time": "2025-07-09T22:45:39.551359Z",
     "start_time": "2025-07-09T22:45:39.514631Z"
    }
   },
   "cell_type": "code",
   "source": [
    "# Line continuation\n",
    "\n",
    "total = 1+2+3+4+5+6+7+\\\n",
    "    8+9+20\n",
    "\n",
    "print(total)"
   ],
   "id": "9c8343fe41e06f84",
   "outputs": [
    {
     "name": "stdout",
     "output_type": "stream",
     "text": [
      "65\n"
     ]
    }
   ],
   "execution_count": 8
  },
  {
   "metadata": {
    "ExecuteTime": {
     "end_time": "2025-07-09T22:46:32.954749Z",
     "start_time": "2025-07-09T22:46:32.764254Z"
    }
   },
   "cell_type": "code",
   "source": [
    "#Multiple statements on a single line\n",
    "x=5; y=10; z=x+y\n",
    "print(z)"
   ],
   "id": "e238626320878f2d",
   "outputs": [
    {
     "name": "stdout",
     "output_type": "stream",
     "text": [
      "15\n"
     ]
    }
   ],
   "execution_count": 9
  },
  {
   "metadata": {
    "ExecuteTime": {
     "end_time": "2025-07-09T22:48:59.032369Z",
     "start_time": "2025-07-09T22:48:58.991126Z"
    }
   },
   "cell_type": "code",
   "source": [
    "#understand symantics in python\n",
    "#variable assignment\n",
    "age = 32 #age is an integer\n",
    "name = 'Anas' #name is a string\n",
    "marks = 45.7 #marks is a float\n",
    "\n",
    "\n",
    "print(name)\n",
    "print(age)\n",
    "print(marks)\n",
    "\n",
    "#Type inference\n",
    "print(type(name))\n",
    "print(type(age))\n",
    "print(type(marks))"
   ],
   "id": "3a1309dea4f74db6",
   "outputs": [
    {
     "name": "stdout",
     "output_type": "stream",
     "text": [
      "Anas\n",
      "32\n",
      "45.7\n",
      "<class 'str'>\n",
      "<class 'int'>\n",
      "<class 'float'>\n"
     ]
    }
   ],
   "execution_count": 10
  },
  {
   "metadata": {
    "ExecuteTime": {
     "end_time": "2025-07-09T22:50:37.281846Z",
     "start_time": "2025-07-09T22:50:37.224637Z"
    }
   },
   "cell_type": "code",
   "source": [
    "#Type inference\n",
    "variable = 10\n",
    "print(type(variable))\n",
    "variable = 'Anas'\n",
    "print(type(variable))"
   ],
   "id": "592b65adf8f68de2",
   "outputs": [
    {
     "name": "stdout",
     "output_type": "stream",
     "text": [
      "<class 'int'>\n",
      "<class 'str'>\n"
     ]
    }
   ],
   "execution_count": 12
  },
  {
   "metadata": {
    "ExecuteTime": {
     "end_time": "2025-07-09T22:52:55.088335Z",
     "start_time": "2025-07-09T22:52:48.580607Z"
    }
   },
   "cell_type": "code",
   "source": [
    "# Name Error\n",
    "a=b"
   ],
   "id": "c67b84c90d5d06d2",
   "outputs": [
    {
     "ename": "NameError",
     "evalue": "name 'b' is not defined",
     "output_type": "error",
     "traceback": [
      "\u001B[31m---------------------------------------------------------------------------\u001B[39m",
      "\u001B[31mNameError\u001B[39m                                 Traceback (most recent call last)",
      "\u001B[36mCell\u001B[39m\u001B[36m \u001B[39m\u001B[32mIn[13]\u001B[39m\u001B[32m, line 2\u001B[39m\n\u001B[32m      1\u001B[39m \u001B[38;5;66;03m# Name Error\u001B[39;00m\n\u001B[32m----> \u001B[39m\u001B[32m2\u001B[39m a=\u001B[43mb\u001B[49m\n",
      "\u001B[31mNameError\u001B[39m: name 'b' is not defined"
     ]
    }
   ],
   "execution_count": 13
  }
 ],
 "metadata": {
  "kernelspec": {
   "display_name": "Python 3",
   "language": "python",
   "name": "python3"
  },
  "language_info": {
   "codemirror_mode": {
    "name": "ipython",
    "version": 2
   },
   "file_extension": ".py",
   "mimetype": "text/x-python",
   "name": "python",
   "nbconvert_exporter": "python",
   "pygments_lexer": "ipython2",
   "version": "2.7.6"
  }
 },
 "nbformat": 4,
 "nbformat_minor": 5
}
