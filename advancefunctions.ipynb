{
 "cells": [
  {
   "cell_type": "markdown",
   "metadata": {},
   "source": [
    "# Module 4: Advanced Functions Assignments\n",
    "## Lesson 4.1: Defining Functions\n",
    "### Assignment 1: Fibonacci Sequence with Memoization\n",
    "\n",
    "Define a recursive function to calculate the nth Fibonacci number using memoization. Test the function with different inputs.\n",
    "\n",
    "### Assignment 2: Function with Nested Default Arguments\n",
    "\n",
    "Define a function that takes two arguments, a and b, where b is a dictionary with a default value of an empty dictionary. The function should add a new key-value pair to the dictionary and return it. Test the function with different inputs.\n",
    "\n",
    "### Assignment 3: Function with Variable Keyword Arguments\n",
    "\n",
    "Define a function that takes a variable number of keyword arguments and returns a dictionary containing only those key-value pairs where the value is an integer. Test the function with different inputs.\n",
    "\n",
    "### Assignment 4: Function with Callback\n",
    "\n",
    "Define a function that takes another function as a callback and a list of integers. The function should apply the callback to each integer in the list and return a new list with the results. Test with different callback functions.\n",
    "\n",
    "### Assignment 5: Function that Returns a Function\n",
    "\n",
    "Define a function that returns another function. The returned function should take an integer and return its square. Test the returned function with different inputs.\n",
    "\n",
    "### Assignment 6: Function with Decorators\n",
    "\n",
    "Define a function that calculates the time taken to execute another function. Apply this decorator to a function that performs a complex calculation. Test the decorated function with different inputs.\n",
    "\n",
    "### Assignment 7: Higher-Order Function for Filtering and Mapping\n",
    "\n",
    "Define a higher-order function that takes two functions, a filter function and a map function, along with a list of integers. The higher-order function should first filter the integers using the filter function and then apply the map function to the filtered integers. Test with different filter and map functions.\n",
    "\n",
    "### Assignment 8: Function Composition\n",
    "\n",
    "Define a function that composes two functions, f and g, such that the result is f(g(x)). Test with different functions f and g.\n",
    "\n",
    "### Assignment 9: Partial Function Application\n",
    "\n",
    "Use the functools.partial function to create a new function that multiplies its input by 2. Test the new function with different inputs.\n",
    "\n",
    "### Assignment 10: Function with Error Handling\n",
    "\n",
    "Define a function that takes a list of integers and returns their average. The function should handle any errors that occur (e.g., empty list) and return None in such cases. Test with different inputs.\n",
    "\n",
    "### Assignment 11: Function with Generators\n",
    "\n",
    "Define a function that generates an infinite sequence of Fibonacci numbers. Test by printing the first 10 numbers in the sequence.\n",
    "\n",
    "### Assignment 12: Currying\n",
    "\n",
    "Define a curried function that takes three arguments, one at a time, and returns their product. Test the function by providing arguments one at a time.\n",
    "\n",
    "### Assignment 13: Function with Context Manager\n",
    "\n",
    "Define a function that uses a context manager to write a list of integers to a file. The function should handle any errors that occur during file operations. Test with different lists.\n",
    "\n",
    "### Assignment 14: Function with Multiple Return Types\n",
    "\n",
    "Define a function that takes a list of mixed data types (integers, strings, and floats) and returns three lists: one containing all the integers, one containing all the strings, and one containing all the floats. Test with different inputs.\n",
    "\n",
    "### Assignment 15: Function with State\n",
    "\n",
    "Define a function that maintains state between calls using a mutable default argument. The function should keep track of how many times it has been called. Test by calling the function multiple times."
   ],
   "id": "59c7d304b31e11a8"
  },
  {
   "cell_type": "code",
   "metadata": {},
   "source": [
    "### Assignment 1: Fibonacci Sequence with Memoization\n",
    "# Define a recursive function to calculate the nth Fibonacci number using memoization. Test the function with different inputs.\n",
    "\n",
    "def fibonacci(n, memo={}):\n",
    "    if n in memo:\n",
    "        return memo[n]\n",
    "    if n<=1:\n",
    "        return n\n",
    "    memo[n] = fibonacci(n-1, memo) + fibonacci(n-2, memo)\n",
    "    return memo[n]\n",
    "\n",
    "print(fibonacci(10))\n",
    "print(fibonacci(20))"
   ],
   "id": "c54203a0c0c089cf",
   "outputs": [],
   "execution_count": null
  },
  {
   "metadata": {},
   "cell_type": "code",
   "source": [
    "#Solution 2\n",
    "def add_to_dict(a,b=None):\n",
    "    if b is None:\n",
    "        b={}\n",
    "    b[a] = a**2\n",
    "    return b\n",
    "\n",
    "print(add_to_dict(13))\n",
    "print(add_to_dict(6,{2:4}))"
   ],
   "id": "da453850360d81f8",
   "outputs": [],
   "execution_count": null
  },
  {
   "metadata": {},
   "cell_type": "code",
   "source": [
    "#Solution 3\n",
    "def filter_integers(**kwargs):\n",
    "    return {k:v for k,v in kwargs.items() if isinstance(v, int)}\n",
    "\n",
    "print(filter_integers(a=1, b='two', c=3, d=4.5))  # {'a': 1, 'c': 3}\n",
    "print(filter_integers(x=10, y='yes', z=20))"
   ],
   "id": "bfce8b2e1130dc0c",
   "outputs": [],
   "execution_count": null
  },
  {
   "metadata": {},
   "cell_type": "code",
   "source": [
    "#Solution 4\n",
    "def apply_callback(callback, lst):\n",
    "    return [callback(x) for x in lst]\n",
    "\n",
    "print(apply_callback(lambda x: x**2, [1, 2, 3, 4]))  # [1, 4, 9, 16]\n",
    "print(apply_callback(lambda x: x+1, [1, 2, 3, 4]))"
   ],
   "id": "3c9e99a2cfab94ea",
   "outputs": [],
   "execution_count": null
  },
  {
   "metadata": {},
   "cell_type": "code",
   "source": [
    "#Solution 5\n",
    "def outer_function():\n",
    "    def inner_function(x):\n",
    "        return x**2\n",
    "    return inner_function\n",
    "\n",
    "square = outer_function()\n",
    "print(square(2))  # 4\n",
    "print(square(5))"
   ],
   "id": "66ba1d4abb8eefab",
   "outputs": [],
   "execution_count": null
  },
  {
   "metadata": {},
   "cell_type": "code",
   "source": [
    "#Solution 6\n",
    "import time\n",
    "def timer_decorator(func):\n",
    "    def wrapper(*args,**kwargs):\n",
    "        start = time.time()\n",
    "        result = func(*args,**kwargs)\n",
    "        end=time.time()\n",
    "        print(f\"Function {func.__name__} took {end - start} seconds to execute.\")\n",
    "        return result\n",
    "    return wrapper\n",
    "\n",
    "\n",
    "@timer_decorator\n",
    "def complex_calculation(n):\n",
    "    return sum(n**3 for n in range(n))\n",
    "\n",
    "print(complex_calculation(50000000))"
   ],
   "id": "69948c4d5b407889",
   "outputs": [],
   "execution_count": null
  },
  {
   "metadata": {},
   "cell_type": "code",
   "source": [
    "#Solution 7\n",
    "def filter_and_map(filterfunc, mapfunc,lst):\n",
    "    filtered = list(filter(filterfunc, lst))\n",
    "    mapped = list(map(mapfunc, filtered))\n",
    "    return mapped\n",
    "    # return [map_func(x) for x in lst if filter_func(x)]\n",
    "\n",
    "print(filter_and_map(lambda x: x % 2 == 0, lambda x: x ** 2, [1, 2, 3, 4, 5]))  # [4, 16]\n",
    "print(filter_and_map(lambda x: x > 2, lambda x: x + 1, [1, 2, 3, 4, 5]))"
   ],
   "id": "1b517ab3eddd2f7a",
   "outputs": [],
   "execution_count": null
  },
  {
   "metadata": {},
   "cell_type": "code",
   "source": [
    "#Solution 8\n",
    "def compose(f,g):\n",
    "    return lambda x: f(g(x))\n",
    "\n",
    "f = lambda x: x + 1\n",
    "g = lambda x: x * 2\n",
    "h = compose(f, g)\n",
    "print(h(3))  # 7\n",
    "print(h(5))  # 11"
   ],
   "id": "5ba654c1462eb62",
   "outputs": [],
   "execution_count": null
  },
  {
   "metadata": {},
   "cell_type": "code",
   "source": [
    "#Solution 9\n",
    "from functools import partial\n",
    "multiply_by_2 = partial(lambda x,y : x*y,2)\n",
    "\n",
    "print(multiply_by_2(3))\n",
    "print(multiply_by_2(5))"
   ],
   "id": "611260489048848e",
   "outputs": [],
   "execution_count": null
  },
  {
   "metadata": {},
   "cell_type": "code",
   "source": [
    "#Solution 10\n",
    "def average(lst):\n",
    "    try:\n",
    "        return sum(lst)/len(lst)\n",
    "    except ZeroDivisionError:\n",
    "        return None\n",
    "\n",
    "print(average([1, 2, 3, 4, 5]))\n",
    "print(average([]))"
   ],
   "id": "11998274362867fc",
   "outputs": [],
   "execution_count": null
  },
  {
   "metadata": {},
   "cell_type": "code",
   "source": [
    "#Solution 11\n",
    "def fibonacci_generator():\n",
    "    a,b=0,1\n",
    "    while True:\n",
    "        yield a\n",
    "        a,b=b,a+b\n",
    "\n",
    "fib_gen = fibonacci_generator()\n",
    "for _ in range(10):\n",
    "    print(next(fib_gen))"
   ],
   "id": "277cd8c716e388ac",
   "outputs": [],
   "execution_count": null
  },
  {
   "metadata": {
    "ExecuteTime": {
     "end_time": "2025-07-27T23:26:53.922839Z",
     "start_time": "2025-07-27T23:26:53.912678Z"
    }
   },
   "cell_type": "code",
   "source": [
    "#Solution 12\n",
    "def curry_product(x):\n",
    "    def inner_func1(y):\n",
    "        def inner_func2(z):\n",
    "            return x * y * z\n",
    "        return inner_func2\n",
    "    return inner_func1\n",
    "\n",
    "print(curry_product(2)(3)(4))  # 24\n",
    "print(curry_product(1)(5)(6))\n"
   ],
   "id": "12bd30a98b5a7282",
   "outputs": [
    {
     "name": "stdout",
     "output_type": "stream",
     "text": [
      "24\n",
      "30\n"
     ]
    }
   ],
   "execution_count": 18
  },
  {
   "metadata": {
    "ExecuteTime": {
     "end_time": "2025-07-27T23:31:45.022506Z",
     "start_time": "2025-07-27T23:31:45.015483Z"
    }
   },
   "cell_type": "code",
   "source": [
    "#Solution 13\n",
    "def write_to_file(lst, filename):\n",
    "    try:\n",
    "        with open(filename, 'w') as f:\n",
    "            for num in lst:\n",
    "                f.write(f\"{num}\\n\")\n",
    "    except IOError as e:\n",
    "        print(f\"An error occurred: {e}\")\n",
    "\n",
    "# Test\n",
    "write_to_file([1, 2, 3, 4, 5], 'output.txt')"
   ],
   "id": "6024c71f9e7c1d01",
   "outputs": [],
   "execution_count": 23
  },
  {
   "metadata": {
    "ExecuteTime": {
     "end_time": "2025-07-27T23:34:57.733344Z",
     "start_time": "2025-07-27T23:34:57.726337Z"
    }
   },
   "cell_type": "code",
   "source": [
    "#Solution 14\n",
    "def separate_types(lst):\n",
    "    ints,strs,floats = [],[],[]\n",
    "    for x in lst:\n",
    "        if isinstance(x,int):\n",
    "            ints.append(x)\n",
    "        elif isinstance(x,str):\n",
    "            strs.append(x)\n",
    "        elif isinstance(x,float):\n",
    "            floats.append(x)\n",
    "    return  ints,strs,floats\n",
    "\n",
    "print(separate_types([1, 'a', 2.5, 3, 'b', 4.0, 'c']))"
   ],
   "id": "3d6c3dffe19a1a34",
   "outputs": [
    {
     "name": "stdout",
     "output_type": "stream",
     "text": [
      "([1, 3], ['a', 'b', 'c'], [2.5, 4.0])\n"
     ]
    }
   ],
   "execution_count": 25
  },
  {
   "metadata": {
    "ExecuteTime": {
     "end_time": "2025-07-27T23:35:46.825696Z",
     "start_time": "2025-07-27T23:35:46.818288Z"
    }
   },
   "cell_type": "code",
   "source": [
    "#Solution 15\n",
    "def call_counter(counter={'count': 0}):\n",
    "    counter['count'] += 1\n",
    "    return counter['count']\n",
    "\n",
    "# Test\n",
    "print(call_counter())  # 1\n",
    "print(call_counter())  # 2\n",
    "print(call_counter())  # 3"
   ],
   "id": "9c5ed6bf67bde93c",
   "outputs": [
    {
     "name": "stdout",
     "output_type": "stream",
     "text": [
      "1\n",
      "2\n",
      "3\n"
     ]
    }
   ],
   "execution_count": 26
  },
  {
   "metadata": {
    "ExecuteTime": {
     "end_time": "2025-07-28T00:05:42.120632Z",
     "start_time": "2025-07-28T00:05:42.102439Z"
    }
   },
   "cell_type": "code",
   "source": [
    "def merge_three_dictionaries(dict1, dict2, dict3):\n",
    "    return {**dict1, **dict2, **dict3}\n",
    "\n",
    "merge_three_dictionaries({'a': 1, 'b': 2}, {'c': 3, 'd': 4}, {'e': 5, 'f': 6})\n"
   ],
   "id": "910437b8b63c5840",
   "outputs": [
    {
     "data": {
      "text/plain": [
       "{'a': 1, 'b': 2, 'c': 3, 'd': 4, 'e': 5, 'f': 6}"
      ]
     },
     "execution_count": 28,
     "metadata": {},
     "output_type": "execute_result"
    }
   ],
   "execution_count": 28
  }
 ],
 "metadata": {
  "kernelspec": {
   "display_name": "Python 3",
   "language": "python",
   "name": "python3"
  },
  "language_info": {
   "codemirror_mode": {
    "name": "ipython",
    "version": 3
   },
   "file_extension": ".py",
   "mimetype": "text/x-python",
   "name": "python",
   "nbconvert_exporter": "python",
   "pygments_lexer": "ipython3",
   "version": "3.9.7"
  }
 },
 "nbformat": 4,
 "nbformat_minor": 5
}
