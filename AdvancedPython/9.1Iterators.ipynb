{
 "cells": [
  {
   "metadata": {},
   "cell_type": "markdown",
   "source": [
    "### Iterators\n",
    "\n",
    "Iterators are advanced Python concepts that allow for efficient looping and memory management. Iterators provide a way to access elements of a collection sequentially without exposing the underlying structure."
   ],
   "id": "f15058315c9d14b9"
  },
  {
   "cell_type": "code",
   "id": "initial_id",
   "metadata": {
    "collapsed": true,
    "ExecuteTime": {
     "end_time": "2025-08-17T20:44:01.928321Z",
     "start_time": "2025-08-17T20:44:01.923410Z"
    }
   },
   "source": [
    "my_list = [1,2,3,4,5,6]\n",
    "for i in my_list:\n",
    "    print(i, end=\" \")"
   ],
   "outputs": [
    {
     "name": "stdout",
     "output_type": "stream",
     "text": [
      "1 2 3 4 5 6 "
     ]
    }
   ],
   "execution_count": 2
  },
  {
   "metadata": {
    "ExecuteTime": {
     "end_time": "2025-08-17T20:44:13.895133Z",
     "start_time": "2025-08-17T20:44:13.875590Z"
    }
   },
   "cell_type": "code",
   "source": "type(my_list)",
   "id": "402a5a90f74aee9b",
   "outputs": [
    {
     "data": {
      "text/plain": [
       "list"
      ]
     },
     "execution_count": 3,
     "metadata": {},
     "output_type": "execute_result"
    }
   ],
   "execution_count": 3
  },
  {
   "metadata": {
    "ExecuteTime": {
     "end_time": "2025-08-17T20:44:22.360754Z",
     "start_time": "2025-08-17T20:44:22.355720Z"
    }
   },
   "cell_type": "code",
   "source": "print(my_list)",
   "id": "3c92cb427d0120f9",
   "outputs": [
    {
     "name": "stdout",
     "output_type": "stream",
     "text": [
      "[1, 2, 3, 4, 5, 6]\n"
     ]
    }
   ],
   "execution_count": 4
  },
  {
   "metadata": {
    "ExecuteTime": {
     "end_time": "2025-08-17T20:45:06.142061Z",
     "start_time": "2025-08-17T20:45:06.136378Z"
    }
   },
   "cell_type": "code",
   "source": [
    "#Iterator\n",
    "iterator = iter(my_list)\n",
    "print(type(iterator))"
   ],
   "id": "68c01b0419e084ce",
   "outputs": [
    {
     "name": "stdout",
     "output_type": "stream",
     "text": [
      "<class 'list_iterator'>\n"
     ]
    }
   ],
   "execution_count": 6
  },
  {
   "metadata": {
    "ExecuteTime": {
     "end_time": "2025-08-17T20:45:45.256793Z",
     "start_time": "2025-08-17T20:45:45.242477Z"
    }
   },
   "cell_type": "code",
   "source": "iterator",
   "id": "a7d8fd786f52524b",
   "outputs": [
    {
     "data": {
      "text/plain": [
       "<list_iterator at 0x1d69288e7d0>"
      ]
     },
     "execution_count": 7,
     "metadata": {},
     "output_type": "execute_result"
    }
   ],
   "execution_count": 7
  },
  {
   "metadata": {
    "ExecuteTime": {
     "end_time": "2025-08-17T20:47:08.920881Z",
     "start_time": "2025-08-17T20:47:08.239839Z"
    }
   },
   "cell_type": "code",
   "source": [
    "##Iterate through all the elements\n",
    "next(iterator)"
   ],
   "id": "b36e8faab504cc9c",
   "outputs": [
    {
     "ename": "StopIteration",
     "evalue": "",
     "output_type": "error",
     "traceback": [
      "\u001B[31m---------------------------------------------------------------------------\u001B[39m",
      "\u001B[31mStopIteration\u001B[39m                             Traceback (most recent call last)",
      "\u001B[36mCell\u001B[39m\u001B[36m \u001B[39m\u001B[32mIn[14]\u001B[39m\u001B[32m, line 2\u001B[39m\n\u001B[32m      1\u001B[39m \u001B[38;5;66;03m##Iterate through all the elements\u001B[39;00m\n\u001B[32m----> \u001B[39m\u001B[32m2\u001B[39m \u001B[38;5;28;43mnext\u001B[39;49m\u001B[43m(\u001B[49m\u001B[43miterator\u001B[49m\u001B[43m)\u001B[49m\n",
      "\u001B[31mStopIteration\u001B[39m: "
     ]
    }
   ],
   "execution_count": 14
  },
  {
   "metadata": {
    "ExecuteTime": {
     "end_time": "2025-08-17T20:48:49.523630Z",
     "start_time": "2025-08-17T20:48:49.518922Z"
    }
   },
   "cell_type": "code",
   "source": "iterator = iter(my_list)",
   "id": "5c8d4d8baa3754d7",
   "outputs": [],
   "execution_count": 16
  },
  {
   "metadata": {
    "ExecuteTime": {
     "end_time": "2025-08-17T20:49:05.437835Z",
     "start_time": "2025-08-17T20:49:05.433219Z"
    }
   },
   "cell_type": "code",
   "source": [
    "\n",
    "\n",
    "try:\n",
    "    print(next(iterator))\n",
    "except StopIteration:\n",
    "    print(\"There are no more items in the list\")"
   ],
   "id": "ea7f5d916f2d822",
   "outputs": [
    {
     "name": "stdout",
     "output_type": "stream",
     "text": [
      "There are no more items in the list\n"
     ]
    }
   ],
   "execution_count": 23
  },
  {
   "metadata": {
    "ExecuteTime": {
     "end_time": "2025-08-17T20:50:34.413406Z",
     "start_time": "2025-08-17T20:50:34.407932Z"
    }
   },
   "cell_type": "code",
   "source": [
    "my_str=\"Hello\"\n",
    "string_iterator = iter(my_str)\n",
    "\n",
    "print(next(string_iterator))\n",
    "print(next(string_iterator))"
   ],
   "id": "6d248e620fccc97c",
   "outputs": [
    {
     "name": "stdout",
     "output_type": "stream",
     "text": [
      "H\n",
      "e\n"
     ]
    }
   ],
   "execution_count": 24
  }
 ],
 "metadata": {
  "kernelspec": {
   "display_name": "Python 3",
   "language": "python",
   "name": "python3"
  },
  "language_info": {
   "codemirror_mode": {
    "name": "ipython",
    "version": 2
   },
   "file_extension": ".py",
   "mimetype": "text/x-python",
   "name": "python",
   "nbconvert_exporter": "python",
   "pygments_lexer": "ipython2",
   "version": "2.7.6"
  }
 },
 "nbformat": 4,
 "nbformat_minor": 5
}
