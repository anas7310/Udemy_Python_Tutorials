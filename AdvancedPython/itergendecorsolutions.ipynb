{
 "cells": [
  {
   "cell_type": "markdown",
   "metadata": {},
   "source": [
    "# Module: Iterators, Generators, and Decorators Assignments\n",
    "## Lesson: Iterators, Generators, and Decorators\n",
    "### Assignment 1: Custom Iterator\n",
    "\n",
    "Create a custom iterator class named `Countdown` that takes a number and counts down to zero. Implement the `__iter__` and `__next__` methods. Test the iterator by using it in a for loop."
   ],
   "id": "330c5c233d225ac4"
  },
  {
   "cell_type": "code",
   "execution_count": null,
   "metadata": {},
   "outputs": [],
   "source": [
    "class Countdown:\n",
    "    def __init__(self, start):\n",
    "        self.current = start\n",
    "\n",
    "    def __iter__(self):\n",
    "        return self\n",
    "\n",
    "    def __next__(self):\n",
    "        if self.current <= 0:\n",
    "            raise StopIteration\n",
    "        else:\n",
    "            self.current -= 1\n",
    "            return self.current\n",
    "\n",
    "# Test\n",
    "# for number in Countdown(5):\n",
    "#     print(number)"
   ],
   "id": "9e27c445827b681e"
  },
  {
   "cell_type": "markdown",
   "metadata": {},
   "source": [
    "### Assignment 2: Custom Iterable Class\n",
    "\n",
    "Create a class named `MyRange` that mimics the behavior of the built-in `range` function. Implement the `__iter__` and `__next__` methods. Test the class by using it in a for loop."
   ],
   "id": "69b6bb7b0de79bdd"
  },
  {
   "cell_type": "code",
   "execution_count": null,
   "metadata": {},
   "outputs": [],
   "source": [
    "class MyRange:\n",
    "    def __init__(self, start, end):\n",
    "        self.current = start\n",
    "        self.end = end\n",
    "\n",
    "    def __iter__(self):\n",
    "        return self\n",
    "\n",
    "    def __next__(self):\n",
    "        if self.current >= self.end:\n",
    "            raise StopIteration\n",
    "        else:\n",
    "            self.current += 1\n",
    "            return self.current - 1\n",
    "\n",
    "# Test\n",
    "# for number in MyRange(1, 5):\n",
    "#     print(number)"
   ],
   "id": "a770530bf89ae06f"
  },
  {
   "cell_type": "markdown",
   "metadata": {},
   "source": [
    "### Assignment 3: Generator Function\n",
    "\n",
    "Write a generator function named `fibonacci` that yields the Fibonacci sequence. Test the generator by iterating over it and printing the first 10 Fibonacci numbers."
   ],
   "id": "acdc1c3a9012b31e"
  },
  {
   "cell_type": "code",
   "execution_count": null,
   "metadata": {},
   "outputs": [],
   "source": [
    "def fibonacci(n):\n",
    "    a, b = 0, 1\n",
    "    for _ in range(n):\n",
    "        yield a\n",
    "        a, b = b, a + b\n",
    "\n",
    "# Test\n",
    "# for num in fibonacci(10):\n",
    "#     print(num)"
   ],
   "id": "92c842416e8ff146"
  },
  {
   "cell_type": "markdown",
   "metadata": {},
   "source": [
    "### Assignment 4: Generator Expression\n",
    "\n",
    "Create a generator expression that generates the squares of numbers from 1 to 10. Iterate over the generator and print each value."
   ],
   "id": "a626ec8b085bf753"
  },
  {
   "cell_type": "code",
   "execution_count": null,
   "metadata": {},
   "outputs": [],
   "source": [
    "squares = (x * x for x in range(1, 11))\n",
    "\n",
    "# Test\n",
    "# for square in squares:\n",
    "#     print(square)"
   ],
   "id": "5573d0d21454843e"
  },
  {
   "cell_type": "markdown",
   "metadata": {},
   "source": [
    "### Assignment 5: Chaining Generators\n",
    "\n",
    "Write two generator functions: `even_numbers` that yields even numbers up to a limit, and `squares` that yields the square of each number from another generator. Chain these generators to produce the squares of even numbers up to 20."
   ],
   "id": "66696780ef068fa9"
  },
  {
   "cell_type": "code",
   "execution_count": null,
   "metadata": {},
   "outputs": [],
   "source": [
    "def even_numbers(limit):\n",
    "    for i in range(limit + 1):\n",
    "        if i % 2 == 0:\n",
    "            yield i\n",
    "\n",
    "def squares(numbers):\n",
    "    for number in numbers:\n",
    "        yield number * number\n",
    "\n",
    "# Test\n",
    "# even_gen = even_numbers(20)\n",
    "# square_gen = squares(even_gen)\n",
    "# for square in square_gen:\n",
    "#     print(square)"
   ],
   "id": "c0bd848176133268"
  },
  {
   "cell_type": "markdown",
   "metadata": {},
   "source": [
    "### Assignment 6: Simple Decorator\n",
    "\n",
    "Write a decorator named `time_it` that measures the execution time of a function. Apply this decorator to a function that calculates the factorial of a number."
   ],
   "id": "160754040745941a"
  },
  {
   "cell_type": "code",
   "metadata": {
    "ExecuteTime": {
     "end_time": "2025-08-18T20:48:55.442364Z",
     "start_time": "2025-08-18T20:48:55.435563Z"
    }
   },
   "source": [
    "import time\n",
    "\n",
    "def time_it(func):\n",
    "    def wrapper(*args, **kwargs):\n",
    "        start_time = time.time()\n",
    "        result = func(*args, **kwargs)\n",
    "        end_time = time.time()\n",
    "        print(f\"Execution time: {end_time - start_time} seconds\")\n",
    "        return result\n",
    "    return wrapper\n",
    "\n",
    "@time_it\n",
    "def factorial(n):\n",
    "    if n == 0:\n",
    "        return 1\n",
    "    else:\n",
    "        return n * factorial(n - 1)\n",
    "\n",
    "# Test\n",
    "print(factorial(10))"
   ],
   "id": "7684067e3ba6683d",
   "outputs": [
    {
     "name": "stdout",
     "output_type": "stream",
     "text": [
      "Execution time: 7.152557373046875e-07 seconds\n",
      "Execution time: 0.00025081634521484375 seconds\n",
      "Execution time: 0.0002892017364501953 seconds\n",
      "Execution time: 0.00033783912658691406 seconds\n",
      "Execution time: 0.00038623809814453125 seconds\n",
      "Execution time: 0.0004086494445800781 seconds\n",
      "Execution time: 0.0004298686981201172 seconds\n",
      "Execution time: 0.00044226646423339844 seconds\n",
      "Execution time: 0.00047016143798828125 seconds\n",
      "Execution time: 0.0004801750183105469 seconds\n",
      "Execution time: 0.0004909038543701172 seconds\n",
      "3628800\n"
     ]
    }
   ],
   "execution_count": 1
  },
  {
   "cell_type": "markdown",
   "metadata": {},
   "source": [
    "### Assignment 7: Decorator with Arguments\n",
    "\n",
    "Write a decorator named `repeat` that takes an argument `n` and repeats the execution of the decorated function `n` times. Apply this decorator to a function that prints a message."
   ],
   "id": "840fa8e59e70413f"
  },
  {
   "cell_type": "code",
   "metadata": {
    "ExecuteTime": {
     "end_time": "2025-08-18T20:51:09.491893Z",
     "start_time": "2025-08-18T20:51:09.485812Z"
    }
   },
   "source": [
    "def repeat(n):\n",
    "    def decorator(func):\n",
    "        def wrapper(*args, **kwargs):\n",
    "            for _ in range(n):\n",
    "                func(*args, **kwargs)\n",
    "        return wrapper\n",
    "    return decorator\n",
    "\n",
    "@repeat(3)\n",
    "def print_message(message):\n",
    "    print(message)\n",
    "\n",
    "# Test\n",
    "print_message(\"Hello, World!\")"
   ],
   "id": "265d6d31b4c4eee9",
   "outputs": [
    {
     "name": "stdout",
     "output_type": "stream",
     "text": [
      "Hello, World!\n",
      "Hello, World!\n",
      "Hello, World!\n"
     ]
    }
   ],
   "execution_count": 3
  },
  {
   "cell_type": "markdown",
   "metadata": {},
   "source": [
    "### Assignment 8: Nested Decorators\n",
    "\n",
    "Write two decorators: `uppercase` that converts the result of a function to uppercase, and `exclaim` that adds an exclamation mark to the result of a function. Apply both decorators to a function that returns a greeting message."
   ],
   "id": "e866bd85ff3028a"
  },
  {
   "cell_type": "code",
   "execution_count": null,
   "metadata": {},
   "outputs": [],
   "source": [
    "def uppercase(func):\n",
    "    def wrapper(*args, **kwargs):\n",
    "        result = func(*args, **kwargs)\n",
    "        return result.upper()\n",
    "    return wrapper\n",
    "\n",
    "def exclaim(func):\n",
    "    def wrapper(*args, **kwargs):\n",
    "        result = func(*args, **kwargs)\n",
    "        return result + \"!\"\n",
    "    return wrapper\n",
    "\n",
    "@uppercase\n",
    "@exclaim\n",
    "def greet(name):\n",
    "    return f\"Hello, {name}\"\n",
    "\n",
    "# Test\n",
    "# print(greet(\"Alice\"))"
   ],
   "id": "3bf53e9e4a7d896d"
  },
  {
   "cell_type": "markdown",
   "metadata": {},
   "source": [
    "### Assignment 9: Class Decorator\n",
    "\n",
    "Create a class decorator named `singleton` that ensures a class has only one instance. Apply this decorator to a class named `DatabaseConnection` and test it."
   ],
   "id": "a19e676070c8d5fa"
  },
  {
   "cell_type": "code",
   "execution_count": null,
   "metadata": {},
   "outputs": [],
   "source": [
    "def singleton(cls):\n",
    "    instances = {}\n",
    "    def get_instance(*args, **kwargs):\n",
    "        if cls not in instances:\n",
    "            instances[cls] = cls(*args, **kwargs)\n",
    "        return instances[cls]\n",
    "    return get_instance\n",
    "\n",
    "@singleton\n",
    "class DatabaseConnection:\n",
    "    def __init__(self):\n",
    "        print(\"Database connection created\")\n",
    "\n",
    "# Test\n",
    "# db1 = DatabaseConnection()\n",
    "# db2 = DatabaseConnection()\n",
    "# print(db1 is db2)  # True"
   ],
   "id": "dd325806f686c065"
  },
  {
   "cell_type": "markdown",
   "metadata": {},
   "source": [
    "### Assignment 10: Iterator Protocol with Decorators\n",
    "\n",
    "Create a custom iterator class named `ReverseString` that iterates over a string in reverse. Write a decorator named `uppercase` that converts the string to uppercase before reversing it. Apply the decorator to the `ReverseString` class."
   ],
   "id": "529235bddc2ed4ad"
  },
  {
   "cell_type": "code",
   "execution_count": null,
   "metadata": {},
   "outputs": [],
   "source": [
    "def uppercase(cls):\n",
    "    class Wrapped(cls):\n",
    "        def __init__(self, *args, **kwargs):\n",
    "            super().__init__(*args, **kwargs)\n",
    "            self.data = self.data.upper()\n",
    "    return Wrapped\n",
    "\n",
    "@uppercase\n",
    "class ReverseString:\n",
    "    def __init__(self, data):\n",
    "        self.data = data\n",
    "        self.index = len(data)\n",
    "\n",
    "    def __iter__(self):\n",
    "        return self\n",
    "\n",
    "    def __next__(self):\n",
    "        if self.index == 0:\n",
    "            raise StopIteration\n",
    "        self.index -= 1\n",
    "        return self.data[self.index]\n",
    "\n",
    "# Test\n",
    "# for char in ReverseString(\"hello\"):\n",
    "#     print(char)"
   ],
   "id": "5e3c09549c74e860"
  },
  {
   "cell_type": "markdown",
   "metadata": {},
   "source": [
    "### Assignment 11: Stateful Generators\n",
    "\n",
    "Write a stateful generator function named `counter` that takes a start value and increments it by 1 each time it is called. Test the generator by iterating over it and printing the first 10 values."
   ],
   "id": "d5a08acbbdc8126e"
  },
  {
   "cell_type": "code",
   "execution_count": null,
   "metadata": {},
   "outputs": [],
   "source": [
    "def counter(start):\n",
    "    current = start\n",
    "    while True:\n",
    "        yield current\n",
    "        current += 1\n",
    "\n",
    "# Test\n",
    "# count = counter(0)\n",
    "# for _ in range(10):\n",
    "#     print(next(count))"
   ],
   "id": "c764fc18066f9b50"
  },
  {
   "cell_type": "markdown",
   "metadata": {},
   "source": [
    "### Assignment 12: Generator with Exception Handling\n",
    "\n",
    "Write a generator function named `safe_divide` that takes a list of numbers and yields the division of each number by a given divisor. Implement exception handling within the generator to handle division by zero."
   ],
   "id": "e5043291c49f9390"
  },
  {
   "cell_type": "code",
   "execution_count": null,
   "metadata": {},
   "outputs": [],
   "source": [
    "def safe_divide(numbers, divisor):\n",
    "    for number in numbers:\n",
    "        try:\n",
    "            yield number / divisor\n",
    "        except ZeroDivisionError:\n",
    "            yield \"Error: Division by zero\"\n",
    "\n",
    "# Test\n",
    "# numbers = [10, 20, 30, 40]\n",
    "# for result in safe_divide(numbers, 0):\n",
    "#     print(result)"
   ],
   "id": "c34f248a4a46cae"
  },
  {
   "cell_type": "markdown",
   "metadata": {},
   "source": [
    "### Assignment 13: Context Manager Decorator\n",
    "\n",
    "Write a decorator named `open_file` that manages the opening and closing of a file. Apply this decorator to a function that writes some text to a file."
   ],
   "id": "6dfe4f70b8ffba66"
  },
  {
   "cell_type": "code",
   "execution_count": null,
   "metadata": {},
   "outputs": [],
   "source": [
    "def open_file(file_name, mode):\n",
    "    def decorator(func):\n",
    "        def wrapper(*args, **kwargs):\n",
    "            with open(file_name, mode) as file:\n",
    "                return func(file, *args, **kwargs)\n",
    "        return wrapper\n",
    "    return decorator\n",
    "\n",
    "@open_file('sample.txt', 'w')\n",
    "def write_to_file(file, text):\n",
    "    file.write(text)\n",
    "\n",
    "# Test\n",
    "# write_to_file('Hello, World!')"
   ],
   "id": "48c64b6267b96453"
  },
  {
   "cell_type": "markdown",
   "metadata": {},
   "source": [
    "### Assignment 14: Infinite Iterator\n",
    "\n",
    "Create an infinite iterator class named `InfiniteCounter` that starts from a given number and increments by 1 indefinitely. Test the iterator by printing the first 10 values generated by it."
   ],
   "id": "23929bd4220df87"
  },
  {
   "cell_type": "code",
   "execution_count": null,
   "metadata": {},
   "outputs": [],
   "source": [
    "class InfiniteCounter:\n",
    "    def __init__(self, start):\n",
    "        self.current = start\n",
    "\n",
    "    def __iter__(self):\n",
    "        return self\n",
    "\n",
    "    def __next__(self):\n",
    "        self.current += 1\n",
    "        return self.current\n",
    "\n",
    "# Test\n",
    "# counter = InfiniteCounter(0)\n",
    "# for _ in range(10):\n",
    "#     print(next(counter))"
   ],
   "id": "1c290f48ac85341"
  },
  {
   "cell_type": "markdown",
   "metadata": {},
   "source": [
    "### Assignment 15: Generator Pipeline\n",
    "\n",
    "Write three generator functions: `integers` that yields integers from 1 to 10, `doubles` that yields each integer doubled, and `negatives` that yields the negative of each doubled value. Chain these generators to create a pipeline that produces the negative doubled values of integers from 1 to 10."
   ],
   "id": "c6d933b134ed0f63"
  },
  {
   "cell_type": "code",
   "execution_count": null,
   "metadata": {},
   "outputs": [],
   "source": [
    "def integers():\n",
    "    for i in range(1, 11):\n",
    "        yield i\n",
    "\n",
    "def doubles(numbers):\n",
    "    for number in numbers:\n",
    "        yield number * 2\n",
    "\n",
    "def negatives(numbers):\n",
    "    for number in numbers:\n",
    "        yield -number\n",
    "\n",
    "# Test\n",
    "# int_gen = integers()\n",
    "# double_gen = doubles(int_gen)\n",
    "# negative_gen = negatives(double_gen)\n",
    "# for value in negative_gen:\n",
    "#     print(value)"
   ],
   "id": "ecb7e47f7f2df1a3"
  }
 ],
 "metadata": {
  "kernelspec": {
   "display_name": "Python 3",
   "language": "python",
   "name": "python3"
  },
  "language_info": {
   "codemirror_mode": {
    "name": "ipython",
    "version": 3
   },
   "file_extension": ".py",
   "mimetype": "text/x-python",
   "name": "python",
   "nbconvert_exporter": "python",
   "pygments_lexer": "ipython3",
   "version": "3.9.7"
  }
 },
 "nbformat": 4,
 "nbformat_minor": 5
}
