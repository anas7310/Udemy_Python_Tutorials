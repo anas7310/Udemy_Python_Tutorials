{
 "cells": [
  {
   "metadata": {},
   "cell_type": "markdown",
   "source": [
    "### Decorators\n",
    "Decorators are a powerful and flexible feature in Python that allows you to modify the behaviour of the function or class methods.They are commonly used to add functionality to functions or methods without modifying their actual code. This lesson covers the basics of decorators, including how to create and use them"
   ],
   "id": "4e80e0bb22a2c3fc"
  },
  {
   "cell_type": "code",
   "id": "initial_id",
   "metadata": {
    "collapsed": true,
    "ExecuteTime": {
     "end_time": "2025-08-17T21:16:55.749982Z",
     "start_time": "2025-08-17T21:16:55.745238Z"
    }
   },
   "source": [
    "## Function copy\n",
    "## Closures\n",
    "## decorators"
   ],
   "outputs": [],
   "execution_count": 1
  },
  {
   "metadata": {
    "ExecuteTime": {
     "end_time": "2025-08-17T21:21:19.710422Z",
     "start_time": "2025-08-17T21:21:19.702095Z"
    }
   },
   "cell_type": "code",
   "source": [
    "## Function Copy\n",
    "def welcome():\n",
    "    return \"Welcome to the advanced Python course\"\n",
    "\n",
    "welcome()"
   ],
   "id": "f06b866fed33e43c",
   "outputs": [
    {
     "data": {
      "text/plain": [
       "'Welcome to the advanced Python course'"
      ]
     },
     "execution_count": 2,
     "metadata": {},
     "output_type": "execute_result"
    }
   ],
   "execution_count": 2
  },
  {
   "metadata": {
    "ExecuteTime": {
     "end_time": "2025-08-17T21:22:11.448Z",
     "start_time": "2025-08-17T21:22:11.443063Z"
    }
   },
   "cell_type": "code",
   "source": [
    "wel = welcome\n",
    "print(wel())\n",
    "del welcome\n",
    "print(wel())"
   ],
   "id": "e1d5de59f11c2d04",
   "outputs": [
    {
     "name": "stdout",
     "output_type": "stream",
     "text": [
      "Welcome to the advanced Python course\n",
      "Welcome to the advanced Python course\n"
     ]
    }
   ],
   "execution_count": 4
  },
  {
   "metadata": {
    "ExecuteTime": {
     "end_time": "2025-08-17T21:26:35.288116Z",
     "start_time": "2025-08-17T21:26:35.283019Z"
    }
   },
   "cell_type": "code",
   "source": [
    "##Closures\n",
    "def main_welcome(msg):\n",
    "    def sub_welcome_method():\n",
    "        print(\"Welcome to the advanced Python course\")\n",
    "        print(msg)\n",
    "        print(\"Please learn these concepts properly\")\n",
    "    return sub_welcome_method()"
   ],
   "id": "9e5f2f5591c60d47",
   "outputs": [],
   "execution_count": 10
  },
  {
   "metadata": {
    "ExecuteTime": {
     "end_time": "2025-08-17T21:26:38.582333Z",
     "start_time": "2025-08-17T21:26:38.576811Z"
    }
   },
   "cell_type": "code",
   "source": "main_welcome(\"Welcome Everyone!\")",
   "id": "6cbcffd5240fd7ff",
   "outputs": [
    {
     "name": "stdout",
     "output_type": "stream",
     "text": [
      "Welcome to the advanced Python course\n",
      "Welcome Everyone!\n",
      "Please learn these concepts properly\n"
     ]
    }
   ],
   "execution_count": 11
  },
  {
   "metadata": {
    "ExecuteTime": {
     "end_time": "2025-08-17T21:43:16.271171Z",
     "start_time": "2025-08-17T21:43:16.265314Z"
    }
   },
   "cell_type": "code",
   "source": [
    "def main_welcome(func,lst):\n",
    "    def sub_welcome_method():\n",
    "        print(\"Welcome to the advanced Python course\")\n",
    "        print(func(lst))\n",
    "        print(\"Please learn these concepts properly\")\n",
    "    return sub_welcome_method()"
   ],
   "id": "e80e8bbf81e364fa",
   "outputs": [],
   "execution_count": 14
  },
  {
   "metadata": {
    "ExecuteTime": {
     "end_time": "2025-08-17T21:43:18.422237Z",
     "start_time": "2025-08-17T21:43:18.414477Z"
    }
   },
   "cell_type": "code",
   "source": "main_welcome(len,[1,2,3,4,5,6,7,8,9,10,11,12])",
   "id": "9be5cfa32cc6c269",
   "outputs": [
    {
     "name": "stdout",
     "output_type": "stream",
     "text": [
      "Welcome to the advanced Python course\n",
      "12\n",
      "Please learn these concepts properly\n"
     ]
    }
   ],
   "execution_count": 15
  },
  {
   "metadata": {
    "ExecuteTime": {
     "end_time": "2025-08-17T21:46:59.900088Z",
     "start_time": "2025-08-17T21:46:59.895147Z"
    }
   },
   "cell_type": "code",
   "source": [
    "#Decorator\n",
    "def main_welcome(func):\n",
    "    def sub_welcome_method():\n",
    "        print(\"Welcome to the advanced Python course\")\n",
    "        func()\n",
    "        print(\"Please learn these concepts properly\")\n",
    "    return sub_welcome_method()"
   ],
   "id": "3e467ad1134e565e",
   "outputs": [],
   "execution_count": 20
  },
  {
   "metadata": {
    "ExecuteTime": {
     "end_time": "2025-08-17T21:47:03.347210Z",
     "start_time": "2025-08-17T21:47:03.307314Z"
    }
   },
   "cell_type": "code",
   "source": [
    "def core_introduction():\n",
    "    print(\"This is an advanced Python course\")\n",
    "\n",
    "core_introduction()"
   ],
   "id": "eea34d686e3c7277",
   "outputs": [
    {
     "name": "stdout",
     "output_type": "stream",
     "text": [
      "This is an advanced Python course\n"
     ]
    }
   ],
   "execution_count": 21
  },
  {
   "metadata": {
    "ExecuteTime": {
     "end_time": "2025-08-17T21:47:05.466196Z",
     "start_time": "2025-08-17T21:47:05.461513Z"
    }
   },
   "cell_type": "code",
   "source": "main_welcome(core_introduction)",
   "id": "1457445b1728bac2",
   "outputs": [
    {
     "name": "stdout",
     "output_type": "stream",
     "text": [
      "Welcome to the advanced Python course\n",
      "This is an advanced Python course\n",
      "Please learn these concepts properly\n"
     ]
    }
   ],
   "execution_count": 22
  },
  {
   "metadata": {
    "ExecuteTime": {
     "end_time": "2025-08-17T21:51:07.908749Z",
     "start_time": "2025-08-17T21:51:07.902831Z"
    }
   },
   "cell_type": "code",
   "source": [
    "@main_welcome\n",
    "def core_introduction():\n",
    "    print(\"This is an advanced Python course\")"
   ],
   "id": "3de724717cccff2f",
   "outputs": [
    {
     "name": "stdout",
     "output_type": "stream",
     "text": [
      "Welcome to the advanced Python course\n",
      "This is an advanced Python course\n",
      "Please learn these concepts properly\n"
     ]
    }
   ],
   "execution_count": 23
  },
  {
   "metadata": {
    "ExecuteTime": {
     "end_time": "2025-08-18T20:15:25.654647Z",
     "start_time": "2025-08-18T20:15:25.597854Z"
    }
   },
   "cell_type": "code",
   "source": [
    "#Decorator\n",
    "def my_decorator(func):\n",
    "    def wrapper():\n",
    "        print(\"Something is happening before the function is called\")\n",
    "        func()\n",
    "        print(\"Something is happening after the function is called\")\n",
    "    return wrapper"
   ],
   "id": "5c2a0a59eef169c0",
   "outputs": [],
   "execution_count": 24
  },
  {
   "metadata": {
    "ExecuteTime": {
     "end_time": "2025-08-18T20:15:53.783325Z",
     "start_time": "2025-08-18T20:15:53.771786Z"
    }
   },
   "cell_type": "code",
   "source": [
    "@my_decorator\n",
    "def say_hello():\n",
    "    print(\"Hello!\")"
   ],
   "id": "5322924f327294ff",
   "outputs": [],
   "execution_count": 25
  },
  {
   "metadata": {
    "ExecuteTime": {
     "end_time": "2025-08-18T20:16:13.977632Z",
     "start_time": "2025-08-18T20:16:13.792239Z"
    }
   },
   "cell_type": "code",
   "source": "say_hello()",
   "id": "5ae977bb5b3c9ecc",
   "outputs": [
    {
     "name": "stdout",
     "output_type": "stream",
     "text": [
      "Something is happening before the function is called\n",
      "Hello!\n",
      "Something is happening after the function is called\n"
     ]
    }
   ],
   "execution_count": 26
  },
  {
   "metadata": {
    "ExecuteTime": {
     "end_time": "2025-08-18T20:29:38.838821Z",
     "start_time": "2025-08-18T20:29:38.784212Z"
    }
   },
   "cell_type": "code",
   "source": [
    "##Decorators with arguments\n",
    "def repeat(n):\n",
    "    def decorator(func):\n",
    "        def wrapper(*args, **kwargs):\n",
    "            for _ in range(n):\n",
    "                func(*args, **kwargs)\n",
    "\n",
    "        return wrapper\n",
    "    return decorator\n"
   ],
   "id": "df0afae6a1d02aac",
   "outputs": [],
   "execution_count": 27
  },
  {
   "metadata": {
    "ExecuteTime": {
     "end_time": "2025-08-18T20:30:07.354731Z",
     "start_time": "2025-08-18T20:30:07.346377Z"
    }
   },
   "cell_type": "code",
   "source": [
    "@repeat(3)\n",
    "def say_hello():\n",
    "    print(\"Hello!\")\n"
   ],
   "id": "eb0257876e71f1ab",
   "outputs": [],
   "execution_count": 28
  },
  {
   "metadata": {
    "ExecuteTime": {
     "end_time": "2025-08-18T20:30:13.917765Z",
     "start_time": "2025-08-18T20:30:13.910508Z"
    }
   },
   "cell_type": "code",
   "source": "say_hello()",
   "id": "5bc4ea8024979e5d",
   "outputs": [
    {
     "name": "stdout",
     "output_type": "stream",
     "text": [
      "Hello!\n",
      "Hello!\n",
      "Hello!\n"
     ]
    }
   ],
   "execution_count": 29
  }
 ],
 "metadata": {
  "kernelspec": {
   "display_name": "Python 3",
   "language": "python",
   "name": "python3"
  },
  "language_info": {
   "codemirror_mode": {
    "name": "ipython",
    "version": 2
   },
   "file_extension": ".py",
   "mimetype": "text/x-python",
   "name": "python",
   "nbconvert_exporter": "python",
   "pygments_lexer": "ipython2",
   "version": "2.7.6"
  }
 },
 "nbformat": 4,
 "nbformat_minor": 5
}
