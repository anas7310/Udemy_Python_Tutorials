{
 "cells": [
  {
   "metadata": {},
   "cell_type": "markdown",
   "source": [
    "### Generators\n",
    "Generators are a simple way to create iterators. They use the yield keyword to produce a series of values lazily, which means they generate values on the fly and do not store them in memory."
   ],
   "id": "cf497cdd1849c389"
  },
  {
   "cell_type": "code",
   "id": "initial_id",
   "metadata": {
    "collapsed": true,
    "ExecuteTime": {
     "end_time": "2025-08-17T20:56:17.092439Z",
     "start_time": "2025-08-17T20:56:17.088235Z"
    }
   },
   "source": [
    "def square(n):\n",
    "    for i in range(3):\n",
    "        yield i**2"
   ],
   "outputs": [],
   "execution_count": 11
  },
  {
   "metadata": {
    "ExecuteTime": {
     "end_time": "2025-08-17T20:54:16.024512Z",
     "start_time": "2025-08-17T20:54:16.011555Z"
    }
   },
   "cell_type": "code",
   "source": "square(3)",
   "id": "467f19cceaf38eea",
   "outputs": [
    {
     "data": {
      "text/plain": [
       "<generator object square at 0x00000191DFE92E90>"
      ]
     },
     "execution_count": 2,
     "metadata": {},
     "output_type": "execute_result"
    }
   ],
   "execution_count": 2
  },
  {
   "metadata": {
    "ExecuteTime": {
     "end_time": "2025-08-17T20:55:06.525958Z",
     "start_time": "2025-08-17T20:55:06.519289Z"
    }
   },
   "cell_type": "code",
   "source": [
    "for i in square(3):\n",
    "    print(i)"
   ],
   "id": "9fce313594a4267d",
   "outputs": [
    {
     "name": "stdout",
     "output_type": "stream",
     "text": [
      "0\n",
      "1\n",
      "4\n"
     ]
    }
   ],
   "execution_count": 3
  },
  {
   "metadata": {
    "ExecuteTime": {
     "end_time": "2025-08-17T20:56:15.125836Z",
     "start_time": "2025-08-17T20:56:15.119682Z"
    }
   },
   "cell_type": "code",
   "source": "a=square(3)",
   "id": "a820b0352ba70b93",
   "outputs": [],
   "execution_count": 10
  },
  {
   "metadata": {
    "ExecuteTime": {
     "end_time": "2025-08-17T20:56:20.033226Z",
     "start_time": "2025-08-17T20:56:20.027068Z"
    }
   },
   "cell_type": "code",
   "source": "next(a)",
   "id": "c598b9ae1e733087",
   "outputs": [
    {
     "data": {
      "text/plain": [
       "0"
      ]
     },
     "execution_count": 12,
     "metadata": {},
     "output_type": "execute_result"
    }
   ],
   "execution_count": 12
  },
  {
   "metadata": {
    "ExecuteTime": {
     "end_time": "2025-08-17T20:56:53.786495Z",
     "start_time": "2025-08-17T20:56:53.780478Z"
    }
   },
   "cell_type": "code",
   "source": [
    "def my_generator():\n",
    "    yield 1\n",
    "    yield 2\n",
    "    yield 3"
   ],
   "id": "bd066490a4d5a911",
   "outputs": [],
   "execution_count": 13
  },
  {
   "metadata": {
    "ExecuteTime": {
     "end_time": "2025-08-17T20:57:50.402186Z",
     "start_time": "2025-08-17T20:57:50.398225Z"
    }
   },
   "cell_type": "code",
   "source": "gen = my_generator()",
   "id": "22febd871d929966",
   "outputs": [],
   "execution_count": 18
  },
  {
   "metadata": {
    "ExecuteTime": {
     "end_time": "2025-08-17T20:57:21.405441Z",
     "start_time": "2025-08-17T20:57:21.399578Z"
    }
   },
   "cell_type": "code",
   "source": "next(gen)",
   "id": "2842fe7af0bda2ac",
   "outputs": [
    {
     "data": {
      "text/plain": [
       "2"
      ]
     },
     "execution_count": 16,
     "metadata": {},
     "output_type": "execute_result"
    }
   ],
   "execution_count": 16
  },
  {
   "metadata": {
    "ExecuteTime": {
     "end_time": "2025-08-17T20:57:52.539604Z",
     "start_time": "2025-08-17T20:57:52.535098Z"
    }
   },
   "cell_type": "code",
   "source": [
    "for val in gen:\n",
    "    print(val)"
   ],
   "id": "1088484497a91f50",
   "outputs": [
    {
     "name": "stdout",
     "output_type": "stream",
     "text": [
      "1\n",
      "2\n",
      "3\n"
     ]
    }
   ],
   "execution_count": 19
  },
  {
   "metadata": {},
   "cell_type": "markdown",
   "source": [
    "### Practical Example : Reading large files\n",
    "Generators are particularly useful for reading large files because they allow you to process one line at a time without loading the entire file into memory."
   ],
   "id": "6bd84b0b832d6427"
  },
  {
   "metadata": {
    "ExecuteTime": {
     "end_time": "2025-08-17T21:02:35.940347Z",
     "start_time": "2025-08-17T21:02:35.928822Z"
    }
   },
   "cell_type": "code",
   "source": [
    "#Practical: Reading large files\n",
    "def read_large_file(file_path):\n",
    "    with open(file_path,'r') as f:\n",
    "        for line in f:\n",
    "            yield line"
   ],
   "id": "2c5491e38adb6c2e",
   "outputs": [],
   "execution_count": 20
  },
  {
   "metadata": {
    "ExecuteTime": {
     "end_time": "2025-08-17T21:11:24.820602Z",
     "start_time": "2025-08-17T21:11:24.815142Z"
    }
   },
   "cell_type": "code",
   "source": [
    "file_path = 'large_file.txt'\n",
    "for line in read_large_file(file_path):\n",
    "    print(line.strip())"
   ],
   "id": "a816365bd6d55848",
   "outputs": [
    {
     "name": "stdout",
     "output_type": "stream",
     "text": [
      "A paragraph is a series of sentences that are organized and coherent, and are all related to a single topic. Almost every piece of writing you do that is longer than a few sentences should be organized into paragraphs. This is because paragraphs show a reader where the subdivisions of an essay begin and end, and thus help the reader see the organization of the essay and grasp its main points.\n",
      "Paragraphs can contain many different kinds of information. A paragraph could contain a series of brief examples or a single long illustration of a general point. It might describe a place, character, or process; narrate a series of events; compare or contrast two or more things; classify items into categories; or describe causes and effects. Regardless of the kind of information they contain, all paragraphs share certain characteristics. One of the most important of these is a topic sentence.\n",
      "TOPIC SENTENCES\n",
      "A well-organized paragraph supports or develops a single controlling idea, which is expressed in a sentence called the topic sentence. A topic sentence has several important functions: it substantiates or supports an essayâ€™s thesis statement; it unifies the content of a paragraph and directs the order of the sentences; and it advises the reader of the subject to be discussed and how the paragraph will discuss it. Readers generally look to the first few sentences in a paragraph to determine the subject and perspective of the paragraph. Thatâ€™s why itâ€™s often best to put the topic sentence at the very beginning of the paragraph. In some cases, however, itâ€™s more effective to place another sentence before the topic sentenceâ€”for example, a sentence linking the current paragraph to the previous one, or one providing background information.\n",
      "Although most paragraphs should have a topic sentence, there are a few situations when a paragraph might not need a topic sentence. For example, you might be able to omit a topic sentence in a paragraph that narrates a series of events, if a paragraph continues developing an idea that you introduced (with a topic sentence) in the previous paragraph, or if all the sentences and details in a paragraph clearly referâ€”perhaps indirectlyâ€”to a main point. The vast majority of your paragraphs, however, should have a topic sentence.\n",
      "PARAGRAPH STRUCTURE\n",
      "Most paragraphs in an essay have a three-part structureâ€”introduction, body, and conclusion. You can see this structure in paragraphs whether they are narrating, describing, comparing, contrasting, or analyzing information. Each part of the paragraph plays an important role in communicating your meaning to your reader.\n",
      "Introduction: the first section of a paragraph; should include the topic sentence and any other sentences at the beginning of the paragraph that give background information or provide a transition.\n",
      "Body: follows the introduction; discusses the controlling idea, using facts, arguments, analysis, examples, and other information.\n",
      "Conclusion: the final section; summarizes the connections between the information discussed in the body of the paragraph and the paragraphâ€™s controlling idea.\n"
     ]
    }
   ],
   "execution_count": 24
  }
 ],
 "metadata": {
  "kernelspec": {
   "display_name": "Python 3",
   "language": "python",
   "name": "python3"
  },
  "language_info": {
   "codemirror_mode": {
    "name": "ipython",
    "version": 2
   },
   "file_extension": ".py",
   "mimetype": "text/x-python",
   "name": "python",
   "nbconvert_exporter": "python",
   "pygments_lexer": "ipython2",
   "version": "2.7.6"
  }
 },
 "nbformat": 4,
 "nbformat_minor": 5
}
