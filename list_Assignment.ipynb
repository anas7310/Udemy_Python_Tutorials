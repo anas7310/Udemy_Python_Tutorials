{
 "cells": [
  {
   "cell_type": "markdown",
   "metadata": {},
   "source": [
    "# Module 3: Data Structures Assignments\n",
    "## Lesson 3.1: Lists\n",
    "### Assignment 1: Creating and Accessing Lists\n",
    "\n",
    "Create a list of the first 20 positive integers. Print the list.\n",
    "\n",
    "### Assignment 2: Accessing List Elements\n",
    "\n",
    "Print the first, middle, and last elements of the list created in Assignment 1.\n",
    "\n",
    "### Assignment 3: List Slicing\n",
    "\n",
    "Print the first five elements, the last five elements, and the elements from index 5 to 15 of the list created in Assignment 1.\n",
    "\n",
    "### Assignment 4: List Comprehensions\n",
    "\n",
    "Create a new list containing the squares of the first 10 positive integers using a list comprehension. Print the new list.\n",
    "\n",
    "### Assignment 5: Filtering Lists\n",
    "\n",
    "Create a new list containing only the even numbers from the list created in Assignment 1 using a list comprehension. Print the new list.\n",
    "\n",
    "### Assignment 6: List Methods\n",
    "\n",
    "Create a list of random numbers and sort it in ascending and descending order. Remove the duplicates from the list and print the modified list.\n",
    "\n",
    "### Assignment 7: Nested Lists\n",
    "\n",
    "Create a nested list representing a 3x3 matrix and print the matrix. Access and print the element at the second row and third column.\n",
    "\n",
    "### Assignment 8: List of Dictionaries\n",
    "\n",
    "Create a list of dictionaries where each dictionary represents a student with keys 'name' and 'score'. Sort the list of dictionaries by the 'score' in descending order and print the sorted list.\n",
    "\n",
    "### Assignment 9: Matrix Transposition\n",
    "\n",
    "Write a function that takes a 3x3 matrix (nested list) as input and returns its transpose. Print the original and transposed matrices.\n",
    "\n",
    "### Assignment 10: Flattening a Nested List\n",
    "\n",
    "Write a function that takes a nested list and flattens it into a single list. Print the original and flattened lists.\n",
    "\n",
    "### Assignment 11: List Manipulation\n",
    "\n",
    "Create a list of the first 10 positive integers. Remove the elements at indices 2, 4, and 6, and insert the element '99' at index 5. Print the modified list.\n",
    "\n",
    "### Assignment 12: List Zipping\n",
    "\n",
    "Create two lists of the same length. Use the `zip` function to combine these lists into a list of tuples and print the result.\n",
    "\n",
    "### Assignment 13: List Reversal\n",
    "\n",
    "Write a function that takes a list and returns a new list with the elements in reverse order. Print the original and reversed lists.\n",
    "\n",
    "### Assignment 14: List Rotation\n",
    "\n",
    "Write a function that rotates a list by n positions. Print the original and rotated lists.\n",
    "\n",
    "### Assignment 15: List Intersection\n",
    "\n",
    "Write a function that takes two lists and returns a new list containing only the elements that are present in both lists. Print the intersected list."
   ],
   "id": "accaae8792f3d461"
  },
  {
   "metadata": {},
   "cell_type": "code",
   "source": [
    "from importlib.resources.readers import remove_duplicates\n",
    "\n",
    "from pygments.lexer import combined\n",
    "\n",
    "#Solution 1\n",
    "lst=[]\n",
    "for i in range(1,21):\n",
    "    lst.append(i)\n",
    "print(lst)"
   ],
   "id": "88fbda3cb0991daf",
   "outputs": [],
   "execution_count": null
  },
  {
   "metadata": {},
   "cell_type": "code",
   "source": [
    "#Solution2\n",
    "mid_index=len(lst)//2\n",
    "print(f'First element: {lst[0]}')\n",
    "print(f'Middle Element: {lst[mid_index]}')\n",
    "print(f'Last element: {lst[-1]}')"
   ],
   "id": "9260e77644f22fa9",
   "outputs": [],
   "execution_count": null
  },
  {
   "metadata": {},
   "cell_type": "code",
   "source": [
    "#Solution 3\n",
    "print(f'First five elements:{lst[:5]}')\n",
    "print(f'Last five elements: {lst[-5:]}')\n",
    "print(f'Elements from index 5 to 15 {lst[5:16]}')"
   ],
   "id": "5b2ba42abe62493",
   "outputs": [],
   "execution_count": null
  },
  {
   "metadata": {},
   "cell_type": "code",
   "source": [
    "#Solution 4\n",
    "squared_list=[x**2 for x in range(1,11)]\n",
    "print(squared_list)\n"
   ],
   "id": "6a044085990e01b3",
   "outputs": [],
   "execution_count": null
  },
  {
   "metadata": {},
   "cell_type": "code",
   "source": [
    "#Solution 5\n",
    "newList = [x for x in lst if x%2==0]\n",
    "print(newList)"
   ],
   "id": "ad908ba227a55bd1",
   "outputs": [],
   "execution_count": null
  },
  {
   "metadata": {},
   "cell_type": "code",
   "source": [
    "#Solution 6\n",
    "import random\n",
    "\n",
    "random_numbers = [random.randint(1,20) for _ in range(15)]\n",
    "print(random_numbers)"
   ],
   "id": "1415675e02b009ce",
   "outputs": [],
   "execution_count": null
  },
  {
   "metadata": {},
   "cell_type": "code",
   "source": [
    "#continue solution 6\n",
    "random_numbers.sort()\n",
    "print(f'Sorted random numbers in ascending order:{random_numbers}')\n",
    "\n",
    "random_numbers.sort(reverse=True)\n",
    "print(f'Sorted random numbers in descending order:{random_numbers}')\n",
    "\n",
    "remove_duplicates = set(random_numbers)\n",
    "\n",
    "modified_list = list(remove_duplicates)\n",
    "print(f'Modified List: {modified_list}')"
   ],
   "id": "7787db18f9035f0c",
   "outputs": [],
   "execution_count": null
  },
  {
   "metadata": {},
   "cell_type": "code",
   "source": [
    "#Solution 7\n",
    "matrix = [[1,2,3],[4,5,6],[7,8,9]]\n",
    "print(matrix)\n",
    "for row in matrix:\n",
    "    print(row)\n",
    "print(f'Element at the second row and third column: {matrix[1][2]}')"
   ],
   "id": "d46e7b3e7ffca5d1",
   "outputs": [],
   "execution_count": null
  },
  {
   "metadata": {},
   "cell_type": "code",
   "source": [
    "#Solution 8\n",
    "score_list=[{'name':'Anas', 'score':95},{'name':'Mike', 'score':34},{'name':'John', 'score':87},{'name':'Bindu', 'score':25},{'name':'Piyush', 'score':55},{'name':'Zaid', 'score':68}]\n",
    "\n",
    "print(score_list)\n",
    "sorted_students = sorted(score_list, key=lambda x:x['score'], reverse=True)\n",
    "print(\"Sorted students by score in descending order:\")\n",
    "for student in sorted_students:\n",
    "    print(student)"
   ],
   "id": "e540ed56dd85f77e",
   "outputs": [],
   "execution_count": null
  },
  {
   "metadata": {},
   "cell_type": "code",
   "source": [
    "#Solution 9\n",
    "def transpose_matrix(matrix):\n",
    "    transposed = [[matrix[j][i] for j in range(len(matrix))] for i in range(len(matrix[0]))]\n",
    "    return transposed\n",
    "\n",
    "matrix = [\n",
    "    [1,2,3],\n",
    "    [4,5,6],\n",
    "    [7,8,9]\n",
    "]\n",
    "\n",
    "transposed = transpose_matrix(matrix)\n",
    "print('Original matrix:')\n",
    "for row in matrix:\n",
    "    print(row)\n",
    "print('Transposed matrix:')\n",
    "for row in transposed:\n",
    "    print(row)"
   ],
   "id": "356e8fe7e863f752",
   "outputs": [],
   "execution_count": null
  },
  {
   "metadata": {
    "ExecuteTime": {
     "end_time": "2025-07-20T19:31:32.905116Z",
     "start_time": "2025-07-20T19:31:32.838535Z"
    }
   },
   "cell_type": "code",
   "source": [
    "#Solution 10\n",
    "def flatten_list(lst):\n",
    "    flattened = [item for sublist in lst for item in sublist]\n",
    "    return flattened\n",
    "nested_list = [\n",
    "    [1,2,3],\n",
    "    [4,5,6],\n",
    "    [7,8,9]\n",
    "]\n",
    "\n",
    "flatten = flatten_list(nested_list)\n",
    "\n",
    "print('Nested List:')\n",
    "for row in nested_list:\n",
    "    print(row)\n",
    "\n",
    "print('Flattened list:')\n",
    "print(flatten)"
   ],
   "id": "905e24ed36c8fc20",
   "outputs": [
    {
     "name": "stdout",
     "output_type": "stream",
     "text": [
      "Nested List:\n",
      "[1, 2, 3]\n",
      "[4, 5, 6]\n",
      "[7, 8, 9]\n",
      "Flattened list:\n",
      "[1, 2, 3, 4, 5, 6, 7, 8, 9]\n"
     ]
    }
   ],
   "execution_count": 48
  },
  {
   "metadata": {
    "ExecuteTime": {
     "end_time": "2025-07-20T19:34:48.628061Z",
     "start_time": "2025-07-20T19:34:48.618503Z"
    }
   },
   "cell_type": "code",
   "source": [
    "#Solution 11\n",
    "lst = [x for x in range(1,11)]\n",
    "print(f'Original List: {lst}')\n",
    "del lst[6]\n",
    "del lst[4]\n",
    "del lst[2]\n",
    "\n",
    "lst.insert(5,99)\n",
    "print(f'modified list: {lst}')"
   ],
   "id": "fc2817cdb6b3136f",
   "outputs": [
    {
     "name": "stdout",
     "output_type": "stream",
     "text": [
      "Original List: [1, 2, 3, 4, 5, 6, 7, 8, 9, 10]\n",
      "modified list: [1, 2, 4, 6, 8, 99, 9, 10]\n"
     ]
    }
   ],
   "execution_count": 52
  },
  {
   "metadata": {
    "ExecuteTime": {
     "end_time": "2025-07-20T19:44:00.628022Z",
     "start_time": "2025-07-20T19:44:00.612124Z"
    }
   },
   "cell_type": "code",
   "source": [
    "# Solution 12\n",
    "lst1 = [1,2,3,4,5,6,7,8,9,10]\n",
    "lst2 = ['a','b','c','d','e','f','g','h']\n",
    "\n",
    "combined_lst = list(zip(lst1, lst2))\n",
    "print(combined_lst)"
   ],
   "id": "c4413497fb7adf14",
   "outputs": [
    {
     "name": "stdout",
     "output_type": "stream",
     "text": [
      "[(1, 'a'), (2, 'b'), (3, 'c'), (4, 'd'), (5, 'e'), (6, 'f'), (7, 'g'), (8, 'h')]\n"
     ]
    }
   ],
   "execution_count": 57
  },
  {
   "metadata": {
    "ExecuteTime": {
     "end_time": "2025-07-20T19:56:21.190397Z",
     "start_time": "2025-07-20T19:56:20.942456Z"
    }
   },
   "cell_type": "code",
   "source": [
    "#Solution 13\n",
    "def reverse_list(lst):\n",
    "    return list(lst[::-1])\n",
    "\n",
    "originalList = [1,2,3,4,5,6,7,8,9]\n",
    "reverse = reverse_list(originalList)\n",
    "print(f'originalList: {originalList}')\n",
    "print(f'Reversed List: {reverse}')"
   ],
   "id": "578672037a1b2664",
   "outputs": [
    {
     "name": "stdout",
     "output_type": "stream",
     "text": [
      "originalList: [1, 2, 3, 4, 5, 6, 7, 8, 9]\n",
      "Reversed List: [9, 8, 7, 6, 5, 4, 3, 2, 1]\n"
     ]
    }
   ],
   "execution_count": 58
  },
  {
   "cell_type": "code",
   "metadata": {},
   "source": [
    "#Solution 14\n",
    "x=['apple','mango','banana']\n",
    "y=['kiwi','mango','apple']\n",
    "newList=[i for i in x for j in y if i==j]\n",
    "print(newList)"
   ],
   "id": "960458541e594812",
   "outputs": [],
   "execution_count": null
  },
  {
   "metadata": {},
   "cell_type": "code",
   "source": [
    "# Solution 15\n",
    "n=[1,2,3,4,5,6,7,8,9,10,11,12,13,14,15]\n",
    "def rotate_list(lst,position):\n",
    "    return lst[position:]+lst[:position]\n",
    "newList=rotate_list(n,6)\n",
    "print(newList)"
   ],
   "id": "d6258db986af1717",
   "outputs": [],
   "execution_count": null
  }
 ],
 "metadata": {
  "kernelspec": {
   "display_name": "Python 3",
   "language": "python",
   "name": "python3"
  },
  "language_info": {
   "codemirror_mode": {
    "name": "ipython",
    "version": 3
   },
   "file_extension": ".py",
   "mimetype": "text/x-python",
   "name": "python",
   "nbconvert_exporter": "python",
   "pygments_lexer": "ipython3",
   "version": "3.9.7"
  }
 },
 "nbformat": 4,
 "nbformat_minor": 5
}
