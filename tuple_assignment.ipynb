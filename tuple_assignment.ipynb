{
 "cells": [
  {
   "cell_type": "markdown",
   "id": "6cade624",
   "metadata": {},
   "source": [
    "# Module 3: Data Structures Assignments\n",
    "## Lesson 3.2: Tuples\n",
    "### Assignment 1: Creating and Accessing Tuples\n",
    "\n",
    "Create a tuple with the first 10 positive integers. Print the tuple.\n",
    "\n",
    "### Assignment 2: Accessing Tuple Elements\n",
    "\n",
    "Print the first, middle, and last elements of the tuple created in Assignment 1.\n",
    "\n",
    "### Assignment 3: Tuple Slicing\n",
    "\n",
    "Print the first three elements, the last three elements, and the elements from index 2 to 5 of the tuple created in Assignment 1.\n",
    "\n",
    "### Assignment 4: Nested Tuples\n",
    "\n",
    "Create a nested tuple representing a 3x3 matrix and print the matrix. Access and print the element at the second row and third column.\n",
    "\n",
    "### Assignment 5: Tuple Concatenation\n",
    "\n",
    "Concatenate two tuples: (1, 2, 3) and (4, 5, 6). Print the resulting tuple.\n",
    "\n",
    "### Assignment 6: Tuple Methods\n",
    "\n",
    "Create a tuple with duplicate elements and count the occurrences of an element. Find the index of the first occurrence of an element in the tuple.\n",
    "\n",
    "### Assignment 7: Unpacking Tuples\n",
    "\n",
    "Create a tuple with 5 elements and unpack it into 5 variables. Print the variables.\n",
    "\n",
    "### Assignment 8: Tuple Conversion\n",
    "\n",
    "Convert a list of the first 5 positive integers to a tuple. Print the tuple.\n",
    "\n",
    "### Assignment 9: Tuple of Tuples\n",
    "\n",
    "Create a tuple containing 3 tuples, each with 3 elements. Print the tuple of tuples.\n",
    "\n",
    "### Assignment 10: Tuple and List\n",
    "\n",
    "Create a tuple with the first 5 positive integers. Convert it to a list, append the number 6, and convert it back to a tuple. Print the resulting tuple.\n",
    "\n",
    "### Assignment 11: Tuple and String\n",
    "\n",
    "Create a tuple with the characters of a string. Join the tuple elements into a single string. Print the string.\n",
    "\n",
    "### Assignment 12: Tuple and Dictionary\n",
    "\n",
    "Create a dictionary with tuple keys and integer values. Print the dictionary.\n",
    "\n",
    "### Assignment 13: Nested Tuple Iteration\n",
    "\n",
    "Create a nested tuple and iterate over the elements, printing each element.\n",
    "\n",
    "### Assignment 14: Tuple and Set\n",
    "\n",
    "Create a tuple with duplicate elements. Convert it to a set to remove duplicates and print the resulting set.\n",
    "\n",
    "### Assignment 15: Tuple Functions\n",
    "\n",
    "Write functions that take a tuple and return the minimum, maximum, and sum of the elements. Print the results for a sample tuple."
   ]
  },
  {
   "cell_type": "code",
   "metadata": {
    "ExecuteTime": {
     "end_time": "2025-07-20T21:06:39.913449Z",
     "start_time": "2025-07-20T21:06:39.906735Z"
    }
   },
   "source": [
    "#Solution 1\n",
    "tpl = tuple(range(1,11))\n",
    "# for i in range(1,11):\n",
    "#     tpl += (i,)\n",
    "#\n",
    "print(tpl)"
   ],
   "id": "1847a8e7b591461c",
   "outputs": [
    {
     "name": "stdout",
     "output_type": "stream",
     "text": [
      "(1, 2, 3, 4, 5, 6, 7, 8, 9, 10)\n"
     ]
    }
   ],
   "execution_count": 3
  },
  {
   "metadata": {
    "ExecuteTime": {
     "end_time": "2025-07-20T21:07:40.537615Z",
     "start_time": "2025-07-20T21:07:40.530440Z"
    }
   },
   "cell_type": "code",
   "source": [
    "#Solution 2\n",
    "print(f'First element: {tpl[0]}')\n",
    "print(f'Middle element: {tpl[len(tpl)//2]}')\n",
    "print(f'Last element: {tpl[-1]}')\n"
   ],
   "id": "76172ffc92fdebd3",
   "outputs": [
    {
     "name": "stdout",
     "output_type": "stream",
     "text": [
      "First element: 1\n",
      "Middle element: 6\n",
      "Last element: 10\n"
     ]
    }
   ],
   "execution_count": 5
  },
  {
   "metadata": {
    "ExecuteTime": {
     "end_time": "2025-07-20T21:08:44.281736Z",
     "start_time": "2025-07-20T21:08:44.276360Z"
    }
   },
   "cell_type": "code",
   "source": [
    "#Solution 3\n",
    "print(tpl[:3])\n",
    "print(tpl[-3:])\n",
    "print(tpl[2:6])"
   ],
   "id": "ea1416690bf1f5b0",
   "outputs": [
    {
     "name": "stdout",
     "output_type": "stream",
     "text": [
      "(1, 2, 3)\n",
      "(8, 9, 10)\n",
      "(3, 4, 5, 6)\n"
     ]
    }
   ],
   "execution_count": 6
  },
  {
   "metadata": {
    "ExecuteTime": {
     "end_time": "2025-07-20T21:10:26.884881Z",
     "start_time": "2025-07-20T21:10:26.878839Z"
    }
   },
   "cell_type": "code",
   "source": [
    "#Solution 4\n",
    "tpl_matrix = ((1,2,3),(4,5,6),(7,8,9))\n",
    "for row in tpl_matrix:\n",
    "    print(row)\n",
    "print(tpl_matrix[1][2])"
   ],
   "id": "86d347a820ad47cd",
   "outputs": [
    {
     "name": "stdout",
     "output_type": "stream",
     "text": [
      "(1, 2, 3)\n",
      "(4, 5, 6)\n",
      "(7, 8, 9)\n",
      "6\n"
     ]
    }
   ],
   "execution_count": 8
  },
  {
   "metadata": {
    "ExecuteTime": {
     "end_time": "2025-07-20T21:11:09.912412Z",
     "start_time": "2025-07-20T21:11:09.907658Z"
    }
   },
   "cell_type": "code",
   "source": [
    "#Solution 5\n",
    "tpl1 = (1,2,3)\n",
    "tpl2 = (4,5,6)\n",
    "\n",
    "concatenated_tpl = tpl1 + tpl2\n",
    "print(concatenated_tpl)"
   ],
   "id": "48cb3db57b130a02",
   "outputs": [
    {
     "name": "stdout",
     "output_type": "stream",
     "text": [
      "(1, 2, 3, 4, 5, 6)\n"
     ]
    }
   ],
   "execution_count": 9
  },
  {
   "metadata": {
    "ExecuteTime": {
     "end_time": "2025-07-20T21:12:53.216064Z",
     "start_time": "2025-07-20T21:12:53.208931Z"
    }
   },
   "cell_type": "code",
   "source": [
    "#Solution 6\n",
    "tpl = (1, 2, 2, 3, 4, 4, 4, 5)\n",
    "print(f'the number of 4 present in tuple is: {tpl.count(4)}')\n",
    "print(f'the occurrence of first 2 present in tuple is: {tpl.index(2)}')"
   ],
   "id": "ad5a9ae0fb1a5fc3",
   "outputs": [
    {
     "name": "stdout",
     "output_type": "stream",
     "text": [
      "the number of 4 present in tuple is: 3\n",
      "the occurrence of first 4 present in tuple is: 1\n"
     ]
    }
   ],
   "execution_count": 12
  },
  {
   "metadata": {
    "ExecuteTime": {
     "end_time": "2025-07-20T21:13:50.385799Z",
     "start_time": "2025-07-20T21:13:50.378148Z"
    }
   },
   "cell_type": "code",
   "source": [
    "#Solution 7\n",
    "packed_tuple = (1,'hello',3.14, True,15)\n",
    "a,b,c,d,e = packed_tuple\n",
    "print(a)\n",
    "print(b)\n",
    "print(c)\n",
    "print(d)\n",
    "print(e)"
   ],
   "id": "fa66ac3066725f10",
   "outputs": [
    {
     "name": "stdout",
     "output_type": "stream",
     "text": [
      "1\n",
      "hello\n",
      "3.14\n",
      "True\n",
      "15\n"
     ]
    }
   ],
   "execution_count": 13
  },
  {
   "metadata": {
    "ExecuteTime": {
     "end_time": "2025-07-20T21:14:28.819417Z",
     "start_time": "2025-07-20T21:14:28.813200Z"
    }
   },
   "cell_type": "code",
   "source": [
    "#Solution 8\n",
    "lst = [1,2,3,4,5]\n",
    "converted_tpl = tuple(lst)\n",
    "print(converted_tpl)"
   ],
   "id": "d9f748c6db5f8f74",
   "outputs": [
    {
     "name": "stdout",
     "output_type": "stream",
     "text": [
      "(1, 2, 3, 4, 5)\n"
     ]
    }
   ],
   "execution_count": 14
  },
  {
   "metadata": {
    "ExecuteTime": {
     "end_time": "2025-07-20T21:15:11.642180Z",
     "start_time": "2025-07-20T21:15:11.636830Z"
    }
   },
   "cell_type": "code",
   "source": [
    "#Solution 9\n",
    "tpl_matrix = ((1,2,3),(4,5,6),(7,8,9))\n",
    "for row in tpl_matrix:\n",
    "    print(row)"
   ],
   "id": "b72aa849d9612928",
   "outputs": [
    {
     "name": "stdout",
     "output_type": "stream",
     "text": [
      "(1, 2, 3)\n",
      "(4, 5, 6)\n",
      "(7, 8, 9)\n"
     ]
    }
   ],
   "execution_count": 15
  },
  {
   "metadata": {
    "ExecuteTime": {
     "end_time": "2025-07-20T21:16:02.587699Z",
     "start_time": "2025-07-20T21:16:02.582178Z"
    }
   },
   "cell_type": "code",
   "source": [
    "#Solution 10\n",
    "tpl = (1,2,3,4,5)\n",
    "lst = list(tpl)\n",
    "lst.append(6)\n",
    "modified_tuple = tuple(lst)\n",
    "print(modified_tuple)"
   ],
   "id": "c83514831e350371",
   "outputs": [
    {
     "name": "stdout",
     "output_type": "stream",
     "text": [
      "(1, 2, 3, 4, 5, 6)\n"
     ]
    }
   ],
   "execution_count": 16
  },
  {
   "metadata": {
    "ExecuteTime": {
     "end_time": "2025-07-20T21:16:52.643282Z",
     "start_time": "2025-07-20T21:16:52.636822Z"
    }
   },
   "cell_type": "code",
   "source": [
    "#Solution 11\n",
    "str_tuple = ('h','e','l','l','o')\n",
    "for x in str_tuple:\n",
    "    print(x,end='')"
   ],
   "id": "a30f31d4c6ba69ee",
   "outputs": [
    {
     "name": "stdout",
     "output_type": "stream",
     "text": [
      "hello"
     ]
    }
   ],
   "execution_count": 17
  },
  {
   "metadata": {
    "ExecuteTime": {
     "end_time": "2025-07-20T21:17:37.315549Z",
     "start_time": "2025-07-20T21:17:37.310015Z"
    }
   },
   "cell_type": "code",
   "source": [
    "#Solution 12\n",
    "tpl_dict = {\n",
    "    (1, 2): 3,\n",
    "    (4, 5): 6,\n",
    "    (7, 8): 9\n",
    "}\n",
    "print(tpl_dict)"
   ],
   "id": "707271e6df2de501",
   "outputs": [
    {
     "name": "stdout",
     "output_type": "stream",
     "text": [
      "{(1, 2): 3, (4, 5): 6, (7, 8): 9}\n"
     ]
    }
   ],
   "execution_count": 18
  },
  {
   "metadata": {
    "ExecuteTime": {
     "end_time": "2025-07-20T21:17:58.569316Z",
     "start_time": "2025-07-20T21:17:58.563415Z"
    }
   },
   "cell_type": "code",
   "source": [
    "#Solution 13\n",
    "nested_tpl = (\n",
    "    (1, 2, 3),\n",
    "    (4, 5, 6),\n",
    "    (7, 8, 9)\n",
    ")\n",
    "for tpl in nested_tpl:\n",
    "    for elem in tpl:\n",
    "        print(elem)"
   ],
   "id": "129f9dda57f00b99",
   "outputs": [
    {
     "name": "stdout",
     "output_type": "stream",
     "text": [
      "1\n",
      "2\n",
      "3\n",
      "4\n",
      "5\n",
      "6\n",
      "7\n",
      "8\n",
      "9\n"
     ]
    }
   ],
   "execution_count": 19
  },
  {
   "metadata": {
    "ExecuteTime": {
     "end_time": "2025-07-20T21:18:17.154852Z",
     "start_time": "2025-07-20T21:18:17.147923Z"
    }
   },
   "cell_type": "code",
   "source": [
    "#Solution 14\n",
    "tpl = (1, 2, 2, 3, 4, 4, 4, 5)\n",
    "unique_set = set(tpl)\n",
    "print(unique_set)"
   ],
   "id": "800ae7951019cfe3",
   "outputs": [
    {
     "name": "stdout",
     "output_type": "stream",
     "text": [
      "{1, 2, 3, 4, 5}\n"
     ]
    }
   ],
   "execution_count": 20
  },
  {
   "metadata": {
    "ExecuteTime": {
     "end_time": "2025-07-20T21:18:39.756888Z",
     "start_time": "2025-07-20T21:18:39.380374Z"
    }
   },
   "cell_type": "code",
   "source": [
    "#Solution 15\n",
    "def min_in_tuple(tpl):\n",
    "    return min(tpl)\n",
    "\n",
    "def max_in_tuple(tpl):\n",
    "    return max(tpl)\n",
    "\n",
    "def sum_of_tuple(tpl):\n",
    "    return sum(tpl)\n",
    "\n",
    "sample_tpl = (1, 2, 3, 4, 5)\n",
    "print(f\"Minimum: {min_in_tuple(sample_tpl)}\")\n",
    "print(f\"Maximum: {max_in_tuple(sample_tpl)}\")\n",
    "print(f\"Sum: {sum_of_tuple(sample_tpl)}\")"
   ],
   "id": "211dbb5ab799d4fa",
   "outputs": [
    {
     "name": "stdout",
     "output_type": "stream",
     "text": [
      "Minimum: 1\n",
      "Maximum: 5\n",
      "Sum: 15\n"
     ]
    }
   ],
   "execution_count": 21
  }
 ],
 "metadata": {
  "kernelspec": {
   "display_name": "Python 3",
   "language": "python",
   "name": "python3"
  },
  "language_info": {
   "codemirror_mode": {
    "name": "ipython",
    "version": 3
   },
   "file_extension": ".py",
   "mimetype": "text/x-python",
   "name": "python",
   "nbconvert_exporter": "python",
   "pygments_lexer": "ipython3",
   "version": "3.9.7"
  }
 },
 "nbformat": 4,
 "nbformat_minor": 5
}
