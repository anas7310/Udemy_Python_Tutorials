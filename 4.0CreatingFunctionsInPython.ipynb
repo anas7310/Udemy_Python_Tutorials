{
 "cells": [
  {
   "metadata": {},
   "cell_type": "markdown",
   "source": [
    "## Introduction to functions\n",
    "\n",
    "#### Definition:\n",
    "- A function is a block of code that performs a specific task. Functions help in organizing code, reusing code, and improving readability"
   ],
   "id": "64dfcd915337203d"
  },
  {
   "cell_type": "code",
   "id": "initial_id",
   "metadata": {
    "collapsed": true
   },
   "source": [
    "def function_name(parameter):\n",
    "    expressions = f'do something with {parameter}'\n",
    "    return expressions"
   ],
   "outputs": [],
   "execution_count": null
  },
  {
   "metadata": {},
   "cell_type": "code",
   "source": [
    "def even_or_odd(number):\n",
    "    if number % 2 == 0:\n",
    "        return True\n",
    "    else:\n",
    "        return False\n",
    "\n",
    "n =12\n",
    "if even_or_odd(n):\n",
    "    print('Even')\n",
    "else:\n",
    "    print('Odd')"
   ],
   "id": "3b4dcffc3c15990",
   "outputs": [],
   "execution_count": null
  },
  {
   "metadata": {},
   "cell_type": "code",
   "source": [
    "# function with multiple parameters\n",
    "def add(a,b):\n",
    "    return a+b\n",
    "\n",
    "result = add(5,8)\n",
    "print(result)"
   ],
   "id": "35f5018ce27aca4",
   "outputs": [],
   "execution_count": null
  },
  {
   "metadata": {},
   "cell_type": "code",
   "source": [
    "#Default parameters\n",
    "def greet(name='Guest'):\n",
    "    print(f'Hello {name}! Welcome to the paradise ')\n",
    "\n",
    "greet('Anas')\n",
    "greet()\n"
   ],
   "id": "e88908c8b564e175",
   "outputs": [],
   "execution_count": null
  },
  {
   "metadata": {},
   "cell_type": "code",
   "source": [
    "##Variable length arguments\n",
    "#Positional and Keywords arguments\n",
    "\n",
    "\n",
    "##Positional Arguments\n",
    "def print_numbers(*args):\n",
    "    for number in args:\n",
    "        print(number)\n",
    "\n",
    "print_numbers(1,2,3,4,5,6,'Anas',True)\n"
   ],
   "id": "d680462461b8985a",
   "outputs": [],
   "execution_count": null
  },
  {
   "metadata": {
    "ExecuteTime": {
     "end_time": "2025-07-26T02:51:48.928286Z",
     "start_time": "2025-07-26T02:51:48.533864Z"
    }
   },
   "cell_type": "code",
   "source": [
    "#Keyword arguments\n",
    "\n",
    "def print_details(**kwargs):\n",
    "    for key,value in kwargs.items():\n",
    "        print(f'{key}: {value}')\n",
    "\n",
    "print_details(name='Anas', age=26, country='India')"
   ],
   "id": "5fad885a49169835",
   "outputs": [
    {
     "name": "stdout",
     "output_type": "stream",
     "text": [
      "name: Anas\n",
      "age: 26\n",
      "country: India\n"
     ]
    }
   ],
   "execution_count": 9
  },
  {
   "metadata": {
    "ExecuteTime": {
     "end_time": "2025-07-27T19:18:33.867392Z",
     "start_time": "2025-07-27T19:18:33.853625Z"
    }
   },
   "cell_type": "code",
   "source": [
    "def print_details(*args,**kwargs):\n",
    "    for val in args:\n",
    "        print(f'Positional Arguments: {val}')\n",
    "    for key,value in kwargs.items():\n",
    "        print(f'{key}: {value}')"
   ],
   "id": "2614df28a93d78",
   "outputs": [],
   "execution_count": 12
  },
  {
   "metadata": {
    "ExecuteTime": {
     "end_time": "2025-07-27T19:18:39.188409Z",
     "start_time": "2025-07-27T19:18:38.783870Z"
    }
   },
   "cell_type": "code",
   "source": "print_details(1,2,3,4,5,True,'Anas',name='Anas', age=26, country='India')",
   "id": "2748ba2689a2da71",
   "outputs": [
    {
     "name": "stdout",
     "output_type": "stream",
     "text": [
      "Positional Arguments: 1\n",
      "Positional Arguments: 2\n",
      "Positional Arguments: 3\n",
      "Positional Arguments: 4\n",
      "Positional Arguments: 5\n",
      "Positional Arguments: True\n",
      "Positional Arguments: Anas\n",
      "name: Anas\n",
      "age: 26\n",
      "country: India\n"
     ]
    }
   ],
   "execution_count": 13
  }
 ],
 "metadata": {
  "kernelspec": {
   "display_name": "Python 3",
   "language": "python",
   "name": "python3"
  },
  "language_info": {
   "codemirror_mode": {
    "name": "ipython",
    "version": 2
   },
   "file_extension": ".py",
   "mimetype": "text/x-python",
   "name": "python",
   "nbconvert_exporter": "python",
   "pygments_lexer": "ipython2",
   "version": "2.7.6"
  }
 },
 "nbformat": 4,
 "nbformat_minor": 5
}
