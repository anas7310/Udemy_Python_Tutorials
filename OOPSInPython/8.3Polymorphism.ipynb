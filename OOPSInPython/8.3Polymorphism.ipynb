{
 "cells": [
  {
   "metadata": {},
   "cell_type": "markdown",
   "source": [
    "### Polymorphism\n",
    "Polymorphism is a core concept in Object-Oriented Programming(OOP) that allows objects of different classes to be treated as object of a common superclass. It provides a way to perform a single action in different forms.\n",
    "Polymorphism is typically achieved through method overriding and interfaces"
   ],
   "id": "346ebe1071873b83"
  },
  {
   "metadata": {},
   "cell_type": "markdown",
   "source": [
    "### Method Overriding\n",
    "Method overring allows a child class to provide a specific implementation of a method that is already defined in its parent class."
   ],
   "id": "ba8be2916f20d282"
  },
  {
   "cell_type": "code",
   "id": "initial_id",
   "metadata": {
    "collapsed": true,
    "ExecuteTime": {
     "end_time": "2025-08-02T11:15:33.404824Z",
     "start_time": "2025-08-02T11:15:33.334417Z"
    }
   },
   "source": [
    "#Base Class\n",
    "class Animal:\n",
    "    def speak(self):\n",
    "        return \"Sound of the animal\"\n",
    "\n",
    "#Derived Class 1\n",
    "class Dog(Animal):\n",
    "    def speak(self):\n",
    "        return \"Woof!\"\n",
    "\n",
    "#Derived Class 2\n",
    "class Cat(Animal):\n",
    "    def speak(self):\n",
    "        return \"Meow!\"\n",
    "\n",
    "#Function that demonstrates polymorphism\n",
    "def animal_speak(animal):\n",
    "    print(animal.speak())\n",
    "\n",
    "dog = Dog()\n",
    "cat = Cat()\n",
    "\n",
    "print(dog.speak())\n",
    "print(cat.speak())\n",
    "animal_speak(dog)\n",
    "animal_speak(cat)"
   ],
   "outputs": [
    {
     "name": "stdout",
     "output_type": "stream",
     "text": [
      "Woof!\n",
      "Meow!\n",
      "Woof!\n",
      "Meow!\n"
     ]
    }
   ],
   "execution_count": 3
  },
  {
   "metadata": {
    "ExecuteTime": {
     "end_time": "2025-08-02T11:37:04.383730Z",
     "start_time": "2025-08-02T11:37:04.352091Z"
    }
   },
   "cell_type": "code",
   "outputs": [
    {
     "name": "stdout",
     "output_type": "stream",
     "text": [
      "the area is 36\n",
      "the area is 200\n",
      "the area is 1963.4954084936207\n"
     ]
    }
   ],
   "execution_count": 7,
   "source": [
    "#Polymorphism with Functions and Methods\n",
    "import math\n",
    "#base Class\n",
    "class Shape:\n",
    "    def area(self):\n",
    "        return \"the area of the figure\"\n",
    "\n",
    "class Square(Shape):\n",
    "    def __init__(self,side):\n",
    "        self.side = side\n",
    "    def area(self):\n",
    "        return self.side**2\n",
    "\n",
    "class Rectangle(Shape):\n",
    "    def __init__(self,length,width):\n",
    "        self.length = length\n",
    "        self.width = width\n",
    "\n",
    "    def area(self):\n",
    "        return self.length * self.width\n",
    "\n",
    "class Circle(Shape):\n",
    "    def __init__(self,radius):\n",
    "        self.radius = radius\n",
    "\n",
    "    def area(self):\n",
    "        return  math.pi * self.radius *self.radius\n",
    "\n",
    "\n",
    "def print_area(shape):\n",
    "    print(f'the area is {shape.area()}')\n",
    "\n",
    "\n",
    "square = Square(6)\n",
    "rectangle = Rectangle(10,20)\n",
    "circle = Circle(25)\n",
    "\n",
    "print_area(square)\n",
    "print_area(rectangle)\n",
    "print_area(circle)"
   ],
   "id": "f2bbb003fae8e1c8"
  },
  {
   "metadata": {},
   "cell_type": "markdown",
   "source": [
    "### Polymorphism with abstract base class - Interfaces in Other Language: Java,etc.\n",
    "Abstract Base Classes(ABC) are used to define common methods for a group of related objects. They can enforce that derived classes implement particular methods, promoting consistency across different implementations."
   ],
   "id": "91072727d90d2908"
  },
  {
   "metadata": {
    "ExecuteTime": {
     "end_time": "2025-08-02T12:03:50.168336Z",
     "start_time": "2025-08-02T12:03:50.159113Z"
    }
   },
   "cell_type": "code",
   "source": [
    "from abc import ABC, abstractmethod\n",
    "\n",
    "##Define an abstract class\n",
    "class Vehicle(ABC):\n",
    "    #define abstract method\n",
    "    @abstractmethod\n",
    "    def start_engine(self):\n",
    "        pass\n",
    "\n",
    "\n",
    "#Derived Class 1\n",
    "class Car(Vehicle):\n",
    "    def start_engine(self):\n",
    "        return \"Car engine started\"\n",
    "\n",
    "#Derived class 2\n",
    "class Bike(Vehicle):\n",
    "    def start_engine(self):\n",
    "        return \"Motorcycle engine started\"\n",
    "\n",
    "#creating objects of car and motorcycle\n",
    "car = Car()\n",
    "motorcycle = Bike()\n",
    "\n",
    "print(car.start_engine())\n",
    "print(motorcycle.start_engine())"
   ],
   "id": "4a88d192999bd13",
   "outputs": [
    {
     "name": "stdout",
     "output_type": "stream",
     "text": [
      "Car engine started\n",
      "Motorcycle engine started\n"
     ]
    }
   ],
   "execution_count": 9
  }
 ],
 "metadata": {
  "kernelspec": {
   "display_name": "Python 3",
   "language": "python",
   "name": "python3"
  },
  "language_info": {
   "codemirror_mode": {
    "name": "ipython",
    "version": 2
   },
   "file_extension": ".py",
   "mimetype": "text/x-python",
   "name": "python",
   "nbconvert_exporter": "python",
   "pygments_lexer": "ipython2",
   "version": "2.7.6"
  }
 },
 "nbformat": 4,
 "nbformat_minor": 5
}
