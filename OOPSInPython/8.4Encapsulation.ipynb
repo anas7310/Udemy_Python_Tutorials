{
 "cells": [
  {
   "metadata": {},
   "cell_type": "markdown",
   "source": [
    "### Encapsulation and Abstraction\n",
    "Encapsulation and abstraction are two fundamental principles of Object-Oriented Programming(OOP) that helps in designing robust, maintainable and reusable code. Encapsulation involves bundling data and methods that operate on the data within a single unit, while abstraction involves hiding complex implementation details and exposing only the necessary features."
   ],
   "id": "3a8e9b7db5321bd4"
  },
  {
   "metadata": {},
   "cell_type": "markdown",
   "source": [
    "### Encapsulation\n",
    "Encapsulation is the concept of wrapping data (variables) and methods (functions) together as a single unit. It restricts direct access to some of the object's components, which is a means of preventing accidental interference and misuse of the data."
   ],
   "id": "edeb2b759da00134"
  },
  {
   "cell_type": "code",
   "id": "initial_id",
   "metadata": {
    "collapsed": true
   },
   "source": [
    "#Encapsulation with Getter and Setter methods\n",
    "#Public, Protected and Private variables or access modifiers\n",
    "\n",
    "\n",
    "class Person:\n",
    "    def __init__(self,name,age,gender):\n",
    "        self.name = name #public variable\n",
    "        self.__age = age #private variable\n",
    "        self._gender = gender #protected variable\n",
    "\n",
    "def get_name(person):\n",
    "    return person.name\n",
    "\n",
    "def get_age(person):\n",
    "    return person.__age #this will throw an error\n",
    "    # return person._Person__age #This will not throw an error`\n",
    "def get_gender(person):\n",
    "    return person._gender\n",
    "\n",
    "person = Person('Anas',27,\"Male\")\n",
    "print(person.name)\n",
    "# print(person.age) #This line will give error as private variables are not accessible"
   ],
   "outputs": [],
   "execution_count": null
  },
  {
   "metadata": {},
   "cell_type": "code",
   "source": "dir(person)",
   "id": "903fdee43287e5cb",
   "outputs": [],
   "execution_count": null
  },
  {
   "metadata": {},
   "cell_type": "code",
   "source": "print(get_name(person))",
   "id": "7827a1d29c2b26da",
   "outputs": [],
   "execution_count": null
  },
  {
   "metadata": {},
   "cell_type": "code",
   "source": "print(get_age(person))",
   "id": "a49ed11533d15322",
   "outputs": [],
   "execution_count": null
  },
  {
   "metadata": {},
   "cell_type": "code",
   "source": "print(get_gender(person))",
   "id": "eafbd3957ef44c16",
   "outputs": [],
   "execution_count": null
  },
  {
   "metadata": {},
   "cell_type": "code",
   "source": [
    "class Employee(Person):\n",
    "    def __init__(self,name,age,gender):\n",
    "        super().__init__(name,age,gender)"
   ],
   "id": "7a5a0814b862be87",
   "outputs": [],
   "execution_count": null
  },
  {
   "metadata": {},
   "cell_type": "code",
   "source": [
    "employee = Employee(\"John\",27,\"Male\")\n",
    "print(employee.name)\n",
    "# print(employee.__age)\n",
    "print(employee._gender)"
   ],
   "id": "95f778bf182f6e26",
   "outputs": [],
   "execution_count": null
  },
  {
   "metadata": {
    "ExecuteTime": {
     "end_time": "2025-08-06T20:51:26.647522Z",
     "start_time": "2025-08-06T20:51:26.631297Z"
    }
   },
   "cell_type": "code",
   "source": [
    "#Encapsulation with getter and setter\n",
    "class Person:\n",
    "    def __init__(self,name,age):\n",
    "        self.__name = name #private access modifier or variable\n",
    "        self.__age = age #private variable\n",
    "\n",
    "    #Getter method for name\n",
    "    def get_name(self):\n",
    "        return self.__name\n",
    "\n",
    "    #Setter method for name\n",
    "    def set_name(self,name):\n",
    "        self.__name = name\n",
    "\n",
    "    #Getter method for age\n",
    "    def get_age(self):\n",
    "        return self.__age\n",
    "\n",
    "    #Setter method for age\n",
    "    def set_age(self,age):\n",
    "        if age >0 :\n",
    "            self.__age = age\n",
    "        else:\n",
    "            print(\"age must be greater than 0\")\n",
    "person = Person('John',31)\n",
    "print(person.get_name())\n",
    "person.set_name('Mike')\n",
    "print(person.get_age())\n",
    "print(person.get_name())\n",
    "person.set_age(18)\n",
    "print(person.get_age())"
   ],
   "id": "93c5f9b7fa2c7e7e",
   "outputs": [
    {
     "name": "stdout",
     "output_type": "stream",
     "text": [
      "John\n",
      "31\n",
      "Mike\n",
      "18\n"
     ]
    }
   ],
   "execution_count": 30
  },
  {
   "metadata": {},
   "cell_type": "code",
   "outputs": [],
   "execution_count": null,
   "source": "",
   "id": "4f0181a33418294f"
  }
 ],
 "metadata": {
  "kernelspec": {
   "display_name": "Python 3",
   "language": "python",
   "name": "python3"
  },
  "language_info": {
   "codemirror_mode": {
    "name": "ipython",
    "version": 2
   },
   "file_extension": ".py",
   "mimetype": "text/x-python",
   "name": "python",
   "nbconvert_exporter": "python",
   "pygments_lexer": "ipython2",
   "version": "2.7.6"
  }
 },
 "nbformat": 4,
 "nbformat_minor": 5
}
