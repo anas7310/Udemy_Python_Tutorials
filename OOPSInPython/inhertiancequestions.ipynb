{
 "cells": [
  {
   "cell_type": "markdown",
   "metadata": {},
   "source": [
    "# Module: Inheritance Assignments\n",
    "## Lesson: Single and Multiple Inheritance\n",
    "### Assignment 1: Single Inheritance Basic\n",
    "\n",
    "Create a base class named `Animal` with attributes `name` and `species`. Create a derived class named `Dog` that inherits from `Animal` and adds an attribute `breed`. Create an object of the `Dog` class and print its attributes.\n",
    "\n",
    "### Assignment 2: Method Overriding in Single Inheritance\n",
    "\n",
    "In the `Dog` class, override the `__str__` method to return a string representation of the object. Create an object of the class and print it.\n",
    "\n",
    "### Assignment 3: Single Inheritance with Additional Methods\n",
    "\n",
    "In the `Dog` class, add a method named `bark` that prints a barking sound. Create an object of the class and call the method.\n",
    "\n",
    "### Assignment 4: Multiple Inheritance Basic\n",
    "\n",
    "Create a base class named `Walker` with a method `walk` that prints a walking message. Create another base class named `Runner` with a method `run` that prints a running message. Create a derived class named `Athlete` that inherits from both `Walker` and `Runner`. Create an object of the `Athlete` class and call both methods.\n",
    "\n",
    "### Assignment 5: Method Resolution Order (MRO) in Multiple Inheritance\n",
    "\n",
    "In the `Athlete` class, override the `walk` method to print a different message. Create an object of the class and call the `walk` method. Use the `super()` function to call the `walk` method of the `Walker` class.\n",
    "\n",
    "### Assignment 6: Multiple Inheritance with Additional Attributes\n",
    "\n",
    "In the `Athlete` class, add an attribute `training_hours` and a method `train` that prints the training hours. Create an object of the class and call the method.\n",
    "\n",
    "### Assignment 7: Diamond Problem in Multiple Inheritance\n",
    "\n",
    "Create a class named `A` with a method `show` that prints a message. Create two derived classes `B` and `C` that inherit from `A` and override the `show` method. Create a class `D` that inherits from both `B` and `C`. Create an object of the `D` class and call the `show` method. Observe the method resolution order.\n",
    "\n",
    "### Assignment 8: Using `super()` in Single Inheritance\n",
    "\n",
    "Create a base class named `Shape` with an attribute `color`. Create a derived class named `Circle` that inherits from `Shape` and adds an attribute `radius`. Use the `super()` function to initialize the attributes. Create an object of the `Circle` class and print its attributes.\n",
    "\n",
    "### Assignment 9: Using `super()` in Multiple Inheritance\n",
    "\n",
    "Create a class named `Person` with an attribute `name`. Create a class named `Employee` with an attribute `employee_id`. Create a derived class `Manager` that inherits from both `Person` and `Employee`. Use the `super()` function to initialize the attributes. Create an object of the `Manager` class and print its attributes.\n",
    "\n",
    "### Assignment 10: Method Overriding and `super()`\n",
    "\n",
    "Create a class named `Vehicle` with a method `start` that prints a starting message. Create a derived class `Car` that overrides the `start` method to print a different message. Use the `super()` function to call the `start` method of the `Vehicle` class. Create an object of the `Car` class and call the `start` method.\n",
    "\n",
    "### Assignment 11: Multiple Inheritance with Different Methods\n",
    "\n",
    "Create a class named `Flyer` with a method `fly` that prints a flying message. Create a class named `Swimmer` with a method `swim` that prints a swimming message. Create a derived class `Superhero` that inherits from both `Flyer` and `Swimmer`. Create an object of the `Superhero` class and call both methods.\n",
    "\n",
    "### Assignment 12: Complex Multiple Inheritance\n",
    "\n",
    "Create a class named `Base1` with an attribute `a`. Create a class named `Base2` with an attribute `b`. Create a class named `Derived` that inherits from both `Base1` and `Base2` and adds an attribute `c`. Initialize all attributes using the `super()` function. Create an object of the `Derived` class and print its attributes.\n",
    "\n",
    "### Assignment 13: Checking Instance Types with Inheritance\n",
    "\n",
    "Create a base class named `Animal` and a derived class named `Cat`. Create objects of both classes and use the `isinstance` function to check the instance types.\n",
    "\n",
    "### Assignment 14: Polymorphism with Inheritance\n",
    "\n",
    "Create a base class named `Bird` with a method `speak`. Create two derived classes `Parrot` and `Penguin` that override the `speak` method. Create a list of `Bird` objects and call the `speak` method on each object to demonstrate polymorphism.\n",
    "\n",
    "### Assignment 15: Combining Single and Multiple Inheritance\n",
    "\n",
    "Create a base class named `Device` with an attribute `brand`. Create a derived class `Phone` that inherits from `Device` and adds an attribute `model`. Create another base class `Camera` with an attribute `resolution`. Create a derived class `Smartphone` that inherits from both `Phone` and `Camera`. Create an object of the `Smartphone` class and print its attributes."
   ],
   "id": "19a4662b05b254c7"
  },
  {
   "metadata": {
    "ExecuteTime": {
     "end_time": "2025-08-06T23:01:26.859686Z",
     "start_time": "2025-08-06T23:01:26.848849Z"
    }
   },
   "cell_type": "code",
   "source": [
    "#Solution 1\n",
    "class Animal:\n",
    "    def __init__(self,name,species):\n",
    "        self.name = name\n",
    "        self.species = species\n",
    "\n",
    "class Dog(Animal):\n",
    "    def __init__(self,name,species, breed):\n",
    "        super().__init__(name,species)\n",
    "        self.breed = breed\n",
    "\n",
    "    def __str__(self): #Solution 2\n",
    "        return f'Dog {self.breed} has {self.species} species'\n",
    "\n",
    "    def bark(self): #Solution 3\n",
    "        return 'Wooof!!'\n",
    "\n",
    "dog = Dog('Buddy','Canine', 'Golden Retriever')\n",
    "print(dog.name, dog.species, dog.breed)"
   ],
   "id": "bfb220c5a1ec2f3a",
   "outputs": [
    {
     "name": "stdout",
     "output_type": "stream",
     "text": [
      "Buddy Canine Golden Retriever\n"
     ]
    }
   ],
   "execution_count": 7
  },
  {
   "metadata": {
    "ExecuteTime": {
     "end_time": "2025-08-06T23:00:47.005088Z",
     "start_time": "2025-08-06T23:00:46.999527Z"
    }
   },
   "cell_type": "code",
   "source": [
    "#Solution 2\n",
    "print(dog)"
   ],
   "id": "9abd969686de3e5",
   "outputs": [
    {
     "name": "stdout",
     "output_type": "stream",
     "text": [
      "Dog Golden Retriever has Canine species\n"
     ]
    }
   ],
   "execution_count": 6
  },
  {
   "metadata": {
    "ExecuteTime": {
     "end_time": "2025-08-06T23:01:34.729466Z",
     "start_time": "2025-08-06T23:01:34.723796Z"
    }
   },
   "cell_type": "code",
   "source": [
    "#Solution 3\n",
    "print(dog.bark())"
   ],
   "id": "c330d20357bc5187",
   "outputs": [
    {
     "name": "stdout",
     "output_type": "stream",
     "text": [
      "Wooof!!\n"
     ]
    }
   ],
   "execution_count": 8
  },
  {
   "metadata": {
    "ExecuteTime": {
     "end_time": "2025-08-09T20:28:32.993803Z",
     "start_time": "2025-08-09T20:28:32.922589Z"
    }
   },
   "cell_type": "code",
   "source": [
    "#Solution 4\n",
    "class Walker:\n",
    "    def walking(self):\n",
    "        print(\"Walking....\")\n",
    "\n",
    "class Runner:\n",
    "    def running(self):\n",
    "        print('running....!')\n",
    "class Athelete(Walker, Runner):\n",
    "    pass\n",
    "\n",
    "\n",
    "athlete = Athelete()\n",
    "athlete.walking()\n",
    "athlete.running()\n"
   ],
   "id": "b5db458c9cc46a9",
   "outputs": [
    {
     "name": "stdout",
     "output_type": "stream",
     "text": [
      "Walking....\n",
      "running....!\n"
     ]
    }
   ],
   "execution_count": 17
  },
  {
   "metadata": {
    "ExecuteTime": {
     "end_time": "2025-08-09T20:26:56.991858Z",
     "start_time": "2025-08-09T20:26:56.844736Z"
    }
   },
   "cell_type": "code",
   "source": [
    "#Solution 5\n",
    "class Athlete(Walker, Runner):\n",
    "    def walking(self):\n",
    "        print(\"Athlete is walking\")\n",
    "        super().walking()\n",
    "\n",
    "athlete = Athelete()\n",
    "athlete.walking()\n"
   ],
   "id": "2a85b31621f6998b",
   "outputs": [
    {
     "name": "stdout",
     "output_type": "stream",
     "text": [
      "Walking....\n"
     ]
    }
   ],
   "execution_count": 15
  },
  {
   "metadata": {
    "ExecuteTime": {
     "end_time": "2025-08-09T20:30:25.503818Z",
     "start_time": "2025-08-09T20:30:25.452405Z"
    }
   },
   "cell_type": "code",
   "source": [
    "#Solution 6\n",
    "class Athletes(Walker, Runner):\n",
    "    def __init__(self,training_hours):\n",
    "        self.training_hours = training_hours\n",
    "\n",
    "    def print_hours(self):\n",
    "        print(\"Training hours: \", self.training_hours)\n",
    "\n",
    "athletes = Athletes(30)\n",
    "athletes.print_hours()\n"
   ],
   "id": "f2f09d359b0b615e",
   "outputs": [
    {
     "name": "stdout",
     "output_type": "stream",
     "text": [
      "Training hours:  30\n"
     ]
    }
   ],
   "execution_count": 18
  },
  {
   "metadata": {
    "ExecuteTime": {
     "end_time": "2025-08-09T20:34:53.836025Z",
     "start_time": "2025-08-09T20:34:53.812376Z"
    }
   },
   "cell_type": "code",
   "source": [
    "#Solution 7\n",
    "class A:\n",
    "    def show(self):\n",
    "        print('class A is printing....')\n",
    "class B(A):\n",
    "    def show(self):\n",
    "        print('class B is printing....')\n",
    "\n",
    "class C(A):\n",
    "    def show(self):\n",
    "        print('class C is printing....')\n",
    "\n",
    "class D(B,C):\n",
    "    pass\n",
    "\n",
    "d = D()\n",
    "d.show()"
   ],
   "id": "1259ca16dad45e4b",
   "outputs": [
    {
     "name": "stdout",
     "output_type": "stream",
     "text": [
      "class C is printing....\n"
     ]
    }
   ],
   "execution_count": 20
  },
  {
   "metadata": {
    "ExecuteTime": {
     "end_time": "2025-08-09T20:39:30.746614Z",
     "start_time": "2025-08-09T20:39:30.552699Z"
    }
   },
   "cell_type": "code",
   "source": [
    "#Solution 8\n",
    "class Shape:\n",
    "    def __init__(self,color):\n",
    "        self.color = color\n",
    "\n",
    "class Circle(Shape):\n",
    "    def __init__(self,color,radius):\n",
    "        self.radius = radius\n",
    "        super().__init__(color)\n",
    "\n",
    "circle = Circle('red',5)\n",
    "print(circle.color)\n",
    "print(circle.radius)\n"
   ],
   "id": "974c0c62dc4afa9d",
   "outputs": [
    {
     "name": "stdout",
     "output_type": "stream",
     "text": [
      "red\n",
      "5\n"
     ]
    }
   ],
   "execution_count": 21
  },
  {
   "metadata": {
    "ExecuteTime": {
     "end_time": "2025-08-09T20:47:57.409983Z",
     "start_time": "2025-08-09T20:47:57.285310Z"
    }
   },
   "cell_type": "code",
   "source": [
    "#Solution 9\n",
    "class Person:\n",
    "    def __init__(self,name):\n",
    "        self.name = name\n",
    "\n",
    "class Employee:\n",
    "    def __init__(self,employee_id):\n",
    "        self.employee_id = employee_id\n",
    "\n",
    "class Manager(Person, Employee):\n",
    "    def __init__(self,name,employee_id):\n",
    "        super().__init__(name)\n",
    "        Employee.__init__(self,employee_id)\n",
    "\n",
    "manager = Manager(\"Anas\",\"EP-1283\")\n",
    "print(manager.name, manager.employee_id)"
   ],
   "id": "57787de35f5d3303",
   "outputs": [
    {
     "name": "stdout",
     "output_type": "stream",
     "text": [
      "Anas EP-1283\n"
     ]
    }
   ],
   "execution_count": 22
  },
  {
   "metadata": {
    "ExecuteTime": {
     "end_time": "2025-08-09T21:01:33.595871Z",
     "start_time": "2025-08-09T21:01:33.554934Z"
    }
   },
   "cell_type": "code",
   "source": [
    "#Solution 10\n",
    "class Vehicle:\n",
    "    def start(self):\n",
    "        print(\"Vehicle Started....\")\n",
    "\n",
    "class Car(Vehicle):\n",
    "    def start(self):\n",
    "        print(\"Car Started....\")\n",
    "        super().start()\n",
    "\n",
    "car = Car()\n",
    "car.start()"
   ],
   "id": "3e4756cb79dedf64",
   "outputs": [
    {
     "name": "stdout",
     "output_type": "stream",
     "text": [
      "Car Started....\n",
      "Vehicle Started....\n"
     ]
    }
   ],
   "execution_count": 23
  },
  {
   "metadata": {
    "ExecuteTime": {
     "end_time": "2025-08-09T22:28:39.600780Z",
     "start_time": "2025-08-09T22:28:39.515100Z"
    }
   },
   "cell_type": "code",
   "source": [
    "#Solution 11\n",
    "class Flyer:\n",
    "    def fly(self):\n",
    "        print('Flying....')\n",
    "\n",
    "class Swimmer:\n",
    "    def swim(self):\n",
    "        print(\"Swimming....\")\n",
    "\n",
    "class Superhero(Flyer, Swimmer):\n",
    "    pass\n",
    "\n",
    "superhero = Superhero()\n",
    "superhero.fly()\n",
    "superhero.swim()"
   ],
   "id": "df02ec7d0e73a3f3",
   "outputs": [
    {
     "name": "stdout",
     "output_type": "stream",
     "text": [
      "Flying....\n",
      "Swimming....\n"
     ]
    }
   ],
   "execution_count": 24
  },
  {
   "metadata": {
    "ExecuteTime": {
     "end_time": "2025-08-09T22:33:37.878760Z",
     "start_time": "2025-08-09T22:33:37.868248Z"
    }
   },
   "cell_type": "code",
   "source": [
    "#Solution 12\n",
    "class Base1:\n",
    "    def __init__(self,a):\n",
    "        self.a = a\n",
    "\n",
    "class Base2:\n",
    "    def __init__(self,b):\n",
    "        self.b=b\n",
    "\n",
    "class Derived(Base1,Base2):\n",
    "    def __init__(self,a,b,c):\n",
    "        super().__init__(a)\n",
    "        Base2.__init__(self,b)\n",
    "        self.c = c\n",
    "\n",
    "derived = Derived(1,2,3)\n",
    "print(derived.a,derived.b,derived.c)\n"
   ],
   "id": "6e4761efe77b1c14",
   "outputs": [
    {
     "name": "stdout",
     "output_type": "stream",
     "text": [
      "1 2 3\n"
     ]
    }
   ],
   "execution_count": 30
  },
  {
   "metadata": {
    "ExecuteTime": {
     "end_time": "2025-08-09T22:36:14.143359Z",
     "start_time": "2025-08-09T22:36:14.129761Z"
    }
   },
   "cell_type": "code",
   "source": [
    "#Solution 13\n",
    "class Animal:\n",
    "    pass\n",
    "\n",
    "class Cat(Animal):\n",
    "    pass\n",
    "\n",
    "animal = Animal()\n",
    "cat = Cat()\n",
    "\n",
    "print(isinstance(animal,Animal))\n",
    "print(isinstance(cat,Animal))\n",
    "print(isinstance(animal,Cat))\n",
    "print(isinstance(cat,Cat))"
   ],
   "id": "986e6460e8bc8767",
   "outputs": [
    {
     "name": "stdout",
     "output_type": "stream",
     "text": [
      "True\n",
      "True\n",
      "False\n",
      "True\n"
     ]
    }
   ],
   "execution_count": 31
  },
  {
   "metadata": {
    "ExecuteTime": {
     "end_time": "2025-08-09T22:38:35.680406Z",
     "start_time": "2025-08-09T22:38:35.651123Z"
    }
   },
   "cell_type": "code",
   "source": [
    "#Solution 14\n",
    "class Bird:\n",
    "    def speak(self):\n",
    "        print(\"Bird speaking....\")\n",
    "class Parrot(Bird):\n",
    "    def speak(self):\n",
    "        print(\"Parrot speaking....\")\n",
    "class Penguin(Bird):\n",
    "    def speak(self):\n",
    "        print(\"Penguin speaking....\")\n",
    "\n",
    "birds=[Parrot(),Penguin()]\n",
    "for bird in birds:\n",
    "    bird.speak()"
   ],
   "id": "f92862e9e0504012",
   "outputs": [
    {
     "name": "stdout",
     "output_type": "stream",
     "text": [
      "Parrot speaking....\n",
      "Penguin speaking....\n"
     ]
    }
   ],
   "execution_count": 32
  },
  {
   "cell_type": "code",
   "metadata": {
    "ExecuteTime": {
     "end_time": "2025-08-06T22:55:13.506333Z",
     "start_time": "2025-08-06T22:55:13.493982Z"
    }
   },
   "source": [
    "#Solution 15\n",
    "class Device:\n",
    "    def __init__(self, brand):\n",
    "        self.brand = brand\n",
    "\n",
    "class Phone(Device):\n",
    "    def __init__(self,brand,model):\n",
    "        super().__init__(brand)\n",
    "        self.model = model\n",
    "\n",
    "class Camera:\n",
    "    def __init__(self,resolution):\n",
    "        self.resolution = resolution\n",
    "\n",
    "class Smartphone(Phone,Camera):\n",
    "    def __init__(self,brand,model,resolution):\n",
    "        Phone.__init__(self,brand,model)\n",
    "        Camera.__init__(self,resolution)\n",
    "\n",
    "smartphone = Smartphone('Apple', 'iPhone 12', '12 MP')\n",
    "print(smartphone.brand, smartphone.model, smartphone.resolution)"
   ],
   "id": "4fd072afd707e8cc",
   "outputs": [
    {
     "name": "stdout",
     "output_type": "stream",
     "text": [
      "Apple iPhone 12 12 MP\n"
     ]
    }
   ],
   "execution_count": 1
  }
 ],
 "metadata": {
  "kernelspec": {
   "display_name": "Python 3",
   "language": "python",
   "name": "python3"
  },
  "language_info": {
   "codemirror_mode": {
    "name": "ipython",
    "version": 3
   },
   "file_extension": ".py",
   "mimetype": "text/x-python",
   "name": "python",
   "nbconvert_exporter": "python",
   "pygments_lexer": "ipython3",
   "version": "3.9.7"
  }
 },
 "nbformat": 4,
 "nbformat_minor": 5
}
