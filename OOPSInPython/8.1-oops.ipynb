{
 "cells": [
  {
   "metadata": {},
   "cell_type": "markdown",
   "source": [
    "### Classes and Objects\n",
    "Object-Oriented Programming(OOP) is a programming paradigm that uses 'objects' to design applications and computer programs. OOP allows for modelling real-world scenarios using classes and objects. This lesson covers the basics of creating classes and objects, including instance variables and methods."
   ],
   "id": "f4619348e8836b5a"
  },
  {
   "cell_type": "code",
   "id": "initial_id",
   "metadata": {
    "collapsed": true,
    "ExecuteTime": {
     "end_time": "2025-07-30T22:18:50.704242Z",
     "start_time": "2025-07-30T22:18:50.696060Z"
    }
   },
   "source": [
    "#A class is a blue print for creating objects. Attributes, methods\n",
    "class Car:\n",
    "    pass\n",
    "\n",
    "audi = Car()\n",
    "bmw = Car()\n",
    "\n",
    "print(type(audi))\n",
    "print(type(bmw))"
   ],
   "outputs": [
    {
     "name": "stdout",
     "output_type": "stream",
     "text": [
      "<class '__main__.Car'>\n",
      "<class '__main__.Car'>\n"
     ]
    }
   ],
   "execution_count": 1
  },
  {
   "metadata": {
    "ExecuteTime": {
     "end_time": "2025-07-30T22:20:43.599343Z",
     "start_time": "2025-07-30T22:20:43.593353Z"
    }
   },
   "cell_type": "code",
   "source": [
    "print(audi)\n",
    "print(bmw)"
   ],
   "id": "e81d24b704a5d285",
   "outputs": [
    {
     "name": "stdout",
     "output_type": "stream",
     "text": [
      "<__main__.Car object at 0x000001F29EC00EC0>\n",
      "<__main__.Car object at 0x000001F29EA03250>\n"
     ]
    }
   ],
   "execution_count": 3
  },
  {
   "metadata": {
    "ExecuteTime": {
     "end_time": "2025-07-30T22:21:31.122748Z",
     "start_time": "2025-07-30T22:21:31.118432Z"
    }
   },
   "cell_type": "code",
   "source": [
    "audi.windows=4\n",
    "bmw.windows=2 #defining attributes like this is not a proper way\n",
    "print(audi.windows)\n",
    "print(bmw.windows)"
   ],
   "id": "52f2221fc90b094f",
   "outputs": [
    {
     "name": "stdout",
     "output_type": "stream",
     "text": [
      "4\n",
      "2\n"
     ]
    }
   ],
   "execution_count": 5
  },
  {
   "metadata": {
    "ExecuteTime": {
     "end_time": "2025-07-30T22:22:20.593579Z",
     "start_time": "2025-07-30T22:22:20.224414Z"
    }
   },
   "cell_type": "code",
   "source": [
    "tata = Car()\n",
    "tata.doors=4\n",
    "print(tata.windows)\n"
   ],
   "id": "8ef284de8a05c090",
   "outputs": [
    {
     "ename": "AttributeError",
     "evalue": "'Car' object has no attribute 'windows'",
     "output_type": "error",
     "traceback": [
      "\u001B[31m---------------------------------------------------------------------------\u001B[39m",
      "\u001B[31mAttributeError\u001B[39m                            Traceback (most recent call last)",
      "\u001B[36mCell\u001B[39m\u001B[36m \u001B[39m\u001B[32mIn[7]\u001B[39m\u001B[32m, line 3\u001B[39m\n\u001B[32m      1\u001B[39m tata = Car()\n\u001B[32m      2\u001B[39m tata.doors=\u001B[32m4\u001B[39m\n\u001B[32m----> \u001B[39m\u001B[32m3\u001B[39m \u001B[38;5;28mprint\u001B[39m(\u001B[43mtata\u001B[49m\u001B[43m.\u001B[49m\u001B[43mwindows\u001B[49m)\n",
      "\u001B[31mAttributeError\u001B[39m: 'Car' object has no attribute 'windows'"
     ]
    }
   ],
   "execution_count": 7
  },
  {
   "metadata": {
    "ExecuteTime": {
     "end_time": "2025-07-30T22:23:22.168738Z",
     "start_time": "2025-07-30T22:23:22.157852Z"
    }
   },
   "cell_type": "code",
   "source": "dir(tata)",
   "id": "a3a04f27ac8b65ff",
   "outputs": [
    {
     "data": {
      "text/plain": [
       "['__class__',\n",
       " '__delattr__',\n",
       " '__dict__',\n",
       " '__dir__',\n",
       " '__doc__',\n",
       " '__eq__',\n",
       " '__firstlineno__',\n",
       " '__format__',\n",
       " '__ge__',\n",
       " '__getattribute__',\n",
       " '__getstate__',\n",
       " '__gt__',\n",
       " '__hash__',\n",
       " '__init__',\n",
       " '__init_subclass__',\n",
       " '__le__',\n",
       " '__lt__',\n",
       " '__module__',\n",
       " '__ne__',\n",
       " '__new__',\n",
       " '__reduce__',\n",
       " '__reduce_ex__',\n",
       " '__repr__',\n",
       " '__setattr__',\n",
       " '__sizeof__',\n",
       " '__static_attributes__',\n",
       " '__str__',\n",
       " '__subclasshook__',\n",
       " '__weakref__',\n",
       " 'doors']"
      ]
     },
     "execution_count": 8,
     "metadata": {},
     "output_type": "execute_result"
    }
   ],
   "execution_count": 8
  },
  {
   "metadata": {
    "ExecuteTime": {
     "end_time": "2025-07-30T22:51:21.910595Z",
     "start_time": "2025-07-30T22:51:21.902179Z"
    }
   },
   "cell_type": "code",
   "source": [
    "##Instance variables and methods\n",
    "class Dog:\n",
    "    #Constructor\n",
    "    def __init__(self, name,age): #Parameters -> name,age\n",
    "        #instance variables\n",
    "        self.name=name\n",
    "        self.age=age\n",
    "\n",
    "##Create objects\n",
    "dog1 = Dog('Buddy',3)\n",
    "print(dog1)\n",
    "print(dog1.name)\n",
    "print(dog1.age)\n"
   ],
   "id": "e2167b6401a2701a",
   "outputs": [
    {
     "name": "stdout",
     "output_type": "stream",
     "text": [
      "<__main__.Dog object at 0x000001F29EDFB8C0>\n",
      "Buddy\n",
      "3\n"
     ]
    }
   ],
   "execution_count": 10
  },
  {
   "metadata": {
    "ExecuteTime": {
     "end_time": "2025-07-30T22:51:57.807996Z",
     "start_time": "2025-07-30T22:51:57.803229Z"
    }
   },
   "cell_type": "code",
   "source": [
    "dog2 = Dog('Julian',4)\n",
    "print(dog2.name)\n",
    "print(dog2.age)"
   ],
   "id": "98b9f50040606c92",
   "outputs": [
    {
     "name": "stdout",
     "output_type": "stream",
     "text": [
      "Julian\n",
      "4\n"
     ]
    }
   ],
   "execution_count": 11
  },
  {
   "metadata": {
    "ExecuteTime": {
     "end_time": "2025-07-30T22:55:49.186619Z",
     "start_time": "2025-07-30T22:55:49.176798Z"
    }
   },
   "cell_type": "code",
   "source": [
    "##Define a class with Instance methods\n",
    "class Dog:\n",
    "    def __init__(self, name,age):\n",
    "        self.name=name\n",
    "        self.age=age\n",
    "\n",
    "    #Instance method\n",
    "    def bark(self):\n",
    "        print(f'{self.name} says woof')\n",
    "\n",
    "dog1=Dog('Lucie',4)\n",
    "dog1.bark()\n",
    "\n",
    "dog2 = Dog('Buddy',3)\n",
    "dog2.bark()"
   ],
   "id": "848509dbce564d03",
   "outputs": [
    {
     "name": "stdout",
     "output_type": "stream",
     "text": [
      "Lucie says woof\n",
      "Buddy says woof\n"
     ]
    }
   ],
   "execution_count": 13
  },
  {
   "metadata": {
    "ExecuteTime": {
     "end_time": "2025-07-30T23:03:56.584271Z",
     "start_time": "2025-07-30T23:03:56.570929Z"
    }
   },
   "cell_type": "code",
   "source": [
    "#Modeling a bank account\n",
    "#Define a class for bank account\n",
    "class BankAccount:\n",
    "    def __init__(self,owner,balance=0):\n",
    "        self.owner=owner\n",
    "        self.balance=balance\n",
    "\n",
    "    def deposit(self,amount):\n",
    "        self.balance += amount\n",
    "        print(f'{amount} deposited! New balance: {self.balance}')\n",
    "\n",
    "    def withdraw(self,amount):\n",
    "        if amount>self.balance:\n",
    "            print('Insufficient funds')\n",
    "        else:\n",
    "            self.balance -= amount\n",
    "            print(f'Please collect your money {amount}')\n",
    "            print(f'New balance: {self.balance}')\n",
    "\n",
    "    def get_balance(self):\n",
    "        print(f'Your current balance: {self.balance}')\n",
    "\n",
    "#Create an account\n",
    "account = BankAccount('Anas',5000)\n",
    "account.get_balance()\n",
    "account.deposit(15000)\n",
    "account.withdraw(2000)\n",
    "\n"
   ],
   "id": "ca22a19075193885",
   "outputs": [
    {
     "name": "stdout",
     "output_type": "stream",
     "text": [
      "Your current balance: 5000\n",
      "15000 deposited! New balance: 20000\n",
      "Please collect your money 2000\n",
      "New balance: 18000\n"
     ]
    }
   ],
   "execution_count": 14
  }
 ],
 "metadata": {
  "kernelspec": {
   "display_name": "Python 3",
   "language": "python",
   "name": "python3"
  },
  "language_info": {
   "codemirror_mode": {
    "name": "ipython",
    "version": 2
   },
   "file_extension": ".py",
   "mimetype": "text/x-python",
   "name": "python",
   "nbconvert_exporter": "python",
   "pygments_lexer": "ipython2",
   "version": "2.7.6"
  }
 },
 "nbformat": 4,
 "nbformat_minor": 5
}
