{
 "cells": [
  {
   "metadata": {},
   "cell_type": "markdown",
   "source": [
    "### Operator Overloading\n",
    "Operator overloading allows you to define the behavior of operators(+,-,*,etc.) for custom objects.You achieve this by overriding specific magic methods in your class."
   ],
   "id": "1a9f5700f1b27afb"
  },
  {
   "cell_type": "code",
   "id": "initial_id",
   "metadata": {
    "collapsed": true,
    "ExecuteTime": {
     "end_time": "2025-08-10T21:36:27.072282Z",
     "start_time": "2025-08-10T21:36:27.067017Z"
    }
   },
   "source": [
    "###Common operator overloading magic methods\n",
    "'''\n",
    "__add__(self,other) : Adds two objects using the + operator.\n",
    "__sub__(self,other) : Subtracts two objects using the - operator.\n",
    "__mul__(self,other) : Multiplies two objects using the * operator.\n",
    "__truediv__(self,other) : Divides two objects using the / operator.\n",
    "__eq__(self,other) : Compares two objects using the == operator.\n",
    "__ne__(self,other) : Compares two objects using the != operator.\n",
    "__lt__(self,other) : Compares two objects using the < operator.\n",
    "'''"
   ],
   "outputs": [
    {
     "name": "stdout",
     "output_type": "stream",
     "text": [
      "\n"
     ]
    }
   ],
   "execution_count": 1
  },
  {
   "metadata": {
    "ExecuteTime": {
     "end_time": "2025-08-10T21:42:56.102610Z",
     "start_time": "2025-08-10T21:42:56.092665Z"
    }
   },
   "cell_type": "code",
   "source": [
    "class Vector:\n",
    "    def __init__(self,x,y):\n",
    "        self.x = x\n",
    "        self.y = y\n",
    "\n",
    "    def __add__(self, other):\n",
    "        return Vector(self.x + other.x, self.y + other.y)\n",
    "    def __sub__(self, other):\n",
    "        return Vector(self.x - other.x, self.y - other.y)\n",
    "    def __mul__(self, other):\n",
    "        return Vector(self.x * other.x, self.y * other.y)\n",
    "    def __truediv__(self, other):\n",
    "        return Vector(self.x / other.x, self.y / other.y)\n",
    "    def __eq__(self, other):\n",
    "        return self.x == other.x and self.y == other.y\n",
    "    def __ne__(self, other):\n",
    "        return self.x != other.x or self.y != other.y\n",
    "    def __lt__(self, other):\n",
    "        return self.x > other.x or self.y < other.y\n",
    "\n",
    "    def __repr__(self):\n",
    "        return f'Vector({self.x}, {self.y})'\n",
    "\n",
    "vector1 = Vector(1,2)\n",
    "vector2 = Vector(3,4)\n",
    "print(vector1 + vector2)\n",
    "print(vector1 - vector2)\n",
    "print(vector1 * vector2)"
   ],
   "id": "69ff7e3f966855a5",
   "outputs": [
    {
     "name": "stdout",
     "output_type": "stream",
     "text": [
      "Vector(4, 6)\n",
      "Vector(-2, -2)\n",
      "Vector(3, 8)\n"
     ]
    }
   ],
   "execution_count": 6
  },
  {
   "metadata": {},
   "cell_type": "code",
   "outputs": [],
   "execution_count": null,
   "source": [
    "##Overloading operators for complex numbers\n",
    "class ComplexNumber:\n",
    "    def __init__(self, real, imaginary):\n",
    "        self.real = real\n",
    "        self.imaginary = imaginary\n",
    "\n",
    "    def __add__(self, other):\n",
    "        return ComplexNumber(self.real + other.real, self.imaginary + other.imaginary)\n",
    "    def __sub__(self, other):\n",
    "        return ComplexNumber(self.real - other.real, self.imaginary - other.imaginary)\n",
    "    def __mul__(self, other):\n",
    "        return ComplexNumber(self.real * other.real - self.imaginary * other.imaginary,\n",
    "                             self.real * other.imag + self.imaginary * other.real)\n",
    "    def __truediv__(self, other):\n",
    "        return ComplexNumber(self.real / other.real,)"
   ],
   "id": "a01cf40d5b93b9b5"
  },
  {
   "metadata": {},
   "cell_type": "code",
   "outputs": [],
   "execution_count": null,
   "source": "",
   "id": "c781f48726c09d2b"
  }
 ],
 "metadata": {
  "kernelspec": {
   "display_name": "Python 3",
   "language": "python",
   "name": "python3"
  },
  "language_info": {
   "codemirror_mode": {
    "name": "ipython",
    "version": 2
   },
   "file_extension": ".py",
   "mimetype": "text/x-python",
   "name": "python",
   "nbconvert_exporter": "python",
   "pygments_lexer": "ipython2",
   "version": "2.7.6"
  }
 },
 "nbformat": 4,
 "nbformat_minor": 5
}
