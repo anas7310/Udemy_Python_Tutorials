{
 "cells": [
  {
   "metadata": {},
   "cell_type": "markdown",
   "source": [
    "### Inheritance in Python\n",
    "Inheritance is a fundamental concept in Object-Oriented Programming(OOP) that allows a class to inherit attributes and methods from another class. This lesson covers single inheritance and multiple inheritance, demonstrating how to create and use them in python"
   ],
   "id": "799352b85283283a"
  },
  {
   "cell_type": "code",
   "id": "initial_id",
   "metadata": {
    "collapsed": true,
    "ExecuteTime": {
     "end_time": "2025-07-31T22:29:22.273115Z",
     "start_time": "2025-07-31T22:29:22.192989Z"
    }
   },
   "source": [
    "#Inheritance (Single Inheritance)\n",
    "##parent class\n",
    "class Car:\n",
    "    def __init__(self, windows, doors, engine_type):\n",
    "        self.windows=windows\n",
    "        self.doors=doors\n",
    "        self.engine_type=engine_type\n",
    "\n",
    "    def drive(self):\n",
    "        print(f\"The person will drive the {self.engine_type} car.\")"
   ],
   "outputs": [],
   "execution_count": 14
  },
  {
   "metadata": {
    "ExecuteTime": {
     "end_time": "2025-07-31T22:29:25.082818Z",
     "start_time": "2025-07-31T22:29:25.076360Z"
    }
   },
   "cell_type": "code",
   "source": [
    "car1= Car(4,2,'Petrol')\n",
    "car1.drive()"
   ],
   "id": "d39e27842e8ab703",
   "outputs": [
    {
     "name": "stdout",
     "output_type": "stream",
     "text": [
      "The person will drive the Petrol car.\n"
     ]
    }
   ],
   "execution_count": 15
  },
  {
   "metadata": {
    "ExecuteTime": {
     "end_time": "2025-07-31T22:29:28.347968Z",
     "start_time": "2025-07-31T22:29:28.341877Z"
    }
   },
   "cell_type": "code",
   "source": [
    "class Tesla(Car):\n",
    "    def __init__(self, windows, doors, engine_type, is_self_driving):\n",
    "        super().__init__(windows,doors,engine_type)\n",
    "        self.is_self_driving = is_self_driving\n",
    "\n",
    "    def self_driving(self):\n",
    "        print(f'Tesla supports self driving: {self.is_self_driving}')"
   ],
   "id": "c0514e8ba7a2b2a9",
   "outputs": [],
   "execution_count": 16
  },
  {
   "metadata": {
    "ExecuteTime": {
     "end_time": "2025-07-31T22:29:31.167870Z",
     "start_time": "2025-07-31T22:29:31.162487Z"
    }
   },
   "cell_type": "code",
   "source": [
    "tesla1 = Tesla(4,4,'Electric',True)\n",
    "tesla1.drive()\n",
    "tesla1.self_driving()"
   ],
   "id": "f33a167a1b9ea2ce",
   "outputs": [
    {
     "name": "stdout",
     "output_type": "stream",
     "text": [
      "The person will drive the Electric car.\n",
      "Tesla supports self driving: True\n"
     ]
    }
   ],
   "execution_count": 17
  },
  {
   "metadata": {
    "ExecuteTime": {
     "end_time": "2025-07-31T22:29:33.430637Z",
     "start_time": "2025-07-31T22:29:33.423739Z"
    }
   },
   "cell_type": "code",
   "source": [
    "tesla1.drive()\n",
    "print(tesla1.engine_type)"
   ],
   "id": "b10c52db9b2ad5de",
   "outputs": [
    {
     "name": "stdout",
     "output_type": "stream",
     "text": [
      "The person will drive the Electric car.\n",
      "Electric\n"
     ]
    }
   ],
   "execution_count": 18
  },
  {
   "metadata": {
    "ExecuteTime": {
     "end_time": "2025-07-31T22:35:13.425737Z",
     "start_time": "2025-07-31T22:35:13.414763Z"
    }
   },
   "cell_type": "code",
   "source": [
    "##Multiple Inheritance\n",
    "##When a class is derived from more than one Base class.\n",
    "#Base class 1\n",
    "class Animal:\n",
    "    def __init__(self,name):\n",
    "        self.name=name\n",
    "\n",
    "    def speak(self):\n",
    "        print('Sub class must implement this method')\n",
    "\n",
    "#Base class 2\n",
    "class Pet:\n",
    "    def __init__(self,owner):\n",
    "        self.owner=owner\n",
    "\n",
    "\n",
    "# derived class\n",
    "class Dog(Animal,Pet):\n",
    "    def __init__(self,name,owner):\n",
    "        Animal.__init__(self,name)\n",
    "        Pet.__init__(self,owner)\n",
    "\n",
    "    def speak(self):\n",
    "        return f\"{self.name} says woof\"\n"
   ],
   "id": "8fc7c1e4519144a4",
   "outputs": [],
   "execution_count": 20
  },
  {
   "metadata": {
    "ExecuteTime": {
     "end_time": "2025-07-31T22:36:48.656613Z",
     "start_time": "2025-07-31T22:36:48.651392Z"
    }
   },
   "cell_type": "code",
   "source": [
    "# create an object\n",
    "dog=Dog('Buddy','Krish')\n",
    "print(dog.speak())\n",
    "print(f\"Owner: {dog.owner}\")"
   ],
   "id": "1b590c7330e65e78",
   "outputs": [
    {
     "name": "stdout",
     "output_type": "stream",
     "text": [
      "Buddy says woof\n",
      "Owner: Krish\n"
     ]
    }
   ],
   "execution_count": 23
  }
 ],
 "metadata": {
  "kernelspec": {
   "display_name": "Python 3",
   "language": "python",
   "name": "python3"
  },
  "language_info": {
   "codemirror_mode": {
    "name": "ipython",
    "version": 2
   },
   "file_extension": ".py",
   "mimetype": "text/x-python",
   "name": "python",
   "nbconvert_exporter": "python",
   "pygments_lexer": "ipython2",
   "version": "2.7.6"
  }
 },
 "nbformat": 4,
 "nbformat_minor": 5
}
